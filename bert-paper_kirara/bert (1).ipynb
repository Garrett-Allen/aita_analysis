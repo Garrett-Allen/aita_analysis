{
 "cells": [
  {
   "cell_type": "code",
   "execution_count": 59,
   "id": "711ab7f9-27d3-47e0-b2bb-8d28dcf6f077",
   "metadata": {},
   "outputs": [],
   "source": [
    "# https://towardsdatascience.com/fine-tuning-pretrained-nlp-models-with-huggingfaces-trainer-6326a4456e7b\n",
    "\n",
    "import numpy as np\n",
    "import pandas as pd\n",
    "from sklearn.model_selection import train_test_split\n",
    "from sklearn.metrics import accuracy_score, recall_score, precision_score, f1_score\n",
    "import torch\n",
    "from transformers import TrainingArguments, Trainer\n",
    "from transformers import BertTokenizer, BertForSequenceClassification\n",
    "from transformers import EarlyStoppingCallback\n",
    "\n",
    "from sklearn.metrics import classification_report"
   ]
  },
  {
   "cell_type": "code",
   "execution_count": 23,
   "id": "c3289d70-4dc4-4bbf-a7aa-de6eeb53b34b",
   "metadata": {},
   "outputs": [],
   "source": [
    "df = pd.read_parquet(\"submissions.parquet\")"
   ]
  },
  {
   "cell_type": "code",
   "execution_count": 28,
   "id": "08133a0c-c7d5-40b6-8b6d-ff8fac468851",
   "metadata": {},
   "outputs": [
    {
     "data": {
      "text/html": [
       "<div>\n",
       "<style scoped>\n",
       "    .dataframe tbody tr th:only-of-type {\n",
       "        vertical-align: middle;\n",
       "    }\n",
       "\n",
       "    .dataframe tbody tr th {\n",
       "        vertical-align: top;\n",
       "    }\n",
       "\n",
       "    .dataframe thead th {\n",
       "        text-align: right;\n",
       "    }\n",
       "</style>\n",
       "<table border=\"1\" class=\"dataframe\">\n",
       "  <thead>\n",
       "    <tr style=\"text-align: right;\">\n",
       "      <th></th>\n",
       "      <th>link_flair_text</th>\n",
       "      <th>num_comments</th>\n",
       "      <th>over_18</th>\n",
       "      <th>score</th>\n",
       "      <th>url</th>\n",
       "      <th>selftext</th>\n",
       "      <th>title</th>\n",
       "      <th>id</th>\n",
       "      <th>edited</th>\n",
       "      <th>is_self</th>\n",
       "      <th>permalink</th>\n",
       "      <th>downs</th>\n",
       "      <th>ups</th>\n",
       "      <th>created</th>\n",
       "    </tr>\n",
       "  </thead>\n",
       "  <tbody>\n",
       "    <tr>\n",
       "      <th>0</th>\n",
       "      <td>not the asshole</td>\n",
       "      <td>1</td>\n",
       "      <td>False</td>\n",
       "      <td>2</td>\n",
       "      <td>http://www.reddit.com/r/AmItheAsshole/comments...</td>\n",
       "      <td>I work in an office that requires me to wear a...</td>\n",
       "      <td>AItA: I like air conditioning and my coworkers...</td>\n",
       "      <td>1fy0bx</td>\n",
       "      <td>0.000000e+00</td>\n",
       "      <td>True</td>\n",
       "      <td>/r/AmItheAsshole/comments/1fy0bx/aita_i_like_a...</td>\n",
       "      <td>0.0</td>\n",
       "      <td>2.0</td>\n",
       "      <td>NaN</td>\n",
       "    </tr>\n",
       "    <tr>\n",
       "      <th>1</th>\n",
       "      <td>too close to call</td>\n",
       "      <td>9</td>\n",
       "      <td>False</td>\n",
       "      <td>62</td>\n",
       "      <td>http://www.reddit.com/r/AmItheAsshole/comments...</td>\n",
       "      <td>I have been on a parking structure project for...</td>\n",
       "      <td>[AITA] Construction worker here</td>\n",
       "      <td>1ytr72</td>\n",
       "      <td>0.000000e+00</td>\n",
       "      <td>True</td>\n",
       "      <td>/r/AmItheAsshole/comments/1ytr72/aita_construc...</td>\n",
       "      <td>0.0</td>\n",
       "      <td>62.0</td>\n",
       "      <td>1.393275e+09</td>\n",
       "    </tr>\n",
       "    <tr>\n",
       "      <th>2</th>\n",
       "      <td>asshole</td>\n",
       "      <td>13</td>\n",
       "      <td>False</td>\n",
       "      <td>47</td>\n",
       "      <td>http://www.reddit.com/r/AmItheAsshole/comments...</td>\n",
       "      <td>[Here is the post in question](http://www.redd...</td>\n",
       "      <td>[AITA] I wrote an explanation in TIL and came ...</td>\n",
       "      <td>1ytxov</td>\n",
       "      <td>0.000000e+00</td>\n",
       "      <td>True</td>\n",
       "      <td>/r/AmItheAsshole/comments/1ytxov/aita_i_wrote_...</td>\n",
       "      <td>0.0</td>\n",
       "      <td>47.0</td>\n",
       "      <td>1.393279e+09</td>\n",
       "    </tr>\n",
       "    <tr>\n",
       "      <th>3</th>\n",
       "      <td>asshole</td>\n",
       "      <td>27</td>\n",
       "      <td>False</td>\n",
       "      <td>140</td>\n",
       "      <td>http://www.reddit.com/r/AmItheAsshole/comments...</td>\n",
       "      <td>My parents are diabetic, morbidly obese, and a...</td>\n",
       "      <td>[AITA] Threw my parent's donuts away</td>\n",
       "      <td>1yu29c</td>\n",
       "      <td>1.393291e+09</td>\n",
       "      <td>True</td>\n",
       "      <td>/r/AmItheAsshole/comments/1yu29c/aita_threw_my...</td>\n",
       "      <td>0.0</td>\n",
       "      <td>140.0</td>\n",
       "      <td>1.393281e+09</td>\n",
       "    </tr>\n",
       "    <tr>\n",
       "      <th>4</th>\n",
       "      <td>nothing happened</td>\n",
       "      <td>7</td>\n",
       "      <td>False</td>\n",
       "      <td>44</td>\n",
       "      <td>http://www.reddit.com/r/AmItheAsshole/comments...</td>\n",
       "      <td>Relevant Facts:\\n\\n1) It was a crowded bar, th...</td>\n",
       "      <td>[AITA] I Put My Empty Beer on a Bar Table</td>\n",
       "      <td>1yu41e</td>\n",
       "      <td>0.000000e+00</td>\n",
       "      <td>True</td>\n",
       "      <td>/r/AmItheAsshole/comments/1yu41e/aita_i_put_my...</td>\n",
       "      <td>0.0</td>\n",
       "      <td>44.0</td>\n",
       "      <td>1.393282e+09</td>\n",
       "    </tr>\n",
       "  </tbody>\n",
       "</table>\n",
       "</div>"
      ],
      "text/plain": [
       "     link_flair_text  num_comments  over_18  score  \\\n",
       "0    not the asshole             1    False      2   \n",
       "1  too close to call             9    False     62   \n",
       "2            asshole            13    False     47   \n",
       "3            asshole            27    False    140   \n",
       "4   nothing happened             7    False     44   \n",
       "\n",
       "                                                 url  \\\n",
       "0  http://www.reddit.com/r/AmItheAsshole/comments...   \n",
       "1  http://www.reddit.com/r/AmItheAsshole/comments...   \n",
       "2  http://www.reddit.com/r/AmItheAsshole/comments...   \n",
       "3  http://www.reddit.com/r/AmItheAsshole/comments...   \n",
       "4  http://www.reddit.com/r/AmItheAsshole/comments...   \n",
       "\n",
       "                                            selftext  \\\n",
       "0  I work in an office that requires me to wear a...   \n",
       "1  I have been on a parking structure project for...   \n",
       "2  [Here is the post in question](http://www.redd...   \n",
       "3  My parents are diabetic, morbidly obese, and a...   \n",
       "4  Relevant Facts:\\n\\n1) It was a crowded bar, th...   \n",
       "\n",
       "                                               title      id        edited  \\\n",
       "0  AItA: I like air conditioning and my coworkers...  1fy0bx  0.000000e+00   \n",
       "1                    [AITA] Construction worker here  1ytr72  0.000000e+00   \n",
       "2  [AITA] I wrote an explanation in TIL and came ...  1ytxov  0.000000e+00   \n",
       "3               [AITA] Threw my parent's donuts away  1yu29c  1.393291e+09   \n",
       "4          [AITA] I Put My Empty Beer on a Bar Table  1yu41e  0.000000e+00   \n",
       "\n",
       "   is_self                                          permalink  downs    ups  \\\n",
       "0     True  /r/AmItheAsshole/comments/1fy0bx/aita_i_like_a...    0.0    2.0   \n",
       "1     True  /r/AmItheAsshole/comments/1ytr72/aita_construc...    0.0   62.0   \n",
       "2     True  /r/AmItheAsshole/comments/1ytxov/aita_i_wrote_...    0.0   47.0   \n",
       "3     True  /r/AmItheAsshole/comments/1yu29c/aita_threw_my...    0.0  140.0   \n",
       "4     True  /r/AmItheAsshole/comments/1yu41e/aita_i_put_my...    0.0   44.0   \n",
       "\n",
       "        created  \n",
       "0           NaN  \n",
       "1  1.393275e+09  \n",
       "2  1.393279e+09  \n",
       "3  1.393281e+09  \n",
       "4  1.393282e+09  "
      ]
     },
     "execution_count": 28,
     "metadata": {},
     "output_type": "execute_result"
    }
   ],
   "source": [
    "df.head()"
   ]
  },
  {
   "cell_type": "code",
   "execution_count": 29,
   "id": "778631cc-deac-4f72-9c44-d6b488a4df6a",
   "metadata": {},
   "outputs": [
    {
     "data": {
      "text/plain": [
       "2178385"
      ]
     },
     "execution_count": 29,
     "metadata": {},
     "output_type": "execute_result"
    }
   ],
   "source": [
    "len(df)"
   ]
  },
  {
   "cell_type": "code",
   "execution_count": 31,
   "id": "adbf2a44-a0de-438a-8b7b-e2d8a4be1336",
   "metadata": {},
   "outputs": [],
   "source": [
    "flairs = {\n",
    "    'Not the A-hole': \"NTA\",\n",
    "    'Asshole': \"YTA\",\n",
    "#     'No A-holes here': \"NAH\",\n",
    "#     'Everyone Sucks': \"ESH\",\n",
    "#     'Not enough info': \"INFO\",\n",
    "    # 'UPDATE': \"?\",\n",
    "    # 'TL;DR': \"?\",\n",
    "    'not the a-hole': \"NTA\",\n",
    "    # 'POO Mode Activated 💩',\n",
    "    'asshole': \"YTA\",\n",
    "    # '': \"?\",\n",
    "    # 'META': \"?\",\n",
    "#     'Shitpost': \"?\",\n",
    "    'not the asshole': \"NTA\",\n",
    "#     'no a--holes here': \"NAH\",\n",
    "#     'everyone sucks': \"ESH\",\n",
    "#     'too close to call': \"?\",\n",
    "#     'not enough info': \"INFO\",\n",
    "}"
   ]
  },
  {
   "cell_type": "code",
   "execution_count": 32,
   "id": "06cd5bc9-e36c-4e06-84e8-ed29776c139e",
   "metadata": {},
   "outputs": [
    {
     "data": {
      "text/plain": [
       "verdict\n",
       "NTA    430825\n",
       "YTA    119030\n",
       "Name: count, dtype: int64"
      ]
     },
     "execution_count": 32,
     "metadata": {},
     "output_type": "execute_result"
    }
   ],
   "source": [
    "# filter data and label verdicts\n",
    "df = df.loc[df.link_flair_text.isin(flairs)].copy()\n",
    "df['verdict'] = df.link_flair_text.map(flairs)\n",
    "df.verdict.value_counts()"
   ]
  },
  {
   "cell_type": "code",
   "execution_count": 44,
   "id": "eaeede06-3581-4078-8f42-182d38447275",
   "metadata": {},
   "outputs": [],
   "source": [
    "df[\"is_asshole\"] = 0\n",
    "df.loc[df.verdict == \"YTA\", \"is_asshole\"] =1"
   ]
  },
  {
   "cell_type": "code",
   "execution_count": 46,
   "id": "c02acfd5-8979-43bd-9e67-1c39425ef177",
   "metadata": {},
   "outputs": [],
   "source": [
    "# make a small dataset\n",
    "\n",
    "num_samples_per_verdict = 100\n",
    "\n",
    "df_small = pd.concat([\n",
    "    df.loc[df.is_asshole == 0].sample(num_samples_per_verdict),\n",
    "    df.loc[df.is_asshole == 1].sample(num_samples_per_verdict)\n",
    "])"
   ]
  },
  {
   "cell_type": "code",
   "execution_count": 47,
   "id": "9c74960d-d4b4-4896-8d74-4805f4e8a979",
   "metadata": {},
   "outputs": [],
   "source": [
    "df_remain = df.loc[~df.index.isin(df_small.index)]"
   ]
  },
  {
   "cell_type": "code",
   "execution_count": 48,
   "id": "67e64b05-33f5-40ce-84d6-9302cad0a50b",
   "metadata": {},
   "outputs": [
    {
     "data": {
      "text/plain": [
       "(549855, 200, 549655)"
      ]
     },
     "execution_count": 48,
     "metadata": {},
     "output_type": "execute_result"
    }
   ],
   "source": [
    "len(df), len(df_small), len(df_remain)"
   ]
  },
  {
   "cell_type": "code",
   "execution_count": 49,
   "id": "43c349d3-168e-45ca-afc2-3bb8ba1a8e1d",
   "metadata": {},
   "outputs": [
    {
     "name": "stderr",
     "output_type": "stream",
     "text": [
      "Some weights of BertForSequenceClassification were not initialized from the model checkpoint at bert-base-cased and are newly initialized: ['classifier.bias', 'classifier.weight']\n",
      "You should probably TRAIN this model on a down-stream task to be able to use it for predictions and inference.\n"
     ]
    }
   ],
   "source": [
    "# Define pretrained tokenizer and model\n",
    "model_name = \"bert-base-cased\"\n",
    "tokenizer = BertTokenizer.from_pretrained(model_name)\n",
    "model = BertForSequenceClassification.from_pretrained(model_name, num_labels=2)"
   ]
  },
  {
   "cell_type": "code",
   "execution_count": 50,
   "id": "80d87a5c-a592-4c71-83fb-15c3ec34e273",
   "metadata": {},
   "outputs": [],
   "source": [
    "# ----- 1. Preprocess data -----#\n",
    "# Preprocess data\n",
    "X = list(df_small[\"selftext\"])\n",
    "y = list(df_small[\"is_asshole\"])\n",
    "X_train, X_val, y_train, y_val = train_test_split(X, y, test_size=0.2)\n",
    "X_train_tokenized = tokenizer(X_train, padding=True, truncation=True, max_length=512)\n",
    "X_val_tokenized = tokenizer(X_val, padding=True, truncation=True, max_length=512)\n",
    "\n",
    "# Create torch dataset\n",
    "class Dataset(torch.utils.data.Dataset):\n",
    "    def __init__(self, encodings, labels=None):\n",
    "        self.encodings = encodings\n",
    "        self.labels = labels\n",
    "\n",
    "    def __getitem__(self, idx):\n",
    "        item = {key: torch.tensor(val[idx]) for key, val in self.encodings.items()}\n",
    "        if self.labels:\n",
    "            item[\"labels\"] = torch.tensor(self.labels[idx])\n",
    "        return item\n",
    "\n",
    "    def __len__(self):\n",
    "        return len(self.encodings[\"input_ids\"])\n",
    "\n",
    "train_dataset = Dataset(X_train_tokenized, y_train)\n",
    "val_dataset = Dataset(X_val_tokenized, y_val)"
   ]
  },
  {
   "cell_type": "code",
   "execution_count": 51,
   "id": "ef38cdac-4f61-4be6-b04d-c75e070b8afe",
   "metadata": {},
   "outputs": [],
   "source": [
    "# ----- 2. Fine-tune pretrained model -----#\n",
    "# Define Trainer parameters\n",
    "def compute_metrics(p):\n",
    "    pred, labels = p\n",
    "    pred = np.argmax(pred, axis=1)\n",
    "\n",
    "    accuracy = accuracy_score(y_true=labels, y_pred=pred)\n",
    "    recall = recall_score(y_true=labels, y_pred=pred)\n",
    "    precision = precision_score(y_true=labels, y_pred=pred)\n",
    "    f1 = f1_score(y_true=labels, y_pred=pred)\n",
    "\n",
    "    return {\"accuracy\": accuracy, \"precision\": precision, \"recall\": recall, \"f1\": f1}\n",
    "\n",
    "# Define Trainer\n",
    "args = TrainingArguments(\n",
    "    output_dir=\"output-100sample-2labels\",\n",
    "    evaluation_strategy=\"steps\",\n",
    "    eval_steps=500,\n",
    "    per_device_train_batch_size=8,\n",
    "    per_device_eval_batch_size=8,\n",
    "    num_train_epochs=3,\n",
    "    seed=0,\n",
    "    load_best_model_at_end=True,\n",
    ")\n",
    "trainer = Trainer(\n",
    "    model=model,\n",
    "    args=args,\n",
    "    train_dataset=train_dataset,\n",
    "    eval_dataset=val_dataset,\n",
    "    compute_metrics=compute_metrics,\n",
    "    callbacks=[EarlyStoppingCallback(early_stopping_patience=3)],\n",
    ")"
   ]
  },
  {
   "cell_type": "code",
   "execution_count": 53,
   "id": "0abd7952-695d-41f9-89db-b09aaee46a23",
   "metadata": {
    "scrolled": true
   },
   "outputs": [
    {
     "data": {
      "text/html": [
       "\n",
       "    <div>\n",
       "      \n",
       "      <progress value='60' max='60' style='width:300px; height:20px; vertical-align: middle;'></progress>\n",
       "      [60/60 19:17, Epoch 3/3]\n",
       "    </div>\n",
       "    <table border=\"1\" class=\"dataframe\">\n",
       "  <thead>\n",
       " <tr style=\"text-align: left;\">\n",
       "      <th>Step</th>\n",
       "      <th>Training Loss</th>\n",
       "      <th>Validation Loss</th>\n",
       "    </tr>\n",
       "  </thead>\n",
       "  <tbody>\n",
       "  </tbody>\n",
       "</table><p>"
      ],
      "text/plain": [
       "<IPython.core.display.HTML object>"
      ]
     },
     "metadata": {},
     "output_type": "display_data"
    },
    {
     "name": "stdout",
     "output_type": "stream",
     "text": [
      "CPU times: user 55min 51s, sys: 12min 46s, total: 1h 8min 37s\n",
      "Wall time: 19min 41s\n"
     ]
    },
    {
     "data": {
      "text/plain": [
       "TrainOutput(global_step=60, training_loss=0.6448036829630533, metrics={'train_runtime': 1180.8583, 'train_samples_per_second': 0.406, 'train_steps_per_second': 0.051, 'total_flos': 128398195015680.0, 'train_loss': 0.6448036829630533, 'epoch': 3.0})"
      ]
     },
     "execution_count": 53,
     "metadata": {},
     "output_type": "execute_result"
    }
   ],
   "source": [
    "%%time\n",
    "# UNCOMMENT TO TRAIN\n",
    "\n",
    "# Train pre-trained model\n",
    "# took 20min for 200 samples (submissions data)\n",
    "trainer.train()"
   ]
  },
  {
   "cell_type": "code",
   "execution_count": 15,
   "id": "e079e60a-5af9-4753-988b-b2d8c6bdea90",
   "metadata": {},
   "outputs": [],
   "source": [
    "# UNCOMMENT TO LOAD TRAINED MODEL\n",
    "\n",
    "# args = TrainingArguments(\n",
    "#     output_dir=\"output\",          # change this to the path where trained data stored\n",
    "#     evaluation_strategy=\"steps\",\n",
    "#     eval_steps=500,\n",
    "#     per_device_train_batch_size=8,\n",
    "#     per_device_eval_batch_size=8,\n",
    "#     num_train_epochs=3,\n",
    "#     seed=0,\n",
    "#     load_best_model_at_end=True,\n",
    "# )\n",
    "# trainer = Trainer(\n",
    "#     model=model,\n",
    "#     args=args,\n",
    "#     train_dataset=train_dataset,\n",
    "#     eval_dataset=val_dataset,\n",
    "#     compute_metrics=compute_metrics,\n",
    "#     callbacks=[EarlyStoppingCallback(early_stopping_patience=3)],\n",
    "# )\n",
    "\n",
    "# # Load trained model\n",
    "# model_path = \"output/checkpoint-500\"\n",
    "# model = BertForSequenceClassification.from_pretrained(model_path, num_labels=2)\n",
    "\n",
    "# # Define test trainer\n",
    "# test_trainer = Trainer(model)"
   ]
  },
  {
   "cell_type": "code",
   "execution_count": 54,
   "id": "32bfb30c-5abc-4854-b081-bb40e5b6a50b",
   "metadata": {},
   "outputs": [
    {
     "data": {
      "text/html": [],
      "text/plain": [
       "<IPython.core.display.HTML object>"
      ]
     },
     "metadata": {},
     "output_type": "display_data"
    },
    {
     "data": {
      "text/plain": [
       "array([1, 1, 1, 0, 1, 1, 1, 0, 1, 1, 1, 0, 0, 0, 1, 0, 1, 0, 1, 0, 1, 1,\n",
       "       1, 1, 1, 1, 1, 1, 1, 0, 0, 0, 0, 1, 1, 0, 0, 1, 1, 1])"
      ]
     },
     "execution_count": 54,
     "metadata": {},
     "output_type": "execute_result"
    }
   ],
   "source": [
    "# ----- 3. Predict (for train data) -----#\n",
    "# took 30sec for \n",
    "\n",
    "# Make prediction for train data\n",
    "raw_pred, _, _ = trainer.predict(val_dataset)\n",
    "\n",
    "# Preprocess raw predictions\n",
    "y_pred = np.argmax(raw_pred, axis=1)\n",
    "\n",
    "# prediction\n",
    "y_pred"
   ]
  },
  {
   "cell_type": "code",
   "execution_count": 55,
   "id": "285ca56b-5518-4981-a681-6971e5825002",
   "metadata": {},
   "outputs": [
    {
     "data": {
      "text/plain": [
       "array([0, 0, 0, 0, 1, 1, 1, 0, 1, 0, 1, 0, 0, 0, 1, 1, 0, 1, 1, 0, 1, 0,\n",
       "       1, 0, 1, 1, 1, 1, 0, 0, 1, 0, 0, 0, 1, 0, 0, 0, 1, 0])"
      ]
     },
     "execution_count": 55,
     "metadata": {},
     "output_type": "execute_result"
    }
   ],
   "source": [
    "# answer\n",
    "np.array(y_val)"
   ]
  },
  {
   "cell_type": "code",
   "execution_count": 56,
   "id": "5a7c5c74-3472-4ec5-a3bb-4be632ebc4ab",
   "metadata": {},
   "outputs": [],
   "source": [
    "# ----- 3. Predict (for test data which is not used for train)-----#\n",
    "\n",
    "# create test data\n",
    "df_test = pd.concat([\n",
    "    df.loc[df.is_asshole == 0][num_samples_per_verdict:num_samples_per_verdict*2],\n",
    "    df.loc[df.is_asshole == 1][num_samples_per_verdict:num_samples_per_verdict*2]\n",
    "])\n",
    "\n",
    "X_test = list(df_test[\"selftext\"])\n",
    "y_test = list(df_test[\"is_asshole\"])\n",
    "X_test_tokenized = tokenizer(X_test, padding=True, truncation=True, max_length=512)\n",
    "test_dataset = Dataset(X_test_tokenized, y_test)"
   ]
  },
  {
   "cell_type": "code",
   "execution_count": 57,
   "id": "1607d06e-f130-48d3-9f9d-25784cb52f9d",
   "metadata": {},
   "outputs": [
    {
     "data": {
      "text/html": [],
      "text/plain": [
       "<IPython.core.display.HTML object>"
      ]
     },
     "metadata": {},
     "output_type": "display_data"
    },
    {
     "data": {
      "text/plain": [
       "array([0, 0, 0, 1, 1, 1, 0, 1, 0, 1, 0, 0, 0, 1, 1, 0, 0, 0, 1, 1, 1, 1,\n",
       "       1, 1, 1, 1, 0, 1, 0, 0, 0, 1, 0, 1, 1, 1, 1, 1, 0, 0, 1, 1, 1, 0,\n",
       "       0, 0, 0, 1, 0, 1, 1, 0, 0, 1, 1, 1, 0, 0, 0, 0, 1, 1, 0, 1, 1, 1,\n",
       "       1, 0, 0, 0, 0, 1, 0, 1, 1, 0, 0, 1, 0, 0, 0, 1, 1, 0, 1, 1, 0, 1,\n",
       "       0, 1, 0, 1, 0, 0, 0, 1, 1, 0, 0, 0, 1, 1, 1, 1, 0, 0, 1, 1, 1, 1,\n",
       "       1, 0, 1, 1, 1, 1, 1, 0, 1, 0, 1, 1, 1, 0, 1, 1, 1, 1, 1, 1, 1, 0,\n",
       "       1, 0, 1, 0, 1, 1, 1, 1, 1, 0, 0, 1, 0, 1, 0, 1, 1, 1, 1, 1, 1, 0,\n",
       "       1, 1, 1, 1, 0, 0, 1, 1, 1, 1, 1, 1, 1, 1, 1, 1, 1, 1, 1, 1, 1, 1,\n",
       "       0, 0, 0, 1, 1, 1, 0, 0, 1, 1, 1, 0, 1, 1, 1, 1, 0, 1, 1, 1, 1, 1,\n",
       "       1, 1])"
      ]
     },
     "execution_count": 57,
     "metadata": {},
     "output_type": "execute_result"
    }
   ],
   "source": [
    "# took 1.5min for 200 records\n",
    "# Make prediction\n",
    "raw_pred, _, _ = trainer.predict(test_dataset)\n",
    "\n",
    "# Preprocess raw predictions\n",
    "y_pred = np.argmax(raw_pred, axis=1)\n",
    "\n",
    "y_pred"
   ]
  },
  {
   "cell_type": "code",
   "execution_count": 64,
   "id": "8d149280-e2fa-4426-86ab-36b3c6899129",
   "metadata": {},
   "outputs": [
    {
     "data": {
      "text/plain": [
       "array([0, 0, 0, 0, 0, 0, 0, 0, 0, 0, 0, 0, 0, 0, 0, 0, 0, 0, 0, 0, 0, 0,\n",
       "       0, 0, 0, 0, 0, 0, 0, 0, 0, 0, 0, 0, 0, 0, 0, 0, 0, 0, 0, 0, 0, 0,\n",
       "       0, 0, 0, 0, 0, 0, 0, 0, 0, 0, 0, 0, 0, 0, 0, 0, 0, 0, 0, 0, 0, 0,\n",
       "       0, 0, 0, 0, 0, 0, 0, 0, 0, 0, 0, 0, 0, 0, 0, 0, 0, 0, 0, 0, 0, 0,\n",
       "       0, 0, 0, 0, 0, 0, 0, 0, 0, 0, 0, 0, 1, 1, 1, 1, 1, 1, 1, 1, 1, 1,\n",
       "       1, 1, 1, 1, 1, 1, 1, 1, 1, 1, 1, 1, 1, 1, 1, 1, 1, 1, 1, 1, 1, 1,\n",
       "       1, 1, 1, 1, 1, 1, 1, 1, 1, 1, 1, 1, 1, 1, 1, 1, 1, 1, 1, 1, 1, 1,\n",
       "       1, 1, 1, 1, 1, 1, 1, 1, 1, 1, 1, 1, 1, 1, 1, 1, 1, 1, 1, 1, 1, 1,\n",
       "       1, 1, 1, 1, 1, 1, 1, 1, 1, 1, 1, 1, 1, 1, 1, 1, 1, 1, 1, 1, 1, 1,\n",
       "       1, 1])"
      ]
     },
     "execution_count": 64,
     "metadata": {},
     "output_type": "execute_result"
    }
   ],
   "source": [
    "np.array(y_test)"
   ]
  },
  {
   "cell_type": "code",
   "execution_count": 61,
   "id": "037b035f-9f8b-447d-9ebe-335a981264c1",
   "metadata": {},
   "outputs": [
    {
     "data": {
      "text/plain": [
       "'So I order a computer case fulfilled through an amazon seller at about 1pm on a thursday.  Base shipping was around $11, \"Expedited\" is $20.  I want it by the weekend so I grab the \"Expedited\" option. \\n\\nOn saturday, I decide to track the package and there still isn\\'t tracking info up.  I send them a friendly email to the extent of \"hey, could you update the tracking info?\"  They do, and it turns out that it was shipped FedEx ground.  When I send them an email asking \"What gives, I paid for expedited,\" they didn\\'t sent me anything back.\\n\\nFinally, about a week after I get the package (7 days after they ship it), I post a review that reflects my displeasure.  Yesterday, they get back to me that if I remove the review, they will refund the excess money I paid for expedited shipping.  \\n\\nI say I will as long as they tell me what the alternate method for non-expedited shipping is.  They just got back to me and told me that it\\'s ground.  They literally charged me $10 for nothing, their reasoning is that \"it would have taken two weeks otherwise,\" meaning it would have taken them seven days to actually put it in the mail.  \\n\\nNow, $10 isn\\'t a lot of money, that\\'s why i spent it on something as trivial as getting a package a few days earlier, but from where I\\'m sitting, it looks like they are scamming people double for shipping and pocketing pure profit and that just doesn\\'t sit right with me.  I want to send them a \"fuck you, this isn\\'t how ethical business is done\" email and open a ticket with amazon, but I wanted to run it by a third party first in case I actually am the asshole.\\n\\n'"
      ]
     },
     "execution_count": 61,
     "metadata": {},
     "output_type": "execute_result"
    }
   ],
   "source": [
    "X_test[0]"
   ]
  },
  {
   "cell_type": "code",
   "execution_count": 65,
   "id": "5d42acd6-ef31-4ef7-8b39-ef2e7bb2c369",
   "metadata": {},
   "outputs": [
    {
     "name": "stdout",
     "output_type": "stream",
     "text": [
      "              precision    recall  f1-score   support\n",
      "\n",
      "           0       0.68      0.50      0.58       100\n",
      "           1       0.61      0.77      0.68       100\n",
      "\n",
      "    accuracy                           0.64       200\n",
      "   macro avg       0.65      0.64      0.63       200\n",
      "weighted avg       0.65      0.64      0.63       200\n",
      "\n"
     ]
    }
   ],
   "source": [
    "print(classification_report(y_test, y_pred))"
   ]
  }
 ],
 "metadata": {
  "kernelspec": {
   "display_name": "Python 3 (ipykernel)",
   "language": "python",
   "name": "python3"
  },
  "language_info": {
   "codemirror_mode": {
    "name": "ipython",
    "version": 3
   },
   "file_extension": ".py",
   "mimetype": "text/x-python",
   "name": "python",
   "nbconvert_exporter": "python",
   "pygments_lexer": "ipython3",
   "version": "3.12.1"
  }
 },
 "nbformat": 4,
 "nbformat_minor": 5
}
