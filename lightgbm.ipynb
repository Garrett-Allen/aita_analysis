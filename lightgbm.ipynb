{
 "cells": [
  {
   "cell_type": "code",
   "execution_count": 460,
   "id": "c394dd9b-e17c-4979-8eef-67283f4ee705",
   "metadata": {},
   "outputs": [],
   "source": [
    "import json\n",
    "import pandas as pd\n",
    "import numpy as np\n",
    "import lightgbm as lgb\n",
    "import shap\n",
    "import seaborn as sns\n",
    "import matplotlib.pyplot as plt\n",
    "from sklearn.model_selection import train_test_split\n",
    "from sklearn.metrics import classification_report\n",
    "from sklearn.metrics import confusion_matrix"
   ]
  },
  {
   "cell_type": "markdown",
   "id": "6d180ce9-fb89-49d1-9719-80e550aee0f7",
   "metadata": {},
   "source": [
    "# Preprocess"
   ]
  },
  {
   "cell_type": "markdown",
   "id": "1f76be5b-debc-4e6f-8d0d-874fbb2260c3",
   "metadata": {},
   "source": [
    "## base"
   ]
  },
  {
   "cell_type": "code",
   "execution_count": 461,
   "id": "9152180d-c112-4df8-aa6f-5b31794d1b45",
   "metadata": {},
   "outputs": [],
   "source": [
    "df = pd.read_parquet(\"labeled_post.parquet\")"
   ]
  },
  {
   "cell_type": "code",
   "execution_count": 462,
   "id": "5bbbee06-9659-4c3c-9987-fac9e7cc3d31",
   "metadata": {},
   "outputs": [],
   "source": [
    "df = df.loc[df.link_flair_text.isin([\n",
    "    'Asshole',\n",
    "    'Asshole POO Mode',\n",
    "    'Everyone Sucks',\n",
    "    'Everyone Sucks POO Mode',\n",
    "    'Mega Asshole',\n",
    "    'No A-holes here',\n",
    "    'Not the A-hole',\n",
    "    'Not the A-hole POO Mode',\n",
    "])]"
   ]
  },
  {
   "cell_type": "code",
   "execution_count": 463,
   "id": "047d4744-0013-41ee-8150-b98945503ad0",
   "metadata": {},
   "outputs": [
    {
     "data": {
      "text/plain": [
       "78588"
      ]
     },
     "execution_count": 463,
     "metadata": {},
     "output_type": "execute_result"
    }
   ],
   "source": [
    "len(df)"
   ]
  },
  {
   "cell_type": "code",
   "execution_count": 464,
   "id": "c5dbecc3-9da2-4a99-beab-1eb038511c2c",
   "metadata": {},
   "outputs": [],
   "source": [
    "df = df.loc[~df.selftext.isin([\n",
    "    '[deleted]',\n",
    "    '[removed]'\n",
    "])]"
   ]
  },
  {
   "cell_type": "code",
   "execution_count": 465,
   "id": "e88f4319-15b8-497f-a38b-ba776bb46786",
   "metadata": {},
   "outputs": [
    {
     "data": {
      "text/plain": [
       "74699"
      ]
     },
     "execution_count": 465,
     "metadata": {},
     "output_type": "execute_result"
    }
   ],
   "source": [
    "len(df)"
   ]
  },
  {
   "cell_type": "markdown",
   "id": "2b018722-1951-4a64-923f-f11dc65027da",
   "metadata": {},
   "source": [
    "## add topic"
   ]
  },
  {
   "cell_type": "code",
   "execution_count": 485,
   "id": "61cd0435-76c6-4912-a19d-02882753a1d6",
   "metadata": {},
   "outputs": [],
   "source": [
    "df_topic = pd.read_csv(\"topic/df_output.csv\")"
   ]
  },
  {
   "cell_type": "code",
   "execution_count": 486,
   "id": "8cac0f6e-b42a-476c-848c-3a7f1988299d",
   "metadata": {},
   "outputs": [
    {
     "data": {
      "text/plain": [
       "74700"
      ]
     },
     "execution_count": 486,
     "metadata": {},
     "output_type": "execute_result"
    }
   ],
   "source": [
    "len(df_topic)"
   ]
  },
  {
   "cell_type": "code",
   "execution_count": 487,
   "id": "07a8a5d6-a254-4d31-9cb4-7629ff9b31c1",
   "metadata": {},
   "outputs": [],
   "source": [
    "# diff\n",
    "# set(df_topic.id) - set(df.id)"
   ]
  },
  {
   "cell_type": "code",
   "execution_count": 488,
   "id": "70e57d17-2b18-4ab6-9269-f29b4fd71657",
   "metadata": {},
   "outputs": [],
   "source": [
    "keywords = []\n",
    "for topic_keywords in df_topic[['Name', 'Representation']].drop_duplicates().Representation.apply(lambda x: eval(x)).tolist():\n",
    "    keywords += topic_keywords"
   ]
  },
  {
   "cell_type": "code",
   "execution_count": 489,
   "id": "02801325-7bd4-4d9c-ad52-179430ba2d74",
   "metadata": {},
   "outputs": [
    {
     "data": {
      "text/plain": [
       "(550, 417)"
      ]
     },
     "execution_count": 489,
     "metadata": {},
     "output_type": "execute_result"
    }
   ],
   "source": [
    "# check if keywords in Representation column are duplicated among topics\n",
    "# if length not match, duplicated\n",
    "len(keywords), len(set(keywords))"
   ]
  },
  {
   "cell_type": "code",
   "execution_count": 490,
   "id": "4ea4c431-1c17-4894-9d37-9456e1cf8197",
   "metadata": {},
   "outputs": [],
   "source": [
    "keywords = set(keywords)"
   ]
  },
  {
   "cell_type": "code",
   "execution_count": 491,
   "id": "88cdfe74-52ac-4853-a03f-94a38e466988",
   "metadata": {},
   "outputs": [],
   "source": [
    "df_topic = pd.concat([df_topic, pd.get_dummies(df_topic.Name, dtype=int)], axis=1)"
   ]
  },
  {
   "cell_type": "code",
   "execution_count": 493,
   "id": "3194e1cd-2142-488f-860e-193f1fb89df9",
   "metadata": {},
   "outputs": [],
   "source": [
    "df_topic_ohe = pd.DataFrame(\n",
    "    {\n",
    "        keyword: df_topic['Representation'].apply(lambda x: 1 if keyword in x else 0)\n",
    "        for keyword in keywords\n",
    "    }\n",
    ")"
   ]
  },
  {
   "cell_type": "code",
   "execution_count": 494,
   "id": "3970e27f-24dc-471b-8c3a-a9f1c9401b8f",
   "metadata": {},
   "outputs": [],
   "source": [
    "df_topic = pd.concat([df_topic, df_topic_ohe], axis=1)"
   ]
  },
  {
   "cell_type": "code",
   "execution_count": 496,
   "id": "78b66dd7-72b1-45a7-a6d8-a8eafcae310c",
   "metadata": {},
   "outputs": [],
   "source": [
    "df_topic = df_topic.drop(columns=['Unnamed: 0', 'Topic', 'Count', 'Name', 'Representation'])"
   ]
  },
  {
   "cell_type": "code",
   "execution_count": 497,
   "id": "1b85c140-9b74-4302-9d74-74aea9f09a1b",
   "metadata": {},
   "outputs": [],
   "source": [
    "# df_topic['Name'] = df_topic.Name.apply(lambda x: ' '.join(x.split('_')[1:]))\n",
    "# df_topic['Representation'] = df_topic.Representation.apply(lambda x: ' '.join(eval(x)))"
   ]
  },
  {
   "cell_type": "code",
   "execution_count": 498,
   "id": "a192fcef-11fb-42c8-9432-2bd888350347",
   "metadata": {},
   "outputs": [
    {
     "data": {
      "text/html": [
       "<div>\n",
       "<style scoped>\n",
       "    .dataframe tbody tr th:only-of-type {\n",
       "        vertical-align: middle;\n",
       "    }\n",
       "\n",
       "    .dataframe tbody tr th {\n",
       "        vertical-align: top;\n",
       "    }\n",
       "\n",
       "    .dataframe thead th {\n",
       "        text-align: right;\n",
       "    }\n",
       "</style>\n",
       "<table border=\"1\" class=\"dataframe\">\n",
       "  <thead>\n",
       "    <tr style=\"text-align: right;\">\n",
       "      <th></th>\n",
       "      <th>id</th>\n",
       "      <th>-1_parents_upset_stay_later</th>\n",
       "      <th>0_friendship_talk_bf_upset</th>\n",
       "      <th>10_classroom_students_assignments_semester</th>\n",
       "      <th>11_gifts_presents_gift card_secret santa</th>\n",
       "      <th>12_debt_savings_spending_afford</th>\n",
       "      <th>13_boss_employee_coworkers_shifts</th>\n",
       "      <th>14_weight loss_eating disorder_diet_fat</th>\n",
       "      <th>15_smoking weed_smoker_cigarettes_apartment</th>\n",
       "      <th>16_speak spanish_racism_conversation_native</th>\n",
       "      <th>...</th>\n",
       "      <th>cigarettes</th>\n",
       "      <th>eating disorder</th>\n",
       "      <th>savings</th>\n",
       "      <th>queen</th>\n",
       "      <th>niece</th>\n",
       "      <th>years</th>\n",
       "      <th>notes</th>\n",
       "      <th>mum</th>\n",
       "      <th>gave</th>\n",
       "      <th>meeting</th>\n",
       "    </tr>\n",
       "  </thead>\n",
       "  <tbody>\n",
       "    <tr>\n",
       "      <th>0</th>\n",
       "      <td>1284npp</td>\n",
       "      <td>0</td>\n",
       "      <td>0</td>\n",
       "      <td>0</td>\n",
       "      <td>0</td>\n",
       "      <td>0</td>\n",
       "      <td>0</td>\n",
       "      <td>0</td>\n",
       "      <td>0</td>\n",
       "      <td>0</td>\n",
       "      <td>...</td>\n",
       "      <td>0</td>\n",
       "      <td>0</td>\n",
       "      <td>0</td>\n",
       "      <td>0</td>\n",
       "      <td>0</td>\n",
       "      <td>0</td>\n",
       "      <td>0</td>\n",
       "      <td>0</td>\n",
       "      <td>0</td>\n",
       "      <td>0</td>\n",
       "    </tr>\n",
       "    <tr>\n",
       "      <th>1</th>\n",
       "      <td>1284q84</td>\n",
       "      <td>0</td>\n",
       "      <td>0</td>\n",
       "      <td>0</td>\n",
       "      <td>0</td>\n",
       "      <td>0</td>\n",
       "      <td>0</td>\n",
       "      <td>0</td>\n",
       "      <td>0</td>\n",
       "      <td>0</td>\n",
       "      <td>...</td>\n",
       "      <td>0</td>\n",
       "      <td>0</td>\n",
       "      <td>0</td>\n",
       "      <td>0</td>\n",
       "      <td>0</td>\n",
       "      <td>0</td>\n",
       "      <td>0</td>\n",
       "      <td>0</td>\n",
       "      <td>0</td>\n",
       "      <td>0</td>\n",
       "    </tr>\n",
       "    <tr>\n",
       "      <th>2</th>\n",
       "      <td>1284sqm</td>\n",
       "      <td>1</td>\n",
       "      <td>0</td>\n",
       "      <td>0</td>\n",
       "      <td>0</td>\n",
       "      <td>0</td>\n",
       "      <td>0</td>\n",
       "      <td>0</td>\n",
       "      <td>0</td>\n",
       "      <td>0</td>\n",
       "      <td>...</td>\n",
       "      <td>0</td>\n",
       "      <td>0</td>\n",
       "      <td>0</td>\n",
       "      <td>0</td>\n",
       "      <td>0</td>\n",
       "      <td>0</td>\n",
       "      <td>0</td>\n",
       "      <td>0</td>\n",
       "      <td>0</td>\n",
       "      <td>0</td>\n",
       "    </tr>\n",
       "    <tr>\n",
       "      <th>3</th>\n",
       "      <td>1284trz</td>\n",
       "      <td>0</td>\n",
       "      <td>0</td>\n",
       "      <td>0</td>\n",
       "      <td>0</td>\n",
       "      <td>0</td>\n",
       "      <td>0</td>\n",
       "      <td>0</td>\n",
       "      <td>0</td>\n",
       "      <td>0</td>\n",
       "      <td>...</td>\n",
       "      <td>0</td>\n",
       "      <td>0</td>\n",
       "      <td>0</td>\n",
       "      <td>0</td>\n",
       "      <td>0</td>\n",
       "      <td>0</td>\n",
       "      <td>0</td>\n",
       "      <td>0</td>\n",
       "      <td>0</td>\n",
       "      <td>0</td>\n",
       "    </tr>\n",
       "    <tr>\n",
       "      <th>4</th>\n",
       "      <td>128509j</td>\n",
       "      <td>1</td>\n",
       "      <td>0</td>\n",
       "      <td>0</td>\n",
       "      <td>0</td>\n",
       "      <td>0</td>\n",
       "      <td>0</td>\n",
       "      <td>0</td>\n",
       "      <td>0</td>\n",
       "      <td>0</td>\n",
       "      <td>...</td>\n",
       "      <td>0</td>\n",
       "      <td>0</td>\n",
       "      <td>0</td>\n",
       "      <td>0</td>\n",
       "      <td>0</td>\n",
       "      <td>0</td>\n",
       "      <td>0</td>\n",
       "      <td>0</td>\n",
       "      <td>0</td>\n",
       "      <td>0</td>\n",
       "    </tr>\n",
       "    <tr>\n",
       "      <th>...</th>\n",
       "      <td>...</td>\n",
       "      <td>...</td>\n",
       "      <td>...</td>\n",
       "      <td>...</td>\n",
       "      <td>...</td>\n",
       "      <td>...</td>\n",
       "      <td>...</td>\n",
       "      <td>...</td>\n",
       "      <td>...</td>\n",
       "      <td>...</td>\n",
       "      <td>...</td>\n",
       "      <td>...</td>\n",
       "      <td>...</td>\n",
       "      <td>...</td>\n",
       "      <td>...</td>\n",
       "      <td>...</td>\n",
       "      <td>...</td>\n",
       "      <td>...</td>\n",
       "      <td>...</td>\n",
       "      <td>...</td>\n",
       "      <td>...</td>\n",
       "    </tr>\n",
       "    <tr>\n",
       "      <th>74695</th>\n",
       "      <td>18pnieb</td>\n",
       "      <td>1</td>\n",
       "      <td>0</td>\n",
       "      <td>0</td>\n",
       "      <td>0</td>\n",
       "      <td>0</td>\n",
       "      <td>0</td>\n",
       "      <td>0</td>\n",
       "      <td>0</td>\n",
       "      <td>0</td>\n",
       "      <td>...</td>\n",
       "      <td>0</td>\n",
       "      <td>0</td>\n",
       "      <td>0</td>\n",
       "      <td>0</td>\n",
       "      <td>0</td>\n",
       "      <td>0</td>\n",
       "      <td>0</td>\n",
       "      <td>0</td>\n",
       "      <td>0</td>\n",
       "      <td>0</td>\n",
       "    </tr>\n",
       "    <tr>\n",
       "      <th>74696</th>\n",
       "      <td>18pno1q</td>\n",
       "      <td>0</td>\n",
       "      <td>0</td>\n",
       "      <td>0</td>\n",
       "      <td>0</td>\n",
       "      <td>0</td>\n",
       "      <td>0</td>\n",
       "      <td>0</td>\n",
       "      <td>0</td>\n",
       "      <td>0</td>\n",
       "      <td>...</td>\n",
       "      <td>0</td>\n",
       "      <td>0</td>\n",
       "      <td>0</td>\n",
       "      <td>0</td>\n",
       "      <td>0</td>\n",
       "      <td>0</td>\n",
       "      <td>0</td>\n",
       "      <td>0</td>\n",
       "      <td>0</td>\n",
       "      <td>0</td>\n",
       "    </tr>\n",
       "    <tr>\n",
       "      <th>74697</th>\n",
       "      <td>18pnoev</td>\n",
       "      <td>0</td>\n",
       "      <td>0</td>\n",
       "      <td>0</td>\n",
       "      <td>0</td>\n",
       "      <td>0</td>\n",
       "      <td>0</td>\n",
       "      <td>0</td>\n",
       "      <td>0</td>\n",
       "      <td>0</td>\n",
       "      <td>...</td>\n",
       "      <td>0</td>\n",
       "      <td>0</td>\n",
       "      <td>0</td>\n",
       "      <td>0</td>\n",
       "      <td>0</td>\n",
       "      <td>0</td>\n",
       "      <td>0</td>\n",
       "      <td>0</td>\n",
       "      <td>0</td>\n",
       "      <td>0</td>\n",
       "    </tr>\n",
       "    <tr>\n",
       "      <th>74698</th>\n",
       "      <td>18pnp6m</td>\n",
       "      <td>0</td>\n",
       "      <td>0</td>\n",
       "      <td>0</td>\n",
       "      <td>0</td>\n",
       "      <td>0</td>\n",
       "      <td>0</td>\n",
       "      <td>0</td>\n",
       "      <td>0</td>\n",
       "      <td>0</td>\n",
       "      <td>...</td>\n",
       "      <td>0</td>\n",
       "      <td>0</td>\n",
       "      <td>0</td>\n",
       "      <td>0</td>\n",
       "      <td>0</td>\n",
       "      <td>0</td>\n",
       "      <td>0</td>\n",
       "      <td>0</td>\n",
       "      <td>0</td>\n",
       "      <td>0</td>\n",
       "    </tr>\n",
       "    <tr>\n",
       "      <th>74699</th>\n",
       "      <td>18pnu0y</td>\n",
       "      <td>0</td>\n",
       "      <td>0</td>\n",
       "      <td>0</td>\n",
       "      <td>0</td>\n",
       "      <td>0</td>\n",
       "      <td>0</td>\n",
       "      <td>0</td>\n",
       "      <td>0</td>\n",
       "      <td>0</td>\n",
       "      <td>...</td>\n",
       "      <td>0</td>\n",
       "      <td>0</td>\n",
       "      <td>0</td>\n",
       "      <td>0</td>\n",
       "      <td>0</td>\n",
       "      <td>0</td>\n",
       "      <td>0</td>\n",
       "      <td>0</td>\n",
       "      <td>0</td>\n",
       "      <td>0</td>\n",
       "    </tr>\n",
       "  </tbody>\n",
       "</table>\n",
       "<p>74700 rows × 473 columns</p>\n",
       "</div>"
      ],
      "text/plain": [
       "            id  -1_parents_upset_stay_later  0_friendship_talk_bf_upset  \\\n",
       "0      1284npp                            0                           0   \n",
       "1      1284q84                            0                           0   \n",
       "2      1284sqm                            1                           0   \n",
       "3      1284trz                            0                           0   \n",
       "4      128509j                            1                           0   \n",
       "...        ...                          ...                         ...   \n",
       "74695  18pnieb                            1                           0   \n",
       "74696  18pno1q                            0                           0   \n",
       "74697  18pnoev                            0                           0   \n",
       "74698  18pnp6m                            0                           0   \n",
       "74699  18pnu0y                            0                           0   \n",
       "\n",
       "       10_classroom_students_assignments_semester  \\\n",
       "0                                               0   \n",
       "1                                               0   \n",
       "2                                               0   \n",
       "3                                               0   \n",
       "4                                               0   \n",
       "...                                           ...   \n",
       "74695                                           0   \n",
       "74696                                           0   \n",
       "74697                                           0   \n",
       "74698                                           0   \n",
       "74699                                           0   \n",
       "\n",
       "       11_gifts_presents_gift card_secret santa  \\\n",
       "0                                             0   \n",
       "1                                             0   \n",
       "2                                             0   \n",
       "3                                             0   \n",
       "4                                             0   \n",
       "...                                         ...   \n",
       "74695                                         0   \n",
       "74696                                         0   \n",
       "74697                                         0   \n",
       "74698                                         0   \n",
       "74699                                         0   \n",
       "\n",
       "       12_debt_savings_spending_afford  13_boss_employee_coworkers_shifts  \\\n",
       "0                                    0                                  0   \n",
       "1                                    0                                  0   \n",
       "2                                    0                                  0   \n",
       "3                                    0                                  0   \n",
       "4                                    0                                  0   \n",
       "...                                ...                                ...   \n",
       "74695                                0                                  0   \n",
       "74696                                0                                  0   \n",
       "74697                                0                                  0   \n",
       "74698                                0                                  0   \n",
       "74699                                0                                  0   \n",
       "\n",
       "       14_weight loss_eating disorder_diet_fat  \\\n",
       "0                                            0   \n",
       "1                                            0   \n",
       "2                                            0   \n",
       "3                                            0   \n",
       "4                                            0   \n",
       "...                                        ...   \n",
       "74695                                        0   \n",
       "74696                                        0   \n",
       "74697                                        0   \n",
       "74698                                        0   \n",
       "74699                                        0   \n",
       "\n",
       "       15_smoking weed_smoker_cigarettes_apartment  \\\n",
       "0                                                0   \n",
       "1                                                0   \n",
       "2                                                0   \n",
       "3                                                0   \n",
       "4                                                0   \n",
       "...                                            ...   \n",
       "74695                                            0   \n",
       "74696                                            0   \n",
       "74697                                            0   \n",
       "74698                                            0   \n",
       "74699                                            0   \n",
       "\n",
       "       16_speak spanish_racism_conversation_native  ...  cigarettes  \\\n",
       "0                                                0  ...           0   \n",
       "1                                                0  ...           0   \n",
       "2                                                0  ...           0   \n",
       "3                                                0  ...           0   \n",
       "4                                                0  ...           0   \n",
       "...                                            ...  ...         ...   \n",
       "74695                                            0  ...           0   \n",
       "74696                                            0  ...           0   \n",
       "74697                                            0  ...           0   \n",
       "74698                                            0  ...           0   \n",
       "74699                                            0  ...           0   \n",
       "\n",
       "       eating disorder  savings  queen  niece  years  notes  mum  gave  \\\n",
       "0                    0        0      0      0      0      0    0     0   \n",
       "1                    0        0      0      0      0      0    0     0   \n",
       "2                    0        0      0      0      0      0    0     0   \n",
       "3                    0        0      0      0      0      0    0     0   \n",
       "4                    0        0      0      0      0      0    0     0   \n",
       "...                ...      ...    ...    ...    ...    ...  ...   ...   \n",
       "74695                0        0      0      0      0      0    0     0   \n",
       "74696                0        0      0      0      0      0    0     0   \n",
       "74697                0        0      0      0      0      0    0     0   \n",
       "74698                0        0      0      0      0      0    0     0   \n",
       "74699                0        0      0      0      0      0    0     0   \n",
       "\n",
       "       meeting  \n",
       "0            0  \n",
       "1            0  \n",
       "2            0  \n",
       "3            0  \n",
       "4            0  \n",
       "...        ...  \n",
       "74695        0  \n",
       "74696        0  \n",
       "74697        0  \n",
       "74698        0  \n",
       "74699        0  \n",
       "\n",
       "[74700 rows x 473 columns]"
      ]
     },
     "execution_count": 498,
     "metadata": {},
     "output_type": "execute_result"
    }
   ],
   "source": [
    "df_topic"
   ]
  },
  {
   "cell_type": "code",
   "execution_count": 499,
   "id": "4ebde555-af36-4176-95bc-a8933d63719a",
   "metadata": {},
   "outputs": [],
   "source": [
    "df = df.merge(df_topic, on='id')"
   ]
  },
  {
   "cell_type": "code",
   "execution_count": 500,
   "id": "08eb60fb-a872-43b3-a270-d5f9dc6fc0ea",
   "metadata": {},
   "outputs": [
    {
     "data": {
      "text/plain": [
       "74699"
      ]
     },
     "execution_count": 500,
     "metadata": {},
     "output_type": "execute_result"
    }
   ],
   "source": [
    "len(df)"
   ]
  },
  {
   "cell_type": "markdown",
   "id": "e6af7109-0ab9-4323-8e1f-85e6fc97ecc5",
   "metadata": {},
   "source": [
    "## add verdict label"
   ]
  },
  {
   "cell_type": "code",
   "execution_count": 501,
   "id": "2da5dd51-4c11-4095-a6ad-8443861ee8f5",
   "metadata": {},
   "outputs": [],
   "source": [
    "flairs = {\n",
    "    'Asshole': 'YTA',\n",
    "    'Asshole POO Mode': 'YTA',\n",
    "    'Everyone Sucks': 'YTA',\n",
    "    'Everyone Sucks POO Mode': 'YTA',\n",
    "    'Mega Asshole': 'YTA',\n",
    "    'No A-holes here': 'NTA',\n",
    "    'Not the A-hole': 'NTA',\n",
    "    'Not the A-hole POO Mode': 'NTA',\n",
    "}"
   ]
  },
  {
   "cell_type": "code",
   "execution_count": 502,
   "id": "8e4299b4-2a80-4d28-aee4-5d4740836820",
   "metadata": {},
   "outputs": [],
   "source": [
    "df = df.loc[df.link_flair_text.isin(flairs)].copy()\n",
    "df['verdict'] = df.link_flair_text.map(flairs)\n",
    "\n",
    "df[\"is_asshole\"] = 0\n",
    "df.loc[df.verdict == \"YTA\", \"is_asshole\"] = 1\n",
    "\n",
    "df = df.reset_index().sort_values(by=\"index\")"
   ]
  },
  {
   "cell_type": "code",
   "execution_count": 503,
   "id": "c8637f10-43bd-4311-b812-803d113726f8",
   "metadata": {},
   "outputs": [
    {
     "data": {
      "text/plain": [
       "74699"
      ]
     },
     "execution_count": 503,
     "metadata": {},
     "output_type": "execute_result"
    }
   ],
   "source": [
    "len(df)"
   ]
  },
  {
   "cell_type": "markdown",
   "id": "bf3c6e4d-6507-4d60-8627-08f2ce3ce502",
   "metadata": {},
   "source": [
    "## add linguistic"
   ]
  },
  {
   "cell_type": "code",
   "execution_count": 504,
   "id": "ab0a5458-8a1a-464a-9d55-b6291d281614",
   "metadata": {},
   "outputs": [],
   "source": [
    "df_ling = pd.read_parquet(\"labeled_post_features.parquet\")[[\n",
    "    'id',\n",
    "    'demonyms',\n",
    "    'demonyms_words_count',\n",
    "    'demonyms_unique_count',\n",
    "    'features',\n",
    "    'title_uppercase_count',\n",
    "    'title_word_count',\n",
    "    'title_profanity_count',\n",
    "    'avg_word_length',\n",
    "    'stop_word_count',\n",
    "    'numerics_count',\n",
    "    'uppercase_words_count',\n",
    "    'sentence_count',\n",
    "    'avg_sentence_length',\n",
    "    'profanity_count',\n",
    "]]"
   ]
  },
  {
   "cell_type": "code",
   "execution_count": 505,
   "id": "2174ebe4-dc44-47e5-9e31-277a21c62115",
   "metadata": {},
   "outputs": [],
   "source": [
    "df = df.merge(df_ling, on=\"id\")"
   ]
  },
  {
   "cell_type": "code",
   "execution_count": 506,
   "id": "478f216e-b343-45b6-b312-79cf8e155211",
   "metadata": {},
   "outputs": [
    {
     "data": {
      "text/plain": [
       "74699"
      ]
     },
     "execution_count": 506,
     "metadata": {},
     "output_type": "execute_result"
    }
   ],
   "source": [
    "len(df)"
   ]
  },
  {
   "cell_type": "markdown",
   "id": "6a558cd4-0b65-44f4-9065-7719e50cf715",
   "metadata": {},
   "source": [
    "## add gender and age"
   ]
  },
  {
   "cell_type": "code",
   "execution_count": 507,
   "id": "027b11ba-19b9-4069-aaf4-e224cb1ccf1a",
   "metadata": {},
   "outputs": [],
   "source": [
    "# load llama output\n",
    "df_llama = pd.concat([\n",
    "    pd.read_parquet(\"labeled_post_llama_prompt.parquet\"),\n",
    "    pd.read_parquet(\"labeled_post_llama_prompt2.parquet\")\n",
    "])\n",
    "\n",
    "llama_output = []\n",
    "for part in range(1, 6):\n",
    "    with open(f\"llama-genage/results-unknown-10k-part{part}.json\") as f:\n",
    "        llama_output += json.load(f)\n",
    "\n",
    "for part in range(1, 5):\n",
    "    with open(f\"llama-genage/results-unknown-10k-part2-{part}.json\") as f:\n",
    "        llama_output += json.load(f)\n",
    "\n",
    "# remove prompt from llama outputs\n",
    "df_llama['llama_output'] = llama_output\n",
    "df_llama['llama_gender_age'] = df_llama.apply(\n",
    "    lambda x: x['llama_output'][len(x['prompt']):], axis=1)"
   ]
  },
  {
   "cell_type": "code",
   "execution_count": 508,
   "id": "4ed50021-e137-4721-8762-b129f8e2b943",
   "metadata": {},
   "outputs": [],
   "source": [
    "# parse llama output\n",
    "def parse_llama_gender_age(gender_age):\n",
    "    if ',' not in gender_age:\n",
    "        return None, None\n",
    "\n",
    "    s = gender_age.split(',')\n",
    "    age_raw = s[0].strip()\n",
    "    gender_raw = s[1].strip().lower()\n",
    "\n",
    "    age = None\n",
    "    gender = None\n",
    "    \n",
    "    try:\n",
    "        if 15 < int(age_raw) < 80:\n",
    "            age = int(age_raw)\n",
    "        else:\n",
    "            age = None\n",
    "    except (ValueError, TypeError):\n",
    "        age = None\n",
    "\n",
    "    if gender_raw == \"female\":\n",
    "        gender = \"F\"\n",
    "    elif gender_raw == \"male\":\n",
    "        gender = \"M\"\n",
    "\n",
    "    return age, gender\n",
    "\n",
    "\n",
    "df_llama['llama_age'] = df_llama.llama_gender_age.apply(lambda x: parse_llama_gender_age(x)[0])\n",
    "df_llama['llama_gender'] = df_llama.llama_gender_age.apply(lambda x: parse_llama_gender_age(x)[1])\n",
    "\n",
    "df_gen = pd.read_parquet(\"labeled_post_genage.parquet\")[[\"id\", \"link_flair_text\", \"gender\", \"age\"]]\n",
    "df_gen = df_gen.merge(df_llama[[\"id\", \"llama_gender\", \"llama_age\"]], left_on=\"id\", right_on=\"id\")\n",
    "df_gen = df_gen.loc[df_gen.link_flair_text.isin(flairs)].copy()"
   ]
  },
  {
   "cell_type": "code",
   "execution_count": 509,
   "id": "23c39a84-b870-456f-8ee7-c3f0681f00ca",
   "metadata": {},
   "outputs": [
    {
     "data": {
      "text/plain": [
       "(0.5886539269481966, 0.4610233363463913)"
      ]
     },
     "execution_count": 509,
     "metadata": {},
     "output_type": "execute_result"
    }
   ],
   "source": [
    "# not null rate\n",
    "len(df_gen.loc[df_gen.gender.notnull()]) / len(df_gen), len(df_gen.loc[df_gen.age.notnull()]) / len(df_gen)"
   ]
  },
  {
   "cell_type": "code",
   "execution_count": 510,
   "id": "602bc62b-ae06-4556-80cc-cb06454a3291",
   "metadata": {},
   "outputs": [],
   "source": [
    "df_gen.loc[df_gen.gender.isna(), 'gender'] = df_gen.llama_gender\n",
    "df_gen.loc[df_gen.age.isna(), 'age'] = df_gen.llama_age"
   ]
  },
  {
   "cell_type": "code",
   "execution_count": 511,
   "id": "10402348-a388-476b-a1b6-d6fb2b855ec5",
   "metadata": {},
   "outputs": [
    {
     "data": {
      "text/plain": [
       "(0.6490636179612207, 0.5323946172355405)"
      ]
     },
     "execution_count": 511,
     "metadata": {},
     "output_type": "execute_result"
    }
   ],
   "source": [
    "# not null rate: after comlpement by llama\n",
    "len(df_gen.loc[df_gen.gender.notnull()]) / len(df_gen), len(df_gen.loc[df_gen.age.notnull()]) / len(df_gen)"
   ]
  },
  {
   "cell_type": "code",
   "execution_count": 512,
   "id": "ff8bd0a5-310c-445c-b256-ac49f79f2193",
   "metadata": {},
   "outputs": [],
   "source": [
    "df_gen.gender = df_gen.gender.fillna(\"U\")\n",
    "one_hot_encoded = pd.get_dummies(df_gen['gender'], prefix='gender')\n",
    "df_gen = pd.concat([df_gen, one_hot_encoded], axis=1)"
   ]
  },
  {
   "cell_type": "code",
   "execution_count": 513,
   "id": "ac124dcc-7e2c-47e0-b113-7b1c00343da4",
   "metadata": {},
   "outputs": [],
   "source": [
    "df = df.merge(df_gen, on=\"id\")"
   ]
  },
  {
   "cell_type": "code",
   "execution_count": 514,
   "id": "da1f162a-2505-47fd-8ec1-2b1f1648f297",
   "metadata": {},
   "outputs": [
    {
     "data": {
      "text/plain": [
       "74658"
      ]
     },
     "execution_count": 514,
     "metadata": {},
     "output_type": "execute_result"
    }
   ],
   "source": [
    "len(df)"
   ]
  },
  {
   "cell_type": "markdown",
   "id": "eb5f96ef-8937-4f1f-9998-ef519311f8fd",
   "metadata": {},
   "source": [
    "## add sentiment"
   ]
  },
  {
   "cell_type": "code",
   "execution_count": 515,
   "id": "7a88aed6-48de-4854-87c9-e9eebf39c66b",
   "metadata": {},
   "outputs": [],
   "source": [
    "df_sent = pd.read_parquet(\"labeled_post_sentiment-analysis-pysentimiento.parquet\")[[\"id\", \"selftext_probas\", \"title_probas\"]]\n",
    "df_sent_title = df_sent.title_probas.apply(pd.Series).add_prefix(\"title_\")\n",
    "df_sent = pd.concat([df_sent.drop(columns=['title_probas']), df_sent_title], axis=1)\n",
    "df_sent_selftext = df_sent.selftext_probas.apply(pd.Series).add_prefix(\"selftext_\")\n",
    "df_sent = pd.concat([df_sent.drop(columns=['selftext_probas']), df_sent_selftext], axis=1)"
   ]
  },
  {
   "cell_type": "code",
   "execution_count": 516,
   "id": "59880981-080d-4ae4-9346-414d874f8d86",
   "metadata": {},
   "outputs": [],
   "source": [
    "# plt.figure(figsize=(8, 6))\n",
    "# sns.boxplot(data=df_sent)\n",
    "# plt.xticks(rotation=90)\n",
    "# plt.show()"
   ]
  },
  {
   "cell_type": "code",
   "execution_count": 517,
   "id": "80a9cc0d-36b2-4bb2-a8da-b455dd2b8d3e",
   "metadata": {},
   "outputs": [],
   "source": [
    "df = df.merge(df_sent, on=\"id\")"
   ]
  },
  {
   "cell_type": "code",
   "execution_count": 518,
   "id": "2747c371-b628-4381-887c-b730947b6f34",
   "metadata": {},
   "outputs": [
    {
     "data": {
      "text/plain": [
       "74658"
      ]
     },
     "execution_count": 518,
     "metadata": {},
     "output_type": "execute_result"
    }
   ],
   "source": [
    "len(df)"
   ]
  },
  {
   "cell_type": "markdown",
   "id": "b3fbffb3-8626-4c4d-902e-d8742d7f3c63",
   "metadata": {},
   "source": [
    "## save"
   ]
  },
  {
   "cell_type": "code",
   "execution_count": 519,
   "id": "c99a2c34-a157-4c17-ade8-307ea1010cc3",
   "metadata": {},
   "outputs": [],
   "source": [
    "df.to_parquet(\"labeled_post_enriched.parquet\")"
   ]
  },
  {
   "cell_type": "code",
   "execution_count": 520,
   "id": "cdc3e5c4-60e5-4480-ab38-c4567eb185aa",
   "metadata": {},
   "outputs": [],
   "source": [
    "# df.to_parquet(\"labeled_post_enriched_bert.parquet\")"
   ]
  },
  {
   "cell_type": "code",
   "execution_count": 521,
   "id": "a369df3a-e7ba-4ef8-a426-673040578421",
   "metadata": {},
   "outputs": [
    {
     "data": {
      "text/html": [
       "<div>\n",
       "<style scoped>\n",
       "    .dataframe tbody tr th:only-of-type {\n",
       "        vertical-align: middle;\n",
       "    }\n",
       "\n",
       "    .dataframe tbody tr th {\n",
       "        vertical-align: top;\n",
       "    }\n",
       "\n",
       "    .dataframe thead th {\n",
       "        text-align: right;\n",
       "    }\n",
       "</style>\n",
       "<table border=\"1\" class=\"dataframe\">\n",
       "  <thead>\n",
       "    <tr style=\"text-align: right;\">\n",
       "      <th></th>\n",
       "      <th>0</th>\n",
       "    </tr>\n",
       "  </thead>\n",
       "  <tbody>\n",
       "    <tr>\n",
       "      <th>index</th>\n",
       "      <td>0</td>\n",
       "    </tr>\n",
       "    <tr>\n",
       "      <th>link_flair_text_x</th>\n",
       "      <td>Not the A-hole</td>\n",
       "    </tr>\n",
       "    <tr>\n",
       "      <th>num_comments</th>\n",
       "      <td>1155</td>\n",
       "    </tr>\n",
       "    <tr>\n",
       "      <th>over_18</th>\n",
       "      <td>False</td>\n",
       "    </tr>\n",
       "    <tr>\n",
       "      <th>score</th>\n",
       "      <td>9597</td>\n",
       "    </tr>\n",
       "    <tr>\n",
       "      <th>...</th>\n",
       "      <td>...</td>\n",
       "    </tr>\n",
       "    <tr>\n",
       "      <th>selftext_fear</th>\n",
       "      <td>0.002371</td>\n",
       "    </tr>\n",
       "    <tr>\n",
       "      <th>selftext_joy</th>\n",
       "      <td>0.024384</td>\n",
       "    </tr>\n",
       "    <tr>\n",
       "      <th>selftext_others</th>\n",
       "      <td>0.96449</td>\n",
       "    </tr>\n",
       "    <tr>\n",
       "      <th>selftext_sadness</th>\n",
       "      <td>0.003151</td>\n",
       "    </tr>\n",
       "    <tr>\n",
       "      <th>selftext_surprise</th>\n",
       "      <td>0.00232</td>\n",
       "    </tr>\n",
       "  </tbody>\n",
       "</table>\n",
       "<p>526 rows × 1 columns</p>\n",
       "</div>"
      ],
      "text/plain": [
       "                                0\n",
       "index                           0\n",
       "link_flair_text_x  Not the A-hole\n",
       "num_comments                 1155\n",
       "over_18                     False\n",
       "score                        9597\n",
       "...                           ...\n",
       "selftext_fear            0.002371\n",
       "selftext_joy             0.024384\n",
       "selftext_others           0.96449\n",
       "selftext_sadness         0.003151\n",
       "selftext_surprise         0.00232\n",
       "\n",
       "[526 rows x 1 columns]"
      ]
     },
     "execution_count": 521,
     "metadata": {},
     "output_type": "execute_result"
    }
   ],
   "source": [
    "df.head(1).T"
   ]
  },
  {
   "cell_type": "markdown",
   "id": "fe83cea5-0251-4ff6-961b-69ab1222c755",
   "metadata": {},
   "source": [
    "# LightGBM"
   ]
  },
  {
   "cell_type": "code",
   "execution_count": 522,
   "id": "ed5f5f95-16b8-4617-b3e7-dfe379149bb9",
   "metadata": {},
   "outputs": [],
   "source": [
    "# # load processed data\n",
    "# df = pd.read_parquet(\"labeled_post_enriched.parquet\")"
   ]
  },
  {
   "cell_type": "code",
   "execution_count": 523,
   "id": "aac5767a-8d92-4794-84b6-1f6620feb604",
   "metadata": {},
   "outputs": [
    {
     "data": {
      "text/plain": [
       "is_asshole\n",
       "0    58565\n",
       "1    16093\n",
       "Name: count, dtype: int64"
      ]
     },
     "execution_count": 523,
     "metadata": {},
     "output_type": "execute_result"
    }
   ],
   "source": [
    "df.is_asshole.value_counts()"
   ]
  },
  {
   "cell_type": "code",
   "execution_count": 524,
   "id": "cecee806-c035-4c99-a22e-231e5f9a8708",
   "metadata": {},
   "outputs": [],
   "source": [
    "min_samples = min(df.is_asshole.value_counts())\n",
    "\n",
    "df_use = pd.concat([\n",
    "    df.loc[df.is_asshole == 0][:min_samples],\n",
    "    df.loc[df.is_asshole == 1][:min_samples],\n",
    "])"
   ]
  },
  {
   "cell_type": "code",
   "execution_count": 525,
   "id": "9ccab8cf-25cf-419d-ad8b-dc8a12b97121",
   "metadata": {},
   "outputs": [
    {
     "data": {
      "text/plain": [
       "32186"
      ]
     },
     "execution_count": 525,
     "metadata": {},
     "output_type": "execute_result"
    }
   ],
   "source": [
    "len(df_use)"
   ]
  },
  {
   "cell_type": "code",
   "execution_count": 622,
   "id": "a521cb54-07da-4225-8796-68dd0d11e4ab",
   "metadata": {},
   "outputs": [],
   "source": [
    "X = df_use[[\n",
    "    # 'index',\n",
    "    # 'link_flair_text',\n",
    "    # 'num_comments',\n",
    "    # 'over_18',\n",
    "    # 'score',\n",
    "    # 'url',\n",
    "    # 'selftext',\n",
    "    # 'title',\n",
    "    # 'id',\n",
    "    # 'edited',\n",
    "    # 'is_self',\n",
    "    # 'permalink',\n",
    "    # 'downs',\n",
    "    # 'ups',\n",
    "    # 'created',\n",
    "    # 'date',\n",
    "    # 'demonyms',\n",
    "\n",
    "    # ================================================================\n",
    "    # topic\n",
    "    # ================================================================\n",
    "    '-1_parents_upset_stay_later',\n",
    "    '0_friendship_talk_bf_upset',\n",
    "    '10_classroom_students_assignments_semester',\n",
    "    '11_gifts_presents_gift card_secret santa',\n",
    "    '12_debt_savings_spending_afford',\n",
    "    '13_boss_employee_coworkers_shifts',\n",
    "    '14_weight loss_eating disorder_diet_fat',\n",
    "    '15_smoking weed_smoker_cigarettes_apartment',\n",
    "    '16_speak spanish_racism_conversation_native',\n",
    "    '17_buy car_old car_cars_insurance',\n",
    "    '18_finances_mortgage_savings_rent',\n",
    "    '19_baby names_naming_nicknames_family',\n",
    "    '1_pets_barking_litter_walk',\n",
    "    '20_grandparents_funeral_aunt_upset',\n",
    "    '21_seats_bus_flight attendant_wheelchair',\n",
    "    '22_cutting hair_curly hair_hairstyle_shave head',\n",
    "    '23_taking pictures_facebook_wedding_media',\n",
    "    '24_chores_daycare_nap_pregnant',\n",
    "    '25_going church_pastor_catholic_pray',\n",
    "    '26_family_brother_relationship_bf',\n",
    "    '27_dress_dress code_want wear_fashion',\n",
    "    '28_noise complaint_noises_neighbors_quiet hours',\n",
    "    '29_xbox_gift_macbook_nintendo switch',\n",
    "    '2_wedding party_engagement_bridesmaids_bridal',\n",
    "    '30_assigned parking_parking spaces_street parking_car parked',\n",
    "    '31_bedroom_share room_sleep couch_air mattress',\n",
    "    '32_transphobic_trans_lgbtq_family',\n",
    "    '33_clean room_chores_laundry_cleaning',\n",
    "    '34_mum_mental health_relationship_abusive',\n",
    "    '35_sell tickets_concert tickets_pay ticket_ticketmaster',\n",
    "    '36_dress wedding_white dress_bridesmaids_dress code',\n",
    "    '37_matching tattoos_want tattoo_got tattoo_arm',\n",
    "    '38_gifts_gift card_anniversary_spend',\n",
    "    '39_bf_parents_dating_situation',\n",
    "    '3_debt_afford_income_savings',\n",
    "    '40_engagement ring_wedding rings_fiancé_engagement',\n",
    "    '41_painting_sketches_artists_hobby',\n",
    "    '42_lend_owes_debt_gambling',\n",
    "    '43_left lane_traffic_turning_honking',\n",
    "    '44_fence property_neighbors_backyard_hedge',\n",
    "    '45_sing_band_concert_choir',\n",
    "    '46_sleeping_wakes_morning_set alarm',\n",
    "    '47_siblings_mom_relationship_upset',\n",
    "    '48_affair_best friend_married_jim',\n",
    "    '49_payment_waiter_discount_drinks',\n",
    "    '4_custody_pregnancy_stay_upset',\n",
    "    '50_varsity_teammates_volleyball_tournament',\n",
    "    '51_watch shows_wants watch_started watching_watching movie',\n",
    "    '52_brothers_step brother_family_behavior',\n",
    "    '53_pools_children_lifeguard_snorkeling',\n",
    "    '5_meals_eats_foods_dish',\n",
    "    '6_thanksgiving_holidays_celebrate_dinner',\n",
    "    '7_roommate_cleaning_chores_bathroom',\n",
    "    '8_stepdad_parents_siblings_divorce',\n",
    "    '9_roommate_landlord_lease_pay rent',\n",
    "\n",
    "    # ================================================================\n",
    "    # topic keywords\n",
    "    # ================================================================\n",
    "    *keywords,\n",
    "    \n",
    "    # ================================================================\n",
    "    # linguistic\n",
    "    # ================================================================\n",
    "    'demonyms_words_count',\n",
    "    'demonyms_unique_count',\n",
    "    'title_uppercase_count',\n",
    "    'title_word_count',\n",
    "    'title_profanity_count',\n",
    "    'avg_word_length',\n",
    "    'stop_word_count',\n",
    "    'numerics_count',\n",
    "    'uppercase_words_count',\n",
    "    'sentence_count',\n",
    "    'avg_sentence_length',\n",
    "    'profanity_count',\n",
    "\n",
    "    # ================================================================\n",
    "    # demography\n",
    "    # ================================================================\n",
    "    'age',\n",
    "    'gender_F',\n",
    "    'gender_M',\n",
    "    'gender_U',\n",
    "\n",
    "    # ================================================================\n",
    "    # sentiment\n",
    "    # ================================================================\n",
    "    'title_anger',\n",
    "    'title_disgust',\n",
    "    'title_fear',\n",
    "    'title_joy',\n",
    "    'title_others',\n",
    "    'title_sadness',\n",
    "    'title_surprise',\n",
    "    'selftext_anger',\n",
    "    'selftext_disgust',\n",
    "    'selftext_fear',\n",
    "    'selftext_joy',\n",
    "    'selftext_others',\n",
    "    'selftext_sadness',\n",
    "    'selftext_surprise',\n",
    "]].copy()"
   ]
  },
  {
   "cell_type": "code",
   "execution_count": 623,
   "id": "333e8b4b-383e-4dd5-b6be-51c90dd59652",
   "metadata": {},
   "outputs": [
    {
     "data": {
      "text/plain": [
       "(32186, 502)"
      ]
     },
     "execution_count": 623,
     "metadata": {},
     "output_type": "execute_result"
    }
   ],
   "source": [
    "X.shape"
   ]
  },
  {
   "cell_type": "code",
   "execution_count": 624,
   "id": "3586fd37-fd4e-4600-a689-ab0c12d60af5",
   "metadata": {},
   "outputs": [],
   "source": [
    "y = df_use.is_asshole"
   ]
  },
  {
   "cell_type": "code",
   "execution_count": 625,
   "id": "c7170886-0cfe-4d48-a640-8542cf456d61",
   "metadata": {},
   "outputs": [],
   "source": [
    "# full -> train, test\n",
    "X_train, X_test, y_train, y_test = train_test_split(\n",
    "    X, y, test_size=0.2, random_state=42, shuffle=True\n",
    ")\n",
    "\n",
    "# train -> train, val\n",
    "# 0.8 x 0.25 = 0.2\n",
    "X_train, X_val, y_train, y_val = train_test_split(\n",
    "    X_train, y_train, test_size=0.25, random_state=42, shuffle=True\n",
    ")\n",
    "\n",
    "train_data = lgb.Dataset(X_train, label=y_train, free_raw_data=False)\n",
    "val_data = lgb.Dataset(X_val, label=y_val, free_raw_data=False)\n",
    "test_data = lgb.Dataset(X_test, label=y_test, free_raw_data=False)"
   ]
  },
  {
   "cell_type": "code",
   "execution_count": 626,
   "id": "bec7ee62-2b71-441e-ba64-159f0b38898d",
   "metadata": {},
   "outputs": [
    {
     "name": "stdout",
     "output_type": "stream",
     "text": [
      "[LightGBM] [Warning] Found whitespace in feature_names, replace with underlines\n",
      "[LightGBM] [Warning] File train.bin exists, cannot save binary to it\n",
      "[LightGBM] [Warning] Found whitespace in feature_names, replace with underlines\n",
      "[LightGBM] [Warning] File val.bin exists, cannot save binary to it\n",
      "[LightGBM] [Warning] Found whitespace in feature_names, replace with underlines\n",
      "[LightGBM] [Warning] File test.bin exists, cannot save binary to it\n"
     ]
    },
    {
     "data": {
      "text/plain": [
       "<lightgbm.basic.Dataset at 0x154b12090>"
      ]
     },
     "execution_count": 626,
     "metadata": {},
     "output_type": "execute_result"
    }
   ],
   "source": [
    "train_data.save_binary('train.bin')\n",
    "val_data.save_binary('val.bin')\n",
    "test_data.save_binary('test.bin')"
   ]
  },
  {
   "cell_type": "code",
   "execution_count": 627,
   "id": "fd866944-0a6d-44be-8948-2aefecac8695",
   "metadata": {},
   "outputs": [],
   "source": [
    "param = {\n",
    "    'num_leaves': 31,\n",
    "    'objective': 'binary'\n",
    "}"
   ]
  },
  {
   "cell_type": "code",
   "execution_count": 628,
   "id": "143c2a71-5973-4248-af6d-7ec4b1f82154",
   "metadata": {},
   "outputs": [
    {
     "name": "stdout",
     "output_type": "stream",
     "text": [
      "[LightGBM] [Info] Number of positive: 9669, number of negative: 9642\n",
      "[LightGBM] [Info] Auto-choosing col-wise multi-threading, the overhead of testing was 0.025031 seconds.\n",
      "You can set `force_col_wise=true` to remove the overhead.\n",
      "[LightGBM] [Info] Total Bins 5634\n",
      "[LightGBM] [Info] Number of data points in the train set: 19311, number of used features: 502\n",
      "[LightGBM] [Info] [binary:BoostFromScore]: pavg=0.500699 -> initscore=0.002796\n",
      "[LightGBM] [Info] Start training from score 0.002796\n"
     ]
    }
   ],
   "source": [
    "num_round = 1000\n",
    "# bst = lgb.train(param, train_data, num_round, valid_sets=[val_data])\n",
    "bst = lgb.train(param, train_data, num_round)"
   ]
  },
  {
   "cell_type": "code",
   "execution_count": 629,
   "id": "23d73eca-d9f0-4c4a-9ba5-571671f994b2",
   "metadata": {},
   "outputs": [],
   "source": [
    "# lgb.cv(param, train_data, num_round, nfold=5)"
   ]
  },
  {
   "cell_type": "code",
   "execution_count": 630,
   "id": "66f453d4-433b-4177-b061-a35ec66d4d7d",
   "metadata": {},
   "outputs": [],
   "source": [
    "# bst = lgb.train(param, train_data, num_round, valid_sets=valid_sets, callbacks=[lgb.early_stopping(stopping_rounds=5)])"
   ]
  },
  {
   "cell_type": "code",
   "execution_count": 631,
   "id": "e11ef36a-3aa1-4715-82f3-c6eb3d293a0c",
   "metadata": {},
   "outputs": [],
   "source": [
    "ypred = bst.predict(X_test, num_iteration=bst.best_iteration)"
   ]
  },
  {
   "cell_type": "code",
   "execution_count": 632,
   "id": "f180512b-4e4a-45f3-91dc-c1d8f3d90fad",
   "metadata": {},
   "outputs": [],
   "source": [
    "ypred_labels = np.where(ypred >= 0.5, 1, 0)"
   ]
  },
  {
   "cell_type": "code",
   "execution_count": 633,
   "id": "80cb16d1-1cee-4bc8-b66f-63c3178528f4",
   "metadata": {},
   "outputs": [
    {
     "data": {
      "text/plain": [
       "array([1, 0, 1, 1, 0, 1, 1, 0, 1, 1, 1, 1, 1, 1, 0, 1, 0, 0, 0, 0, 0, 0,\n",
       "       0, 0, 1, 1, 1, 0, 0, 0, 1, 1, 0, 1, 0, 1, 0, 0, 0, 0, 1, 0, 0, 0,\n",
       "       1, 0, 1, 1, 1, 1, 1, 1, 0, 0, 1, 0, 0, 0, 0, 0, 1, 1, 0, 1, 1, 1,\n",
       "       1, 1, 1, 0, 0, 1, 1, 0, 0, 1, 0, 1, 0, 0, 0, 1, 1, 1, 0, 0, 1, 1,\n",
       "       1, 0, 0, 0, 0, 0, 0, 0, 0, 1, 1, 1])"
      ]
     },
     "execution_count": 633,
     "metadata": {},
     "output_type": "execute_result"
    }
   ],
   "source": [
    "ypred_labels[:100]"
   ]
  },
  {
   "cell_type": "code",
   "execution_count": 634,
   "id": "c7e37111-05ca-45f0-a1d7-90108beeeb6d",
   "metadata": {},
   "outputs": [
    {
     "data": {
      "text/plain": [
       "array([1, 0, 0, 1, 1, 1, 0, 0, 1, 1, 1, 1, 1, 0, 0, 1, 1, 1, 0, 0, 1, 1,\n",
       "       1, 1, 0, 1, 1, 0, 1, 0, 1, 1, 0, 1, 1, 0, 1, 1, 1, 0, 0, 1, 0, 0,\n",
       "       0, 1, 1, 1, 0, 0, 1, 1, 0, 0, 0, 1, 1, 1, 1, 0, 0, 1, 1, 1, 0, 0,\n",
       "       1, 1, 0, 0, 0, 1, 1, 0, 0, 1, 0, 1, 1, 0, 0, 1, 1, 1, 1, 0, 1, 1,\n",
       "       1, 0, 1, 0, 1, 1, 0, 1, 1, 1, 0, 1])"
      ]
     },
     "execution_count": 634,
     "metadata": {},
     "output_type": "execute_result"
    }
   ],
   "source": [
    "y_test.values[:100]"
   ]
  },
  {
   "cell_type": "code",
   "execution_count": 635,
   "id": "c4d85bca-d6d7-4898-972f-1e563f46a31d",
   "metadata": {},
   "outputs": [
    {
     "name": "stdout",
     "output_type": "stream",
     "text": [
      "True Positives (TP): 1814\n",
      "False Positives (FP): 1404\n",
      "False Negatives (FN): 1392\n",
      "True Negatives (TN): 1828\n"
     ]
    }
   ],
   "source": [
    "cm = confusion_matrix(y_test, ypred_labels)\n",
    "TN, FP, FN, TP = cm.ravel()\n",
    "print(f'True Positives (TP): {TP}')\n",
    "print(f'False Positives (FP): {FP}')\n",
    "print(f'False Negatives (FN): {FN}')\n",
    "print(f'True Negatives (TN): {TN}')"
   ]
  },
  {
   "cell_type": "code",
   "execution_count": 636,
   "id": "9ff87e3f-c6fe-47ce-9e60-f0715971d81c",
   "metadata": {},
   "outputs": [
    {
     "name": "stdout",
     "output_type": "stream",
     "text": [
      "              precision    recall  f1-score   support\n",
      "\n",
      "           0       0.57      0.57      0.57      3232\n",
      "           1       0.56      0.57      0.56      3206\n",
      "\n",
      "    accuracy                           0.57      6438\n",
      "   macro avg       0.57      0.57      0.57      6438\n",
      "weighted avg       0.57      0.57      0.57      6438\n",
      "\n"
     ]
    }
   ],
   "source": [
    "print(classification_report(y_test, ypred_labels))"
   ]
  },
  {
   "cell_type": "markdown",
   "id": "fe1bbebd-1245-4e63-a0d3-68f37bdb0301",
   "metadata": {
    "jp-MarkdownHeadingCollapsed": true
   },
   "source": [
    "#### topic, topic keywords, linguistic, demographic, sentiment\n",
    "\n",
    "```\n",
    "              precision    recall  f1-score   support\n",
    "\n",
    "           0       0.57      0.57      0.57      3232\n",
    "           1       0.56      0.57      0.56      3206\n",
    "\n",
    "    accuracy                           0.57      6438\n",
    "   macro avg       0.57      0.57      0.57      6438\n",
    "weighted avg       0.57      0.57      0.57      6438\n",
    "```\n",
    "\n",
    "### topic\n",
    "\n",
    "```\n",
    "              precision    recall  f1-score   support\n",
    "\n",
    "           0       0.53      0.74      0.62      3232\n",
    "           1       0.56      0.33      0.41      3206\n",
    "\n",
    "    accuracy                           0.54      6438\n",
    "   macro avg       0.54      0.53      0.51      6438\n",
    "weighted avg       0.54      0.54      0.51      6438\n",
    "```\n",
    "\n",
    "### topic keywords\n",
    "\n",
    "```\n",
    "              precision    recall  f1-score   support\n",
    "\n",
    "           0       0.53      0.74      0.62      3232\n",
    "           1       0.56      0.33      0.41      3206\n",
    "\n",
    "    accuracy                           0.54      6438\n",
    "   macro avg       0.54      0.53      0.51      6438\n",
    "weighted avg       0.54      0.54      0.51      6438\n",
    "```\n",
    "\n",
    "#### linguistic\n",
    "\n",
    "```\n",
    "              precision    recall  f1-score   support\n",
    "\n",
    "           0       0.53      0.52      0.52      3232\n",
    "           1       0.52      0.52      0.52      3206\n",
    "\n",
    "    accuracy                           0.52      6438\n",
    "   macro avg       0.52      0.52      0.52      6438\n",
    "weighted avg       0.52      0.52      0.52      6438\n",
    "```\n",
    "\n",
    "#### demography\n",
    "\n",
    "```\n",
    "              precision    recall  f1-score   support\n",
    "\n",
    "           0       0.57      0.47      0.52      3232\n",
    "           1       0.55      0.64      0.59      3206\n",
    "\n",
    "    accuracy                           0.56      6438\n",
    "   macro avg       0.56      0.56      0.55      6438\n",
    "weighted avg       0.56      0.56      0.55      6438\n",
    "```\n",
    "\n",
    "#### sentiment\n",
    "\n",
    "```\n",
    "              precision    recall  f1-score   support\n",
    "\n",
    "           0       0.52      0.53      0.53      3232\n",
    "           1       0.52      0.51      0.52      3206\n",
    "\n",
    "    accuracy                           0.52      6438\n",
    "   macro avg       0.52      0.52      0.52      6438\n",
    "weighted avg       0.52      0.52      0.52      6438\n",
    "```\n"
   ]
  },
  {
   "cell_type": "code",
   "execution_count": 541,
   "id": "0f749de1-dbb2-4181-b6eb-e21d9dd4a97f",
   "metadata": {},
   "outputs": [
    {
     "name": "stderr",
     "output_type": "stream",
     "text": [
      "/Users/thama/Downloads/Reddit/reddit/.venv/lib/python3.11/site-packages/shap/explainers/_tree.py:448: UserWarning: LightGBM binary classifier with TreeExplainer shap values output has changed to a list of ndarray\n",
      "  warnings.warn('LightGBM binary classifier with TreeExplainer shap values output has changed to a list of ndarray')\n"
     ]
    }
   ],
   "source": [
    "explainer = shap.TreeExplainer(bst)\n",
    "shap_values = explainer.shap_values(X_test)"
   ]
  },
  {
   "cell_type": "code",
   "execution_count": 542,
   "id": "29b20445-3904-43e5-b39b-b1fab05b2868",
   "metadata": {},
   "outputs": [
    {
     "data": {
      "image/png": "[encoded data removed]",
      "text/plain": [
       "<Figure size 800x950 with 2 Axes>"
      ]
     },
     "metadata": {},
     "output_type": "display_data"
    }
   ],
   "source": [
    "shap.summary_plot(shap_values, X_test)"
   ]
  },
  {
   "cell_type": "code",
   "execution_count": 543,
   "id": "67c1040a-a3e3-4775-91a8-5b9d5cff2b42",
   "metadata": {},
   "outputs": [
    {
     "data": {
      "text/html": [
       "<div>\n",
       "<style scoped>\n",
       "    .dataframe tbody tr th:only-of-type {\n",
       "        vertical-align: middle;\n",
       "    }\n",
       "\n",
       "    .dataframe tbody tr th {\n",
       "        vertical-align: top;\n",
       "    }\n",
       "\n",
       "    .dataframe thead th {\n",
       "        text-align: right;\n",
       "    }\n",
       "</style>\n",
       "<table border=\"1\" class=\"dataframe\">\n",
       "  <thead>\n",
       "    <tr style=\"text-align: right;\">\n",
       "      <th>gender</th>\n",
       "      <th>F</th>\n",
       "      <th>M</th>\n",
       "      <th>U</th>\n",
       "    </tr>\n",
       "    <tr>\n",
       "      <th>is_asshole</th>\n",
       "      <th></th>\n",
       "      <th></th>\n",
       "      <th></th>\n",
       "    </tr>\n",
       "  </thead>\n",
       "  <tbody>\n",
       "    <tr>\n",
       "      <th>0</th>\n",
       "      <td>27782</td>\n",
       "      <td>11965</td>\n",
       "      <td>18818</td>\n",
       "    </tr>\n",
       "    <tr>\n",
       "      <th>1</th>\n",
       "      <td>6165</td>\n",
       "      <td>4503</td>\n",
       "      <td>5425</td>\n",
       "    </tr>\n",
       "  </tbody>\n",
       "</table>\n",
       "</div>"
      ],
      "text/plain": [
       "gender          F      M      U\n",
       "is_asshole                     \n",
       "0           27782  11965  18818\n",
       "1            6165   4503   5425"
      ]
     },
     "execution_count": 543,
     "metadata": {},
     "output_type": "execute_result"
    }
   ],
   "source": [
    "pivot_table = pd.pivot_table(df[[\"is_asshole\", \"gender\"]], index='is_asshole', columns='gender', aggfunc=len, fill_value=0)\n",
    "pivot_table"
   ]
  },
  {
   "cell_type": "code",
   "execution_count": 544,
   "id": "caa6dff7-02e5-4a67-a585-c2afa6d47321",
   "metadata": {},
   "outputs": [
    {
     "data": {
      "text/html": [
       "<div>\n",
       "<style scoped>\n",
       "    .dataframe tbody tr th:only-of-type {\n",
       "        vertical-align: middle;\n",
       "    }\n",
       "\n",
       "    .dataframe tbody tr th {\n",
       "        vertical-align: top;\n",
       "    }\n",
       "\n",
       "    .dataframe thead th {\n",
       "        text-align: right;\n",
       "    }\n",
       "</style>\n",
       "<table border=\"1\" class=\"dataframe\">\n",
       "  <thead>\n",
       "    <tr style=\"text-align: right;\">\n",
       "      <th>age_floor</th>\n",
       "      <th>10.0</th>\n",
       "      <th>20.0</th>\n",
       "      <th>30.0</th>\n",
       "      <th>40.0</th>\n",
       "      <th>50.0</th>\n",
       "      <th>60.0</th>\n",
       "      <th>70.0</th>\n",
       "      <th>80.0</th>\n",
       "      <th>90.0</th>\n",
       "    </tr>\n",
       "    <tr>\n",
       "      <th>is_asshole</th>\n",
       "      <th></th>\n",
       "      <th></th>\n",
       "      <th></th>\n",
       "      <th></th>\n",
       "      <th></th>\n",
       "      <th></th>\n",
       "      <th></th>\n",
       "      <th></th>\n",
       "      <th></th>\n",
       "    </tr>\n",
       "  </thead>\n",
       "  <tbody>\n",
       "    <tr>\n",
       "      <th>0</th>\n",
       "      <td>9623</td>\n",
       "      <td>16438</td>\n",
       "      <td>5526</td>\n",
       "      <td>1108</td>\n",
       "      <td>340</td>\n",
       "      <td>87</td>\n",
       "      <td>21</td>\n",
       "      <td>4</td>\n",
       "      <td>19</td>\n",
       "    </tr>\n",
       "    <tr>\n",
       "      <th>1</th>\n",
       "      <td>2213</td>\n",
       "      <td>4121</td>\n",
       "      <td>1578</td>\n",
       "      <td>444</td>\n",
       "      <td>162</td>\n",
       "      <td>58</td>\n",
       "      <td>8</td>\n",
       "      <td>4</td>\n",
       "      <td>5</td>\n",
       "    </tr>\n",
       "  </tbody>\n",
       "</table>\n",
       "</div>"
      ],
      "text/plain": [
       "age_floor   10.0   20.0  30.0  40.0  50.0  60.0  70.0  80.0  90.0\n",
       "is_asshole                                                       \n",
       "0           9623  16438  5526  1108   340    87    21     4    19\n",
       "1           2213   4121  1578   444   162    58     8     4     5"
      ]
     },
     "execution_count": 544,
     "metadata": {},
     "output_type": "execute_result"
    }
   ],
   "source": [
    "df[\"age_floor\"] = df.age.apply(lambda x: (x // 10) * 10)\n",
    "pivot_table = pd.pivot_table(df[[\"is_asshole\", \"age_floor\"]], index='is_asshole', columns='age_floor', aggfunc=len, fill_value=0)\n",
    "pivot_table"
   ]
  },
  {
   "cell_type": "code",
   "execution_count": 545,
   "id": "50615484-9407-4e44-9a0d-afdf1c6d6d64",
   "metadata": {},
   "outputs": [
    {
     "data": {
      "text/html": [
       "<div>\n",
       "<style scoped>\n",
       "    .dataframe tbody tr th:only-of-type {\n",
       "        vertical-align: middle;\n",
       "    }\n",
       "\n",
       "    .dataframe tbody tr th {\n",
       "        vertical-align: top;\n",
       "    }\n",
       "\n",
       "    .dataframe thead th {\n",
       "        text-align: right;\n",
       "    }\n",
       "</style>\n",
       "<table border=\"1\" class=\"dataframe\">\n",
       "  <thead>\n",
       "    <tr style=\"text-align: right;\">\n",
       "      <th>age_floor</th>\n",
       "      <th>10.0</th>\n",
       "      <th>20.0</th>\n",
       "      <th>30.0</th>\n",
       "      <th>40.0</th>\n",
       "      <th>50.0</th>\n",
       "      <th>60.0</th>\n",
       "      <th>70.0</th>\n",
       "      <th>80.0</th>\n",
       "      <th>90.0</th>\n",
       "    </tr>\n",
       "    <tr>\n",
       "      <th>is_asshole</th>\n",
       "      <th></th>\n",
       "      <th></th>\n",
       "      <th></th>\n",
       "      <th></th>\n",
       "      <th></th>\n",
       "      <th></th>\n",
       "      <th></th>\n",
       "      <th></th>\n",
       "      <th></th>\n",
       "    </tr>\n",
       "  </thead>\n",
       "  <tbody>\n",
       "    <tr>\n",
       "      <th>0</th>\n",
       "      <td>81.302805</td>\n",
       "      <td>79.955251</td>\n",
       "      <td>77.787162</td>\n",
       "      <td>71.391753</td>\n",
       "      <td>67.729084</td>\n",
       "      <td>60.0</td>\n",
       "      <td>72.413793</td>\n",
       "      <td>50.0</td>\n",
       "      <td>79.166667</td>\n",
       "    </tr>\n",
       "    <tr>\n",
       "      <th>1</th>\n",
       "      <td>18.697195</td>\n",
       "      <td>20.044749</td>\n",
       "      <td>22.212838</td>\n",
       "      <td>28.608247</td>\n",
       "      <td>32.270916</td>\n",
       "      <td>40.0</td>\n",
       "      <td>27.586207</td>\n",
       "      <td>50.0</td>\n",
       "      <td>20.833333</td>\n",
       "    </tr>\n",
       "  </tbody>\n",
       "</table>\n",
       "</div>"
      ],
      "text/plain": [
       "age_floor        10.0       20.0       30.0       40.0       50.0  60.0  \\\n",
       "is_asshole                                                                \n",
       "0           81.302805  79.955251  77.787162  71.391753  67.729084  60.0   \n",
       "1           18.697195  20.044749  22.212838  28.608247  32.270916  40.0   \n",
       "\n",
       "age_floor        70.0  80.0       90.0  \n",
       "is_asshole                              \n",
       "0           72.413793  50.0  79.166667  \n",
       "1           27.586207  50.0  20.833333  "
      ]
     },
     "execution_count": 545,
     "metadata": {},
     "output_type": "execute_result"
    }
   ],
   "source": [
    "pivot_table_percentage = pivot_table.div(pivot_table.sum(axis=0), axis=1) * 100\n",
    "pivot_table_percentage"
   ]
  },
  {
   "cell_type": "code",
   "execution_count": 546,
   "id": "df15ed5a-e732-41a8-bfc0-56ba16f6b982",
   "metadata": {},
   "outputs": [
    {
     "data": {
      "text/html": [
       "<div>\n",
       "<style scoped>\n",
       "    .dataframe tbody tr th:only-of-type {\n",
       "        vertical-align: middle;\n",
       "    }\n",
       "\n",
       "    .dataframe tbody tr th {\n",
       "        vertical-align: top;\n",
       "    }\n",
       "\n",
       "    .dataframe thead th {\n",
       "        text-align: right;\n",
       "    }\n",
       "</style>\n",
       "<table border=\"1\" class=\"dataframe\">\n",
       "  <thead>\n",
       "    <tr style=\"text-align: right;\">\n",
       "      <th>age_floor</th>\n",
       "      <th>10.0</th>\n",
       "      <th>20.0</th>\n",
       "      <th>30.0</th>\n",
       "      <th>40.0</th>\n",
       "      <th>50.0</th>\n",
       "      <th>60.0</th>\n",
       "      <th>70.0</th>\n",
       "      <th>80.0</th>\n",
       "      <th>90.0</th>\n",
       "    </tr>\n",
       "    <tr>\n",
       "      <th>is_asshole</th>\n",
       "      <th></th>\n",
       "      <th></th>\n",
       "      <th></th>\n",
       "      <th></th>\n",
       "      <th></th>\n",
       "      <th></th>\n",
       "      <th></th>\n",
       "      <th></th>\n",
       "      <th></th>\n",
       "    </tr>\n",
       "  </thead>\n",
       "  <tbody>\n",
       "    <tr>\n",
       "      <th>0</th>\n",
       "      <td>81.302805</td>\n",
       "      <td>79.955251</td>\n",
       "      <td>77.787162</td>\n",
       "      <td>71.391753</td>\n",
       "      <td>67.729084</td>\n",
       "      <td>60.0</td>\n",
       "      <td>72.413793</td>\n",
       "      <td>50.0</td>\n",
       "      <td>79.166667</td>\n",
       "    </tr>\n",
       "    <tr>\n",
       "      <th>1</th>\n",
       "      <td>18.697195</td>\n",
       "      <td>20.044749</td>\n",
       "      <td>22.212838</td>\n",
       "      <td>28.608247</td>\n",
       "      <td>32.270916</td>\n",
       "      <td>40.0</td>\n",
       "      <td>27.586207</td>\n",
       "      <td>50.0</td>\n",
       "      <td>20.833333</td>\n",
       "    </tr>\n",
       "  </tbody>\n",
       "</table>\n",
       "</div>"
      ],
      "text/plain": [
       "age_floor        10.0       20.0       30.0       40.0       50.0  60.0  \\\n",
       "is_asshole                                                                \n",
       "0           81.302805  79.955251  77.787162  71.391753  67.729084  60.0   \n",
       "1           18.697195  20.044749  22.212838  28.608247  32.270916  40.0   \n",
       "\n",
       "age_floor        70.0  80.0       90.0  \n",
       "is_asshole                              \n",
       "0           72.413793  50.0  79.166667  \n",
       "1           27.586207  50.0  20.833333  "
      ]
     },
     "execution_count": 546,
     "metadata": {},
     "output_type": "execute_result"
    }
   ],
   "source": [
    "pivot_table_percentage = pivot_table.div(pivot_table.sum(axis=0), axis=1) * 100\n",
    "pivot_table_percentage"
   ]
  },
  {
   "cell_type": "code",
   "execution_count": null,
   "id": "3dd8b057-a8df-4b7e-bb9d-bd4833d4f271",
   "metadata": {},
   "outputs": [],
   "source": []
  }
 ],
 "metadata": {
  "kernelspec": {
   "display_name": "Python 3 (ipykernel)",
   "language": "python",
   "name": "python3"
  },
  "language_info": {
   "codemirror_mode": {
    "name": "ipython",
    "version": 3
   },
   "file_extension": ".py",
   "mimetype": "text/x-python",
   "name": "python",
   "nbconvert_exporter": "python",
   "pygments_lexer": "ipython3",
   "version": "3.11.5"
  }
 },
 "nbformat": 4,
 "nbformat_minor": 5
}
