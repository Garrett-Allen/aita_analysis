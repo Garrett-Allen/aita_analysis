{
 "cells": [
  {
   "cell_type": "code",
   "execution_count": 1,
   "id": "9a27821c-972f-4186-bfa9-112d308360ea",
   "metadata": {},
   "outputs": [],
   "source": [
    "import pandas as pd\n",
    "import numpy as np\n",
    "import matplotlib.pyplot as plt\n",
    "%matplotlib inline\n",
    "\n",
    "import pyspark\n",
    "from pyspark.sql import SparkSession\n",
    "# from pyspark.sql.types import *\n",
    "# from pyspark.sql.functions import *\n",
    "from pyspark import SparkContext, SparkConf"
   ]
  },
  {
   "cell_type": "code",
   "execution_count": 3,
   "id": "af996abb-cbfd-49d0-90e4-1ebe46901d51",
   "metadata": {},
   "outputs": [
    {
     "name": "stderr",
     "output_type": "stream",
     "text": [
      "24/05/04 13:53:26 WARN Utils: Your hostname, Kiraras-MacBook-Air.local resolves to a loopback address: 127.0.0.1; using 172.16.3.200 instead (on interface en0)\n",
      "24/05/04 13:53:26 WARN Utils: Set SPARK_LOCAL_IP if you need to bind to another address\n",
      "Setting default log level to \"WARN\".\n",
      "To adjust logging level use sc.setLogLevel(newLevel). For SparkR, use setLogLevel(newLevel).\n",
      "24/05/04 13:53:26 WARN NativeCodeLoader: Unable to load native-hadoop library for your platform... using builtin-java classes where applicable\n"
     ]
    }
   ],
   "source": [
    "# create the session\n",
    "conf = SparkConf().set(\"spark.ui.port\", \"4050\")\n",
    "\n",
    "# create the context\n",
    "sc = pyspark.SparkContext(conf=conf)\n",
    "spark = SparkSession.builder.getOrCreate()"
   ]
  },
  {
   "cell_type": "code",
   "execution_count": 4,
   "id": "6f577ff5-8795-4e08-8c93-1c3b45e9faf4",
   "metadata": {},
   "outputs": [],
   "source": [
    "import pandas as pd\n",
    "\n",
    "df = pd.read_parquet(\"labeled_post.parquet\")"
   ]
  },
  {
   "cell_type": "code",
   "execution_count": 5,
   "id": "343c496e-c04a-4a88-9f82-12e55fd9bd4b",
   "metadata": {},
   "outputs": [
    {
     "data": {
      "text/plain": [
       "80571"
      ]
     },
     "execution_count": 5,
     "metadata": {},
     "output_type": "execute_result"
    },
    {
     "name": "stderr",
     "output_type": "stream",
     "text": [
      "24/05/04 13:53:41 WARN GarbageCollectionMetrics: To enable non-built-in garbage collector(s) List(G1 Concurrent GC), users should configure it(them) to spark.eventLog.gcMetrics.youngGenerationGarbageCollectors or spark.eventLog.gcMetrics.oldGenerationGarbageCollectors\n"
     ]
    }
   ],
   "source": [
    "len(df)"
   ]
  },
  {
   "cell_type": "code",
   "execution_count": 7,
   "id": "32d399e2-9078-4e76-a2db-68b245808275",
   "metadata": {},
   "outputs": [],
   "source": [
    "df_small = df[:1000].copy()"
   ]
  },
  {
   "cell_type": "code",
   "execution_count": 8,
   "id": "6266c09c-de03-427f-960a-f15d86886f4d",
   "metadata": {},
   "outputs": [
    {
     "name": "stderr",
     "output_type": "stream",
     "text": [
      "/Users/kirarak/.pyenv/versions/3.11.5/lib/python3.11/site-packages/pyspark/sql/pandas/conversion.py:485: FutureWarning: is_datetime64tz_dtype is deprecated and will be removed in a future version. Check `isinstance(dtype, pd.DatetimeTZDtype)` instead.\n",
      "  if should_localize and is_datetime64tz_dtype(s.dtype) and s.dt.tz is not None:\n"
     ]
    }
   ],
   "source": [
    "sdf = spark.createDataFrame(df[['id', 'title', 'selftext']])"
   ]
  },
  {
   "cell_type": "code",
   "execution_count": 9,
   "id": "5f91fe85-a672-4640-928d-958dabbafc3b",
   "metadata": {},
   "outputs": [
    {
     "name": "stderr",
     "output_type": "stream",
     "text": [
      "/Users/kirarak/.pyenv/versions/3.11.5/lib/python3.11/site-packages/pyspark/sql/pandas/conversion.py:485: FutureWarning: is_datetime64tz_dtype is deprecated and will be removed in a future version. Check `isinstance(dtype, pd.DatetimeTZDtype)` instead.\n",
      "  if should_localize and is_datetime64tz_dtype(s.dtype) and s.dt.tz is not None:\n"
     ]
    }
   ],
   "source": [
    "sdf_small = spark.createDataFrame(df_small[['id', 'title', 'selftext']])"
   ]
  },
  {
   "cell_type": "markdown",
   "id": "ca5d697a-5a37-48a7-9575-c0276eaea9bf",
   "metadata": {},
   "source": [
    "# Demonym"
   ]
  },
  {
   "cell_type": "code",
   "execution_count": 10,
   "id": "e65f09ff-58a4-437d-bc55-081f53f21719",
   "metadata": {},
   "outputs": [],
   "source": [
    "# demonym library\n",
    "# https://github.com/porimol/countryinfo?tab=readme-ov-file\n",
    "# !pip install countryinfo"
   ]
  },
  {
   "cell_type": "code",
   "execution_count": 11,
   "id": "0b21af3a-3929-40a8-ba37-91100a358957",
   "metadata": {},
   "outputs": [],
   "source": [
    "from countryinfo import CountryInfo\n",
    "\n",
    "country = CountryInfo()\n",
    "countries = country.all()"
   ]
  },
  {
   "cell_type": "code",
   "execution_count": 12,
   "id": "1166e159-8fe7-441e-9296-df7dda8904b6",
   "metadata": {},
   "outputs": [
    {
     "data": {
      "text/plain": [
       "234"
      ]
     },
     "execution_count": 12,
     "metadata": {},
     "output_type": "execute_result"
    }
   ],
   "source": [
    "len(countries)"
   ]
  },
  {
   "cell_type": "code",
   "execution_count": 13,
   "id": "7973ce39-a05c-44b4-a473-d302d9129dc9",
   "metadata": {},
   "outputs": [],
   "source": [
    "# countries['japan']"
   ]
  },
  {
   "cell_type": "code",
   "execution_count": 14,
   "id": "4d3c4047-9464-4ae3-856e-5512fd557083",
   "metadata": {},
   "outputs": [
    {
     "data": {
      "text/plain": [
       "'Japanese'"
      ]
     },
     "execution_count": 14,
     "metadata": {},
     "output_type": "execute_result"
    }
   ],
   "source": [
    "countries['japan']['demonym']"
   ]
  },
  {
   "cell_type": "code",
   "execution_count": 15,
   "id": "e7a2c8d0-b7d9-4215-a77f-d5bb26180010",
   "metadata": {},
   "outputs": [],
   "source": [
    "demonyms = {}\n",
    "for country, info in countries.items():\n",
    "    country_name = country.lower()\n",
    "    demonym = info.get('demonym', '').lower()\n",
    "\n",
    "    if demonym:\n",
    "        demonyms[demonym] = demonym\n",
    "    demonyms[country_name] = demonym"
   ]
  },
  {
   "cell_type": "code",
   "execution_count": 16,
   "id": "dc6470c8-efde-4394-b588-a658af84752a",
   "metadata": {},
   "outputs": [],
   "source": [
    "import re\n",
    "from collections import defaultdict\n",
    "\n",
    "\n",
    "def clean(text):\n",
    "    clean_text = text.lower()\n",
    "    clean_text = re.sub(r\"[()/,.\\s]\", \" \", clean_text)\n",
    "    clean_text = re.sub(r\"\\s{2,}\", \" \", clean_text)\n",
    "    return clean_text\n",
    "\n",
    "\n",
    "def count_demonyms(row):\n",
    "    text = row[\"selftext\"]\n",
    "    words = clean(text).split()\n",
    "    word_index = defaultdict(set)\n",
    "    for i, word in enumerate(words):\n",
    "        word_index[word].add(i)\n",
    "\n",
    "    demonym_index = defaultdict(list)\n",
    "    for word, index in word_index.items():\n",
    "        for demonym_word, demonym in demonyms.items():\n",
    "            if word == demonym_word:\n",
    "                demonym_index[demonym] += list(index)\n",
    "\n",
    "    demonym_counts = {k:len(set(v)) for k, v in demonym_index.items()}\n",
    "    return (row[\"id\"], demonym_counts)"
   ]
  },
  {
   "cell_type": "code",
   "execution_count": 17,
   "id": "ebc79674-8c4f-4c81-a10f-c2d2464ab95f",
   "metadata": {},
   "outputs": [
    {
     "name": "stdout",
     "output_type": "stream",
     "text": [
      "CPU times: user 2 µs, sys: 1 µs, total: 3 µs\n",
      "Wall time: 7.15 µs\n"
     ]
    }
   ],
   "source": [
    "%%time\n",
    "# 5min\n",
    "# df['demonyms'] = df.selftext.apply(count_demonyms)"
   ]
  },
  {
   "cell_type": "code",
   "execution_count": 18,
   "id": "501ee569-3e3d-4c26-93d3-90e9c95375ff",
   "metadata": {},
   "outputs": [
    {
     "name": "stderr",
     "output_type": "stream",
     "text": [
      "24/05/04 13:57:18 WARN TaskSetManager: Stage 0 contains a task of very large size (15259 KiB). The maximum recommended task size is 1000 KiB.\n",
      "[Stage 0:====================================>                      (5 + 3) / 8]\r"
     ]
    },
    {
     "name": "stdout",
     "output_type": "stream",
     "text": [
      "CPU times: user 53.2 ms, sys: 11.3 ms, total: 64.5 ms\n",
      "Wall time: 24.8 s\n"
     ]
    },
    {
     "name": "stderr",
     "output_type": "stream",
     "text": [
      "                                                                                \r"
     ]
    }
   ],
   "source": [
    "%%time\n",
    "# 1m14s\n",
    "demonyms_results = sdf.rdd.map(count_demonyms).collect()"
   ]
  },
  {
   "cell_type": "code",
   "execution_count": 19,
   "id": "45a798e3-ce3f-4bc5-a981-4c6c07a8b870",
   "metadata": {},
   "outputs": [
    {
     "data": {
      "text/plain": [
       "80571"
      ]
     },
     "execution_count": 19,
     "metadata": {},
     "output_type": "execute_result"
    }
   ],
   "source": [
    "len(demonyms_results)"
   ]
  },
  {
   "cell_type": "code",
   "execution_count": 20,
   "id": "e34fcf0f-73ba-4070-90b0-142df13b2f4c",
   "metadata": {},
   "outputs": [
    {
     "data": {
      "text/html": [
       "<div>\n",
       "<style scoped>\n",
       "    .dataframe tbody tr th:only-of-type {\n",
       "        vertical-align: middle;\n",
       "    }\n",
       "\n",
       "    .dataframe tbody tr th {\n",
       "        vertical-align: top;\n",
       "    }\n",
       "\n",
       "    .dataframe thead th {\n",
       "        text-align: right;\n",
       "    }\n",
       "</style>\n",
       "<table border=\"1\" class=\"dataframe\">\n",
       "  <thead>\n",
       "    <tr style=\"text-align: right;\">\n",
       "      <th></th>\n",
       "      <th>id</th>\n",
       "      <th>demonyms</th>\n",
       "    </tr>\n",
       "  </thead>\n",
       "  <tbody>\n",
       "    <tr>\n",
       "      <th>0</th>\n",
       "      <td>1284npp</td>\n",
       "      <td>{}</td>\n",
       "    </tr>\n",
       "    <tr>\n",
       "      <th>1</th>\n",
       "      <td>1284q84</td>\n",
       "      <td>{}</td>\n",
       "    </tr>\n",
       "    <tr>\n",
       "      <th>2</th>\n",
       "      <td>1284sqm</td>\n",
       "      <td>{}</td>\n",
       "    </tr>\n",
       "    <tr>\n",
       "      <th>3</th>\n",
       "      <td>1284trz</td>\n",
       "      <td>{}</td>\n",
       "    </tr>\n",
       "    <tr>\n",
       "      <th>4</th>\n",
       "      <td>128509j</td>\n",
       "      <td>{}</td>\n",
       "    </tr>\n",
       "  </tbody>\n",
       "</table>\n",
       "</div>"
      ],
      "text/plain": [
       "        id demonyms\n",
       "0  1284npp       {}\n",
       "1  1284q84       {}\n",
       "2  1284sqm       {}\n",
       "3  1284trz       {}\n",
       "4  128509j       {}"
      ]
     },
     "execution_count": 20,
     "metadata": {},
     "output_type": "execute_result"
    }
   ],
   "source": [
    "df_demonyms = pd.DataFrame(demonyms_results, columns=[\"id\", \"demonyms\"])\n",
    "df_demonyms.head()"
   ]
  },
  {
   "cell_type": "code",
   "execution_count": 21,
   "id": "ba4d8705-6481-4f8f-a93c-2dc4790e2f93",
   "metadata": {},
   "outputs": [],
   "source": [
    "df = df.merge(df_demonyms, left_on=\"id\", right_on=\"id\")"
   ]
  },
  {
   "cell_type": "code",
   "execution_count": 22,
   "id": "5e52333a-0fb4-427d-b461-3e0a8800a0b8",
   "metadata": {},
   "outputs": [],
   "source": [
    "df['demonyms_words_count'] = df.demonyms.apply(lambda x: sum(x.values()))"
   ]
  },
  {
   "cell_type": "code",
   "execution_count": 23,
   "id": "a588cf3f-6e66-4d94-bebe-e8084608b790",
   "metadata": {},
   "outputs": [
    {
     "data": {
      "text/html": [
       "<div>\n",
       "<style scoped>\n",
       "    .dataframe tbody tr th:only-of-type {\n",
       "        vertical-align: middle;\n",
       "    }\n",
       "\n",
       "    .dataframe tbody tr th {\n",
       "        vertical-align: top;\n",
       "    }\n",
       "\n",
       "    .dataframe thead th {\n",
       "        text-align: right;\n",
       "    }\n",
       "</style>\n",
       "<table border=\"1\" class=\"dataframe\">\n",
       "  <thead>\n",
       "    <tr style=\"text-align: right;\">\n",
       "      <th></th>\n",
       "      <th>link_flair_text</th>\n",
       "      <th>num_comments</th>\n",
       "      <th>over_18</th>\n",
       "      <th>score</th>\n",
       "      <th>url</th>\n",
       "      <th>selftext</th>\n",
       "      <th>title</th>\n",
       "      <th>id</th>\n",
       "      <th>edited</th>\n",
       "      <th>is_self</th>\n",
       "      <th>permalink</th>\n",
       "      <th>downs</th>\n",
       "      <th>ups</th>\n",
       "      <th>created</th>\n",
       "      <th>date</th>\n",
       "      <th>demonyms</th>\n",
       "      <th>demonyms_words_count</th>\n",
       "    </tr>\n",
       "  </thead>\n",
       "  <tbody>\n",
       "    <tr>\n",
       "      <th>45930</th>\n",
       "      <td>Not the A-hole</td>\n",
       "      <td>1</td>\n",
       "      <td>False</td>\n",
       "      <td>1</td>\n",
       "      <td>https://www.reddit.com/r/AmItheAsshole/comment...</td>\n",
       "      <td>I'm German and I was traveling last weekend th...</td>\n",
       "      <td>AITA for telling an american guy that he shoul...</td>\n",
       "      <td>15y7mlh</td>\n",
       "      <td>0.0</td>\n",
       "      <td>True</td>\n",
       "      <td>/r/AmItheAsshole/comments/15y7mlh/aita_for_tel...</td>\n",
       "      <td>0.0</td>\n",
       "      <td>1</td>\n",
       "      <td>1.692715e+09</td>\n",
       "      <td>2023-08-22</td>\n",
       "      <td>{'german': 16, 'spanish': 1, 'american': 6}</td>\n",
       "      <td>23</td>\n",
       "    </tr>\n",
       "    <tr>\n",
       "      <th>10170</th>\n",
       "      <td>Not the A-hole</td>\n",
       "      <td>37</td>\n",
       "      <td>False</td>\n",
       "      <td>36</td>\n",
       "      <td>https://www.reddit.com/r/AmItheAsshole/comment...</td>\n",
       "      <td>My wife's dad is Spanish and she lived a few y...</td>\n",
       "      <td>AITA for asking my wife to ask her Spanish spe...</td>\n",
       "      <td>139191v</td>\n",
       "      <td>0.0</td>\n",
       "      <td>True</td>\n",
       "      <td>/r/AmItheAsshole/comments/139191v/aita_for_ask...</td>\n",
       "      <td>0.0</td>\n",
       "      <td>36</td>\n",
       "      <td>1.683320e+09</td>\n",
       "      <td>2023-05-05</td>\n",
       "      <td>{'spanish': 12, 'swedish': 10}</td>\n",
       "      <td>22</td>\n",
       "    </tr>\n",
       "    <tr>\n",
       "      <th>53145</th>\n",
       "      <td>Asshole</td>\n",
       "      <td>1</td>\n",
       "      <td>False</td>\n",
       "      <td>1</td>\n",
       "      <td>https://www.reddit.com/r/AmItheAsshole/comment...</td>\n",
       "      <td>I am going to write this as neutral as possibl...</td>\n",
       "      <td>AITA for being upset that my spouse spent $15,...</td>\n",
       "      <td>16g9jjf</td>\n",
       "      <td>0.0</td>\n",
       "      <td>True</td>\n",
       "      <td>/r/AmItheAsshole/comments/16g9jjf/aita_for_bei...</td>\n",
       "      <td>0.0</td>\n",
       "      <td>1</td>\n",
       "      <td>1.694471e+09</td>\n",
       "      <td>2023-09-11</td>\n",
       "      <td>{'jordanian': 22}</td>\n",
       "      <td>22</td>\n",
       "    </tr>\n",
       "    <tr>\n",
       "      <th>27581</th>\n",
       "      <td>No A-holes here</td>\n",
       "      <td>51</td>\n",
       "      <td>False</td>\n",
       "      <td>8</td>\n",
       "      <td>https://www.reddit.com/r/AmItheAsshole/comment...</td>\n",
       "      <td>My partner (23F) and I (21F) are travelling in...</td>\n",
       "      <td>AITA for asking my partner to stop insulting B...</td>\n",
       "      <td>14qu5rx</td>\n",
       "      <td>0.0</td>\n",
       "      <td>True</td>\n",
       "      <td>/r/AmItheAsshole/comments/14qu5rx/aita_for_ask...</td>\n",
       "      <td>0.0</td>\n",
       "      <td>8</td>\n",
       "      <td>1.688513e+09</td>\n",
       "      <td>2023-07-04</td>\n",
       "      <td>{'spanish': 5, 'british': 5, 'french': 3, 'iri...</td>\n",
       "      <td>22</td>\n",
       "    </tr>\n",
       "    <tr>\n",
       "      <th>76170</th>\n",
       "      <td>Everyone Sucks</td>\n",
       "      <td>19</td>\n",
       "      <td>False</td>\n",
       "      <td>6</td>\n",
       "      <td>https://www.reddit.com/r/AmItheAsshole/comment...</td>\n",
       "      <td>I am from Tuva, its a republic within Russia t...</td>\n",
       "      <td>AITA for calling someone at my university a du...</td>\n",
       "      <td>18cydj7</td>\n",
       "      <td>0.0</td>\n",
       "      <td>True</td>\n",
       "      <td>/r/AmItheAsshole/comments/18cydj7/aita_for_cal...</td>\n",
       "      <td>0.0</td>\n",
       "      <td>6</td>\n",
       "      <td>1.701964e+09</td>\n",
       "      <td>2023-12-07</td>\n",
       "      <td>{'russian': 8, 'mongolian': 2, 'czech': 3, 'tu...</td>\n",
       "      <td>22</td>\n",
       "    </tr>\n",
       "  </tbody>\n",
       "</table>\n",
       "</div>"
      ],
      "text/plain": [
       "       link_flair_text  num_comments  over_18  score  \\\n",
       "45930   Not the A-hole             1    False      1   \n",
       "10170   Not the A-hole            37    False     36   \n",
       "53145          Asshole             1    False      1   \n",
       "27581  No A-holes here            51    False      8   \n",
       "76170   Everyone Sucks            19    False      6   \n",
       "\n",
       "                                                     url  \\\n",
       "45930  https://www.reddit.com/r/AmItheAsshole/comment...   \n",
       "10170  https://www.reddit.com/r/AmItheAsshole/comment...   \n",
       "53145  https://www.reddit.com/r/AmItheAsshole/comment...   \n",
       "27581  https://www.reddit.com/r/AmItheAsshole/comment...   \n",
       "76170  https://www.reddit.com/r/AmItheAsshole/comment...   \n",
       "\n",
       "                                                selftext  \\\n",
       "45930  I'm German and I was traveling last weekend th...   \n",
       "10170  My wife's dad is Spanish and she lived a few y...   \n",
       "53145  I am going to write this as neutral as possibl...   \n",
       "27581  My partner (23F) and I (21F) are travelling in...   \n",
       "76170  I am from Tuva, its a republic within Russia t...   \n",
       "\n",
       "                                                   title       id  edited  \\\n",
       "45930  AITA for telling an american guy that he shoul...  15y7mlh     0.0   \n",
       "10170  AITA for asking my wife to ask her Spanish spe...  139191v     0.0   \n",
       "53145  AITA for being upset that my spouse spent $15,...  16g9jjf     0.0   \n",
       "27581  AITA for asking my partner to stop insulting B...  14qu5rx     0.0   \n",
       "76170  AITA for calling someone at my university a du...  18cydj7     0.0   \n",
       "\n",
       "       is_self                                          permalink  downs  ups  \\\n",
       "45930     True  /r/AmItheAsshole/comments/15y7mlh/aita_for_tel...    0.0    1   \n",
       "10170     True  /r/AmItheAsshole/comments/139191v/aita_for_ask...    0.0   36   \n",
       "53145     True  /r/AmItheAsshole/comments/16g9jjf/aita_for_bei...    0.0    1   \n",
       "27581     True  /r/AmItheAsshole/comments/14qu5rx/aita_for_ask...    0.0    8   \n",
       "76170     True  /r/AmItheAsshole/comments/18cydj7/aita_for_cal...    0.0    6   \n",
       "\n",
       "            created        date  \\\n",
       "45930  1.692715e+09  2023-08-22   \n",
       "10170  1.683320e+09  2023-05-05   \n",
       "53145  1.694471e+09  2023-09-11   \n",
       "27581  1.688513e+09  2023-07-04   \n",
       "76170  1.701964e+09  2023-12-07   \n",
       "\n",
       "                                                demonyms  demonyms_words_count  \n",
       "45930        {'german': 16, 'spanish': 1, 'american': 6}                    23  \n",
       "10170                     {'spanish': 12, 'swedish': 10}                    22  \n",
       "53145                                  {'jordanian': 22}                    22  \n",
       "27581  {'spanish': 5, 'british': 5, 'french': 3, 'iri...                    22  \n",
       "76170  {'russian': 8, 'mongolian': 2, 'czech': 3, 'tu...                    22  "
      ]
     },
     "execution_count": 23,
     "metadata": {},
     "output_type": "execute_result"
    }
   ],
   "source": [
    "df.sort_values(by=\"demonyms_words_count\", ascending=False).head()"
   ]
  },
  {
   "cell_type": "code",
   "execution_count": 24,
   "id": "8032e2fe-c240-4cd1-9e1d-6b5cd0841be4",
   "metadata": {},
   "outputs": [
    {
     "data": {
      "text/html": [
       "<div>\n",
       "<style scoped>\n",
       "    .dataframe tbody tr th:only-of-type {\n",
       "        vertical-align: middle;\n",
       "    }\n",
       "\n",
       "    .dataframe tbody tr th {\n",
       "        vertical-align: top;\n",
       "    }\n",
       "\n",
       "    .dataframe thead th {\n",
       "        text-align: right;\n",
       "    }\n",
       "</style>\n",
       "<table border=\"1\" class=\"dataframe\">\n",
       "  <thead>\n",
       "    <tr style=\"text-align: right;\">\n",
       "      <th></th>\n",
       "      <th>0</th>\n",
       "    </tr>\n",
       "    <tr>\n",
       "      <th>demonyms_words_count</th>\n",
       "      <th></th>\n",
       "    </tr>\n",
       "  </thead>\n",
       "  <tbody>\n",
       "    <tr>\n",
       "      <th>0</th>\n",
       "      <td>75830</td>\n",
       "    </tr>\n",
       "    <tr>\n",
       "      <th>1</th>\n",
       "      <td>2835</td>\n",
       "    </tr>\n",
       "    <tr>\n",
       "      <th>2</th>\n",
       "      <td>886</td>\n",
       "    </tr>\n",
       "    <tr>\n",
       "      <th>3</th>\n",
       "      <td>374</td>\n",
       "    </tr>\n",
       "    <tr>\n",
       "      <th>4</th>\n",
       "      <td>224</td>\n",
       "    </tr>\n",
       "  </tbody>\n",
       "</table>\n",
       "</div>"
      ],
      "text/plain": [
       "                          0\n",
       "demonyms_words_count       \n",
       "0                     75830\n",
       "1                      2835\n",
       "2                       886\n",
       "3                       374\n",
       "4                       224"
      ]
     },
     "execution_count": 24,
     "metadata": {},
     "output_type": "execute_result"
    }
   ],
   "source": [
    "df.groupby(by=\"demonyms_words_count\").size().to_frame().head()"
   ]
  },
  {
   "cell_type": "code",
   "execution_count": 25,
   "id": "6ffc0fe9-ba1e-4c1a-87ff-0b0edc027b8f",
   "metadata": {},
   "outputs": [
    {
     "data": {
      "text/plain": [
       "(4741, 75830, 80571)"
      ]
     },
     "execution_count": 25,
     "metadata": {},
     "output_type": "execute_result"
    }
   ],
   "source": [
    "len(df.loc[df.demonyms_words_count > 0]), len(df.loc[df.demonyms_words_count == 0]), len(df)"
   ]
  },
  {
   "cell_type": "code",
   "execution_count": 26,
   "id": "f4159f8a-57dc-481d-9441-128fec000754",
   "metadata": {},
   "outputs": [
    {
     "data": {
      "text/plain": [
       "5.884251157364313"
      ]
     },
     "execution_count": 26,
     "metadata": {},
     "output_type": "execute_result"
    }
   ],
   "source": [
    "100 * len(df.loc[df.demonyms_words_count > 0]) / len(df)"
   ]
  },
  {
   "cell_type": "code",
   "execution_count": 27,
   "id": "45fe7a72-d3de-48b6-807d-b105c6a158dd",
   "metadata": {},
   "outputs": [
    {
     "data": {
      "text/plain": [
       "<Axes: xlabel='demonyms_words_count'>"
      ]
     },
     "execution_count": 27,
     "metadata": {},
     "output_type": "execute_result"
    },
    {
     "data": {
      "image/png": "[encoded data removed]",
      "text/plain": [
       "<Figure size 640x480 with 1 Axes>"
      ]
     },
     "metadata": {},
     "output_type": "display_data"
    }
   ],
   "source": [
    "df.groupby(by=\"demonyms_words_count\").size().to_frame().plot.bar()"
   ]
  },
  {
   "cell_type": "code",
   "execution_count": 28,
   "id": "986b0680-1907-47e2-b3b3-bcefe250df00",
   "metadata": {},
   "outputs": [
    {
     "data": {
      "text/plain": [
       "<Axes: xlabel='demonyms_words_count'>"
      ]
     },
     "execution_count": 28,
     "metadata": {},
     "output_type": "execute_result"
    },
    {
     "data": {
      "image/png": "[encoded data removed]",
      "text/plain": [
       "<Figure size 640x480 with 1 Axes>"
      ]
     },
     "metadata": {},
     "output_type": "display_data"
    }
   ],
   "source": [
    "df.loc[df.demonyms_words_count > 0].groupby(by=\"demonyms_words_count\").size().to_frame().plot.bar()"
   ]
  },
  {
   "cell_type": "code",
   "execution_count": 29,
   "id": "45fd1a7c-fb97-4b91-a905-b31e8a4cf1e6",
   "metadata": {},
   "outputs": [],
   "source": [
    "df['demonyms_unique_count'] = df.demonyms.apply(lambda x: len(x.keys()))"
   ]
  },
  {
   "cell_type": "code",
   "execution_count": 30,
   "id": "de50b174-44f1-418f-bc9a-42702ff39e4c",
   "metadata": {},
   "outputs": [
    {
     "data": {
      "text/html": [
       "<div>\n",
       "<style scoped>\n",
       "    .dataframe tbody tr th:only-of-type {\n",
       "        vertical-align: middle;\n",
       "    }\n",
       "\n",
       "    .dataframe tbody tr th {\n",
       "        vertical-align: top;\n",
       "    }\n",
       "\n",
       "    .dataframe thead th {\n",
       "        text-align: right;\n",
       "    }\n",
       "</style>\n",
       "<table border=\"1\" class=\"dataframe\">\n",
       "  <thead>\n",
       "    <tr style=\"text-align: right;\">\n",
       "      <th></th>\n",
       "      <th>link_flair_text</th>\n",
       "      <th>num_comments</th>\n",
       "      <th>over_18</th>\n",
       "      <th>score</th>\n",
       "      <th>url</th>\n",
       "      <th>selftext</th>\n",
       "      <th>title</th>\n",
       "      <th>id</th>\n",
       "      <th>edited</th>\n",
       "      <th>is_self</th>\n",
       "      <th>permalink</th>\n",
       "      <th>downs</th>\n",
       "      <th>ups</th>\n",
       "      <th>created</th>\n",
       "      <th>date</th>\n",
       "      <th>demonyms</th>\n",
       "      <th>demonyms_words_count</th>\n",
       "      <th>demonyms_unique_count</th>\n",
       "    </tr>\n",
       "  </thead>\n",
       "  <tbody>\n",
       "    <tr>\n",
       "      <th>76170</th>\n",
       "      <td>Everyone Sucks</td>\n",
       "      <td>19</td>\n",
       "      <td>False</td>\n",
       "      <td>6</td>\n",
       "      <td>https://www.reddit.com/r/AmItheAsshole/comment...</td>\n",
       "      <td>I am from Tuva, its a republic within Russia t...</td>\n",
       "      <td>AITA for calling someone at my university a du...</td>\n",
       "      <td>18cydj7</td>\n",
       "      <td>0.000000e+00</td>\n",
       "      <td>True</td>\n",
       "      <td>/r/AmItheAsshole/comments/18cydj7/aita_for_cal...</td>\n",
       "      <td>0.0</td>\n",
       "      <td>6</td>\n",
       "      <td>1.701964e+09</td>\n",
       "      <td>2023-12-07</td>\n",
       "      <td>{'russian': 8, 'mongolian': 2, 'czech': 3, 'tu...</td>\n",
       "      <td>22</td>\n",
       "      <td>11</td>\n",
       "    </tr>\n",
       "    <tr>\n",
       "      <th>27581</th>\n",
       "      <td>No A-holes here</td>\n",
       "      <td>51</td>\n",
       "      <td>False</td>\n",
       "      <td>8</td>\n",
       "      <td>https://www.reddit.com/r/AmItheAsshole/comment...</td>\n",
       "      <td>My partner (23F) and I (21F) are travelling in...</td>\n",
       "      <td>AITA for asking my partner to stop insulting B...</td>\n",
       "      <td>14qu5rx</td>\n",
       "      <td>0.000000e+00</td>\n",
       "      <td>True</td>\n",
       "      <td>/r/AmItheAsshole/comments/14qu5rx/aita_for_ask...</td>\n",
       "      <td>0.0</td>\n",
       "      <td>8</td>\n",
       "      <td>1.688513e+09</td>\n",
       "      <td>2023-07-04</td>\n",
       "      <td>{'spanish': 5, 'british': 5, 'french': 3, 'iri...</td>\n",
       "      <td>22</td>\n",
       "      <td>10</td>\n",
       "    </tr>\n",
       "    <tr>\n",
       "      <th>28504</th>\n",
       "      <td>Everyone Sucks</td>\n",
       "      <td>22</td>\n",
       "      <td>False</td>\n",
       "      <td>1</td>\n",
       "      <td>https://www.reddit.com/r/AmItheAsshole/comment...</td>\n",
       "      <td>Hello redditors,\\nI am sharing a flat with a f...</td>\n",
       "      <td>WIBTA if I kick my flatmate because of his sme...</td>\n",
       "      <td>14t8hfh</td>\n",
       "      <td>1.688786e+09</td>\n",
       "      <td>True</td>\n",
       "      <td>/r/AmItheAsshole/comments/14t8hfh/wibta_if_i_k...</td>\n",
       "      <td>0.0</td>\n",
       "      <td>1</td>\n",
       "      <td>1.688739e+09</td>\n",
       "      <td>2023-07-07</td>\n",
       "      <td>{'cameroonian': 2, 'moroccan': 3, 'german': 2,...</td>\n",
       "      <td>12</td>\n",
       "      <td>8</td>\n",
       "    </tr>\n",
       "    <tr>\n",
       "      <th>67232</th>\n",
       "      <td>Not the A-hole</td>\n",
       "      <td>23</td>\n",
       "      <td>False</td>\n",
       "      <td>28</td>\n",
       "      <td>https://www.reddit.com/r/AmItheAsshole/comment...</td>\n",
       "      <td>Sorry for any mistakes my first time posting.\\...</td>\n",
       "      <td>AITA For getting upset when my boyfriends fami...</td>\n",
       "      <td>17mfiuh</td>\n",
       "      <td>1.698965e+09</td>\n",
       "      <td>True</td>\n",
       "      <td>/r/AmItheAsshole/comments/17mfiuh/aita_for_get...</td>\n",
       "      <td>0.0</td>\n",
       "      <td>28</td>\n",
       "      <td>1.698964e+09</td>\n",
       "      <td>2023-11-02</td>\n",
       "      <td>{'mexican': 1, 'german': 1, 'cuban': 3, 'colom...</td>\n",
       "      <td>15</td>\n",
       "      <td>7</td>\n",
       "    </tr>\n",
       "    <tr>\n",
       "      <th>61701</th>\n",
       "      <td>Not the A-hole</td>\n",
       "      <td>1</td>\n",
       "      <td>False</td>\n",
       "      <td>1</td>\n",
       "      <td>https://www.reddit.com/r/AmItheAsshole/comment...</td>\n",
       "      <td>For some context my (20F)’s family liked to tr...</td>\n",
       "      <td>AITA for not wanting to learn Spanish with my ...</td>\n",
       "      <td>175kdeo</td>\n",
       "      <td>0.000000e+00</td>\n",
       "      <td>True</td>\n",
       "      <td>/r/AmItheAsshole/comments/175kdeo/aita_for_not...</td>\n",
       "      <td>0.0</td>\n",
       "      <td>1</td>\n",
       "      <td>1.697047e+09</td>\n",
       "      <td>2023-10-11</td>\n",
       "      <td>{'hungarian': 1, 'french': 1, 'german': 1, 'ja...</td>\n",
       "      <td>13</td>\n",
       "      <td>6</td>\n",
       "    </tr>\n",
       "  </tbody>\n",
       "</table>\n",
       "</div>"
      ],
      "text/plain": [
       "       link_flair_text  num_comments  over_18  score  \\\n",
       "76170   Everyone Sucks            19    False      6   \n",
       "27581  No A-holes here            51    False      8   \n",
       "28504   Everyone Sucks            22    False      1   \n",
       "67232   Not the A-hole            23    False     28   \n",
       "61701   Not the A-hole             1    False      1   \n",
       "\n",
       "                                                     url  \\\n",
       "76170  https://www.reddit.com/r/AmItheAsshole/comment...   \n",
       "27581  https://www.reddit.com/r/AmItheAsshole/comment...   \n",
       "28504  https://www.reddit.com/r/AmItheAsshole/comment...   \n",
       "67232  https://www.reddit.com/r/AmItheAsshole/comment...   \n",
       "61701  https://www.reddit.com/r/AmItheAsshole/comment...   \n",
       "\n",
       "                                                selftext  \\\n",
       "76170  I am from Tuva, its a republic within Russia t...   \n",
       "27581  My partner (23F) and I (21F) are travelling in...   \n",
       "28504  Hello redditors,\\nI am sharing a flat with a f...   \n",
       "67232  Sorry for any mistakes my first time posting.\\...   \n",
       "61701  For some context my (20F)’s family liked to tr...   \n",
       "\n",
       "                                                   title       id  \\\n",
       "76170  AITA for calling someone at my university a du...  18cydj7   \n",
       "27581  AITA for asking my partner to stop insulting B...  14qu5rx   \n",
       "28504  WIBTA if I kick my flatmate because of his sme...  14t8hfh   \n",
       "67232  AITA For getting upset when my boyfriends fami...  17mfiuh   \n",
       "61701  AITA for not wanting to learn Spanish with my ...  175kdeo   \n",
       "\n",
       "             edited  is_self  \\\n",
       "76170  0.000000e+00     True   \n",
       "27581  0.000000e+00     True   \n",
       "28504  1.688786e+09     True   \n",
       "67232  1.698965e+09     True   \n",
       "61701  0.000000e+00     True   \n",
       "\n",
       "                                               permalink  downs  ups  \\\n",
       "76170  /r/AmItheAsshole/comments/18cydj7/aita_for_cal...    0.0    6   \n",
       "27581  /r/AmItheAsshole/comments/14qu5rx/aita_for_ask...    0.0    8   \n",
       "28504  /r/AmItheAsshole/comments/14t8hfh/wibta_if_i_k...    0.0    1   \n",
       "67232  /r/AmItheAsshole/comments/17mfiuh/aita_for_get...    0.0   28   \n",
       "61701  /r/AmItheAsshole/comments/175kdeo/aita_for_not...    0.0    1   \n",
       "\n",
       "            created        date  \\\n",
       "76170  1.701964e+09  2023-12-07   \n",
       "27581  1.688513e+09  2023-07-04   \n",
       "28504  1.688739e+09  2023-07-07   \n",
       "67232  1.698964e+09  2023-11-02   \n",
       "61701  1.697047e+09  2023-10-11   \n",
       "\n",
       "                                                demonyms  \\\n",
       "76170  {'russian': 8, 'mongolian': 2, 'czech': 3, 'tu...   \n",
       "27581  {'spanish': 5, 'british': 5, 'french': 3, 'iri...   \n",
       "28504  {'cameroonian': 2, 'moroccan': 3, 'german': 2,...   \n",
       "67232  {'mexican': 1, 'german': 1, 'cuban': 3, 'colom...   \n",
       "61701  {'hungarian': 1, 'french': 1, 'german': 1, 'ja...   \n",
       "\n",
       "       demonyms_words_count  demonyms_unique_count  \n",
       "76170                    22                     11  \n",
       "27581                    22                     10  \n",
       "28504                    12                      8  \n",
       "67232                    15                      7  \n",
       "61701                    13                      6  "
      ]
     },
     "execution_count": 30,
     "metadata": {},
     "output_type": "execute_result"
    }
   ],
   "source": [
    "df.sort_values(by=\"demonyms_unique_count\", ascending=False).head()"
   ]
  },
  {
   "cell_type": "code",
   "execution_count": 31,
   "id": "701cf2c5-6d43-4224-ab41-d4a701796274",
   "metadata": {},
   "outputs": [
    {
     "data": {
      "text/html": [
       "<div>\n",
       "<style scoped>\n",
       "    .dataframe tbody tr th:only-of-type {\n",
       "        vertical-align: middle;\n",
       "    }\n",
       "\n",
       "    .dataframe tbody tr th {\n",
       "        vertical-align: top;\n",
       "    }\n",
       "\n",
       "    .dataframe thead th {\n",
       "        text-align: right;\n",
       "    }\n",
       "</style>\n",
       "<table border=\"1\" class=\"dataframe\">\n",
       "  <thead>\n",
       "    <tr style=\"text-align: right;\">\n",
       "      <th></th>\n",
       "      <th>0</th>\n",
       "    </tr>\n",
       "    <tr>\n",
       "      <th>demonyms_unique_count</th>\n",
       "      <th></th>\n",
       "    </tr>\n",
       "  </thead>\n",
       "  <tbody>\n",
       "    <tr>\n",
       "      <th>0</th>\n",
       "      <td>75830</td>\n",
       "    </tr>\n",
       "    <tr>\n",
       "      <th>1</th>\n",
       "      <td>3934</td>\n",
       "    </tr>\n",
       "    <tr>\n",
       "      <th>2</th>\n",
       "      <td>604</td>\n",
       "    </tr>\n",
       "    <tr>\n",
       "      <th>3</th>\n",
       "      <td>152</td>\n",
       "    </tr>\n",
       "    <tr>\n",
       "      <th>4</th>\n",
       "      <td>33</td>\n",
       "    </tr>\n",
       "  </tbody>\n",
       "</table>\n",
       "</div>"
      ],
      "text/plain": [
       "                           0\n",
       "demonyms_unique_count       \n",
       "0                      75830\n",
       "1                       3934\n",
       "2                        604\n",
       "3                        152\n",
       "4                         33"
      ]
     },
     "execution_count": 31,
     "metadata": {},
     "output_type": "execute_result"
    }
   ],
   "source": [
    "df.groupby(by=\"demonyms_unique_count\").size().to_frame().head()"
   ]
  },
  {
   "cell_type": "code",
   "execution_count": 32,
   "id": "c0b28de5-571d-4e39-8e91-70af7b7679e9",
   "metadata": {},
   "outputs": [
    {
     "data": {
      "text/plain": [
       "<Axes: xlabel='demonyms_unique_count'>"
      ]
     },
     "execution_count": 32,
     "metadata": {},
     "output_type": "execute_result"
    },
    {
     "data": {
      "image/png": "[encoded data removed]",
      "text/plain": [
       "<Figure size 640x480 with 1 Axes>"
      ]
     },
     "metadata": {},
     "output_type": "display_data"
    }
   ],
   "source": [
    "df.loc[df.demonyms_words_count > 0].groupby(by=\"demonyms_unique_count\").size().to_frame().plot.bar()"
   ]
  },
  {
   "cell_type": "markdown",
   "id": "965b6f2e-a540-4329-b3a5-ff612139fe26",
   "metadata": {},
   "source": [
    "# Linguistic"
   ]
  },
  {
   "cell_type": "code",
   "execution_count": 33,
   "id": "dd9b13c8-b7a8-47f8-a2d8-273a2a4039d8",
   "metadata": {},
   "outputs": [
    {
     "name": "stdout",
     "output_type": "stream",
     "text": [
      "--2024-05-04 13:57:43--  https://raw.githubusercontent.com/zacanger/profane-words/master/words.json\n",
      "Resolving raw.githubusercontent.com (raw.githubusercontent.com)... 185.199.111.133, 185.199.109.133, 185.199.108.133, ...\n",
      "Connecting to raw.githubusercontent.com (raw.githubusercontent.com)|185.199.111.133|:443... connected.\n",
      "HTTP request sent, awaiting response... 200 OK\n",
      "Length: 38088 (37K) [text/plain]\n",
      "Saving to: ‘words.json’\n",
      "\n",
      "words.json          100%[===================>]  37.20K  --.-KB/s    in 0.001s  \n",
      "\n",
      "2024-05-04 13:57:43 (35.2 MB/s) - ‘words.json’ saved [38088/38088]\n",
      "\n"
     ]
    }
   ],
   "source": [
    "# https://github.com/zacanger/profane-words\n",
    "!wget https://raw.githubusercontent.com/zacanger/profane-words/master/words.json"
   ]
  },
  {
   "cell_type": "code",
   "execution_count": 34,
   "id": "bec22df8-a12c-419e-8e0a-c57e1e670bc8",
   "metadata": {},
   "outputs": [
    {
     "name": "stderr",
     "output_type": "stream",
     "text": [
      "[nltk_data] Downloading package stopwords to\n",
      "[nltk_data]     /Users/kirarak/nltk_data...\n",
      "[nltk_data]   Unzipping corpora/stopwords.zip.\n",
      "[nltk_data] Downloading package punkt to /Users/kirarak/nltk_data...\n",
      "[nltk_data]   Unzipping tokenizers/punkt.zip.\n"
     ]
    }
   ],
   "source": [
    "import re\n",
    "from nltk.corpus import stopwords\n",
    "from nltk.tokenize import sent_tokenize, word_tokenize\n",
    "import json\n",
    "import nltk\n",
    "\n",
    "nltk.download('stopwords')\n",
    "nltk.download('punkt')\n",
    "\n",
    "stopwords_set = set(stopwords.words('english'))\n",
    "\n",
    "\n",
    "with open(\"words.json\") as f:\n",
    "    profane_words = set(json.load(f))\n",
    "\n",
    "def create_features(row):\n",
    "    title = row[\"title\"]\n",
    "    post = row[\"selftext\"]\n",
    "    \n",
    "    features = {\n",
    "        \"title_uppercase_count\": 0,\n",
    "        \"title_word_count\": 0,\n",
    "        \"title_profanity_count\": 0,\n",
    "        \"avg_word_length\": 0,\n",
    "        \"stop_word_count\": 0,\n",
    "        \"numerics_count\": 0,\n",
    "        \"uppercase_words_count\": 0,\n",
    "        \"sentence_count\": 0,\n",
    "        \"avg_sentence_length\": 0,\n",
    "        \"profanity_count\": 0,\n",
    "    }\n",
    "    \n",
    "    # Title features\n",
    "    title_words = word_tokenize(title)\n",
    "    features['title_uppercase_count'] = sum(1 for c in title if c.isupper())\n",
    "    features['title_word_count'] = len(title.split())\n",
    "    features['title_profanity_count'] = sum(1 for word in title_words if word.lower() in profane_words)\n",
    "\n",
    "    # Post features\n",
    "    words = word_tokenize(post)\n",
    "    sentences = sent_tokenize(post)\n",
    "    features['avg_word_length'] = sum(len(word) for word in words) / len(words) if words else 0\n",
    "    features['stop_word_count'] = sum(1 for word in words if word.lower() in stopwords_set)\n",
    "    features['numerics_count'] = sum(1 for word in words if word.isdigit())\n",
    "    features['uppercase_words_count'] = sum(1 for word in words if word.isupper())\n",
    "    features['sentence_count'] = len(sentences)\n",
    "    features['avg_sentence_length'] = sum(len(sentence.split()) for sentence in sentences) / len(sentences) if sentences else 0\n",
    "    features['profanity_count'] = sum(1 for word in words if word.lower() in profane_words)\n",
    "\n",
    "    return row[\"id\"], features\n"
   ]
  },
  {
   "cell_type": "code",
   "execution_count": 35,
   "id": "a556f1da-a2d9-43c4-8756-6ca2e8ea4c1c",
   "metadata": {},
   "outputs": [
    {
     "name": "stdout",
     "output_type": "stream",
     "text": [
      "CPU times: user 1 µs, sys: 1 µs, total: 2 µs\n",
      "Wall time: 3.1 µs\n"
     ]
    }
   ],
   "source": [
    "%%time\n",
    "# 1000 records = 3m3s\n",
    "# df_small['features'] = df.apply(create_features, axis=1)"
   ]
  },
  {
   "cell_type": "code",
   "execution_count": 38,
   "id": "8ba711de-1a14-4a75-a8e3-b6ba59f8e827",
   "metadata": {},
   "outputs": [
    {
     "name": "stderr",
     "output_type": "stream",
     "text": [
      "24/05/04 13:58:52 WARN TaskSetManager: Stage 2 contains a task of very large size (15259 KiB). The maximum recommended task size is 1000 KiB.\n",
      "[Stage 1:>                  (0 + 1) / 8][Stage 2:================>  (7 + 1) / 8]\r"
     ]
    },
    {
     "name": "stdout",
     "output_type": "stream",
     "text": [
      "CPU times: user 114 ms, sys: 95.1 ms, total: 209 ms\n",
      "Wall time: 29.3 s\n"
     ]
    },
    {
     "name": "stderr",
     "output_type": "stream",
     "text": [
      "[Stage 1:>                                                          (0 + 1) / 8]\r"
     ]
    }
   ],
   "source": [
    "%%time\n",
    "# 80k records = 52s\n",
    "features_results = sdf.rdd.map(create_features).collect()"
   ]
  },
  {
   "cell_type": "code",
   "execution_count": 41,
   "id": "932edf31-564a-40c5-bf07-e52ccc45e77d",
   "metadata": {},
   "outputs": [
    {
     "data": {
      "text/plain": [
       "80571"
      ]
     },
     "execution_count": 41,
     "metadata": {},
     "output_type": "execute_result"
    }
   ],
   "source": [
    "len(features_results)"
   ]
  },
  {
   "cell_type": "code",
   "execution_count": 42,
   "id": "d383196c-c1a0-4876-b0cd-5111f2372c12",
   "metadata": {},
   "outputs": [],
   "source": [
    "df_features = pd.DataFrame(features_results, columns=[\"id\", \"features\"])"
   ]
  },
  {
   "cell_type": "code",
   "execution_count": 43,
   "id": "2c46103a-e9f6-4c1b-8eee-04115c3f1a8d",
   "metadata": {},
   "outputs": [],
   "source": [
    "df = df.merge(df_features, left_on=\"id\", right_on=\"id\")"
   ]
  },
  {
   "cell_type": "code",
   "execution_count": 44,
   "id": "8cc3a650-7319-4e52-ab94-c7ddfd5a5ca7",
   "metadata": {},
   "outputs": [],
   "source": [
    "df = df.join(pd.json_normalize(df['features']))"
   ]
  },
  {
   "cell_type": "code",
   "execution_count": 45,
   "id": "fc081c1d-cd62-4951-a896-6ee2655580e5",
   "metadata": {},
   "outputs": [
    {
     "data": {
      "text/html": [
       "<div>\n",
       "<style scoped>\n",
       "    .dataframe tbody tr th:only-of-type {\n",
       "        vertical-align: middle;\n",
       "    }\n",
       "\n",
       "    .dataframe tbody tr th {\n",
       "        vertical-align: top;\n",
       "    }\n",
       "\n",
       "    .dataframe thead th {\n",
       "        text-align: right;\n",
       "    }\n",
       "</style>\n",
       "<table border=\"1\" class=\"dataframe\">\n",
       "  <thead>\n",
       "    <tr style=\"text-align: right;\">\n",
       "      <th></th>\n",
       "      <th>link_flair_text</th>\n",
       "      <th>num_comments</th>\n",
       "      <th>over_18</th>\n",
       "      <th>score</th>\n",
       "      <th>url</th>\n",
       "      <th>selftext</th>\n",
       "      <th>title</th>\n",
       "      <th>id</th>\n",
       "      <th>edited</th>\n",
       "      <th>is_self</th>\n",
       "      <th>...</th>\n",
       "      <th>title_uppercase_count</th>\n",
       "      <th>title_word_count</th>\n",
       "      <th>title_profanity_count</th>\n",
       "      <th>avg_word_length</th>\n",
       "      <th>stop_word_count</th>\n",
       "      <th>numerics_count</th>\n",
       "      <th>uppercase_words_count</th>\n",
       "      <th>sentence_count</th>\n",
       "      <th>avg_sentence_length</th>\n",
       "      <th>profanity_count</th>\n",
       "    </tr>\n",
       "  </thead>\n",
       "  <tbody>\n",
       "    <tr>\n",
       "      <th>0</th>\n",
       "      <td>Not the A-hole</td>\n",
       "      <td>1155</td>\n",
       "      <td>False</td>\n",
       "      <td>9597</td>\n",
       "      <td>https://www.reddit.com/r/AmItheAsshole/comment...</td>\n",
       "      <td>I (26 F) am married to K (25 M) , i met him a ...</td>\n",
       "      <td>AITA for embarrassing my husband in front of h...</td>\n",
       "      <td>1284npp</td>\n",
       "      <td>0.000000e+00</td>\n",
       "      <td>True</td>\n",
       "      <td>...</td>\n",
       "      <td>4</td>\n",
       "      <td>10</td>\n",
       "      <td>0</td>\n",
       "      <td>3.392857</td>\n",
       "      <td>269</td>\n",
       "      <td>6</td>\n",
       "      <td>13</td>\n",
       "      <td>16</td>\n",
       "      <td>28.437500</td>\n",
       "      <td>0</td>\n",
       "    </tr>\n",
       "    <tr>\n",
       "      <th>1</th>\n",
       "      <td>Not the A-hole</td>\n",
       "      <td>19</td>\n",
       "      <td>False</td>\n",
       "      <td>8</td>\n",
       "      <td>https://www.reddit.com/r/AmItheAsshole/comment...</td>\n",
       "      <td>Story is just as stupid as the title.\\n\\nSo my...</td>\n",
       "      <td>AITA from eating a cookie</td>\n",
       "      <td>1284q84</td>\n",
       "      <td>0.000000e+00</td>\n",
       "      <td>True</td>\n",
       "      <td>...</td>\n",
       "      <td>4</td>\n",
       "      <td>5</td>\n",
       "      <td>0</td>\n",
       "      <td>3.348525</td>\n",
       "      <td>195</td>\n",
       "      <td>8</td>\n",
       "      <td>15</td>\n",
       "      <td>13</td>\n",
       "      <td>25.615385</td>\n",
       "      <td>0</td>\n",
       "    </tr>\n",
       "    <tr>\n",
       "      <th>2</th>\n",
       "      <td>Not the A-hole</td>\n",
       "      <td>21</td>\n",
       "      <td>False</td>\n",
       "      <td>13</td>\n",
       "      <td>https://www.reddit.com/r/AmItheAsshole/comment...</td>\n",
       "      <td>My roommate (about to be 27 F) and me (20F) ha...</td>\n",
       "      <td>AITA for yelling at my roommate to stop touchi...</td>\n",
       "      <td>1284sqm</td>\n",
       "      <td>1.680309e+09</td>\n",
       "      <td>True</td>\n",
       "      <td>...</td>\n",
       "      <td>4</td>\n",
       "      <td>11</td>\n",
       "      <td>0</td>\n",
       "      <td>3.625000</td>\n",
       "      <td>170</td>\n",
       "      <td>2</td>\n",
       "      <td>31</td>\n",
       "      <td>18</td>\n",
       "      <td>17.333333</td>\n",
       "      <td>2</td>\n",
       "    </tr>\n",
       "    <tr>\n",
       "      <th>3</th>\n",
       "      <td>Not the A-hole</td>\n",
       "      <td>13</td>\n",
       "      <td>False</td>\n",
       "      <td>10</td>\n",
       "      <td>https://www.reddit.com/r/AmItheAsshole/comment...</td>\n",
       "      <td>So as you all know, tomorrow is April Fool’s D...</td>\n",
       "      <td>WIBTA to play an April Fool’s prank on my brot...</td>\n",
       "      <td>1284trz</td>\n",
       "      <td>0.000000e+00</td>\n",
       "      <td>True</td>\n",
       "      <td>...</td>\n",
       "      <td>7</td>\n",
       "      <td>10</td>\n",
       "      <td>0</td>\n",
       "      <td>3.097222</td>\n",
       "      <td>147</td>\n",
       "      <td>1</td>\n",
       "      <td>16</td>\n",
       "      <td>21</td>\n",
       "      <td>10.666667</td>\n",
       "      <td>0</td>\n",
       "    </tr>\n",
       "    <tr>\n",
       "      <th>4</th>\n",
       "      <td>Asshole</td>\n",
       "      <td>90</td>\n",
       "      <td>False</td>\n",
       "      <td>73</td>\n",
       "      <td>https://www.reddit.com/r/AmItheAsshole/comment...</td>\n",
       "      <td>Using a throwaway because my sister has reddit...</td>\n",
       "      <td>AITA for joking with my sister in front of her...</td>\n",
       "      <td>128509j</td>\n",
       "      <td>0.000000e+00</td>\n",
       "      <td>True</td>\n",
       "      <td>...</td>\n",
       "      <td>4</td>\n",
       "      <td>11</td>\n",
       "      <td>0</td>\n",
       "      <td>3.734967</td>\n",
       "      <td>212</td>\n",
       "      <td>0</td>\n",
       "      <td>22</td>\n",
       "      <td>31</td>\n",
       "      <td>12.516129</td>\n",
       "      <td>3</td>\n",
       "    </tr>\n",
       "  </tbody>\n",
       "</table>\n",
       "<p>5 rows × 29 columns</p>\n",
       "</div>"
      ],
      "text/plain": [
       "  link_flair_text  num_comments  over_18  score  \\\n",
       "0  Not the A-hole          1155    False   9597   \n",
       "1  Not the A-hole            19    False      8   \n",
       "2  Not the A-hole            21    False     13   \n",
       "3  Not the A-hole            13    False     10   \n",
       "4         Asshole            90    False     73   \n",
       "\n",
       "                                                 url  \\\n",
       "0  https://www.reddit.com/r/AmItheAsshole/comment...   \n",
       "1  https://www.reddit.com/r/AmItheAsshole/comment...   \n",
       "2  https://www.reddit.com/r/AmItheAsshole/comment...   \n",
       "3  https://www.reddit.com/r/AmItheAsshole/comment...   \n",
       "4  https://www.reddit.com/r/AmItheAsshole/comment...   \n",
       "\n",
       "                                            selftext  \\\n",
       "0  I (26 F) am married to K (25 M) , i met him a ...   \n",
       "1  Story is just as stupid as the title.\\n\\nSo my...   \n",
       "2  My roommate (about to be 27 F) and me (20F) ha...   \n",
       "3  So as you all know, tomorrow is April Fool’s D...   \n",
       "4  Using a throwaway because my sister has reddit...   \n",
       "\n",
       "                                               title       id        edited  \\\n",
       "0  AITA for embarrassing my husband in front of h...  1284npp  0.000000e+00   \n",
       "1                          AITA from eating a cookie  1284q84  0.000000e+00   \n",
       "2  AITA for yelling at my roommate to stop touchi...  1284sqm  1.680309e+09   \n",
       "3  WIBTA to play an April Fool’s prank on my brot...  1284trz  0.000000e+00   \n",
       "4  AITA for joking with my sister in front of her...  128509j  0.000000e+00   \n",
       "\n",
       "   is_self  ... title_uppercase_count  title_word_count  \\\n",
       "0     True  ...                     4                10   \n",
       "1     True  ...                     4                 5   \n",
       "2     True  ...                     4                11   \n",
       "3     True  ...                     7                10   \n",
       "4     True  ...                     4                11   \n",
       "\n",
       "   title_profanity_count  avg_word_length stop_word_count numerics_count  \\\n",
       "0                      0         3.392857             269              6   \n",
       "1                      0         3.348525             195              8   \n",
       "2                      0         3.625000             170              2   \n",
       "3                      0         3.097222             147              1   \n",
       "4                      0         3.734967             212              0   \n",
       "\n",
       "   uppercase_words_count  sentence_count avg_sentence_length  profanity_count  \n",
       "0                     13              16           28.437500                0  \n",
       "1                     15              13           25.615385                0  \n",
       "2                     31              18           17.333333                2  \n",
       "3                     16              21           10.666667                0  \n",
       "4                     22              31           12.516129                3  \n",
       "\n",
       "[5 rows x 29 columns]"
      ]
     },
     "execution_count": 45,
     "metadata": {},
     "output_type": "execute_result"
    }
   ],
   "source": [
    "df.head()"
   ]
  },
  {
   "cell_type": "code",
   "execution_count": 46,
   "id": "491e6d91-dae3-4edb-8cf1-d5ad265c20b4",
   "metadata": {},
   "outputs": [],
   "source": [
    "df.to_parquet(\"labeled_post_features.parquet\")"
   ]
  },
  {
   "cell_type": "code",
   "execution_count": 47,
   "id": "e3b9838c-9269-4674-a7a9-5295dcb512fb",
   "metadata": {},
   "outputs": [
    {
     "data": {
      "text/plain": [
       "Index(['link_flair_text', 'num_comments', 'over_18', 'score', 'url',\n",
       "       'selftext', 'title', 'id', 'edited', 'is_self', 'permalink', 'downs',\n",
       "       'ups', 'created', 'date', 'demonyms', 'demonyms_words_count',\n",
       "       'demonyms_unique_count', 'features', 'title_uppercase_count',\n",
       "       'title_word_count', 'title_profanity_count', 'avg_word_length',\n",
       "       'stop_word_count', 'numerics_count', 'uppercase_words_count',\n",
       "       'sentence_count', 'avg_sentence_length', 'profanity_count'],\n",
       "      dtype='object')"
      ]
     },
     "execution_count": 47,
     "metadata": {},
     "output_type": "execute_result"
    },
    {
     "name": "stderr",
     "output_type": "stream",
     "text": [
      "[Stage 1:>                                                          (0 + 1) / 8]\r"
     ]
    }
   ],
   "source": [
    "df.columns"
   ]
  },
  {
   "cell_type": "code",
   "execution_count": null,
   "id": "9c852b28-9930-4c1d-9172-f4c77ce842ff",
   "metadata": {},
   "outputs": [],
   "source": []
  }
 ],
 "metadata": {
  "kernelspec": {
   "display_name": "Python 3 (ipykernel)",
   "language": "python",
   "name": "python3"
  },
  "language_info": {
   "codemirror_mode": {
    "name": "ipython",
    "version": 3
   },
   "file_extension": ".py",
   "mimetype": "text/x-python",
   "name": "python",
   "nbconvert_exporter": "python",
   "pygments_lexer": "ipython3",
   "version": "3.11.5"
  }
 },
 "nbformat": 4,
 "nbformat_minor": 5
}
