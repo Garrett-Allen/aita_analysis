{
 "cells": [
  {
   "cell_type": "code",
   "execution_count": 1,
   "metadata": {},
   "outputs": [
    {
     "name": "stderr",
     "output_type": "stream",
     "text": [
      "c:\\Users\\Wenhao\\miniconda3\\envs\\deep_wa_bert\\lib\\site-packages\\tqdm\\auto.py:21: TqdmWarning: IProgress not found. Please update jupyter and ipywidgets. See https://ipywidgets.readthedocs.io/en/stable/user_install.html\n",
      "  from .autonotebook import tqdm as notebook_tqdm\n"
     ]
    }
   ],
   "source": [
    "import shutil\n",
    "import pandas as pd\n",
    "import numpy as np\n",
    "import os\n",
    "import transformers\n",
    "from transformers import  AutoModelForSequenceClassification, DataCollatorWithPadding\n",
    "from transformers import TrainingArguments, Trainer\n",
    "from datasets import load_dataset\n",
    "from sklearn.model_selection import train_test_split \n",
    "\n",
    "# the name of the pre-trained model we want to use\n",
    "MODEL_NAME = \"bert-base-uncased\" "
   ]
  },
  {
   "cell_type": "markdown",
   "metadata": {},
   "source": [
    "## Data Loading and Preprocessing"
   ]
  },
  {
   "cell_type": "code",
   "execution_count": 2,
   "metadata": {},
   "outputs": [],
   "source": [
    "data = pd.read_parquet(\"../labeled_post_enriched_bert.parquet\")\n",
    "data = data.drop([\"index\", \"link_flair_text_y\", \"Unnamed: 0\"], axis=1)\n",
    "data = data.rename({\"link_flair_text_x\": \"link_flair_text\"}, axis=1)"
   ]
  },
  {
   "cell_type": "code",
   "execution_count": 3,
   "metadata": {},
   "outputs": [
    {
     "data": {
      "text/plain": [
       "Index(['link_flair_text', 'num_comments', 'over_18', 'score', 'url',\n",
       "       'selftext', 'title', 'id', 'edited', 'is_self', 'permalink', 'downs',\n",
       "       'ups', 'created', 'date', 'Topic', 'Count', 'Name', 'Representation',\n",
       "       'verdict', 'is_asshole', 'demonyms', 'demonyms_words_count',\n",
       "       'demonyms_unique_count', 'features', 'title_uppercase_count',\n",
       "       'title_word_count', 'title_profanity_count', 'avg_word_length',\n",
       "       'stop_word_count', 'numerics_count', 'uppercase_words_count',\n",
       "       'sentence_count', 'avg_sentence_length', 'profanity_count', 'gender',\n",
       "       'age', 'llama_gender', 'llama_age', 'gender_F', 'gender_M', 'gender_U',\n",
       "       'title_anger', 'title_disgust', 'title_fear', 'title_joy',\n",
       "       'title_others', 'title_sadness', 'title_surprise', 'selftext_anger',\n",
       "       'selftext_disgust', 'selftext_fear', 'selftext_joy', 'selftext_others',\n",
       "       'selftext_sadness', 'selftext_surprise'],\n",
       "      dtype='object')"
      ]
     },
     "execution_count": 3,
     "metadata": {},
     "output_type": "execute_result"
    }
   ],
   "source": [
    "data.columns"
   ]
  },
  {
   "cell_type": "code",
   "execution_count": 4,
   "metadata": {},
   "outputs": [],
   "source": [
    "# data = pd.read_parquet(\"../labeled_post.parquet\")\n",
    "# data.shape"
   ]
  },
  {
   "cell_type": "markdown",
   "metadata": {},
   "source": [
    "### Creating the label"
   ]
  },
  {
   "cell_type": "code",
   "execution_count": 5,
   "metadata": {},
   "outputs": [
    {
     "data": {
      "text/plain": [
       "Not the A-hole     55095\n",
       "Asshole            13142\n",
       "No A-holes here     3470\n",
       "Everyone Sucks      2951\n",
       "Name: link_flair_text, dtype: int64"
      ]
     },
     "execution_count": 5,
     "metadata": {},
     "output_type": "execute_result"
    }
   ],
   "source": [
    "data[\"link_flair_text\"].value_counts()"
   ]
  },
  {
   "cell_type": "code",
   "execution_count": 6,
   "metadata": {},
   "outputs": [
    {
     "data": {
      "text/plain": [
       "0    58565\n",
       "1    16093\n",
       "Name: verdict, dtype: int64"
      ]
     },
     "execution_count": 6,
     "metadata": {},
     "output_type": "execute_result"
    }
   ],
   "source": [
    "flairs = {\n",
    "    \"Not the A-hole\": \"NTA\",\n",
    "    \"No A-holes here\": \"NTA\",\n",
    "    \"Asshole\": \"YTA\",\n",
    "    \"Everyone Sucks\": \"YTA\"\n",
    "}\n",
    "\n",
    "# filter data and label verdicts\n",
    "labeled_data = data.loc[data.link_flair_text.isin(flairs)].copy()\n",
    "labeled_data[\"verdict\"] = labeled_data.link_flair_text.map(flairs)\n",
    "labeled_data[\"verdict\"] = (labeled_data[\"verdict\"] == \"YTA\").astype(int)\n",
    "labeled_data[\"verdict\"].value_counts()"
   ]
  },
  {
   "cell_type": "code",
   "execution_count": 7,
   "metadata": {},
   "outputs": [],
   "source": [
    "negative_data = labeled_data[labeled_data[\"verdict\"] == 0]\n",
    "positive_data = labeled_data[labeled_data[\"verdict\"] == 1]\n",
    "negative_data = negative_data.sample(len(positive_data), random_state=547)"
   ]
  },
  {
   "cell_type": "code",
   "execution_count": 8,
   "metadata": {},
   "outputs": [
    {
     "data": {
      "text/plain": [
       "0    16093\n",
       "1    16093\n",
       "Name: verdict, dtype: int64"
      ]
     },
     "execution_count": 8,
     "metadata": {},
     "output_type": "execute_result"
    }
   ],
   "source": [
    "labeled_data = pd.concat([negative_data, positive_data])\n",
    "labeled_data[\"verdict\"].value_counts()"
   ]
  },
  {
   "cell_type": "markdown",
   "metadata": {},
   "source": [
    "### Creating the textual input"
   ]
  },
  {
   "cell_type": "code",
   "execution_count": 9,
   "metadata": {},
   "outputs": [],
   "source": [
    "labeled_data[\"gender\"] = labeled_data[\"gender\"].map({\"F\": \"Female\", \"M\": \"Male\", \"U\": \"Unknown\"})\n",
    "labeled_data[\"age\"] = labeled_data[\"age\"].fillna(-1).astype(int).astype(str)"
   ]
  },
  {
   "cell_type": "code",
   "execution_count": 10,
   "metadata": {},
   "outputs": [],
   "source": [
    "sentiment_cols = ['title_anger', 'title_disgust', 'title_fear', 'title_joy',\n",
    "       'title_others', 'title_sadness', 'title_surprise', 'selftext_anger',\n",
    "       'selftext_disgust', 'selftext_fear', 'selftext_joy', 'selftext_others',\n",
    "       'selftext_sadness', 'selftext_surprise']\n",
    "for col in sentiment_cols:\n",
    "    labeled_data[col] = labeled_data[col].round(4).astype(str)"
   ]
  },
  {
   "cell_type": "code",
   "execution_count": 11,
   "metadata": {},
   "outputs": [],
   "source": [
    "extra_features = [\"gender\", \"age\", \"Name\", 'title_anger', 'title_disgust', 'title_fear', 'title_joy',\n",
    "       'title_others', 'title_sadness', 'title_surprise', 'selftext_anger',\n",
    "       'selftext_disgust', 'selftext_fear', 'selftext_joy', 'selftext_others',\n",
    "       'selftext_sadness', 'selftext_surprise']"
   ]
  },
  {
   "cell_type": "code",
   "execution_count": 12,
   "metadata": {},
   "outputs": [],
   "source": [
    "labeled_data[\"input\"] = \"title: \" + labeled_data[\"title\"] + \" / text: \" + labeled_data[\"selftext\"]"
   ]
  },
  {
   "cell_type": "code",
   "execution_count": 12,
   "metadata": {},
   "outputs": [],
   "source": [
    "# labeled_data[\"input\"] = \"gender: \" + labeled_data[\"gender\"] + \" / age: \" + labeled_data[\"age\"] + \" / topic: \" + labeled_data[\"Name\"] + \\\n",
    "#     \" / text anger score: \" + labeled_data[\"selftext_anger\"] +  \" / text disgust score: \" + labeled_data[\"selftext_disgust\"] + \\\n",
    "#     \" / text fear score: \" + labeled_data[\"selftext_fear\"] +  \" / text joy score: \" + labeled_data[\"selftext_joy\"] + \\\n",
    "#     \" / text others score: \" + labeled_data[\"selftext_others\"] +  \" / text sadness score: \" + labeled_data[\"selftext_sadness\"] + \\\n",
    "#     \" / text surprise score: \" + labeled_data[\"selftext_surprise\"] + \\\n",
    "#     \" / title: \" + labeled_data[\"title\"] + \" / text: \" + labeled_data[\"selftext\"]\n",
    "# labeled_data[\"input\"] = \"title: \" + labeled_data[\"title\"] + \" / text: \" + labeled_data[\"selftext\"]"
   ]
  },
  {
   "cell_type": "code",
   "execution_count": 13,
   "metadata": {},
   "outputs": [],
   "source": [
    "# labeled_data[\"input\"] = \"gender: \" + labeled_data[\"gender\"] + \" / age: \" + labeled_data[\"age\"] + \" / topic: \" + labeled_data[\"Name\"] + \\\n",
    "#     \" / title anger score: \" + labeled_data[\"title_anger\"] +  \" / title disgust score: \" + labeled_data[\"title_disgust\"] + \\\n",
    "#     \" / title fear score: \" + labeled_data[\"title_fear\"] +  \" / title joy score: \" + labeled_data[\"title_joy\"] + \\\n",
    "#     \" / title others score: \" + labeled_data[\"title_others\"] +  \" / title sadness score: \" + labeled_data[\"title_sadness\"] + \\\n",
    "#     \" / title surprise score: \" + labeled_data[\"title_surprise\"] +  \\\n",
    "#     \" / text anger score: \" + labeled_data[\"selftext_anger\"] +  \" / text disgust score: \" + labeled_data[\"selftext_disgust\"] + \\\n",
    "#     \" / text fear score: \" + labeled_data[\"selftext_fear\"] +  \" / text joy score: \" + labeled_data[\"selftext_joy\"] + \\\n",
    "#     \" / text others score: \" + labeled_data[\"selftext_others\"] +  \" / text sadness score: \" + labeled_data[\"selftext_sadness\"] + \\\n",
    "#     \" / text surprise score: \" + labeled_data[\"selftext_surprise\"] + \\\n",
    "#     \" / title: \" + labeled_data[\"title\"] + \" / text: \" + labeled_data[\"selftext\"]"
   ]
  },
  {
   "cell_type": "code",
   "execution_count": 13,
   "metadata": {},
   "outputs": [
    {
     "data": {
      "text/plain": [
       "'title: AITA for doubting my BF’s plan to start a small business? / text: For context I (27F) am dating my bf (32m) for about 2 years now. We have started to have some larger discussions regarding family planning, finances, family, marriage, etc. you get the gist. \\n\\nMy BF and I have very different backgrounds, we both work in corporate and have great benefits, I am child free, have absolutely no debt, trying to buy my first house, and am doing well for myself generally speaking. My BF has a son from a previous relationship, significant debt, family issues, living month to month, etc. it’s a lot. \\n\\nThrough discussing everything he has mentioned in about 6-10 years he’d want to start a brick and mortar athletic wear store. I’ve gone to business school (big flex I know lol), so I immediately asked questions about it not being profitable for several years, no PTO, working 10- 12 hour days, weekends, having a very sizable business loan, retirement, living off only my income for a long time, no health insurance for him and his son, not a lot of time he’d spend with our future kids… a lot of stuff. This was obviously not received well at all and now I feel like crap for poo-pooing someone’s dream while future planning.\\n\\n\\nTLDR: My bf wants to start a small brick and mortar business and I overwhelmed them with concerns about their debt, finances, future family planning, etc. and now I feel like an AH.'"
      ]
     },
     "execution_count": 13,
     "metadata": {},
     "output_type": "execute_result"
    }
   ],
   "source": [
    "labeled_data[\"input\"].iloc[1]"
   ]
  },
  {
   "cell_type": "code",
   "execution_count": 14,
   "metadata": {},
   "outputs": [],
   "source": [
    "from gensim.parsing import remove_stopwords, strip_numeric, strip_punctuation, strip_multiple_whitespaces\n",
    "\n",
    "# labeled_data[\"title_text\"] = labeled_data[\"title\"] + \" --- \" + labeled_data[\"selftext\"]\n",
    "labeled_data[\"input\"] = labeled_data[\"input\"].str.lower()\n",
    "labeled_data[\"input\"] = labeled_data[\"input\"].apply(strip_multiple_whitespaces)\n",
    "labeled_data = labeled_data.replace(to_replace=[''], value=np.nan).dropna(subset=[\"input\", \"verdict\"])"
   ]
  },
  {
   "cell_type": "code",
   "execution_count": 15,
   "metadata": {},
   "outputs": [
    {
     "data": {
      "text/html": [
       "<div>\n",
       "<style scoped>\n",
       "    .dataframe tbody tr th:only-of-type {\n",
       "        vertical-align: middle;\n",
       "    }\n",
       "\n",
       "    .dataframe tbody tr th {\n",
       "        vertical-align: top;\n",
       "    }\n",
       "\n",
       "    .dataframe thead th {\n",
       "        text-align: right;\n",
       "    }\n",
       "</style>\n",
       "<table border=\"1\" class=\"dataframe\">\n",
       "  <thead>\n",
       "    <tr style=\"text-align: right;\">\n",
       "      <th></th>\n",
       "      <th>input</th>\n",
       "      <th>verdict</th>\n",
       "    </tr>\n",
       "  </thead>\n",
       "  <tbody>\n",
       "    <tr>\n",
       "      <th>8157</th>\n",
       "      <td>title: aita for not wanted babysit my niece fo...</td>\n",
       "      <td>0</td>\n",
       "    </tr>\n",
       "    <tr>\n",
       "      <th>59194</th>\n",
       "      <td>title: aita for doubting my bf’s plan to start...</td>\n",
       "      <td>0</td>\n",
       "    </tr>\n",
       "    <tr>\n",
       "      <th>45681</th>\n",
       "      <td>title: aita for not telling my mom i was writi...</td>\n",
       "      <td>0</td>\n",
       "    </tr>\n",
       "    <tr>\n",
       "      <th>10748</th>\n",
       "      <td>title: wibta for going to prom with a boy? / t...</td>\n",
       "      <td>0</td>\n",
       "    </tr>\n",
       "    <tr>\n",
       "      <th>35567</th>\n",
       "      <td>title: aita for hiding that i'm in a relations...</td>\n",
       "      <td>0</td>\n",
       "    </tr>\n",
       "  </tbody>\n",
       "</table>\n",
       "</div>"
      ],
      "text/plain": [
       "                                                   input  verdict\n",
       "8157   title: aita for not wanted babysit my niece fo...        0\n",
       "59194  title: aita for doubting my bf’s plan to start...        0\n",
       "45681  title: aita for not telling my mom i was writi...        0\n",
       "10748  title: wibta for going to prom with a boy? / t...        0\n",
       "35567  title: aita for hiding that i'm in a relations...        0"
      ]
     },
     "execution_count": 15,
     "metadata": {},
     "output_type": "execute_result"
    }
   ],
   "source": [
    "final_data = labeled_data[[\"input\", \"verdict\"]]\n",
    "final_data.head()"
   ]
  },
  {
   "cell_type": "markdown",
   "metadata": {},
   "source": [
    "### Data splitting"
   ]
  },
  {
   "cell_type": "code",
   "execution_count": 16,
   "metadata": {},
   "outputs": [],
   "source": [
    "train, val = train_test_split(final_data, test_size=0.2, random_state=547)\n",
    "train.to_csv(\"./data/train.csv\", index=False)\n",
    "val.to_csv(\"./data/val.csv\", index=False)"
   ]
  },
  {
   "cell_type": "code",
   "execution_count": 17,
   "metadata": {},
   "outputs": [
    {
     "name": "stderr",
     "output_type": "stream",
     "text": [
      "Using custom data configuration default-ece31272f485a1e4\n"
     ]
    },
    {
     "name": "stdout",
     "output_type": "stream",
     "text": [
      "Downloading and preparing dataset csv/default to C:\\Users\\Wenhao\\.cache\\huggingface\\datasets\\csv\\default-ece31272f485a1e4\\0.0.0\\652c3096f041ee27b04d2232d41f10547a8fecda3e284a79a0ec4053c916ef7a...\n"
     ]
    },
    {
     "name": "stderr",
     "output_type": "stream",
     "text": [
      "Downloading data files: 100%|██████████| 2/2 [00:00<00:00, 2006.84it/s]\n",
      "Extracting data files: 100%|██████████| 2/2 [00:00<00:00, 1003.78it/s]\n",
      "                                \r"
     ]
    },
    {
     "name": "stdout",
     "output_type": "stream",
     "text": [
      "Dataset csv downloaded and prepared to C:\\Users\\Wenhao\\.cache\\huggingface\\datasets\\csv\\default-ece31272f485a1e4\\0.0.0\\652c3096f041ee27b04d2232d41f10547a8fecda3e284a79a0ec4053c916ef7a. Subsequent calls will reuse this data.\n"
     ]
    },
    {
     "name": "stderr",
     "output_type": "stream",
     "text": [
      "100%|██████████| 2/2 [00:00<00:00, 308.06it/s]\n"
     ]
    }
   ],
   "source": [
    "dataset = load_dataset(\"csv\", data_files={\"train\": \"./data/train.csv\", \"val\": \"./data/val.csv\"})"
   ]
  },
  {
   "cell_type": "markdown",
   "metadata": {},
   "source": [
    "## Tokenization"
   ]
  },
  {
   "cell_type": "code",
   "execution_count": 18,
   "metadata": {},
   "outputs": [],
   "source": [
    "from transformers import AutoTokenizer\n",
    "\n",
    "### Preprocess Setup ###\n",
    "# tokenization hyperparameters\n",
    "PADDING = 'max_length' # padding strategy\n",
    "PADDING_SIDE = 'right' # the side on which the model should have padding applied\n",
    "TRUNCATION = True # truncate strategy\n",
    "TRUNCATION_SIDE = 'right' # the side on which the model should have truncation applied\n",
    "MAX_LEN = 512 # maximum length to use by one of the truncation/padding parameters\n",
    "\n",
    "# Load the pre-trained tokenmizer ###\n",
    "TOKENIZER = AutoTokenizer.from_pretrained(\n",
    "    MODEL_NAME,\n",
    "    padding_side=PADDING_SIDE,\n",
    "    truncation_side=TRUNCATION_SIDE,\n",
    ")\n",
    "\n",
    "# Define the preprocess function ###\n",
    "def preprocess_function(examples):\n",
    "    \"\"\"\n",
    "    Preprocess the description field\n",
    "    ---\n",
    "    Arguments:\n",
    "    examples (str, List[str], List[List[str]]: the sequence or batch of sequences to be encoded/tokenized\n",
    "\n",
    "    Returns:\n",
    "    tokenized (transformers.BatchEncoding): tokenized descriptions \n",
    "    \"\"\"\n",
    "    tokenized = TOKENIZER(\n",
    "        examples[\"input\"],\n",
    "        padding=PADDING,\n",
    "        truncation=TRUNCATION,\n",
    "        max_length=MAX_LEN,\n",
    "    )\n",
    "\n",
    "    return tokenized"
   ]
  },
  {
   "cell_type": "code",
   "execution_count": 19,
   "metadata": {},
   "outputs": [
    {
     "name": "stderr",
     "output_type": "stream",
     "text": [
      "Parameter 'function'=<function preprocess_function at 0x000001D790881630> of the transform datasets.arrow_dataset.Dataset._map_single couldn't be hashed properly, a random hash was used instead. Make sure your transforms and parameters are serializable with pickle or dill for the dataset fingerprinting and caching to work. If you reuse this transform, the caching mechanism will consider it to be different from the previous calls and recompute everything. This warning is only showed once. Subsequent hashing failures won't be showed.\n",
      "100%|██████████| 26/26 [00:06<00:00,  3.95ba/s]\n",
      "100%|██████████| 7/7 [00:01<00:00,  3.98ba/s]\n"
     ]
    }
   ],
   "source": [
    "tokenized_dataset = dataset.map(preprocess_function, batched=True)\n",
    "tokenized_dataset = tokenized_dataset.remove_columns(\"input\")"
   ]
  },
  {
   "cell_type": "code",
   "execution_count": 20,
   "metadata": {},
   "outputs": [],
   "source": [
    "tokenized_dataset = tokenized_dataset.rename_column(\"verdict\", \"label\")"
   ]
  },
  {
   "cell_type": "markdown",
   "metadata": {},
   "source": [
    "## Evaluation"
   ]
  },
  {
   "cell_type": "code",
   "execution_count": 21,
   "metadata": {},
   "outputs": [],
   "source": [
    "import numpy as np\n",
    "from datasets import load_metric\n",
    "from sklearn.metrics import matthews_corrcoef, cohen_kappa_score, confusion_matrix, balanced_accuracy_score\n",
    "\n",
    "### Evaluation Metrics ###\n",
    "metric_acc = load_metric(\"accuracy\")\n",
    "metric_f1 = load_metric(\"f1\")\n",
    "metric_precision = load_metric(\"precision\")\n",
    "metric_recall = load_metric(\"recall\")\n",
    "metric_auc = load_metric(\"roc_auc\")\n",
    "\n",
    "def compute_metrics(eval_pred):\n",
    "    \"\"\"\n",
    "    Compute the metrics \n",
    "    ---\n",
    "    Arguments:\n",
    "    eval_pred (tuple): the predicted logits and truth labels\n",
    "\n",
    "    Returns:\n",
    "    metrics (dict{str: float}): contains the computed metrics \n",
    "    \"\"\"\n",
    "    logits, labels = eval_pred\n",
    "    predictions = np.argmax(logits, axis=-1)\n",
    "    prediction_scores = np.max(logits, axis=-1)\n",
    "    print(logits.shape, labels.shape)\n",
    "    print(predictions.shape, prediction_scores.shape)\n",
    "\n",
    "    pred_true = np.count_nonzero(predictions)\n",
    "    pred_false = predictions.shape[0] - pred_true\n",
    "    actual_true = np.count_nonzero(labels)\n",
    "    actual_false = labels.shape[0] - actual_true\n",
    "\n",
    "    acc = metric_acc.compute(predictions=predictions, references=labels)['accuracy']\n",
    "    f1 = metric_f1.compute(predictions=predictions, references=labels)['f1']\n",
    "    precision = metric_precision.compute(predictions=predictions, references=labels)['precision']\n",
    "    recall = metric_recall.compute(predictions=predictions, references=labels)['recall']\n",
    "    roc_auc = metric_auc.compute(prediction_scores=predictions, references=labels)['roc_auc']\n",
    "    matthews_correlation = matthews_corrcoef(y_true=labels, y_pred=predictions)\n",
    "    cohen_kappa = cohen_kappa_score(y1=labels, y2=predictions)\n",
    "    balanced_accuracy = balanced_accuracy_score(y_true=labels, y_pred=predictions)\n",
    "\n",
    "    tn, fp, fn, tp = confusion_matrix(y_true=labels, y_pred=predictions).ravel()\n",
    "    specificity = tn / (tn + fp)\n",
    "    sensitivity = tp / (tp + fn)\n",
    "    informedness = specificity + sensitivity - 1\n",
    "\n",
    "    metrics = {\n",
    "        \"pred_true\": pred_true,\n",
    "        \"pred_false\": pred_false,\n",
    "        \"actual_true\": actual_true,\n",
    "        \"actual_false\": actual_false,\n",
    "        \"accuracy\": acc,\n",
    "        \"f1_score\": f1,\n",
    "        \"precision\": precision,\n",
    "        \"recall\": recall,\n",
    "        \"roc_auc\": roc_auc,\n",
    "        \"matthews_correlation\": matthews_correlation,\n",
    "        \"cohen_kappa\": cohen_kappa,\n",
    "        \"true_negative\": tn,\n",
    "        \"false_positive\": fp,\n",
    "        \"false_negative\": fn,\n",
    "        \"true_positive\": tp,\n",
    "        \"specificity\": specificity,\n",
    "        \"sensitivity\": sensitivity,\n",
    "        \"informedness\": informedness,\n",
    "        \"balanced_accuracy\": balanced_accuracy\n",
    "    }\n",
    "    return metrics"
   ]
  },
  {
   "cell_type": "markdown",
   "metadata": {},
   "source": [
    "## Model fitting"
   ]
  },
  {
   "cell_type": "markdown",
   "metadata": {},
   "source": [
    "### Hyperparameters"
   ]
  },
  {
   "cell_type": "code",
   "execution_count": 22,
   "metadata": {},
   "outputs": [],
   "source": [
    "# model hyperparameters\n",
    "CLASSIFIER_DROPOUT = 0.15 # dropout ratio for the classification head\n",
    "NUM_CLASSES = 2 # number of classes\n",
    "\n",
    "# optimization hyperparameters ###\n",
    "SEED = 547 # random seed for splitting the data into batches\n",
    "BATCH_SIZE = 16 # batch size for both training and evaluation\n",
    "GRAD_ACC_STEPS = 4 # number of steps for gradient accumulation\n",
    "LR = 5e-5 # initial learning rate\n",
    "WEIGHT_DECAY = 2e-3 # weight decay to apply in the AdamW optimizer\n",
    "EPOCHS = 5 # total number of training epochs \n",
    "LR_SCHEDULER = \"cosine\" # type of learning rate scheduler\n",
    "STRATEGY = \"steps\" # strategy for logging, evaluation, and saving\n",
    "STEPS = 200 # number of steps for logging, evaluation, and saving\n",
    "EVAL_METRIC = \"f1_score\" # metric for selecting the best model"
   ]
  },
  {
   "cell_type": "markdown",
   "metadata": {},
   "source": [
    "### Fitting the model"
   ]
  },
  {
   "cell_type": "code",
   "execution_count": 23,
   "metadata": {},
   "outputs": [
    {
     "name": "stderr",
     "output_type": "stream",
     "text": [
      "Some weights of the model checkpoint at bert-base-uncased were not used when initializing BertForSequenceClassification: ['cls.predictions.transform.LayerNorm.weight', 'cls.predictions.transform.dense.weight', 'cls.seq_relationship.weight', 'cls.predictions.decoder.weight', 'cls.predictions.transform.dense.bias', 'cls.predictions.bias', 'cls.predictions.transform.LayerNorm.bias', 'cls.seq_relationship.bias']\n",
      "- This IS expected if you are initializing BertForSequenceClassification from the checkpoint of a model trained on another task or with another architecture (e.g. initializing a BertForSequenceClassification model from a BertForPreTraining model).\n",
      "- This IS NOT expected if you are initializing BertForSequenceClassification from the checkpoint of a model that you expect to be exactly identical (initializing a BertForSequenceClassification model from a BertForSequenceClassification model).\n",
      "Some weights of BertForSequenceClassification were not initialized from the model checkpoint at bert-base-uncased and are newly initialized: ['classifier.weight', 'classifier.bias']\n",
      "You should probably TRAIN this model on a down-stream task to be able to use it for predictions and inference.\n"
     ]
    }
   ],
   "source": [
    "model = AutoModelForSequenceClassification.from_pretrained(\n",
    "    MODEL_NAME,\n",
    "    classifier_dropout=CLASSIFIER_DROPOUT,\n",
    "    num_labels=NUM_CLASSES,\n",
    ")"
   ]
  },
  {
   "cell_type": "code",
   "execution_count": 24,
   "metadata": {},
   "outputs": [],
   "source": [
    "# set up the training arguments\n",
    "training_args = TrainingArguments(\n",
    "    output_dir=\"./model\",\n",
    "    per_device_train_batch_size=BATCH_SIZE,\n",
    "    per_device_eval_batch_size=BATCH_SIZE,\n",
    "    gradient_accumulation_steps=GRAD_ACC_STEPS,\n",
    "    learning_rate=LR,\n",
    "    weight_decay=WEIGHT_DECAY, \n",
    "    num_train_epochs=EPOCHS,\n",
    "    lr_scheduler_type=LR_SCHEDULER,\n",
    "    evaluation_strategy=STRATEGY,\n",
    "    logging_strategy=STRATEGY, \n",
    "    save_strategy=STRATEGY,\n",
    "    eval_steps=STEPS,\n",
    "    logging_steps=STEPS,\n",
    "    save_steps=STEPS,\n",
    "    seed=SEED,\n",
    "    load_best_model_at_end=True,\n",
    "    metric_for_best_model=EVAL_METRIC,\n",
    "    report_to=\"none\"\n",
    ")"
   ]
  },
  {
   "cell_type": "code",
   "execution_count": 25,
   "metadata": {},
   "outputs": [],
   "source": [
    "# set up the trainer \n",
    "trainer = Trainer(\n",
    "    model=model,\n",
    "    args=training_args,\n",
    "    train_dataset=tokenized_dataset['train'],\n",
    "    eval_dataset=tokenized_dataset['val'],\n",
    "    tokenizer=TOKENIZER,   \n",
    "    compute_metrics=compute_metrics,\n",
    ")"
   ]
  },
  {
   "cell_type": "code",
   "execution_count": 26,
   "metadata": {},
   "outputs": [],
   "source": [
    "try:\n",
    "    shutil.rmtree(\"./model\") # remove possible cache\n",
    "    # shutil.rmtree(best_model_dir)\n",
    "    # os.remove(best_model_dir_zip)\n",
    "    os.mkdir(\"./model\")\n",
    "except:\n",
    "    None"
   ]
  },
  {
   "cell_type": "code",
   "execution_count": 27,
   "metadata": {},
   "outputs": [
    {
     "name": "stderr",
     "output_type": "stream",
     "text": [
      "c:\\Users\\Wenhao\\miniconda3\\envs\\deep_wa_bert\\lib\\site-packages\\transformers\\optimization.py:306: FutureWarning: This implementation of AdamW is deprecated and will be removed in a future version. Use the PyTorch implementation torch.optim.AdamW instead, or set `no_deprecation_warning=True` to disable this warning\n",
      "  warnings.warn(\n",
      "***** Running training *****\n",
      "  Num examples = 25748\n",
      "  Num Epochs = 5\n",
      "  Instantaneous batch size per device = 16\n",
      "  Total train batch size (w. parallel, distributed & accumulation) = 64\n",
      "  Gradient Accumulation steps = 4\n",
      "  Total optimization steps = 2010\n",
      " 10%|▉         | 200/2010 [04:26<40:43,  1.35s/it]***** Running Evaluation *****\n",
      "  Num examples = 6438\n",
      "  Batch size = 16\n"
     ]
    },
    {
     "name": "stdout",
     "output_type": "stream",
     "text": [
      "{'loss': 0.6892, 'learning_rate': 4.8788458556153635e-05, 'epoch': 0.5}\n"
     ]
    },
    {
     "name": "stderr",
     "output_type": "stream",
     "text": [
      "                                                  \n",
      " 10%|▉         | 200/2010 [05:16<40:43,  1.35s/it]Saving model checkpoint to ./model\\checkpoint-200\n",
      "Configuration saved in ./model\\checkpoint-200\\config.json\n"
     ]
    },
    {
     "name": "stdout",
     "output_type": "stream",
     "text": [
      "(6438, 2) (6438,)\n",
      "(6438,) (6438,)\n",
      "{'eval_loss': 0.6760535836219788, 'eval_pred_true': 2841, 'eval_pred_false': 3597, 'eval_actual_true': 3177, 'eval_actual_false': 3261, 'eval_accuracy': 0.5986331158744952, 'eval_f1_score': 0.5706214689265536, 'eval_precision': 0.6043646603308694, 'eval_recall': 0.5404469625432798, 'eval_roc_auc': 0.5978837081958962, 'eval_matthews_correlation': 0.1971145034740857, 'eval_cohen_kappa': 0.19603444201357323, 'eval_true_negative': 2137, 'eval_false_positive': 1124, 'eval_false_negative': 1460, 'eval_true_positive': 1717, 'eval_specificity': 0.6553204538485127, 'eval_sensitivity': 0.5404469625432798, 'eval_informedness': 0.19576741639179263, 'eval_balanced_accuracy': 0.5978837081958963, 'eval_runtime': 49.5749, 'eval_samples_per_second': 129.864, 'eval_steps_per_second': 8.129, 'epoch': 0.5}\n"
     ]
    },
    {
     "name": "stderr",
     "output_type": "stream",
     "text": [
      "Model weights saved in ./model\\checkpoint-200\\pytorch_model.bin\n",
      "tokenizer config file saved in ./model\\checkpoint-200\\tokenizer_config.json\n",
      "Special tokens file saved in ./model\\checkpoint-200\\special_tokens_map.json\n",
      " 20%|█▉        | 400/2010 [09:54<37:46,  1.41s/it]  ***** Running Evaluation *****\n",
      "  Num examples = 6438\n",
      "  Batch size = 16\n"
     ]
    },
    {
     "name": "stdout",
     "output_type": "stream",
     "text": [
      "{'loss': 0.6764, 'learning_rate': 4.5271260838227124e-05, 'epoch': 0.99}\n"
     ]
    },
    {
     "name": "stderr",
     "output_type": "stream",
     "text": [
      "                                                  \n",
      " 20%|█▉        | 400/2010 [10:46<37:46,  1.41s/it]Saving model checkpoint to ./model\\checkpoint-400\n",
      "Configuration saved in ./model\\checkpoint-400\\config.json\n"
     ]
    },
    {
     "name": "stdout",
     "output_type": "stream",
     "text": [
      "(6438, 2) (6438,)\n",
      "(6438,) (6438,)\n",
      "{'eval_loss': 0.6828506588935852, 'eval_pred_true': 4795, 'eval_pred_false': 1643, 'eval_actual_true': 3177, 'eval_actual_false': 3261, 'eval_accuracy': 0.5902454178316248, 'eval_f1_score': 0.6690918213748119, 'eval_precision': 0.5562043795620438, 'eval_recall': 0.8394711992445704, 'eval_roc_auc': 0.5934553175002366, 'eval_matthews_correlation': 0.2143408419289653, 'eval_cohen_kappa': 0.18569261498177092, 'eval_true_negative': 1133, 'eval_false_positive': 2128, 'eval_false_negative': 510, 'eval_true_positive': 2667, 'eval_specificity': 0.3474394357559031, 'eval_sensitivity': 0.8394711992445704, 'eval_informedness': 0.18691063500047345, 'eval_balanced_accuracy': 0.5934553175002367, 'eval_runtime': 52.2285, 'eval_samples_per_second': 123.266, 'eval_steps_per_second': 7.716, 'epoch': 0.99}\n"
     ]
    },
    {
     "name": "stderr",
     "output_type": "stream",
     "text": [
      "Model weights saved in ./model\\checkpoint-400\\pytorch_model.bin\n",
      "tokenizer config file saved in ./model\\checkpoint-400\\tokenizer_config.json\n",
      "Special tokens file saved in ./model\\checkpoint-400\\special_tokens_map.json\n",
      " 30%|██▉       | 600/2010 [15:34<33:57,  1.44s/it]  ***** Running Evaluation *****\n",
      "  Num examples = 6438\n",
      "  Batch size = 16\n"
     ]
    },
    {
     "name": "stdout",
     "output_type": "stream",
     "text": [
      "{'loss': 0.6414, 'learning_rate': 3.978930531033807e-05, 'epoch': 1.49}\n"
     ]
    },
    {
     "name": "stderr",
     "output_type": "stream",
     "text": [
      "                                                  \n",
      " 30%|██▉       | 600/2010 [16:27<33:57,  1.44s/it]Saving model checkpoint to ./model\\checkpoint-600\n",
      "Configuration saved in ./model\\checkpoint-600\\config.json\n"
     ]
    },
    {
     "name": "stdout",
     "output_type": "stream",
     "text": [
      "(6438, 2) (6438,)\n",
      "(6438,) (6438,)\n",
      "{'eval_loss': 0.657545268535614, 'eval_pred_true': 3296, 'eval_pred_false': 3142, 'eval_actual_true': 3177, 'eval_actual_false': 3261, 'eval_accuracy': 0.6239515377446412, 'eval_f1_score': 0.6259848601884752, 'eval_precision': 0.6146844660194175, 'eval_recall': 0.6377085300598049, 'eval_roc_auc': 0.6241287207183416, 'eval_matthews_correlation': 0.24830735863959727, 'eval_cohen_kappa': 0.24813773402237005, 'eval_true_negative': 1991, 'eval_false_positive': 1270, 'eval_false_negative': 1151, 'eval_true_positive': 2026, 'eval_specificity': 0.6105489113768783, 'eval_sensitivity': 0.6377085300598049, 'eval_informedness': 0.24825744143668316, 'eval_balanced_accuracy': 0.6241287207183416, 'eval_runtime': 53.7341, 'eval_samples_per_second': 119.812, 'eval_steps_per_second': 7.5, 'epoch': 1.49}\n"
     ]
    },
    {
     "name": "stderr",
     "output_type": "stream",
     "text": [
      "Model weights saved in ./model\\checkpoint-600\\pytorch_model.bin\n",
      "tokenizer config file saved in ./model\\checkpoint-600\\tokenizer_config.json\n",
      "Special tokens file saved in ./model\\checkpoint-600\\special_tokens_map.json\n",
      " 40%|███▉      | 800/2010 [21:19<29:20,  1.45s/it]  ***** Running Evaluation *****\n",
      "  Num examples = 6438\n",
      "  Batch size = 16\n"
     ]
    },
    {
     "name": "stdout",
     "output_type": "stream",
     "text": [
      "{'loss': 0.6339, 'learning_rate': 3.287392127771526e-05, 'epoch': 1.99}\n"
     ]
    },
    {
     "name": "stderr",
     "output_type": "stream",
     "text": [
      "                                                  \n",
      " 40%|███▉      | 800/2010 [22:14<29:20,  1.45s/it]Saving model checkpoint to ./model\\checkpoint-800\n",
      "Configuration saved in ./model\\checkpoint-800\\config.json\n"
     ]
    },
    {
     "name": "stdout",
     "output_type": "stream",
     "text": [
      "(6438, 2) (6438,)\n",
      "(6438,) (6438,)\n",
      "{'eval_loss': 0.6410291194915771, 'eval_pred_true': 3488, 'eval_pred_false': 2950, 'eval_actual_true': 3177, 'eval_actual_false': 3261, 'eval_accuracy': 0.6335818577197887, 'eval_f1_score': 0.6460615153788447, 'eval_precision': 0.6172591743119266, 'eval_recall': 0.677683349071451, 'eval_roc_auc': 0.6341498622082187, 'eval_matthews_correlation': 0.26921855400066746, 'eval_cohen_kappa': 0.2679618816034576, 'eval_true_negative': 1926, 'eval_false_positive': 1335, 'eval_false_negative': 1024, 'eval_true_positive': 2153, 'eval_specificity': 0.5906163753449862, 'eval_sensitivity': 0.677683349071451, 'eval_informedness': 0.26829972441643735, 'eval_balanced_accuracy': 0.6341498622082187, 'eval_runtime': 54.7454, 'eval_samples_per_second': 117.599, 'eval_steps_per_second': 7.361, 'epoch': 1.99}\n"
     ]
    },
    {
     "name": "stderr",
     "output_type": "stream",
     "text": [
      "Model weights saved in ./model\\checkpoint-800\\pytorch_model.bin\n",
      "tokenizer config file saved in ./model\\checkpoint-800\\tokenizer_config.json\n",
      "Special tokens file saved in ./model\\checkpoint-800\\special_tokens_map.json\n",
      " 50%|████▉     | 1000/2010 [27:08<24:41,  1.47s/it] ***** Running Evaluation *****\n",
      "  Num examples = 6438\n",
      "  Batch size = 16\n"
     ]
    },
    {
     "name": "stdout",
     "output_type": "stream",
     "text": [
      "{'loss': 0.5184, 'learning_rate': 2.51953706888096e-05, 'epoch': 2.49}\n"
     ]
    },
    {
     "name": "stderr",
     "output_type": "stream",
     "text": [
      "                                                   \n",
      " 50%|████▉     | 1000/2010 [28:03<24:41,  1.47s/it]Saving model checkpoint to ./model\\checkpoint-1000\n",
      "Configuration saved in ./model\\checkpoint-1000\\config.json\n"
     ]
    },
    {
     "name": "stdout",
     "output_type": "stream",
     "text": [
      "(6438, 2) (6438,)\n",
      "(6438,) (6438,)\n",
      "{'eval_loss': 0.7335140705108643, 'eval_pred_true': 3557, 'eval_pred_false': 2881, 'eval_actual_true': 3177, 'eval_actual_false': 3261, 'eval_accuracy': 0.6191363777570674, 'eval_f1_score': 0.635877635877636, 'eval_precision': 0.6019117233623841, 'eval_recall': 0.6739062008183822, 'eval_roc_auc': 0.619841784861813, 'eval_matthews_correlation': 0.24099537572357624, 'eval_cohen_kappa': 0.2393149024248573, 'eval_true_negative': 1845, 'eval_false_positive': 1416, 'eval_false_negative': 1036, 'eval_true_positive': 2141, 'eval_specificity': 0.5657773689052438, 'eval_sensitivity': 0.6739062008183822, 'eval_informedness': 0.23968356972362592, 'eval_balanced_accuracy': 0.619841784861813, 'eval_runtime': 55.733, 'eval_samples_per_second': 115.515, 'eval_steps_per_second': 7.231, 'epoch': 2.49}\n"
     ]
    },
    {
     "name": "stderr",
     "output_type": "stream",
     "text": [
      "Model weights saved in ./model\\checkpoint-1000\\pytorch_model.bin\n",
      "tokenizer config file saved in ./model\\checkpoint-1000\\tokenizer_config.json\n",
      "Special tokens file saved in ./model\\checkpoint-1000\\special_tokens_map.json\n",
      " 60%|█████▉    | 1200/2010 [32:59<19:45,  1.46s/it]  ***** Running Evaluation *****\n",
      "  Num examples = 6438\n",
      "  Batch size = 16\n"
     ]
    },
    {
     "name": "stdout",
     "output_type": "stream",
     "text": [
      "{'loss': 0.4972, 'learning_rate': 1.749788412499149e-05, 'epoch': 2.98}\n"
     ]
    },
    {
     "name": "stderr",
     "output_type": "stream",
     "text": [
      "                                                   \n",
      " 60%|█████▉    | 1200/2010 [33:56<19:45,  1.46s/it]Saving model checkpoint to ./model\\checkpoint-1200\n",
      "Configuration saved in ./model\\checkpoint-1200\\config.json\n"
     ]
    },
    {
     "name": "stdout",
     "output_type": "stream",
     "text": [
      "(6438, 2) (6438,)\n",
      "(6438,) (6438,)\n",
      "{'eval_loss': 0.7117177844047546, 'eval_pred_true': 2501, 'eval_pred_false': 3937, 'eval_actual_true': 3177, 'eval_actual_false': 3261, 'eval_accuracy': 0.6278347312830072, 'eval_f1_score': 0.5780204297287778, 'eval_precision': 0.6561375449820072, 'eval_recall': 0.5165250236071766, 'eval_roc_auc': 0.62640111959261, 'eval_matthews_correlation': 0.25931364507352456, 'eval_cohen_kappa': 0.25349694462874584, 'eval_true_negative': 2401, 'eval_false_positive': 860, 'eval_false_negative': 1536, 'eval_true_positive': 1641, 'eval_specificity': 0.7362772155780436, 'eval_sensitivity': 0.5165250236071766, 'eval_informedness': 0.25280223918522005, 'eval_balanced_accuracy': 0.62640111959261, 'eval_runtime': 56.4382, 'eval_samples_per_second': 114.072, 'eval_steps_per_second': 7.141, 'epoch': 2.98}\n"
     ]
    },
    {
     "name": "stderr",
     "output_type": "stream",
     "text": [
      "Model weights saved in ./model\\checkpoint-1200\\pytorch_model.bin\n",
      "tokenizer config file saved in ./model\\checkpoint-1200\\tokenizer_config.json\n",
      "Special tokens file saved in ./model\\checkpoint-1200\\special_tokens_map.json\n",
      " 70%|██████▉   | 1400/2010 [38:53<14:59,  1.48s/it]  ***** Running Evaluation *****\n",
      "  Num examples = 6438\n",
      "  Batch size = 16\n"
     ]
    },
    {
     "name": "stdout",
     "output_type": "stream",
     "text": [
      "{'loss': 0.3128, 'learning_rate': 1.0527527505102214e-05, 'epoch': 3.48}\n"
     ]
    },
    {
     "name": "stderr",
     "output_type": "stream",
     "text": [
      "                                                   \n",
      " 70%|██████▉   | 1400/2010 [39:50<14:59,  1.48s/it]Saving model checkpoint to ./model\\checkpoint-1400\n",
      "Configuration saved in ./model\\checkpoint-1400\\config.json\n"
     ]
    },
    {
     "name": "stdout",
     "output_type": "stream",
     "text": [
      "(6438, 2) (6438,)\n",
      "(6438,) (6438,)\n",
      "{'eval_loss': 0.9445630311965942, 'eval_pred_true': 3008, 'eval_pred_false': 3430, 'eval_actual_true': 3177, 'eval_actual_false': 3261, 'eval_accuracy': 0.6205343274308791, 'eval_f1_score': 0.6050121261115602, 'eval_precision': 0.6220079787234043, 'eval_recall': 0.5889203651243311, 'eval_roc_auc': 0.6201271558832326, 'eval_matthews_correlation': 0.24075162179966017, 'eval_cohen_kappa': 0.24041902815765603, 'eval_true_negative': 2124, 'eval_false_positive': 1137, 'eval_false_negative': 1306, 'eval_true_positive': 1871, 'eval_specificity': 0.6513339466421343, 'eval_sensitivity': 0.5889203651243311, 'eval_informedness': 0.24025431176646528, 'eval_balanced_accuracy': 0.6201271558832326, 'eval_runtime': 56.2489, 'eval_samples_per_second': 114.456, 'eval_steps_per_second': 7.165, 'epoch': 3.48}\n"
     ]
    },
    {
     "name": "stderr",
     "output_type": "stream",
     "text": [
      "Model weights saved in ./model\\checkpoint-1400\\pytorch_model.bin\n",
      "tokenizer config file saved in ./model\\checkpoint-1400\\tokenizer_config.json\n",
      "Special tokens file saved in ./model\\checkpoint-1400\\special_tokens_map.json\n",
      " 80%|███████▉  | 1600/2010 [44:47<10:08,  1.48s/it]  ***** Running Evaluation *****\n",
      "  Num examples = 6438\n",
      "  Batch size = 16\n"
     ]
    },
    {
     "name": "stdout",
     "output_type": "stream",
     "text": [
      "{'loss': 0.306, 'learning_rate': 4.959890903012568e-06, 'epoch': 3.98}\n"
     ]
    },
    {
     "name": "stderr",
     "output_type": "stream",
     "text": [
      "                                                   \n",
      " 80%|███████▉  | 1600/2010 [45:44<10:08,  1.48s/it]Saving model checkpoint to ./model\\checkpoint-1600\n",
      "Configuration saved in ./model\\checkpoint-1600\\config.json\n"
     ]
    },
    {
     "name": "stdout",
     "output_type": "stream",
     "text": [
      "(6438, 2) (6438,)\n",
      "(6438,) (6438,)\n",
      "{'eval_loss': 0.9173029661178589, 'eval_pred_true': 2832, 'eval_pred_false': 3606, 'eval_actual_true': 3177, 'eval_actual_false': 3261, 'eval_accuracy': 0.6177384280832556, 'eval_f1_score': 0.5904476618405724, 'eval_precision': 0.626412429378531, 'eval_recall': 0.5583884167453572, 'eval_roc_auc': 0.6169740305131263, 'eval_matthews_correlation': 0.23563726385418288, 'eval_cohen_kappa': 0.234275724220684, 'eval_true_negative': 2203, 'eval_false_positive': 1058, 'eval_false_negative': 1403, 'eval_true_positive': 1774, 'eval_specificity': 0.6755596442808954, 'eval_sensitivity': 0.5583884167453572, 'eval_informedness': 0.23394806102625276, 'eval_balanced_accuracy': 0.6169740305131264, 'eval_runtime': 57.0323, 'eval_samples_per_second': 112.883, 'eval_steps_per_second': 7.066, 'epoch': 3.98}\n"
     ]
    },
    {
     "name": "stderr",
     "output_type": "stream",
     "text": [
      "Model weights saved in ./model\\checkpoint-1600\\pytorch_model.bin\n",
      "tokenizer config file saved in ./model\\checkpoint-1600\\tokenizer_config.json\n",
      "Special tokens file saved in ./model\\checkpoint-1600\\special_tokens_map.json\n",
      " 90%|████████▉ | 1800/2010 [50:42<05:10,  1.48s/it]  ***** Running Evaluation *****\n",
      "  Num examples = 6438\n",
      "  Batch size = 16\n"
     ]
    },
    {
     "name": "stdout",
     "output_type": "stream",
     "text": [
      "{'loss': 0.2155, 'learning_rate': 1.3346081177391472e-06, 'epoch': 4.48}\n"
     ]
    },
    {
     "name": "stderr",
     "output_type": "stream",
     "text": [
      "                                                   \n",
      " 90%|████████▉ | 1800/2010 [51:39<05:10,  1.48s/it]Saving model checkpoint to ./model\\checkpoint-1800\n",
      "Configuration saved in ./model\\checkpoint-1800\\config.json\n"
     ]
    },
    {
     "name": "stdout",
     "output_type": "stream",
     "text": [
      "(6438, 2) (6438,)\n",
      "(6438,) (6438,)\n",
      "{'eval_loss': 1.1121612787246704, 'eval_pred_true': 3283, 'eval_pred_false': 3155, 'eval_actual_true': 3177, 'eval_actual_false': 3261, 'eval_accuracy': 0.6132339235787512, 'eval_f1_score': 0.6145510835913313, 'eval_precision': 0.604629911666159, 'eval_recall': 0.624803273528486, 'eval_roc_auc': 0.6133829308458131, 'eval_matthews_correlation': 0.226791387619407, 'eval_cohen_kappa': 0.2266684573688892, 'eval_true_negative': 1963, 'eval_false_positive': 1298, 'eval_false_negative': 1192, 'eval_true_positive': 1985, 'eval_specificity': 0.6019625881631402, 'eval_sensitivity': 0.624803273528486, 'eval_informedness': 0.22676586169162616, 'eval_balanced_accuracy': 0.6133829308458131, 'eval_runtime': 56.8995, 'eval_samples_per_second': 113.147, 'eval_steps_per_second': 7.083, 'epoch': 4.48}\n"
     ]
    },
    {
     "name": "stderr",
     "output_type": "stream",
     "text": [
      "Model weights saved in ./model\\checkpoint-1800\\pytorch_model.bin\n",
      "tokenizer config file saved in ./model\\checkpoint-1800\\tokenizer_config.json\n",
      "Special tokens file saved in ./model\\checkpoint-1800\\special_tokens_map.json\n",
      "100%|█████████▉| 2000/2010 [56:37<00:14,  1.48s/it]  ***** Running Evaluation *****\n",
      "  Num examples = 6438\n",
      "  Batch size = 16\n"
     ]
    },
    {
     "name": "stdout",
     "output_type": "stream",
     "text": [
      "{'loss': 0.1882, 'learning_rate': 3.0535764836747695e-09, 'epoch': 4.97}\n"
     ]
    },
    {
     "name": "stderr",
     "output_type": "stream",
     "text": [
      "                                                   \n",
      "100%|█████████▉| 2000/2010 [57:34<00:14,  1.48s/it]Saving model checkpoint to ./model\\checkpoint-2000\n",
      "Configuration saved in ./model\\checkpoint-2000\\config.json\n"
     ]
    },
    {
     "name": "stdout",
     "output_type": "stream",
     "text": [
      "(6438, 2) (6438,)\n",
      "(6438,) (6438,)\n",
      "{'eval_loss': 1.1419950723648071, 'eval_pred_true': 3251, 'eval_pred_false': 3187, 'eval_actual_true': 3177, 'eval_actual_false': 3261, 'eval_accuracy': 0.614165890027959, 'eval_f1_score': 0.6135656502800247, 'eval_precision': 0.6065825899723162, 'eval_recall': 0.6207113629209946, 'eval_roc_auc': 0.6142501923467285, 'eval_matthews_correlation': 0.22849222455774845, 'eval_cohen_kappa': 0.22843185643962038, 'eval_true_negative': 1982, 'eval_false_positive': 1279, 'eval_false_negative': 1205, 'eval_true_positive': 1972, 'eval_specificity': 0.6077890217724624, 'eval_sensitivity': 0.6207113629209946, 'eval_informedness': 0.22850038469345701, 'eval_balanced_accuracy': 0.6142501923467285, 'eval_runtime': 57.1258, 'eval_samples_per_second': 112.699, 'eval_steps_per_second': 7.055, 'epoch': 4.97}\n"
     ]
    },
    {
     "name": "stderr",
     "output_type": "stream",
     "text": [
      "Model weights saved in ./model\\checkpoint-2000\\pytorch_model.bin\n",
      "tokenizer config file saved in ./model\\checkpoint-2000\\tokenizer_config.json\n",
      "Special tokens file saved in ./model\\checkpoint-2000\\special_tokens_map.json\n",
      "100%|██████████| 2010/2010 [57:50<00:00,  2.18s/it]\n",
      "\n",
      "Training completed. Do not forget to share your model on huggingface.co/models =)\n",
      "\n",
      "\n",
      "Loading best model from ./model\\checkpoint-400 (score: 0.6690918213748119).\n",
      "100%|██████████| 2010/2010 [57:51<00:00,  1.73s/it]"
     ]
    },
    {
     "name": "stdout",
     "output_type": "stream",
     "text": [
      "{'train_runtime': 3471.1018, 'train_samples_per_second': 37.089, 'train_steps_per_second': 0.579, 'train_loss': 0.46642771633110236, 'epoch': 5.0}\n"
     ]
    },
    {
     "name": "stderr",
     "output_type": "stream",
     "text": [
      "\n"
     ]
    },
    {
     "data": {
      "text/plain": [
       "TrainOutput(global_step=2010, training_loss=0.46642771633110236, metrics={'train_runtime': 3471.1018, 'train_samples_per_second': 37.089, 'train_steps_per_second': 0.579, 'train_loss': 0.46642771633110236, 'epoch': 5.0})"
      ]
     },
     "execution_count": 27,
     "metadata": {},
     "output_type": "execute_result"
    }
   ],
   "source": [
    "trainer.train()"
   ]
  },
  {
   "cell_type": "code",
   "execution_count": 28,
   "metadata": {},
   "outputs": [
    {
     "name": "stderr",
     "output_type": "stream",
     "text": [
      "Configuration saved in ./basic_feature_model\\config.json\n",
      "Model weights saved in ./basic_feature_model\\pytorch_model.bin\n"
     ]
    }
   ],
   "source": [
    "model.save_pretrained(\"./basic_feature_model\")"
   ]
  },
  {
   "cell_type": "code",
   "execution_count": 29,
   "metadata": {},
   "outputs": [
    {
     "name": "stderr",
     "output_type": "stream",
     "text": [
      "***** Running Prediction *****\n",
      "  Num examples = 6438\n",
      "  Batch size = 16\n",
      "100%|██████████| 403/403 [00:48<00:00,  8.29it/s]"
     ]
    },
    {
     "name": "stdout",
     "output_type": "stream",
     "text": [
      "(6438, 2) (6438,)\n",
      "(6438,) (6438,)\n"
     ]
    },
    {
     "name": "stderr",
     "output_type": "stream",
     "text": [
      "\n"
     ]
    }
   ],
   "source": [
    "val_eval = {}\n",
    "\n",
    "val_predictions = trainer.predict(tokenized_dataset[\"val\"])\n",
    "val_eval[0] = val_predictions.metrics\n",
    "\n",
    "val_eval_df = pd.DataFrame.from_dict(val_eval).transpose()\n",
    "val_eval_df.to_csv(f\"metrics/basic_feature_val_evaluation.csv\")"
   ]
  },
  {
   "cell_type": "markdown",
   "metadata": {},
   "source": [
    "## Hyperparameter tuning"
   ]
  },
  {
   "cell_type": "markdown",
   "metadata": {},
   "source": [
    "Here we tune three hyperparameters -- learning rate, weight_decay, dropout."
   ]
  },
  {
   "cell_type": "code",
   "execution_count": 23,
   "metadata": {},
   "outputs": [],
   "source": [
    "import itertools as it\n",
    "\n",
    "# model hyperparameters\n",
    "CLASSIFIER_DROPOUT = 0.15 # dropout ratio for the classification head\n",
    "NUM_CLASSES = 2 # number of classes\n",
    "\n",
    "# optimization hyperparameters ###\n",
    "SEED = 547 # random seed for splitting the data into batches\n",
    "BATCH_SIZE = 16 # batch size for both training and evaluation\n",
    "GRAD_ACC_STEPS = 2 # number of steps for gradient accumulation\n",
    "LR = 5e-5 # initial learning rate\n",
    "WEIGHT_DECAY = 2e-3 # weight decay to apply in the AdamW optimizer\n",
    "EPOCHS = 3 # total number of training epochs \n",
    "LR_SCHEDULER = \"cosine\" # type of learning rate scheduler\n",
    "STRATEGY = \"steps\" # strategy for logging, evaluation, and saving\n",
    "STEPS = 100 # number of steps for logging, evaluation, and saving\n",
    "EVAL_METRIC = \"f1_score\" # metric for selecting the best model\n",
    "\n",
    "HYPERPARAMETER_GRID = {\n",
    "    \"learning_rate\": [5e-5, 3e-5, 2e-5], # recommended by the BERT authors\n",
    "    \"weight_decay\": [1/8 * 1e-3, 1/4 * 1e-3, 1/2 * 1e-3], # recommended by the AdamW authors\n",
    "    \"dropout\": [1e-1, 3e-1, 5e-1]\n",
    "}\n",
    "\n",
    "ALL_COMBINATIONS = it.product(*(HYPERPARAMETER_GRID[key] for key in HYPERPARAMETER_GRID))\n",
    "ALL_COMBINATIONS = list(ALL_COMBINATIONS)"
   ]
  },
  {
   "cell_type": "code",
   "execution_count": 26,
   "metadata": {},
   "outputs": [],
   "source": [
    "ALL_COMBINATIONS = ALL_COMBINATIONS[1:]"
   ]
  },
  {
   "cell_type": "code",
   "execution_count": 28,
   "metadata": {},
   "outputs": [
    {
     "name": "stdout",
     "output_type": "stream",
     "text": [
      "=== Learning rate = 5e-05, Weight decay = 0.000125, Classifier dropout = 0.3 ===\n"
     ]
    },
    {
     "name": "stderr",
     "output_type": "stream",
     "text": [
      "Some weights of the model checkpoint at bert-base-uncased were not used when initializing BertForSequenceClassification: ['cls.predictions.transform.LayerNorm.weight', 'cls.seq_relationship.weight', 'cls.predictions.decoder.weight', 'cls.predictions.transform.LayerNorm.bias', 'cls.predictions.bias', 'cls.predictions.transform.dense.bias', 'cls.predictions.transform.dense.weight', 'cls.seq_relationship.bias']\n",
      "- This IS expected if you are initializing BertForSequenceClassification from the checkpoint of a model trained on another task or with another architecture (e.g. initializing a BertForSequenceClassification model from a BertForPreTraining model).\n",
      "- This IS NOT expected if you are initializing BertForSequenceClassification from the checkpoint of a model that you expect to be exactly identical (initializing a BertForSequenceClassification model from a BertForSequenceClassification model).\n",
      "Some weights of BertForSequenceClassification were not initialized from the model checkpoint at bert-base-uncased and are newly initialized: ['classifier.bias', 'classifier.weight']\n",
      "You should probably TRAIN this model on a down-stream task to be able to use it for predictions and inference.\n",
      "c:\\Users\\Wenhao\\miniconda3\\envs\\deep_wa_bert\\lib\\site-packages\\transformers\\optimization.py:306: FutureWarning: This implementation of AdamW is deprecated and will be removed in a future version. Use the PyTorch implementation torch.optim.AdamW instead, or set `no_deprecation_warning=True` to disable this warning\n",
      "  warnings.warn(\n",
      "***** Running training *****\n",
      "  Num examples = 25748\n",
      "  Num Epochs = 3\n",
      "  Instantaneous batch size per device = 16\n",
      "  Total train batch size (w. parallel, distributed & accumulation) = 32\n",
      "  Gradient Accumulation steps = 2\n",
      "  Total optimization steps = 2415\n",
      "  4%|▍         | 100/2415 [01:14<28:02,  1.38it/s]***** Running Evaluation *****\n",
      "  Num examples = 6438\n",
      "  Batch size = 16\n"
     ]
    },
    {
     "name": "stdout",
     "output_type": "stream",
     "text": [
      "{'loss': 0.7004, 'learning_rate': 4.97887664223157e-05, 'epoch': 0.12}\n"
     ]
    },
    {
     "name": "stderr",
     "output_type": "stream",
     "text": [
      "\n",
      "  4%|▍         | 100/2415 [02:08<28:02,  1.38it/s]Saving model checkpoint to ./model\\checkpoint-100\n",
      "Configuration saved in ./model\\checkpoint-100\\config.json\n"
     ]
    },
    {
     "name": "stdout",
     "output_type": "stream",
     "text": [
      "(6438, 2) (6438,)\n",
      "(6438,) (6438,)\n",
      "{'eval_loss': 0.691122829914093, 'eval_pred_true': 21, 'eval_pred_false': 6417, 'eval_actual_true': 3177, 'eval_actual_false': 3261, 'eval_accuracy': 0.5079217148182665, 'eval_f1_score': 0.009380863039399624, 'eval_precision': 0.7142857142857143, 'eval_recall': 0.004721435316336166, 'eval_roc_auc': 0.5014407544566961, 'eval_matthews_correlation': 0.025265523843754474, 'eval_cohen_kappa': 0.0029188537537234716, 'eval_true_negative': 3255, 'eval_false_positive': 6, 'eval_false_negative': 3162, 'eval_true_positive': 15, 'eval_specificity': 0.9981600735970562, 'eval_sensitivity': 0.004721435316336166, 'eval_informedness': 0.002881508913392228, 'eval_balanced_accuracy': 0.5014407544566961, 'eval_runtime': 53.2701, 'eval_samples_per_second': 120.856, 'eval_steps_per_second': 7.565, 'epoch': 0.12}\n"
     ]
    },
    {
     "name": "stderr",
     "output_type": "stream",
     "text": [
      "Model weights saved in ./model\\checkpoint-100\\pytorch_model.bin\n",
      "tokenizer config file saved in ./model\\checkpoint-100\\tokenizer_config.json\n",
      "Special tokens file saved in ./model\\checkpoint-100\\special_tokens_map.json\n",
      "  8%|▊         | 200/2415 [03:19<25:21,  1.46it/s]   ***** Running Evaluation *****\n",
      "  Num examples = 6438\n",
      "  Batch size = 16\n"
     ]
    },
    {
     "name": "stdout",
     "output_type": "stream",
     "text": [
      "{'loss': 0.6915, 'learning_rate': 4.91586352592101e-05, 'epoch': 0.25}\n"
     ]
    },
    {
     "name": "stderr",
     "output_type": "stream",
     "text": [
      "\n",
      "  8%|▊         | 200/2415 [04:09<25:21,  1.46it/s]Saving model checkpoint to ./model\\checkpoint-200\n",
      "Configuration saved in ./model\\checkpoint-200\\config.json\n"
     ]
    },
    {
     "name": "stdout",
     "output_type": "stream",
     "text": [
      "(6438, 2) (6438,)\n",
      "(6438,) (6438,)\n",
      "{'eval_loss': 0.6789442300796509, 'eval_pred_true': 3346, 'eval_pred_false': 3092, 'eval_actual_true': 3177, 'eval_actual_false': 3261, 'eval_accuracy': 0.5851196023609817, 'eval_f1_score': 0.5905258316725434, 'eval_precision': 0.5756126718469815, 'eval_recall': 0.6062322946175638, 'eval_roc_auc': 0.5853915229604225, 'eval_matthews_correlation': 0.17090156937334505, 'eval_cohen_kappa': 0.17066611878990623, 'eval_true_negative': 1841, 'eval_false_positive': 1420, 'eval_false_negative': 1251, 'eval_true_positive': 1926, 'eval_specificity': 0.5645507513032813, 'eval_sensitivity': 0.6062322946175638, 'eval_informedness': 0.17078304592084503, 'eval_balanced_accuracy': 0.5853915229604225, 'eval_runtime': 49.7, 'eval_samples_per_second': 129.537, 'eval_steps_per_second': 8.109, 'epoch': 0.25}\n"
     ]
    },
    {
     "name": "stderr",
     "output_type": "stream",
     "text": [
      "Model weights saved in ./model\\checkpoint-200\\pytorch_model.bin\n",
      "tokenizer config file saved in ./model\\checkpoint-200\\tokenizer_config.json\n",
      "Special tokens file saved in ./model\\checkpoint-200\\special_tokens_map.json\n",
      " 12%|█▏        | 300/2415 [05:22<25:04,  1.41it/s]  ***** Running Evaluation *****\n",
      "  Num examples = 6438\n",
      "  Batch size = 16\n"
     ]
    },
    {
     "name": "stdout",
     "output_type": "stream",
     "text": [
      "{'loss': 0.6908, 'learning_rate': 4.8120254899482665e-05, 'epoch': 0.37}\n"
     ]
    },
    {
     "name": "stderr",
     "output_type": "stream",
     "text": [
      "\n",
      " 12%|█▏        | 300/2415 [06:13<25:04,  1.41it/s]Saving model checkpoint to ./model\\checkpoint-300\n",
      "Configuration saved in ./model\\checkpoint-300\\config.json\n"
     ]
    },
    {
     "name": "stdout",
     "output_type": "stream",
     "text": [
      "(6438, 2) (6438,)\n",
      "(6438,) (6438,)\n",
      "{'eval_loss': 0.6790340542793274, 'eval_pred_true': 3970, 'eval_pred_false': 2468, 'eval_actual_true': 3177, 'eval_actual_false': 3261, 'eval_accuracy': 0.566480273376825, 'eval_f1_score': 0.6094864978312579, 'eval_precision': 0.5486146095717884, 'eval_recall': 0.6855524079320113, 'eval_roc_auc': 0.5680138611263859, 'eval_matthews_correlation': 0.13987612797074037, 'eval_cohen_kappa': 0.13559182115981494, 'eval_true_negative': 1469, 'eval_false_positive': 1792, 'eval_false_negative': 999, 'eval_true_positive': 2178, 'eval_specificity': 0.4504753143207605, 'eval_sensitivity': 0.6855524079320113, 'eval_informedness': 0.1360277222527717, 'eval_balanced_accuracy': 0.5680138611263859, 'eval_runtime': 51.2475, 'eval_samples_per_second': 125.626, 'eval_steps_per_second': 7.864, 'epoch': 0.37}\n"
     ]
    },
    {
     "name": "stderr",
     "output_type": "stream",
     "text": [
      "Model weights saved in ./model\\checkpoint-300\\pytorch_model.bin\n",
      "tokenizer config file saved in ./model\\checkpoint-300\\tokenizer_config.json\n",
      "Special tokens file saved in ./model\\checkpoint-300\\special_tokens_map.json\n",
      " 17%|█▋        | 400/2415 [07:26<24:04,  1.40it/s]  ***** Running Evaluation *****\n",
      "  Num examples = 6438\n",
      "  Batch size = 16\n"
     ]
    },
    {
     "name": "stdout",
     "output_type": "stream",
     "text": [
      "{'loss': 0.6847, 'learning_rate': 4.669117260700397e-05, 'epoch': 0.5}\n"
     ]
    },
    {
     "name": "stderr",
     "output_type": "stream",
     "text": [
      "\n",
      " 17%|█▋        | 400/2415 [08:20<24:04,  1.40it/s]Saving model checkpoint to ./model\\checkpoint-400\n",
      "Configuration saved in ./model\\checkpoint-400\\config.json\n"
     ]
    },
    {
     "name": "stdout",
     "output_type": "stream",
     "text": [
      "(6438, 2) (6438,)\n",
      "(6438,) (6438,)\n",
      "{'eval_loss': 0.66964191198349, 'eval_pred_true': 2408, 'eval_pred_false': 4030, 'eval_actual_true': 3177, 'eval_actual_false': 3261, 'eval_accuracy': 0.5897794346070209, 'eval_f1_score': 0.5271262309758281, 'eval_precision': 0.6112956810631229, 'eval_recall': 0.4633301857097891, 'eval_roc_auc': 0.5881508334252717, 'eval_matthews_correlation': 0.18216278644527284, 'eval_cohen_kappa': 0.17685300756717315, 'eval_true_negative': 2325, 'eval_false_positive': 936, 'eval_false_negative': 1705, 'eval_true_positive': 1472, 'eval_specificity': 0.7129714811407544, 'eval_sensitivity': 0.4633301857097891, 'eval_informedness': 0.1763016668505435, 'eval_balanced_accuracy': 0.5881508334252717, 'eval_runtime': 53.5642, 'eval_samples_per_second': 120.192, 'eval_steps_per_second': 7.524, 'epoch': 0.5}\n"
     ]
    },
    {
     "name": "stderr",
     "output_type": "stream",
     "text": [
      "Model weights saved in ./model\\checkpoint-400\\pytorch_model.bin\n",
      "tokenizer config file saved in ./model\\checkpoint-400\\tokenizer_config.json\n",
      "Special tokens file saved in ./model\\checkpoint-400\\special_tokens_map.json\n",
      " 21%|██        | 500/2415 [09:34<23:25,  1.36it/s]  ***** Running Evaluation *****\n",
      "  Num examples = 6438\n",
      "  Batch size = 16\n"
     ]
    },
    {
     "name": "stdout",
     "output_type": "stream",
     "text": [
      "{'loss': 0.6807, 'learning_rate': 4.489553799500966e-05, 'epoch': 0.62}\n"
     ]
    },
    {
     "name": "stderr",
     "output_type": "stream",
     "text": [
      "\n",
      " 21%|██        | 500/2415 [10:27<23:25,  1.36it/s]Saving model checkpoint to ./model\\checkpoint-500\n",
      "Configuration saved in ./model\\checkpoint-500\\config.json\n"
     ]
    },
    {
     "name": "stdout",
     "output_type": "stream",
     "text": [
      "(6438, 2) (6438,)\n",
      "(6438,) (6438,)\n",
      "{'eval_loss': 0.6784993410110474, 'eval_pred_true': 876, 'eval_pred_false': 5562, 'eval_actual_true': 3177, 'eval_actual_false': 3261, 'eval_accuracy': 0.5568499534016775, 'eval_f1_score': 0.29607698001480387, 'eval_precision': 0.684931506849315, 'eval_recall': 0.18885741265344666, 'eval_roc_auc': 0.5521103990590139, 'eval_matthews_correlation': 0.15197454650627265, 'eval_cohen_kappa': 0.1052021448708561, 'eval_true_negative': 2985, 'eval_false_positive': 276, 'eval_false_negative': 2577, 'eval_true_positive': 600, 'eval_specificity': 0.9153633854645814, 'eval_sensitivity': 0.18885741265344666, 'eval_informedness': 0.10422079811802809, 'eval_balanced_accuracy': 0.552110399059014, 'eval_runtime': 53.0226, 'eval_samples_per_second': 121.42, 'eval_steps_per_second': 7.601, 'epoch': 0.62}\n"
     ]
    },
    {
     "name": "stderr",
     "output_type": "stream",
     "text": [
      "Model weights saved in ./model\\checkpoint-500\\pytorch_model.bin\n",
      "tokenizer config file saved in ./model\\checkpoint-500\\tokenizer_config.json\n",
      "Special tokens file saved in ./model\\checkpoint-500\\special_tokens_map.json\n",
      " 25%|██▍       | 600/2415 [11:43<23:18,  1.30it/s]  ***** Running Evaluation *****\n",
      "  Num examples = 6438\n",
      "  Batch size = 16\n"
     ]
    },
    {
     "name": "stdout",
     "output_type": "stream",
     "text": [
      "{'loss': 0.6779, 'learning_rate': 4.2763694929364166e-05, 'epoch': 0.75}\n"
     ]
    },
    {
     "name": "stderr",
     "output_type": "stream",
     "text": [
      "\n",
      " 25%|██▍       | 600/2415 [12:38<23:18,  1.30it/s]Saving model checkpoint to ./model\\checkpoint-600\n",
      "Configuration saved in ./model\\checkpoint-600\\config.json\n"
     ]
    },
    {
     "name": "stdout",
     "output_type": "stream",
     "text": [
      "(6438, 2) (6438,)\n",
      "(6438,) (6438,)\n",
      "{'eval_loss': 0.6611981987953186, 'eval_pred_true': 4100, 'eval_pred_false': 2338, 'eval_actual_true': 3177, 'eval_actual_false': 3261, 'eval_accuracy': 0.6003417210313762, 'eval_f1_score': 0.6464202281159818, 'eval_precision': 0.5736585365853658, 'eval_recall': 0.7403210576015109, 'eval_roc_auc': 0.60214458277193, 'eval_matthews_correlation': 0.2123807545913219, 'eval_cohen_kappa': 0.20352760174259676, 'eval_true_negative': 1513, 'eval_false_positive': 1748, 'eval_false_negative': 825, 'eval_true_positive': 2352, 'eval_specificity': 0.463968107942349, 'eval_sensitivity': 0.7403210576015109, 'eval_informedness': 0.2042891655438599, 'eval_balanced_accuracy': 0.60214458277193, 'eval_runtime': 55.0536, 'eval_samples_per_second': 116.941, 'eval_steps_per_second': 7.32, 'epoch': 0.75}\n"
     ]
    },
    {
     "name": "stderr",
     "output_type": "stream",
     "text": [
      "Model weights saved in ./model\\checkpoint-600\\pytorch_model.bin\n",
      "tokenizer config file saved in ./model\\checkpoint-600\\tokenizer_config.json\n",
      "Special tokens file saved in ./model\\checkpoint-600\\special_tokens_map.json\n",
      " 29%|██▉       | 700/2415 [13:55<21:33,  1.33it/s]  ***** Running Evaluation *****\n",
      "  Num examples = 6438\n",
      "  Batch size = 16\n"
     ]
    },
    {
     "name": "stdout",
     "output_type": "stream",
     "text": [
      "{'loss': 0.6754, 'learning_rate': 4.033166875709291e-05, 'epoch': 0.87}\n"
     ]
    },
    {
     "name": "stderr",
     "output_type": "stream",
     "text": [
      "\n",
      " 29%|██▉       | 700/2415 [14:51<21:33,  1.33it/s]Saving model checkpoint to ./model\\checkpoint-700\n",
      "Configuration saved in ./model\\checkpoint-700\\config.json\n"
     ]
    },
    {
     "name": "stdout",
     "output_type": "stream",
     "text": [
      "(6438, 2) (6438,)\n",
      "(6438,) (6438,)\n",
      "{'eval_loss': 0.6686994433403015, 'eval_pred_true': 4400, 'eval_pred_false': 2038, 'eval_actual_true': 3177, 'eval_actual_false': 3261, 'eval_accuracy': 0.5963031997514756, 'eval_f1_score': 0.6569882539263561, 'eval_precision': 0.5656818181818182, 'eval_recall': 0.7834435001573812, 'eval_roc_auc': 0.5987134704098773, 'eval_matthews_correlation': 0.21220811850480337, 'eval_cohen_kappa': 0.19645292450326624, 'eval_true_negative': 1350, 'eval_false_positive': 1911, 'eval_false_negative': 688, 'eval_true_positive': 2489, 'eval_specificity': 0.4139834406623735, 'eval_sensitivity': 0.7834435001573812, 'eval_informedness': 0.19742694081975465, 'eval_balanced_accuracy': 0.5987134704098773, 'eval_runtime': 55.8182, 'eval_samples_per_second': 115.339, 'eval_steps_per_second': 7.22, 'epoch': 0.87}\n"
     ]
    },
    {
     "name": "stderr",
     "output_type": "stream",
     "text": [
      "Model weights saved in ./model\\checkpoint-700\\pytorch_model.bin\n",
      "tokenizer config file saved in ./model\\checkpoint-700\\tokenizer_config.json\n",
      "Special tokens file saved in ./model\\checkpoint-700\\special_tokens_map.json\n",
      " 33%|███▎      | 800/2415 [16:10<20:08,  1.34it/s]  ***** Running Evaluation *****\n",
      "  Num examples = 6438\n",
      "  Batch size = 16\n"
     ]
    },
    {
     "name": "stdout",
     "output_type": "stream",
     "text": [
      "{'loss': 0.6756, 'learning_rate': 3.764055752534714e-05, 'epoch': 0.99}\n"
     ]
    },
    {
     "name": "stderr",
     "output_type": "stream",
     "text": [
      "\n",
      " 33%|███▎      | 800/2415 [17:07<20:08,  1.34it/s]Saving model checkpoint to ./model\\checkpoint-800\n",
      "Configuration saved in ./model\\checkpoint-800\\config.json\n"
     ]
    },
    {
     "name": "stdout",
     "output_type": "stream",
     "text": [
      "(6438, 2) (6438,)\n",
      "(6438,) (6438,)\n",
      "{'eval_loss': 0.6651528477668762, 'eval_pred_true': 4481, 'eval_pred_false': 1957, 'eval_actual_true': 3177, 'eval_actual_false': 3261, 'eval_accuracy': 0.5970798384591488, 'eval_f1_score': 0.6612692609036301, 'eval_precision': 0.5650524436509707, 'eval_recall': 0.7969782813975449, 'eval_roc_auc': 0.5996544274206369, 'eval_matthews_correlation': 0.2166345472737334, 'eval_cohen_kappa': 0.19826077187969438, 'eval_true_negative': 1312, 'eval_false_positive': 1949, 'eval_false_negative': 645, 'eval_true_positive': 2532, 'eval_specificity': 0.4023305734437289, 'eval_sensitivity': 0.7969782813975449, 'eval_informedness': 0.1993088548412738, 'eval_balanced_accuracy': 0.5996544274206369, 'eval_runtime': 56.7276, 'eval_samples_per_second': 113.49, 'eval_steps_per_second': 7.104, 'epoch': 0.99}\n"
     ]
    },
    {
     "name": "stderr",
     "output_type": "stream",
     "text": [
      "Model weights saved in ./model\\checkpoint-800\\pytorch_model.bin\n",
      "tokenizer config file saved in ./model\\checkpoint-800\\tokenizer_config.json\n",
      "Special tokens file saved in ./model\\checkpoint-800\\special_tokens_map.json\n",
      " 37%|███▋      | 900/2415 [18:27<19:11,  1.32it/s]  ***** Running Evaluation *****\n",
      "  Num examples = 6438\n",
      "  Batch size = 16\n"
     ]
    },
    {
     "name": "stdout",
     "output_type": "stream",
     "text": [
      "{'loss': 0.6504, 'learning_rate': 3.473583747840112e-05, 'epoch': 1.12}\n"
     ]
    },
    {
     "name": "stderr",
     "output_type": "stream",
     "text": [
      "\n",
      " 37%|███▋      | 900/2415 [19:23<19:11,  1.32it/s]Saving model checkpoint to ./model\\checkpoint-900\n",
      "Configuration saved in ./model\\checkpoint-900\\config.json\n"
     ]
    },
    {
     "name": "stdout",
     "output_type": "stream",
     "text": [
      "(6438, 2) (6438,)\n",
      "(6438,) (6438,)\n",
      "{'eval_loss': 0.6809248328208923, 'eval_pred_true': 2788, 'eval_pred_false': 3650, 'eval_actual_true': 3177, 'eval_actual_false': 3261, 'eval_accuracy': 0.6003417210313762, 'eval_f1_score': 0.568650461022632, 'eval_precision': 0.6083213773314203, 'eval_recall': 0.5338369531004092, 'eval_roc_auc': 0.5994851738823114, 'eval_matthews_correlation': 0.20076109182182375, 'eval_cohen_kappa': 0.19928461901887873, 'eval_true_negative': 2169, 'eval_false_positive': 1092, 'eval_false_negative': 1481, 'eval_true_positive': 1696, 'eval_specificity': 0.6651333946642134, 'eval_sensitivity': 0.5338369531004092, 'eval_informedness': 0.19897034776462252, 'eval_balanced_accuracy': 0.5994851738823113, 'eval_runtime': 55.8012, 'eval_samples_per_second': 115.374, 'eval_steps_per_second': 7.222, 'epoch': 1.12}\n"
     ]
    },
    {
     "name": "stderr",
     "output_type": "stream",
     "text": [
      "Model weights saved in ./model\\checkpoint-900\\pytorch_model.bin\n",
      "tokenizer config file saved in ./model\\checkpoint-900\\tokenizer_config.json\n",
      "Special tokens file saved in ./model\\checkpoint-900\\special_tokens_map.json\n",
      " 41%|████▏     | 1000/2415 [20:44<18:39,  1.26it/s] ***** Running Evaluation *****\n",
      "  Num examples = 6438\n",
      "  Batch size = 16\n"
     ]
    },
    {
     "name": "stdout",
     "output_type": "stream",
     "text": [
      "{'loss': 0.646, 'learning_rate': 3.166659456886983e-05, 'epoch': 1.24}\n"
     ]
    },
    {
     "name": "stderr",
     "output_type": "stream",
     "text": [
      "\n",
      " 41%|████▏     | 1000/2415 [21:40<18:39,  1.26it/s]Saving model checkpoint to ./model\\checkpoint-1000\n",
      "Configuration saved in ./model\\checkpoint-1000\\config.json\n"
     ]
    },
    {
     "name": "stdout",
     "output_type": "stream",
     "text": [
      "(6438, 2) (6438,)\n",
      "(6438,) (6438,)\n",
      "{'eval_loss': 0.6549779772758484, 'eval_pred_true': 3754, 'eval_pred_false': 2684, 'eval_actual_true': 3177, 'eval_actual_false': 3261, 'eval_accuracy': 0.6109040074557316, 'eval_f1_score': 0.638580291444236, 'eval_precision': 0.5895045285029302, 'eval_recall': 0.6965690903367957, 'eval_roc_auc': 0.6120073295903543, 'eval_matthews_correlation': 0.22715487189497602, 'eval_cohen_kappa': 0.22349187933359083, 'eval_true_negative': 1720, 'eval_false_positive': 1541, 'eval_false_negative': 964, 'eval_true_positive': 2213, 'eval_specificity': 0.5274455688439129, 'eval_sensitivity': 0.6965690903367957, 'eval_informedness': 0.22401465918070862, 'eval_balanced_accuracy': 0.6120073295903543, 'eval_runtime': 56.1823, 'eval_samples_per_second': 114.591, 'eval_steps_per_second': 7.173, 'epoch': 1.24}\n"
     ]
    },
    {
     "name": "stderr",
     "output_type": "stream",
     "text": [
      "Model weights saved in ./model\\checkpoint-1000\\pytorch_model.bin\n",
      "tokenizer config file saved in ./model\\checkpoint-1000\\tokenizer_config.json\n",
      "Special tokens file saved in ./model\\checkpoint-1000\\special_tokens_map.json\n",
      " 46%|████▌     | 1100/2415 [23:00<17:24,  1.26it/s]  ***** Running Evaluation *****\n",
      "  Num examples = 6438\n",
      "  Batch size = 16\n"
     ]
    },
    {
     "name": "stdout",
     "output_type": "stream",
     "text": [
      "{'loss': 0.6416, 'learning_rate': 2.848469496959832e-05, 'epoch': 1.37}\n"
     ]
    },
    {
     "name": "stderr",
     "output_type": "stream",
     "text": [
      "\n",
      " 46%|████▌     | 1100/2415 [23:56<17:24,  1.26it/s]Saving model checkpoint to ./model\\checkpoint-1100\n",
      "Configuration saved in ./model\\checkpoint-1100\\config.json\n"
     ]
    },
    {
     "name": "stdout",
     "output_type": "stream",
     "text": [
      "(6438, 2) (6438,)\n",
      "(6438,) (6438,)\n",
      "{'eval_loss': 0.654230535030365, 'eval_pred_true': 3939, 'eval_pred_false': 2499, 'eval_actual_true': 3177, 'eval_actual_false': 3261, 'eval_accuracy': 0.6129232680956819, 'eval_f1_score': 0.6498032602585723, 'eval_precision': 0.5869510027925869, 'eval_recall': 0.7277305634246144, 'eval_roc_auc': 0.6144019269131658, 'eval_matthews_correlation': 0.23473141864105776, 'eval_cohen_kappa': 0.22809922556347784, 'eval_true_negative': 1634, 'eval_false_positive': 1627, 'eval_false_negative': 865, 'eval_true_positive': 2312, 'eval_specificity': 0.5010732904017172, 'eval_sensitivity': 0.7277305634246144, 'eval_informedness': 0.2288038538263315, 'eval_balanced_accuracy': 0.6144019269131658, 'eval_runtime': 56.2835, 'eval_samples_per_second': 114.385, 'eval_steps_per_second': 7.16, 'epoch': 1.37}\n"
     ]
    },
    {
     "name": "stderr",
     "output_type": "stream",
     "text": [
      "Model weights saved in ./model\\checkpoint-1100\\pytorch_model.bin\n",
      "tokenizer config file saved in ./model\\checkpoint-1100\\tokenizer_config.json\n",
      "Special tokens file saved in ./model\\checkpoint-1100\\special_tokens_map.json\n",
      " 50%|████▉     | 1200/2415 [25:13<15:01,  1.35it/s]  ***** Running Evaluation *****\n",
      "  Num examples = 6438\n",
      "  Batch size = 16\n"
     ]
    },
    {
     "name": "stdout",
     "output_type": "stream",
     "text": [
      "{'loss': 0.6372, 'learning_rate': 2.5243908603481453e-05, 'epoch': 1.49}\n"
     ]
    },
    {
     "name": "stderr",
     "output_type": "stream",
     "text": [
      "\n",
      " 50%|████▉     | 1200/2415 [26:09<15:01,  1.35it/s]Saving model checkpoint to ./model\\checkpoint-1200\n",
      "Configuration saved in ./model\\checkpoint-1200\\config.json\n"
     ]
    },
    {
     "name": "stdout",
     "output_type": "stream",
     "text": [
      "(6438, 2) (6438,)\n",
      "(6438,) (6438,)\n",
      "{'eval_loss': 0.6567297577857971, 'eval_pred_true': 3803, 'eval_pred_false': 2635, 'eval_actual_true': 3177, 'eval_actual_false': 3261, 'eval_accuracy': 0.6132339235787512, 'eval_f1_score': 0.6432664756446992, 'eval_precision': 0.5903234288719432, 'eval_recall': 0.7066414856783129, 'eval_roc_auc': 0.6144369648569424, 'eval_matthews_correlation': 0.23271633075207113, 'eval_cohen_kappa': 0.2282945661426108, 'eval_true_negative': 1703, 'eval_false_positive': 1558, 'eval_false_negative': 932, 'eval_true_positive': 2245, 'eval_specificity': 0.5222324440355719, 'eval_sensitivity': 0.7066414856783129, 'eval_informedness': 0.22887392971388465, 'eval_balanced_accuracy': 0.6144369648569423, 'eval_runtime': 55.7914, 'eval_samples_per_second': 115.394, 'eval_steps_per_second': 7.223, 'epoch': 1.49}\n"
     ]
    },
    {
     "name": "stderr",
     "output_type": "stream",
     "text": [
      "Model weights saved in ./model\\checkpoint-1200\\pytorch_model.bin\n",
      "tokenizer config file saved in ./model\\checkpoint-1200\\tokenizer_config.json\n",
      "Special tokens file saved in ./model\\checkpoint-1200\\special_tokens_map.json\n",
      " 54%|█████▍    | 1300/2415 [27:25<14:27,  1.29it/s]  ***** Running Evaluation *****\n",
      "  Num examples = 6438\n",
      "  Batch size = 16\n"
     ]
    },
    {
     "name": "stdout",
     "output_type": "stream",
     "text": [
      "{'loss': 0.6314, 'learning_rate': 2.199900050240929e-05, 'epoch': 1.61}\n"
     ]
    },
    {
     "name": "stderr",
     "output_type": "stream",
     "text": [
      "\n",
      " 54%|█████▍    | 1300/2415 [28:21<14:27,  1.29it/s]Saving model checkpoint to ./model\\checkpoint-1300\n",
      "Configuration saved in ./model\\checkpoint-1300\\config.json\n"
     ]
    },
    {
     "name": "stdout",
     "output_type": "stream",
     "text": [
      "(6438, 2) (6438,)\n",
      "(6438,) (6438,)\n",
      "{'eval_loss': 0.6721717119216919, 'eval_pred_true': 2105, 'eval_pred_false': 4333, 'eval_actual_true': 3177, 'eval_actual_false': 3261, 'eval_accuracy': 0.6079527803665735, 'eval_f1_score': 0.5221507004922378, 'eval_precision': 0.6551068883610451, 'eval_recall': 0.43405728674850486, 'eval_roc_auc': 0.6057130959961475, 'eval_matthews_correlation': 0.22533175539157982, 'eval_cohen_kappa': 0.21234903185821508, 'eval_true_negative': 2535, 'eval_false_positive': 726, 'eval_false_negative': 1798, 'eval_true_positive': 1379, 'eval_specificity': 0.7773689052437902, 'eval_sensitivity': 0.43405728674850486, 'eval_informedness': 0.21142619199229506, 'eval_balanced_accuracy': 0.6057130959961475, 'eval_runtime': 56.5949, 'eval_samples_per_second': 113.756, 'eval_steps_per_second': 7.121, 'epoch': 1.61}\n"
     ]
    },
    {
     "name": "stderr",
     "output_type": "stream",
     "text": [
      "Model weights saved in ./model\\checkpoint-1300\\pytorch_model.bin\n",
      "tokenizer config file saved in ./model\\checkpoint-1300\\tokenizer_config.json\n",
      "Special tokens file saved in ./model\\checkpoint-1300\\special_tokens_map.json\n",
      " 58%|█████▊    | 1400/2415 [29:41<13:02,  1.30it/s]  ***** Running Evaluation *****\n",
      "  Num examples = 6438\n",
      "  Batch size = 16\n"
     ]
    },
    {
     "name": "stdout",
     "output_type": "stream",
     "text": [
      "{'loss': 0.6403, 'learning_rate': 1.8804805350177505e-05, 'epoch': 1.74}\n"
     ]
    },
    {
     "name": "stderr",
     "output_type": "stream",
     "text": [
      "\n",
      " 58%|█████▊    | 1400/2415 [30:38<13:02,  1.30it/s]Saving model checkpoint to ./model\\checkpoint-1400\n",
      "Configuration saved in ./model\\checkpoint-1400\\config.json\n"
     ]
    },
    {
     "name": "stdout",
     "output_type": "stream",
     "text": [
      "(6438, 2) (6438,)\n",
      "(6438,) (6438,)\n",
      "{'eval_loss': 0.6495150923728943, 'eval_pred_true': 3680, 'eval_pred_false': 2758, 'eval_actual_true': 3177, 'eval_actual_false': 3261, 'eval_accuracy': 0.6183597390493942, 'eval_f1_score': 0.6416800350007291, 'eval_precision': 0.5978260869565217, 'eval_recall': 0.6924771797293043, 'eval_roc_auc': 0.6193143335015734, 'eval_matthews_correlation': 0.2410935444490431, 'eval_cohen_kappa': 0.2381430574889154, 'eval_true_negative': 1781, 'eval_false_positive': 1480, 'eval_false_negative': 977, 'eval_true_positive': 2200, 'eval_specificity': 0.5461514872738423, 'eval_sensitivity': 0.6924771797293043, 'eval_informedness': 0.23862866700314678, 'eval_balanced_accuracy': 0.6193143335015734, 'eval_runtime': 56.804, 'eval_samples_per_second': 113.337, 'eval_steps_per_second': 7.095, 'epoch': 1.74}\n"
     ]
    },
    {
     "name": "stderr",
     "output_type": "stream",
     "text": [
      "Model weights saved in ./model\\checkpoint-1400\\pytorch_model.bin\n",
      "tokenizer config file saved in ./model\\checkpoint-1400\\tokenizer_config.json\n",
      "Special tokens file saved in ./model\\checkpoint-1400\\special_tokens_map.json\n",
      " 62%|██████▏   | 1500/2415 [32:00<12:21,  1.23it/s]  ***** Running Evaluation *****\n",
      "  Num examples = 6438\n",
      "  Batch size = 16\n"
     ]
    },
    {
     "name": "stdout",
     "output_type": "stream",
     "text": [
      "{'loss': 0.6313, 'learning_rate': 1.571530084837234e-05, 'epoch': 1.86}\n"
     ]
    },
    {
     "name": "stderr",
     "output_type": "stream",
     "text": [
      "\n",
      " 62%|██████▏   | 1500/2415 [32:58<12:21,  1.23it/s]Saving model checkpoint to ./model\\checkpoint-1500\n",
      "Configuration saved in ./model\\checkpoint-1500\\config.json\n"
     ]
    },
    {
     "name": "stdout",
     "output_type": "stream",
     "text": [
      "(6438, 2) (6438,)\n",
      "(6438,) (6438,)\n",
      "{'eval_loss': 0.6542014479637146, 'eval_pred_true': 3898, 'eval_pred_false': 2540, 'eval_actual_true': 3177, 'eval_actual_false': 3261, 'eval_accuracy': 0.6133892513202858, 'eval_f1_score': 0.6481978798586573, 'eval_precision': 0.5882503848127245, 'eval_recall': 0.7217500786905886, 'eval_roc_auc': 0.6147848829515501, 'eval_matthews_correlation': 0.23483397125581917, 'eval_cohen_kappa': 0.2289007080424299, 'eval_true_negative': 1656, 'eval_false_positive': 1605, 'eval_false_negative': 884, 'eval_true_positive': 2293, 'eval_specificity': 0.5078196872125115, 'eval_sensitivity': 0.7217500786905886, 'eval_informedness': 0.2295697659031002, 'eval_balanced_accuracy': 0.6147848829515501, 'eval_runtime': 57.7515, 'eval_samples_per_second': 111.478, 'eval_steps_per_second': 6.978, 'epoch': 1.86}\n"
     ]
    },
    {
     "name": "stderr",
     "output_type": "stream",
     "text": [
      "Model weights saved in ./model\\checkpoint-1500\\pytorch_model.bin\n",
      "tokenizer config file saved in ./model\\checkpoint-1500\\tokenizer_config.json\n",
      "Special tokens file saved in ./model\\checkpoint-1500\\special_tokens_map.json\n",
      " 66%|██████▋   | 1600/2415 [34:18<10:56,  1.24it/s]  ***** Running Evaluation *****\n",
      "  Num examples = 6438\n",
      "  Batch size = 16\n"
     ]
    },
    {
     "name": "stdout",
     "output_type": "stream",
     "text": [
      "{'loss': 0.6287, 'learning_rate': 1.2782695564128822e-05, 'epoch': 1.99}\n"
     ]
    },
    {
     "name": "stderr",
     "output_type": "stream",
     "text": [
      "\n",
      " 66%|██████▋   | 1600/2415 [35:19<10:56,  1.24it/s]Saving model checkpoint to ./model\\checkpoint-1600\n",
      "Configuration saved in ./model\\checkpoint-1600\\config.json\n"
     ]
    },
    {
     "name": "stdout",
     "output_type": "stream",
     "text": [
      "(6438, 2) (6438,)\n",
      "(6438,) (6438,)\n",
      "{'eval_loss': 0.6461812853813171, 'eval_pred_true': 3000, 'eval_pred_false': 3438, 'eval_actual_true': 3177, 'eval_actual_false': 3261, 'eval_accuracy': 0.6230195712954334, 'eval_f1_score': 0.6070908207867897, 'eval_precision': 0.625, 'eval_recall': 0.5901794145420207, 'eval_roc_auc': 0.6225966069950214, 'eval_matthews_correlation': 0.24574171774455245, 'eval_cohen_kappa': 0.24536927967925082, 'eval_true_negative': 2136, 'eval_false_positive': 1125, 'eval_false_negative': 1302, 'eval_true_positive': 1875, 'eval_specificity': 0.6550137994480221, 'eval_sensitivity': 0.5901794145420207, 'eval_informedness': 0.2451932139900428, 'eval_balanced_accuracy': 0.6225966069950214, 'eval_runtime': 60.4383, 'eval_samples_per_second': 106.522, 'eval_steps_per_second': 6.668, 'epoch': 1.99}\n"
     ]
    },
    {
     "name": "stderr",
     "output_type": "stream",
     "text": [
      "Model weights saved in ./model\\checkpoint-1600\\pytorch_model.bin\n",
      "tokenizer config file saved in ./model\\checkpoint-1600\\tokenizer_config.json\n",
      "Special tokens file saved in ./model\\checkpoint-1600\\special_tokens_map.json\n",
      " 70%|███████   | 1700/2415 [36:42<09:34,  1.24it/s]  ***** Running Evaluation *****\n",
      "  Num examples = 6438\n",
      "  Batch size = 16\n"
     ]
    },
    {
     "name": "stdout",
     "output_type": "stream",
     "text": [
      "{'loss': 0.5597, 'learning_rate': 1.0056546673937098e-05, 'epoch': 2.11}\n"
     ]
    },
    {
     "name": "stderr",
     "output_type": "stream",
     "text": [
      "\n",
      " 70%|███████   | 1700/2415 [37:42<09:34,  1.24it/s]Saving model checkpoint to ./model\\checkpoint-1700\n",
      "Configuration saved in ./model\\checkpoint-1700\\config.json\n"
     ]
    },
    {
     "name": "stdout",
     "output_type": "stream",
     "text": [
      "(6438, 2) (6438,)\n",
      "(6438,) (6438,)\n",
      "{'eval_loss': 0.7032939791679382, 'eval_pred_true': 2822, 'eval_pred_false': 3616, 'eval_actual_true': 3177, 'eval_actual_false': 3261, 'eval_accuracy': 0.61587449518484, 'eval_f1_score': 0.5877646274379064, 'eval_precision': 0.6247342310418144, 'eval_recall': 0.5549260308467108, 'eval_roc_auc': 0.6150895103635577, 'eval_matthews_correlation': 0.2319300540905184, 'eval_cohen_kappa': 0.23051076301701445, 'eval_true_negative': 2202, 'eval_false_positive': 1059, 'eval_false_negative': 1414, 'eval_true_positive': 1763, 'eval_specificity': 0.6752529898804048, 'eval_sensitivity': 0.5549260308467108, 'eval_informedness': 0.2301790207271157, 'eval_balanced_accuracy': 0.6150895103635579, 'eval_runtime': 60.2357, 'eval_samples_per_second': 106.88, 'eval_steps_per_second': 6.69, 'epoch': 2.11}\n"
     ]
    },
    {
     "name": "stderr",
     "output_type": "stream",
     "text": [
      "Model weights saved in ./model\\checkpoint-1700\\pytorch_model.bin\n",
      "tokenizer config file saved in ./model\\checkpoint-1700\\tokenizer_config.json\n",
      "Special tokens file saved in ./model\\checkpoint-1700\\special_tokens_map.json\n",
      " 75%|███████▍  | 1800/2415 [39:04<08:16,  1.24it/s]  ***** Running Evaluation *****\n",
      "  Num examples = 6438\n",
      "  Batch size = 16\n"
     ]
    },
    {
     "name": "stdout",
     "output_type": "stream",
     "text": [
      "{'loss': 0.5704, 'learning_rate': 7.582922512467186e-06, 'epoch': 2.24}\n"
     ]
    },
    {
     "name": "stderr",
     "output_type": "stream",
     "text": [
      "\n",
      " 75%|███████▍  | 1800/2415 [40:05<08:16,  1.24it/s]\n",
      "                                                 "
     ]
    },
    {
     "name": "stdout",
     "output_type": "stream",
     "text": [
      "(6438, 2) (6438,)\n",
      "(6438,) (6438,)\n",
      "{'eval_loss': 0.686647355556488, 'eval_pred_true': 3957, 'eval_pred_false': 2481, 'eval_actual_true': 3177, 'eval_actual_false': 3261, 'eval_accuracy': 0.6091954022988506, 'eval_f1_score': 0.6473226801233529, 'eval_precision': 0.5835228708617639, 'eval_recall': 0.7267862763613472, 'eval_roc_auc': 0.6107099121763805, 'eval_matthews_correlation': 0.22745951116378477, 'eval_cohen_kappa': 0.22072187924957265, 'eval_true_negative': 1613, 'eval_false_positive': 1648, 'eval_false_negative': 868, 'eval_true_positive': 2309, 'eval_specificity': 0.4946335479914137, 'eval_sensitivity': 0.7267862763613472, 'eval_informedness': 0.22141982435276075, 'eval_balanced_accuracy': 0.6107099121763804, 'eval_runtime': 60.7407, 'eval_samples_per_second': 105.991, 'eval_steps_per_second': 6.635, 'epoch': 2.24}\n"
     ]
    },
    {
     "name": "stderr",
     "output_type": "stream",
     "text": [
      "\u001b[ASaving model checkpoint to ./model\\checkpoint-1800\n",
      "Configuration saved in ./model\\checkpoint-1800\\config.json\n",
      "Model weights saved in ./model\\checkpoint-1800\\pytorch_model.bin\n",
      "tokenizer config file saved in ./model\\checkpoint-1800\\tokenizer_config.json\n",
      "Special tokens file saved in ./model\\checkpoint-1800\\special_tokens_map.json\n",
      " 79%|███████▊  | 1900/2415 [41:28<06:49,  1.26it/s]  ***** Running Evaluation *****\n",
      "  Num examples = 6438\n",
      "  Batch size = 16\n"
     ]
    },
    {
     "name": "stdout",
     "output_type": "stream",
     "text": [
      "{'loss': 0.5445, 'learning_rate': 5.403624078236963e-06, 'epoch': 2.36}\n"
     ]
    },
    {
     "name": "stderr",
     "output_type": "stream",
     "text": [
      "\n",
      " 79%|███████▊  | 1900/2415 [42:26<06:49,  1.26it/s]Saving model checkpoint to ./model\\checkpoint-1900\n",
      "Configuration saved in ./model\\checkpoint-1900\\config.json\n"
     ]
    },
    {
     "name": "stdout",
     "output_type": "stream",
     "text": [
      "(6438, 2) (6438,)\n",
      "(6438,) (6438,)\n",
      "{'eval_loss': 0.7048356533050537, 'eval_pred_true': 3640, 'eval_pred_false': 2798, 'eval_actual_true': 3177, 'eval_actual_false': 3261, 'eval_accuracy': 0.6183597390493942, 'eval_f1_score': 0.639577526771307, 'eval_precision': 0.5989010989010989, 'eval_recall': 0.6861819326408561, 'eval_roc_auc': 0.6192332539622557, 'eval_matthews_correlation': 0.24051205657524968, 'eval_cohen_kappa': 0.23801974692193173, 'eval_true_negative': 1801, 'eval_false_positive': 1460, 'eval_false_negative': 997, 'eval_true_positive': 2180, 'eval_specificity': 0.5522845752836553, 'eval_sensitivity': 0.6861819326408561, 'eval_informedness': 0.2384665079245114, 'eval_balanced_accuracy': 0.6192332539622557, 'eval_runtime': 57.6132, 'eval_samples_per_second': 111.745, 'eval_steps_per_second': 6.995, 'epoch': 2.36}\n"
     ]
    },
    {
     "name": "stderr",
     "output_type": "stream",
     "text": [
      "Model weights saved in ./model\\checkpoint-1900\\pytorch_model.bin\n",
      "tokenizer config file saved in ./model\\checkpoint-1900\\tokenizer_config.json\n",
      "Special tokens file saved in ./model\\checkpoint-1900\\special_tokens_map.json\n",
      " 83%|████████▎ | 2000/2415 [43:47<05:33,  1.24it/s]  ***** Running Evaluation *****\n",
      "  Num examples = 6438\n",
      "  Batch size = 16\n"
     ]
    },
    {
     "name": "stdout",
     "output_type": "stream",
     "text": [
      "{'loss': 0.544, 'learning_rate': 3.555478651654784e-06, 'epoch': 2.48}\n"
     ]
    },
    {
     "name": "stderr",
     "output_type": "stream",
     "text": [
      "\n",
      " 83%|████████▎ | 2000/2415 [44:45<05:33,  1.24it/s]Saving model checkpoint to ./model\\checkpoint-2000\n",
      "Configuration saved in ./model\\checkpoint-2000\\config.json\n"
     ]
    },
    {
     "name": "stdout",
     "output_type": "stream",
     "text": [
      "(6438, 2) (6438,)\n",
      "(6438,) (6438,)\n",
      "{'eval_loss': 0.7083461284637451, 'eval_pred_true': 3644, 'eval_pred_false': 2794, 'eval_actual_true': 3177, 'eval_actual_false': 3261, 'eval_accuracy': 0.6171171171171171, 'eval_f1_score': 0.6386160387040023, 'eval_precision': 0.5976948408342481, 'eval_recall': 0.6855524079320113, 'eval_roc_auc': 0.6179985284063614, 'eval_matthews_correlation': 0.23806097533539397, 'eval_cohen_kappa': 0.23555110974563986, 'eval_true_negative': 1795, 'eval_false_positive': 1466, 'eval_false_negative': 999, 'eval_true_positive': 2178, 'eval_specificity': 0.5504446488807114, 'eval_sensitivity': 0.6855524079320113, 'eval_informedness': 0.23599705681272276, 'eval_balanced_accuracy': 0.6179985284063614, 'eval_runtime': 57.7919, 'eval_samples_per_second': 111.4, 'eval_steps_per_second': 6.973, 'epoch': 2.48}\n"
     ]
    },
    {
     "name": "stderr",
     "output_type": "stream",
     "text": [
      "Model weights saved in ./model\\checkpoint-2000\\pytorch_model.bin\n",
      "tokenizer config file saved in ./model\\checkpoint-2000\\tokenizer_config.json\n",
      "Special tokens file saved in ./model\\checkpoint-2000\\special_tokens_map.json\n",
      " 87%|████████▋ | 2100/2415 [46:06<04:11,  1.25it/s]  ***** Running Evaluation *****\n",
      "  Num examples = 6438\n",
      "  Batch size = 16\n"
     ]
    },
    {
     "name": "stdout",
     "output_type": "stream",
     "text": [
      "{'loss': 0.5497, 'learning_rate': 2.0697174623636794e-06, 'epoch': 2.61}\n"
     ]
    },
    {
     "name": "stderr",
     "output_type": "stream",
     "text": [
      "\n",
      " 87%|████████▋ | 2100/2415 [47:04<04:11,  1.25it/s]Saving model checkpoint to ./model\\checkpoint-2100\n",
      "Configuration saved in ./model\\checkpoint-2100\\config.json\n"
     ]
    },
    {
     "name": "stdout",
     "output_type": "stream",
     "text": [
      "(6438, 2) (6438,)\n",
      "(6438,) (6438,)\n",
      "{'eval_loss': 0.6933766603469849, 'eval_pred_true': 3010, 'eval_pred_false': 3428, 'eval_actual_true': 3177, 'eval_actual_false': 3261, 'eval_accuracy': 0.6208449829139484, 'eval_f1_score': 0.6054630677226442, 'eval_precision': 0.6222591362126246, 'eval_recall': 0.5895498898331759, 'eval_roc_auc': 0.6204419182376552, 'eval_matthews_correlation': 0.24137262403982465, 'eval_cohen_kappa': 0.24104702872536876, 'eval_true_negative': 2124, 'eval_false_positive': 1137, 'eval_false_negative': 1304, 'eval_true_positive': 1873, 'eval_specificity': 0.6513339466421343, 'eval_sensitivity': 0.5895498898331759, 'eval_informedness': 0.2408838364753101, 'eval_balanced_accuracy': 0.620441918237655, 'eval_runtime': 58.3509, 'eval_samples_per_second': 110.333, 'eval_steps_per_second': 6.906, 'epoch': 2.61}\n"
     ]
    },
    {
     "name": "stderr",
     "output_type": "stream",
     "text": [
      "Model weights saved in ./model\\checkpoint-2100\\pytorch_model.bin\n",
      "tokenizer config file saved in ./model\\checkpoint-2100\\tokenizer_config.json\n",
      "Special tokens file saved in ./model\\checkpoint-2100\\special_tokens_map.json\n",
      " 91%|█████████ | 2200/2415 [48:24<02:49,  1.26it/s]  ***** Running Evaluation *****\n",
      "  Num examples = 6438\n",
      "  Batch size = 16\n"
     ]
    },
    {
     "name": "stdout",
     "output_type": "stream",
     "text": [
      "{'loss': 0.5367, 'learning_rate': 9.714479224915058e-07, 'epoch': 2.73}\n"
     ]
    },
    {
     "name": "stderr",
     "output_type": "stream",
     "text": [
      "\n",
      " 91%|█████████ | 2200/2415 [49:23<02:49,  1.26it/s]Saving model checkpoint to ./model\\checkpoint-2200\n",
      "Configuration saved in ./model\\checkpoint-2200\\config.json\n"
     ]
    },
    {
     "name": "stdout",
     "output_type": "stream",
     "text": [
      "(6438, 2) (6438,)\n",
      "(6438,) (6438,)\n",
      "{'eval_loss': 0.7019115686416626, 'eval_pred_true': 3360, 'eval_pred_false': 3078, 'eval_actual_true': 3177, 'eval_actual_false': 3261, 'eval_accuracy': 0.6180490835663249, 'eval_f1_score': 0.6238335627963897, 'eval_precision': 0.606845238095238, 'eval_recall': 0.6418004406672962, 'eval_roc_auc': 0.6183549888095758, 'eval_matthews_correlation': 0.23691721824177156, 'eval_cohen_kappa': 0.23653449792980874, 'eval_true_negative': 1940, 'eval_false_positive': 1321, 'eval_false_negative': 1138, 'eval_true_positive': 2039, 'eval_specificity': 0.5949095369518552, 'eval_sensitivity': 0.6418004406672962, 'eval_informedness': 0.23670997761915147, 'eval_balanced_accuracy': 0.6183549888095757, 'eval_runtime': 58.508, 'eval_samples_per_second': 110.036, 'eval_steps_per_second': 6.888, 'epoch': 2.73}\n"
     ]
    },
    {
     "name": "stderr",
     "output_type": "stream",
     "text": [
      "Model weights saved in ./model\\checkpoint-2200\\pytorch_model.bin\n",
      "tokenizer config file saved in ./model\\checkpoint-2200\\tokenizer_config.json\n",
      "Special tokens file saved in ./model\\checkpoint-2200\\special_tokens_map.json\n",
      " 95%|█████████▌| 2300/2415 [50:44<01:30,  1.27it/s]  ***** Running Evaluation *****\n",
      "  Num examples = 6438\n",
      "  Batch size = 16\n"
     ]
    },
    {
     "name": "stdout",
     "output_type": "stream",
     "text": [
      "{'loss': 0.53, 'learning_rate': 2.7922934437178695e-07, 'epoch': 2.86}\n"
     ]
    },
    {
     "name": "stderr",
     "output_type": "stream",
     "text": [
      "\n",
      " 95%|█████████▌| 2300/2415 [51:41<01:30,  1.27it/s]Saving model checkpoint to ./model\\checkpoint-2300\n",
      "Configuration saved in ./model\\checkpoint-2300\\config.json\n"
     ]
    },
    {
     "name": "stdout",
     "output_type": "stream",
     "text": [
      "(6438, 2) (6438,)\n",
      "(6438,) (6438,)\n",
      "{'eval_loss': 0.702182948589325, 'eval_pred_true': 3243, 'eval_pred_false': 3195, 'eval_actual_true': 3177, 'eval_actual_false': 3261, 'eval_accuracy': 0.6185150667909288, 'eval_f1_score': 0.6174454828660436, 'eval_precision': 0.6111625038544557, 'eval_recall': 0.6238589864652188, 'eval_roc_auc': 0.6185838937232564, 'eval_matthews_correlation': 0.23715419064414428, 'eval_cohen_kappa': 0.23710434721941176, 'eval_true_negative': 2000, 'eval_false_positive': 1261, 'eval_false_negative': 1195, 'eval_true_positive': 1982, 'eval_specificity': 0.613308800981294, 'eval_sensitivity': 0.6238589864652188, 'eval_informedness': 0.2371677874465128, 'eval_balanced_accuracy': 0.6185838937232564, 'eval_runtime': 57.6117, 'eval_samples_per_second': 111.748, 'eval_steps_per_second': 6.995, 'epoch': 2.86}\n"
     ]
    },
    {
     "name": "stderr",
     "output_type": "stream",
     "text": [
      "Model weights saved in ./model\\checkpoint-2300\\pytorch_model.bin\n",
      "tokenizer config file saved in ./model\\checkpoint-2300\\tokenizer_config.json\n",
      "Special tokens file saved in ./model\\checkpoint-2300\\special_tokens_map.json\n",
      " 99%|█████████▉| 2400/2415 [53:03<00:11,  1.27it/s]***** Running Evaluation *****\n",
      "  Num examples = 6438\n",
      "  Batch size = 16\n"
     ]
    },
    {
     "name": "stdout",
     "output_type": "stream",
     "text": [
      "{'loss': 0.5273, 'learning_rate': 4.7593125481831815e-09, 'epoch': 2.98}\n"
     ]
    },
    {
     "name": "stderr",
     "output_type": "stream",
     "text": [
      "\n",
      " 99%|█████████▉| 2400/2415 [54:00<00:11,  1.27it/s]Saving model checkpoint to ./model\\checkpoint-2400\n",
      "Configuration saved in ./model\\checkpoint-2400\\config.json\n"
     ]
    },
    {
     "name": "stdout",
     "output_type": "stream",
     "text": [
      "(6438, 2) (6438,)\n",
      "(6438,) (6438,)\n",
      "{'eval_loss': 0.703260064125061, 'eval_pred_true': 3228, 'eval_pred_false': 3210, 'eval_actual_true': 3177, 'eval_actual_false': 3261, 'eval_accuracy': 0.6186703945324635, 'eval_f1_score': 0.6167056986729117, 'eval_precision': 0.6118339529120198, 'eval_recall': 0.6216556499842619, 'eval_roc_auc': 0.6187088430847406, 'eval_matthews_correlation': 0.23739840442755455, 'eval_cohen_kappa': 0.23736860953883088, 'eval_true_negative': 2008, 'eval_false_positive': 1253, 'eval_false_negative': 1202, 'eval_true_positive': 1975, 'eval_specificity': 0.6157620361852193, 'eval_sensitivity': 0.6216556499842619, 'eval_informedness': 0.23741768616948122, 'eval_balanced_accuracy': 0.6187088430847406, 'eval_runtime': 57.8798, 'eval_samples_per_second': 111.231, 'eval_steps_per_second': 6.963, 'epoch': 2.98}\n"
     ]
    },
    {
     "name": "stderr",
     "output_type": "stream",
     "text": [
      "Model weights saved in ./model\\checkpoint-2400\\pytorch_model.bin\n",
      "tokenizer config file saved in ./model\\checkpoint-2400\\tokenizer_config.json\n",
      "Special tokens file saved in ./model\\checkpoint-2400\\special_tokens_map.json\n",
      "100%|██████████| 2415/2415 [54:14<00:00,  1.21it/s]\n",
      "\n",
      "Training completed. Do not forget to share your model on huggingface.co/models =)\n",
      "\n",
      "\n",
      "Loading best model from ./model\\checkpoint-800 (score: 0.6612692609036301).\n",
      "100%|██████████| 2415/2415 [54:14<00:00,  1.35s/it]\n",
      "***** Running Prediction *****\n",
      "  Num examples = 6438\n",
      "  Batch size = 16\n"
     ]
    },
    {
     "name": "stdout",
     "output_type": "stream",
     "text": [
      "{'train_runtime': 3254.6056, 'train_samples_per_second': 23.734, 'train_steps_per_second': 0.742, 'train_loss': 0.621871518792573, 'epoch': 3.0}\n"
     ]
    },
    {
     "name": "stderr",
     "output_type": "stream",
     "text": [
      "100%|██████████| 403/403 [00:59<00:00,  6.76it/s]"
     ]
    },
    {
     "name": "stdout",
     "output_type": "stream",
     "text": [
      "(6438, 2) (6438,)\n",
      "(6438,) (6438,)\n"
     ]
    },
    {
     "name": "stderr",
     "output_type": "stream",
     "text": [
      "\n"
     ]
    },
    {
     "name": "stdout",
     "output_type": "stream",
     "text": [
      "=== Learning rate = 5e-05, Weight decay = 0.000125, Classifier dropout = 0.5 ===\n"
     ]
    },
    {
     "name": "stderr",
     "output_type": "stream",
     "text": [
      "loading configuration file https://huggingface.co/bert-base-uncased/resolve/main/config.json from cache at C:\\Users\\Wenhao/.cache\\huggingface\\transformers\\3c61d016573b14f7f008c02c4e51a366c67ab274726fe2910691e2a761acf43e.37395cee442ab11005bcd270f3c34464dc1704b715b5d7d52b1a461abe3b9e4e\n",
      "Model config BertConfig {\n",
      "  \"_name_or_path\": \"bert-base-uncased\",\n",
      "  \"architectures\": [\n",
      "    \"BertForMaskedLM\"\n",
      "  ],\n",
      "  \"attention_probs_dropout_prob\": 0.1,\n",
      "  \"classifier_dropout\": 0.5,\n",
      "  \"gradient_checkpointing\": false,\n",
      "  \"hidden_act\": \"gelu\",\n",
      "  \"hidden_dropout_prob\": 0.1,\n",
      "  \"hidden_size\": 768,\n",
      "  \"initializer_range\": 0.02,\n",
      "  \"intermediate_size\": 3072,\n",
      "  \"layer_norm_eps\": 1e-12,\n",
      "  \"max_position_embeddings\": 512,\n",
      "  \"model_type\": \"bert\",\n",
      "  \"num_attention_heads\": 12,\n",
      "  \"num_hidden_layers\": 12,\n",
      "  \"pad_token_id\": 0,\n",
      "  \"position_embedding_type\": \"absolute\",\n",
      "  \"transformers_version\": \"4.21.1\",\n",
      "  \"type_vocab_size\": 2,\n",
      "  \"use_cache\": true,\n",
      "  \"vocab_size\": 30522\n",
      "}\n",
      "\n",
      "loading weights file https://huggingface.co/bert-base-uncased/resolve/main/pytorch_model.bin from cache at C:\\Users\\Wenhao/.cache\\huggingface\\transformers\\a8041bf617d7f94ea26d15e218abd04afc2004805632abc0ed2066aa16d50d04.faf6ea826ae9c5867d12b22257f9877e6b8367890837bd60f7c54a29633f7f2f\n",
      "Some weights of the model checkpoint at bert-base-uncased were not used when initializing BertForSequenceClassification: ['cls.predictions.transform.LayerNorm.weight', 'cls.seq_relationship.weight', 'cls.predictions.decoder.weight', 'cls.predictions.transform.LayerNorm.bias', 'cls.predictions.bias', 'cls.predictions.transform.dense.bias', 'cls.predictions.transform.dense.weight', 'cls.seq_relationship.bias']\n",
      "- This IS expected if you are initializing BertForSequenceClassification from the checkpoint of a model trained on another task or with another architecture (e.g. initializing a BertForSequenceClassification model from a BertForPreTraining model).\n",
      "- This IS NOT expected if you are initializing BertForSequenceClassification from the checkpoint of a model that you expect to be exactly identical (initializing a BertForSequenceClassification model from a BertForSequenceClassification model).\n",
      "Some weights of BertForSequenceClassification were not initialized from the model checkpoint at bert-base-uncased and are newly initialized: ['classifier.bias', 'classifier.weight']\n",
      "You should probably TRAIN this model on a down-stream task to be able to use it for predictions and inference.\n",
      "PyTorch: setting up devices\n",
      "c:\\Users\\Wenhao\\miniconda3\\envs\\deep_wa_bert\\lib\\site-packages\\transformers\\optimization.py:306: FutureWarning: This implementation of AdamW is deprecated and will be removed in a future version. Use the PyTorch implementation torch.optim.AdamW instead, or set `no_deprecation_warning=True` to disable this warning\n",
      "  warnings.warn(\n",
      "***** Running training *****\n",
      "  Num examples = 25748\n",
      "  Num Epochs = 3\n",
      "  Instantaneous batch size per device = 16\n",
      "  Total train batch size (w. parallel, distributed & accumulation) = 32\n",
      "  Gradient Accumulation steps = 2\n",
      "  Total optimization steps = 2415\n",
      "  4%|▍         | 100/2415 [01:25<33:05,  1.17it/s]***** Running Evaluation *****\n",
      "  Num examples = 6438\n",
      "  Batch size = 16\n"
     ]
    },
    {
     "name": "stdout",
     "output_type": "stream",
     "text": [
      "{'loss': 0.7081, 'learning_rate': 4.97887664223157e-05, 'epoch': 0.12}\n"
     ]
    },
    {
     "name": "stderr",
     "output_type": "stream",
     "text": [
      "                                                  \n",
      "  4%|▍         | 100/2415 [02:25<33:05,  1.17it/s]Saving model checkpoint to ./model\\checkpoint-100\n",
      "Configuration saved in ./model\\checkpoint-100\\config.json\n"
     ]
    },
    {
     "name": "stdout",
     "output_type": "stream",
     "text": [
      "(6438, 2) (6438,)\n",
      "(6438,) (6438,)\n",
      "{'eval_loss': 0.6923938989639282, 'eval_pred_true': 4, 'eval_pred_false': 6434, 'eval_actual_true': 3177, 'eval_actual_false': 3261, 'eval_accuracy': 0.5065237651444549, 'eval_f1_score': 0.0012574662055957247, 'eval_precision': 0.5, 'eval_recall': 0.0006295247088448222, 'eval_roc_auc': 0.5000081079539318, 'eval_matthews_correlation': 0.00032535295156831606, 'eval_cohen_kappa': 1.6427215554837282e-05, 'eval_true_negative': 3259, 'eval_false_positive': 2, 'eval_false_negative': 3175, 'eval_true_positive': 2, 'eval_specificity': 0.9993866911990187, 'eval_sensitivity': 0.0006295247088448222, 'eval_informedness': 1.6215907863603718e-05, 'eval_balanced_accuracy': 0.5000081079539318, 'eval_runtime': 60.3523, 'eval_samples_per_second': 106.674, 'eval_steps_per_second': 6.677, 'epoch': 0.12}\n"
     ]
    },
    {
     "name": "stderr",
     "output_type": "stream",
     "text": [
      "Model weights saved in ./model\\checkpoint-100\\pytorch_model.bin\n",
      "tokenizer config file saved in ./model\\checkpoint-100\\tokenizer_config.json\n",
      "Special tokens file saved in ./model\\checkpoint-100\\special_tokens_map.json\n",
      "  8%|▊         | 200/2415 [03:50<30:13,  1.22it/s]   ***** Running Evaluation *****\n",
      "  Num examples = 6438\n",
      "  Batch size = 16\n"
     ]
    },
    {
     "name": "stdout",
     "output_type": "stream",
     "text": [
      "{'loss': 0.7023, 'learning_rate': 4.91586352592101e-05, 'epoch': 0.25}\n"
     ]
    },
    {
     "name": "stderr",
     "output_type": "stream",
     "text": [
      "c:\\Users\\Wenhao\\miniconda3\\envs\\deep_wa_bert\\lib\\site-packages\\sklearn\\metrics\\_classification.py:1334: UndefinedMetricWarning: Precision is ill-defined and being set to 0.0 due to no predicted samples. Use `zero_division` parameter to control this behavior.\n",
      "  _warn_prf(average, modifier, msg_start, len(result))\n",
      "                                                  \n",
      "  8%|▊         | 200/2415 [04:49<30:13,  1.22it/s]Saving model checkpoint to ./model\\checkpoint-200\n",
      "Configuration saved in ./model\\checkpoint-200\\config.json\n"
     ]
    },
    {
     "name": "stdout",
     "output_type": "stream",
     "text": [
      "(6438, 2) (6438,)\n",
      "(6438,) (6438,)\n",
      "{'eval_loss': 0.6946317553520203, 'eval_pred_true': 0, 'eval_pred_false': 6438, 'eval_actual_true': 3177, 'eval_actual_false': 3261, 'eval_accuracy': 0.5065237651444549, 'eval_f1_score': 0.0, 'eval_precision': 0.0, 'eval_recall': 0.0, 'eval_roc_auc': 0.5, 'eval_matthews_correlation': 0.0, 'eval_cohen_kappa': 0.0, 'eval_true_negative': 3261, 'eval_false_positive': 0, 'eval_false_negative': 3177, 'eval_true_positive': 0, 'eval_specificity': 1.0, 'eval_sensitivity': 0.0, 'eval_informedness': 0.0, 'eval_balanced_accuracy': 0.5, 'eval_runtime': 59.7672, 'eval_samples_per_second': 107.718, 'eval_steps_per_second': 6.743, 'epoch': 0.25}\n"
     ]
    },
    {
     "name": "stderr",
     "output_type": "stream",
     "text": [
      "Model weights saved in ./model\\checkpoint-200\\pytorch_model.bin\n",
      "tokenizer config file saved in ./model\\checkpoint-200\\tokenizer_config.json\n",
      "Special tokens file saved in ./model\\checkpoint-200\\special_tokens_map.json\n",
      " 12%|█▏        | 300/2415 [06:15<30:45,  1.15it/s]   ***** Running Evaluation *****\n",
      "  Num examples = 6438\n",
      "  Batch size = 16\n"
     ]
    },
    {
     "name": "stdout",
     "output_type": "stream",
     "text": [
      "{'loss': 0.6967, 'learning_rate': 4.8120254899482665e-05, 'epoch': 0.37}\n"
     ]
    },
    {
     "name": "stderr",
     "output_type": "stream",
     "text": [
      "                                                  \n",
      " 12%|█▏        | 300/2415 [07:20<30:45,  1.15it/s]Saving model checkpoint to ./model\\checkpoint-300\n",
      "Configuration saved in ./model\\checkpoint-300\\config.json\n"
     ]
    },
    {
     "name": "stdout",
     "output_type": "stream",
     "text": [
      "(6438, 2) (6438,)\n",
      "(6438,) (6438,)\n",
      "{'eval_loss': 0.689681887626648, 'eval_pred_true': 2155, 'eval_pred_false': 4283, 'eval_actual_true': 3177, 'eval_actual_false': 3261, 'eval_accuracy': 0.5548306927617273, 'eval_f1_score': 0.462490622655664, 'eval_precision': 0.5721577726218098, 'eval_recall': 0.3881019830028329, 'eval_roc_auc': 0.5526833128752282, 'eval_matthews_correlation': 0.11163217972623196, 'eval_cohen_kappa': 0.10580499323803882, 'eval_true_negative': 2339, 'eval_false_positive': 922, 'eval_false_negative': 1944, 'eval_true_positive': 1233, 'eval_specificity': 0.7172646427476235, 'eval_sensitivity': 0.3881019830028329, 'eval_informedness': 0.10536662575045641, 'eval_balanced_accuracy': 0.5526833128752282, 'eval_runtime': 64.1778, 'eval_samples_per_second': 100.315, 'eval_steps_per_second': 6.279, 'epoch': 0.37}\n"
     ]
    },
    {
     "name": "stderr",
     "output_type": "stream",
     "text": [
      "Model weights saved in ./model\\checkpoint-300\\pytorch_model.bin\n",
      "tokenizer config file saved in ./model\\checkpoint-300\\tokenizer_config.json\n",
      "Special tokens file saved in ./model\\checkpoint-300\\special_tokens_map.json\n",
      " 17%|█▋        | 400/2415 [08:45<28:46,  1.17it/s]   ***** Running Evaluation *****\n",
      "  Num examples = 6438\n",
      "  Batch size = 16\n"
     ]
    },
    {
     "name": "stdout",
     "output_type": "stream",
     "text": [
      "{'loss': 0.6993, 'learning_rate': 4.669117260700397e-05, 'epoch': 0.5}\n"
     ]
    },
    {
     "name": "stderr",
     "output_type": "stream",
     "text": [
      "                                                  \n",
      " 17%|█▋        | 400/2415 [09:47<28:46,  1.17it/s]Saving model checkpoint to ./model\\checkpoint-400\n",
      "Configuration saved in ./model\\checkpoint-400\\config.json\n"
     ]
    },
    {
     "name": "stdout",
     "output_type": "stream",
     "text": [
      "(6438, 2) (6438,)\n",
      "(6438,) (6438,)\n",
      "{'eval_loss': 0.6872278451919556, 'eval_pred_true': 1501, 'eval_pred_false': 4937, 'eval_actual_true': 3177, 'eval_actual_false': 3261, 'eval_accuracy': 0.5532774153463809, 'eval_f1_score': 0.38520735356990166, 'eval_precision': 0.6002664890073285, 'eval_recall': 0.2836008813345924, 'eval_roc_auc': 0.549804120520102, 'eval_matthews_correlation': 0.11777615396891174, 'eval_cohen_kappa': 0.10028965563487358, 'eval_true_negative': 2661, 'eval_false_positive': 600, 'eval_false_negative': 2276, 'eval_true_positive': 901, 'eval_specificity': 0.8160073597056118, 'eval_sensitivity': 0.2836008813345924, 'eval_informedness': 0.09960824104020416, 'eval_balanced_accuracy': 0.5498041205201021, 'eval_runtime': 62.0534, 'eval_samples_per_second': 103.749, 'eval_steps_per_second': 6.494, 'epoch': 0.5}\n"
     ]
    },
    {
     "name": "stderr",
     "output_type": "stream",
     "text": [
      "Model weights saved in ./model\\checkpoint-400\\pytorch_model.bin\n",
      "tokenizer config file saved in ./model\\checkpoint-400\\tokenizer_config.json\n",
      "Special tokens file saved in ./model\\checkpoint-400\\special_tokens_map.json\n",
      " 21%|██        | 500/2415 [11:12<26:47,  1.19it/s]   ***** Running Evaluation *****\n",
      "  Num examples = 6438\n",
      "  Batch size = 16\n"
     ]
    },
    {
     "name": "stdout",
     "output_type": "stream",
     "text": [
      "{'loss': 0.6918, 'learning_rate': 4.489553799500966e-05, 'epoch': 0.62}\n"
     ]
    },
    {
     "name": "stderr",
     "output_type": "stream",
     "text": [
      "                                                  \r"
     ]
    },
    {
     "name": "stdout",
     "output_type": "stream",
     "text": [
      "(6438, 2) (6438,)\n",
      "(6438,) (6438,)\n"
     ]
    },
    {
     "name": "stderr",
     "output_type": "stream",
     "text": [
      "\n",
      " 21%|██        | 500/2415 [12:14<26:47,  1.19it/s]Saving model checkpoint to ./model\\checkpoint-500\n",
      "Configuration saved in ./model\\checkpoint-500\\config.json\n"
     ]
    },
    {
     "name": "stdout",
     "output_type": "stream",
     "text": [
      "{'eval_loss': 0.6871019601821899, 'eval_pred_true': 2115, 'eval_pred_false': 4323, 'eval_actual_true': 3177, 'eval_actual_false': 3261, 'eval_accuracy': 0.5622864243553899, 'eval_f1_score': 0.46749811035525324, 'eval_precision': 0.584869976359338, 'eval_recall': 0.3893610324205225, 'eval_roc_auc': 0.5600592343948673, 'eval_matthews_correlation': 0.12786332405958498, 'eval_cohen_kappa': 0.1206378537811641, 'eval_true_negative': 2383, 'eval_false_positive': 878, 'eval_false_negative': 1940, 'eval_true_positive': 1237, 'eval_specificity': 0.7307574363692119, 'eval_sensitivity': 0.3893610324205225, 'eval_informedness': 0.12011846878973431, 'eval_balanced_accuracy': 0.5600592343948672, 'eval_runtime': 61.5913, 'eval_samples_per_second': 104.528, 'eval_steps_per_second': 6.543, 'epoch': 0.62}\n"
     ]
    },
    {
     "name": "stderr",
     "output_type": "stream",
     "text": [
      "Model weights saved in ./model\\checkpoint-500\\pytorch_model.bin\n",
      "tokenizer config file saved in ./model\\checkpoint-500\\tokenizer_config.json\n",
      "Special tokens file saved in ./model\\checkpoint-500\\special_tokens_map.json\n",
      " 25%|██▍       | 600/2415 [13:39<25:49,  1.17it/s]   ***** Running Evaluation *****\n",
      "  Num examples = 6438\n",
      "  Batch size = 16\n"
     ]
    },
    {
     "name": "stdout",
     "output_type": "stream",
     "text": [
      "{'loss': 0.692, 'learning_rate': 4.2763694929364166e-05, 'epoch': 0.75}\n"
     ]
    },
    {
     "name": "stderr",
     "output_type": "stream",
     "text": [
      "                                                  \n",
      " 25%|██▍       | 600/2415 [14:41<25:49,  1.17it/s]Saving model checkpoint to ./model\\checkpoint-600\n",
      "Configuration saved in ./model\\checkpoint-600\\config.json\n"
     ]
    },
    {
     "name": "stdout",
     "output_type": "stream",
     "text": [
      "(6438, 2) (6438,)\n",
      "(6438,) (6438,)\n",
      "{'eval_loss': 0.680142879486084, 'eval_pred_true': 3023, 'eval_pred_false': 3415, 'eval_actual_true': 3177, 'eval_actual_false': 3261, 'eval_accuracy': 0.5688101894998446, 'eval_f1_score': 0.552258064516129, 'eval_precision': 0.5663248428713199, 'eval_recall': 0.5388731507711678, 'eval_roc_auc': 0.5684246158639648, 'eval_matthews_correlation': 0.13709194651200446, 'eval_cohen_kappa': 0.13693472177995003, 'eval_true_negative': 1950, 'eval_false_positive': 1311, 'eval_false_negative': 1465, 'eval_true_positive': 1712, 'eval_specificity': 0.5979760809567617, 'eval_sensitivity': 0.5388731507711678, 'eval_informedness': 0.1368492317279295, 'eval_balanced_accuracy': 0.5684246158639648, 'eval_runtime': 61.8333, 'eval_samples_per_second': 104.119, 'eval_steps_per_second': 6.518, 'epoch': 0.75}\n"
     ]
    },
    {
     "name": "stderr",
     "output_type": "stream",
     "text": [
      "Model weights saved in ./model\\checkpoint-600\\pytorch_model.bin\n",
      "tokenizer config file saved in ./model\\checkpoint-600\\tokenizer_config.json\n",
      "Special tokens file saved in ./model\\checkpoint-600\\special_tokens_map.json\n",
      " 29%|██▉       | 700/2415 [16:07<23:38,  1.21it/s]   ***** Running Evaluation *****\n",
      "  Num examples = 6438\n",
      "  Batch size = 16\n"
     ]
    },
    {
     "name": "stdout",
     "output_type": "stream",
     "text": [
      "{'loss': 0.6867, 'learning_rate': 4.033166875709291e-05, 'epoch': 0.87}\n"
     ]
    },
    {
     "name": "stderr",
     "output_type": "stream",
     "text": [
      "                                                  \n",
      " 29%|██▉       | 700/2415 [17:09<23:38,  1.21it/s]Saving model checkpoint to ./model\\checkpoint-700\n",
      "Configuration saved in ./model\\checkpoint-700\\config.json\n"
     ]
    },
    {
     "name": "stdout",
     "output_type": "stream",
     "text": [
      "(6438, 2) (6438,)\n",
      "(6438,) (6438,)\n",
      "{'eval_loss': 0.6935725212097168, 'eval_pred_true': 5761, 'eval_pred_false': 677, 'eval_actual_true': 3177, 'eval_actual_false': 3261, 'eval_accuracy': 0.5324634979807393, 'eval_f1_score': 0.66323562318192, 'eval_precision': 0.5144940114563444, 'eval_recall': 0.9329556185080264, 'eval_roc_auc': 0.5376216301678433, 'eval_matthews_correlation': 0.12263327891321343, 'eval_cohen_kappa': 0.07446322259874061, 'eval_true_negative': 464, 'eval_false_positive': 2797, 'eval_false_negative': 213, 'eval_true_positive': 2964, 'eval_specificity': 0.14228764182766024, 'eval_sensitivity': 0.9329556185080264, 'eval_informedness': 0.07524326033568673, 'eval_balanced_accuracy': 0.5376216301678434, 'eval_runtime': 61.5866, 'eval_samples_per_second': 104.536, 'eval_steps_per_second': 6.544, 'epoch': 0.87}\n"
     ]
    },
    {
     "name": "stderr",
     "output_type": "stream",
     "text": [
      "Model weights saved in ./model\\checkpoint-700\\pytorch_model.bin\n",
      "tokenizer config file saved in ./model\\checkpoint-700\\tokenizer_config.json\n",
      "Special tokens file saved in ./model\\checkpoint-700\\special_tokens_map.json\n",
      " 33%|███▎      | 800/2415 [18:34<22:39,  1.19it/s]  ***** Running Evaluation *****\n",
      "  Num examples = 6438\n",
      "  Batch size = 16\n"
     ]
    },
    {
     "name": "stdout",
     "output_type": "stream",
     "text": [
      "{'loss': 0.689, 'learning_rate': 3.764055752534714e-05, 'epoch': 0.99}\n"
     ]
    },
    {
     "name": "stderr",
     "output_type": "stream",
     "text": [
      "                                                  \n",
      " 33%|███▎      | 800/2415 [19:35<22:39,  1.19it/s]Saving model checkpoint to ./model\\checkpoint-800\n",
      "Configuration saved in ./model\\checkpoint-800\\config.json\n"
     ]
    },
    {
     "name": "stdout",
     "output_type": "stream",
     "text": [
      "(6438, 2) (6438,)\n",
      "(6438,) (6438,)\n",
      "{'eval_loss': 0.6843065023422241, 'eval_pred_true': 4384, 'eval_pred_false': 2054, 'eval_actual_true': 3177, 'eval_actual_false': 3261, 'eval_accuracy': 0.5695868282075178, 'eval_f1_score': 0.633514085438434, 'eval_precision': 0.5463047445255474, 'eval_recall': 0.7538558388416745, 'eval_roc_auc': 0.5719601181328888, 'eval_matthews_correlation': 0.1543726565090383, 'eval_cohen_kappa': 0.14321944202470271, 'eval_true_negative': 1272, 'eval_false_positive': 1989, 'eval_false_negative': 782, 'eval_true_positive': 2395, 'eval_specificity': 0.39006439742410304, 'eval_sensitivity': 0.7538558388416745, 'eval_informedness': 0.14392023626577766, 'eval_balanced_accuracy': 0.5719601181328888, 'eval_runtime': 61.549, 'eval_samples_per_second': 104.6, 'eval_steps_per_second': 6.548, 'epoch': 0.99}\n"
     ]
    },
    {
     "name": "stderr",
     "output_type": "stream",
     "text": [
      "Model weights saved in ./model\\checkpoint-800\\pytorch_model.bin\n",
      "tokenizer config file saved in ./model\\checkpoint-800\\tokenizer_config.json\n",
      "Special tokens file saved in ./model\\checkpoint-800\\special_tokens_map.json\n",
      " 37%|███▋      | 900/2415 [21:01<21:17,  1.19it/s]  ***** Running Evaluation *****\n",
      "  Num examples = 6438\n",
      "  Batch size = 16\n"
     ]
    },
    {
     "name": "stdout",
     "output_type": "stream",
     "text": [
      "{'loss': 0.6797, 'learning_rate': 3.473583747840112e-05, 'epoch': 1.12}\n"
     ]
    },
    {
     "name": "stderr",
     "output_type": "stream",
     "text": [
      "                                                  \n",
      " 37%|███▋      | 900/2415 [22:03<21:17,  1.19it/s]Saving model checkpoint to ./model\\checkpoint-900\n",
      "Configuration saved in ./model\\checkpoint-900\\config.json\n"
     ]
    },
    {
     "name": "stdout",
     "output_type": "stream",
     "text": [
      "(6438, 2) (6438,)\n",
      "(6438,) (6438,)\n",
      "{'eval_loss': 0.6811380386352539, 'eval_pred_true': 1885, 'eval_pred_false': 4553, 'eval_actual_true': 3177, 'eval_actual_false': 3261, 'eval_accuracy': 0.5740913327120224, 'eval_f1_score': 0.4583168708020546, 'eval_precision': 0.6153846153846154, 'eval_recall': 0.36512433112999687, 'eval_roc_auc': 0.5713999453871389, 'eval_matthews_correlation': 0.15689437722856595, 'eval_cohen_kappa': 0.14355177740821734, 'eval_true_negative': 2536, 'eval_false_positive': 725, 'eval_false_negative': 2017, 'eval_true_positive': 1160, 'eval_specificity': 0.7776755596442809, 'eval_sensitivity': 0.36512433112999687, 'eval_informedness': 0.1427998907742778, 'eval_balanced_accuracy': 0.5713999453871389, 'eval_runtime': 61.7588, 'eval_samples_per_second': 104.244, 'eval_steps_per_second': 6.525, 'epoch': 1.12}\n"
     ]
    },
    {
     "name": "stderr",
     "output_type": "stream",
     "text": [
      "Model weights saved in ./model\\checkpoint-900\\pytorch_model.bin\n",
      "tokenizer config file saved in ./model\\checkpoint-900\\tokenizer_config.json\n",
      "Special tokens file saved in ./model\\checkpoint-900\\special_tokens_map.json\n",
      " 41%|████▏     | 1000/2415 [23:28<19:43,  1.20it/s] ***** Running Evaluation *****\n",
      "  Num examples = 6438\n",
      "  Batch size = 16\n"
     ]
    },
    {
     "name": "stdout",
     "output_type": "stream",
     "text": [
      "{'loss': 0.6798, 'learning_rate': 3.166659456886983e-05, 'epoch': 1.24}\n"
     ]
    },
    {
     "name": "stderr",
     "output_type": "stream",
     "text": [
      "                                                   \n",
      " 41%|████▏     | 1000/2415 [24:30<19:43,  1.20it/s]Saving model checkpoint to ./model\\checkpoint-1000\n",
      "Configuration saved in ./model\\checkpoint-1000\\config.json\n"
     ]
    },
    {
     "name": "stdout",
     "output_type": "stream",
     "text": [
      "(6438, 2) (6438,)\n",
      "(6438,) (6438,)\n",
      "{'eval_loss': 0.6829229593276978, 'eval_pred_true': 4274, 'eval_pred_false': 2164, 'eval_actual_true': 3177, 'eval_actual_false': 3261, 'eval_accuracy': 0.583255669462566, 'eval_f1_score': 0.639914105489196, 'eval_precision': 0.5577912962096396, 'eval_recall': 0.7503934529430281, 'eval_roc_auc': 0.5854083180078526, 'eval_matthews_correlation': 0.1807874522501428, 'eval_cohen_kappa': 0.1700603414998515, 'eval_true_negative': 1371, 'eval_false_positive': 1890, 'eval_false_negative': 793, 'eval_true_positive': 2384, 'eval_specificity': 0.4204231830726771, 'eval_sensitivity': 0.7503934529430281, 'eval_informedness': 0.1708166360157053, 'eval_balanced_accuracy': 0.5854083180078526, 'eval_runtime': 61.7397, 'eval_samples_per_second': 104.277, 'eval_steps_per_second': 6.527, 'epoch': 1.24}\n"
     ]
    },
    {
     "name": "stderr",
     "output_type": "stream",
     "text": [
      "Model weights saved in ./model\\checkpoint-1000\\pytorch_model.bin\n",
      "tokenizer config file saved in ./model\\checkpoint-1000\\tokenizer_config.json\n",
      "Special tokens file saved in ./model\\checkpoint-1000\\special_tokens_map.json\n",
      " 46%|████▌     | 1100/2415 [25:55<18:22,  1.19it/s]  ***** Running Evaluation *****\n",
      "  Num examples = 6438\n",
      "  Batch size = 16\n"
     ]
    },
    {
     "name": "stdout",
     "output_type": "stream",
     "text": [
      "{'loss': 0.6703, 'learning_rate': 2.848469496959832e-05, 'epoch': 1.37}\n"
     ]
    },
    {
     "name": "stderr",
     "output_type": "stream",
     "text": []
    },
    {
     "name": "stdout",
     "output_type": "stream",
     "text": [
      "(6438, 2) (6438,)\n",
      "(6438,) (6438,)\n"
     ]
    },
    {
     "name": "stderr",
     "output_type": "stream",
     "text": [
      "                                                   \n",
      " 46%|████▌     | 1100/2415 [26:57<18:22,  1.19it/s]Saving model checkpoint to ./model\\checkpoint-1100\n",
      "Configuration saved in ./model\\checkpoint-1100\\config.json\n"
     ]
    },
    {
     "name": "stdout",
     "output_type": "stream",
     "text": [
      "{'eval_loss': 0.6728277206420898, 'eval_pred_true': 3559, 'eval_pred_false': 2879, 'eval_actual_true': 3177, 'eval_actual_false': 3261, 'eval_accuracy': 0.5883814849332091, 'eval_f1_score': 0.6065914489311164, 'eval_precision': 0.574037651025569, 'eval_recall': 0.6430594900849859, 'eval_roc_auc': 0.5890857094705826, 'eval_matthews_correlation': 0.17915841807199043, 'eval_cohen_kappa': 0.17789592589455083, 'eval_true_negative': 1745, 'eval_false_positive': 1516, 'eval_false_negative': 1134, 'eval_true_positive': 2043, 'eval_specificity': 0.5351119288561791, 'eval_sensitivity': 0.6430594900849859, 'eval_informedness': 0.17817141894116495, 'eval_balanced_accuracy': 0.5890857094705825, 'eval_runtime': 61.7837, 'eval_samples_per_second': 104.202, 'eval_steps_per_second': 6.523, 'epoch': 1.37}\n"
     ]
    },
    {
     "name": "stderr",
     "output_type": "stream",
     "text": [
      "Model weights saved in ./model\\checkpoint-1100\\pytorch_model.bin\n",
      "tokenizer config file saved in ./model\\checkpoint-1100\\tokenizer_config.json\n",
      "Special tokens file saved in ./model\\checkpoint-1100\\special_tokens_map.json\n",
      " 50%|████▉     | 1200/2415 [28:22<16:33,  1.22it/s]  ***** Running Evaluation *****\n",
      "  Num examples = 6438\n",
      "  Batch size = 16\n"
     ]
    },
    {
     "name": "stdout",
     "output_type": "stream",
     "text": [
      "{'loss': 0.6669, 'learning_rate': 2.5243908603481453e-05, 'epoch': 1.49}\n"
     ]
    },
    {
     "name": "stderr",
     "output_type": "stream",
     "text": [
      "                                                   \n",
      " 50%|████▉     | 1200/2415 [29:23<16:33,  1.22it/s]"
     ]
    },
    {
     "name": "stdout",
     "output_type": "stream",
     "text": [
      "(6438, 2) (6438,)\n",
      "(6438,) (6438,)\n",
      "{'eval_loss': 0.6659488677978516, 'eval_pred_true': 3054, 'eval_pred_false': 3384, 'eval_actual_true': 3177, 'eval_actual_false': 3261, 'eval_accuracy': 0.6012736874805841, 'eval_f1_score': 0.5880276039159044, 'eval_precision': 0.5998690242305174, 'eval_recall': 0.5766446333018571, 'eval_roc_auc': 0.6009564779511432, 'eval_matthews_correlation': 0.2021615226454463, 'eval_cohen_kappa': 0.20201368783927354, 'eval_true_negative': 2039, 'eval_false_positive': 1222, 'eval_false_negative': 1345, 'eval_true_positive': 1832, 'eval_specificity': 0.6252683226004293, 'eval_sensitivity': 0.5766446333018571, 'eval_informedness': 0.2019129559022863, 'eval_balanced_accuracy': 0.6009564779511432, 'eval_runtime': 61.2873, 'eval_samples_per_second': 105.046, 'eval_steps_per_second': 6.576, 'epoch': 1.49}\n"
     ]
    },
    {
     "name": "stderr",
     "output_type": "stream",
     "text": [
      "Saving model checkpoint to ./model\\checkpoint-1200\n",
      "Configuration saved in ./model\\checkpoint-1200\\config.json\n",
      "Model weights saved in ./model\\checkpoint-1200\\pytorch_model.bin\n",
      "tokenizer config file saved in ./model\\checkpoint-1200\\tokenizer_config.json\n",
      "Special tokens file saved in ./model\\checkpoint-1200\\special_tokens_map.json\n",
      " 54%|█████▍    | 1300/2415 [30:49<15:44,  1.18it/s]  ***** Running Evaluation *****\n",
      "  Num examples = 6438\n",
      "  Batch size = 16\n"
     ]
    },
    {
     "name": "stdout",
     "output_type": "stream",
     "text": [
      "{'loss': 0.6684, 'learning_rate': 2.199900050240929e-05, 'epoch': 1.61}\n"
     ]
    },
    {
     "name": "stderr",
     "output_type": "stream",
     "text": [
      "                                                   \n",
      " 54%|█████▍    | 1300/2415 [31:49<15:44,  1.18it/s]Saving model checkpoint to ./model\\checkpoint-1300\n",
      "Configuration saved in ./model\\checkpoint-1300\\config.json\n"
     ]
    },
    {
     "name": "stdout",
     "output_type": "stream",
     "text": [
      "(6438, 2) (6438,)\n",
      "(6438,) (6438,)\n",
      "{'eval_loss': 0.6768596172332764, 'eval_pred_true': 1546, 'eval_pred_false': 4892, 'eval_actual_true': 3177, 'eval_actual_false': 3261, 'eval_accuracy': 0.5792171481826655, 'eval_f1_score': 0.4264238831251323, 'eval_precision': 0.6513583441138422, 'eval_recall': 0.31696569090336796, 'eval_roc_auc': 0.5758394845194547, 'eval_matthews_correlation': 0.1775257703748775, 'eval_cohen_kappa': 0.1526885513027738, 'eval_true_negative': 2722, 'eval_false_positive': 539, 'eval_false_negative': 2170, 'eval_true_positive': 1007, 'eval_specificity': 0.8347132781355412, 'eval_sensitivity': 0.31696569090336796, 'eval_informedness': 0.1516789690389091, 'eval_balanced_accuracy': 0.5758394845194545, 'eval_runtime': 60.7979, 'eval_samples_per_second': 105.892, 'eval_steps_per_second': 6.629, 'epoch': 1.61}\n"
     ]
    },
    {
     "name": "stderr",
     "output_type": "stream",
     "text": [
      "Model weights saved in ./model\\checkpoint-1300\\pytorch_model.bin\n",
      "tokenizer config file saved in ./model\\checkpoint-1300\\tokenizer_config.json\n",
      "Special tokens file saved in ./model\\checkpoint-1300\\special_tokens_map.json\n",
      " 58%|█████▊    | 1400/2415 [33:15<14:07,  1.20it/s]  ***** Running Evaluation *****\n",
      "  Num examples = 6438\n",
      "  Batch size = 16\n"
     ]
    },
    {
     "name": "stdout",
     "output_type": "stream",
     "text": [
      "{'loss': 0.6642, 'learning_rate': 1.8804805350177505e-05, 'epoch': 1.74}\n"
     ]
    },
    {
     "name": "stderr",
     "output_type": "stream",
     "text": [
      "                                                   \n",
      " 58%|█████▊    | 1400/2415 [34:17<14:07,  1.20it/s]Saving model checkpoint to ./model\\checkpoint-1400\n",
      "Configuration saved in ./model\\checkpoint-1400\\config.json\n"
     ]
    },
    {
     "name": "stdout",
     "output_type": "stream",
     "text": [
      "(6438, 2) (6438,)\n",
      "(6438,) (6438,)\n",
      "{'eval_loss': 0.6576188206672668, 'eval_pred_true': 2754, 'eval_pred_false': 3684, 'eval_actual_true': 3177, 'eval_actual_false': 3261, 'eval_accuracy': 0.6121466293880087, 'eval_f1_score': 0.57899173832406, 'eval_precision': 0.6234567901234568, 'eval_recall': 0.5404469625432798, 'eval_roc_auc': 0.6112231746172394, 'eval_matthews_correlation': 0.2247850949441137, 'eval_cohen_kappa': 0.22282846266994671, 'eval_true_negative': 2224, 'eval_false_positive': 1037, 'eval_false_negative': 1460, 'eval_true_positive': 1717, 'eval_specificity': 0.681999386691199, 'eval_sensitivity': 0.5404469625432798, 'eval_informedness': 0.2224463492344788, 'eval_balanced_accuracy': 0.6112231746172394, 'eval_runtime': 61.4162, 'eval_samples_per_second': 104.826, 'eval_steps_per_second': 6.562, 'epoch': 1.74}\n"
     ]
    },
    {
     "name": "stderr",
     "output_type": "stream",
     "text": [
      "Model weights saved in ./model\\checkpoint-1400\\pytorch_model.bin\n",
      "tokenizer config file saved in ./model\\checkpoint-1400\\tokenizer_config.json\n",
      "Special tokens file saved in ./model\\checkpoint-1400\\special_tokens_map.json\n",
      " 62%|██████▏   | 1500/2415 [35:42<13:11,  1.16it/s]  ***** Running Evaluation *****\n",
      "  Num examples = 6438\n",
      "  Batch size = 16\n"
     ]
    },
    {
     "name": "stdout",
     "output_type": "stream",
     "text": [
      "{'loss': 0.6566, 'learning_rate': 1.571530084837234e-05, 'epoch': 1.86}\n"
     ]
    },
    {
     "name": "stderr",
     "output_type": "stream",
     "text": [
      "                                                   \n",
      " 62%|██████▏   | 1500/2415 [36:43<13:11,  1.16it/s]Saving model checkpoint to ./model\\checkpoint-1500\n",
      "Configuration saved in ./model\\checkpoint-1500\\config.json\n"
     ]
    },
    {
     "name": "stdout",
     "output_type": "stream",
     "text": [
      "(6438, 2) (6438,)\n",
      "(6438,) (6438,)\n",
      "{'eval_loss': 0.6597467064857483, 'eval_pred_true': 3153, 'eval_pred_false': 3285, 'eval_actual_true': 3177, 'eval_actual_false': 3261, 'eval_accuracy': 0.6095060577819198, 'eval_f1_score': 0.6028436018957346, 'eval_precision': 0.6051379638439581, 'eval_recall': 0.6005665722379604, 'eval_roc_auc': 0.6093909218135524, 'eval_matthews_correlation': 0.2188092170915732, 'eval_cohen_kappa': 0.21880313217569447, 'eval_true_negative': 2016, 'eval_false_positive': 1245, 'eval_false_negative': 1269, 'eval_true_positive': 1908, 'eval_specificity': 0.6182152713891444, 'eval_sensitivity': 0.6005665722379604, 'eval_informedness': 0.21878184362710495, 'eval_balanced_accuracy': 0.6093909218135525, 'eval_runtime': 61.7499, 'eval_samples_per_second': 104.259, 'eval_steps_per_second': 6.526, 'epoch': 1.86}\n"
     ]
    },
    {
     "name": "stderr",
     "output_type": "stream",
     "text": [
      "Model weights saved in ./model\\checkpoint-1500\\pytorch_model.bin\n",
      "tokenizer config file saved in ./model\\checkpoint-1500\\tokenizer_config.json\n",
      "Special tokens file saved in ./model\\checkpoint-1500\\special_tokens_map.json\n",
      " 66%|██████▋   | 1600/2415 [38:09<11:22,  1.19it/s]  ***** Running Evaluation *****\n",
      "  Num examples = 6438\n",
      "  Batch size = 16\n"
     ]
    },
    {
     "name": "stdout",
     "output_type": "stream",
     "text": [
      "{'loss': 0.6614, 'learning_rate': 1.2782695564128822e-05, 'epoch': 1.99}\n"
     ]
    },
    {
     "name": "stderr",
     "output_type": "stream",
     "text": [
      "                                                   \n",
      " 66%|██████▋   | 1600/2415 [39:11<11:22,  1.19it/s]Saving model checkpoint to ./model\\checkpoint-1600\n",
      "Configuration saved in ./model\\checkpoint-1600\\config.json\n"
     ]
    },
    {
     "name": "stdout",
     "output_type": "stream",
     "text": [
      "(6438, 2) (6438,)\n",
      "(6438,) (6438,)\n",
      "{'eval_loss': 0.6558592319488525, 'eval_pred_true': 2821, 'eval_pred_false': 3617, 'eval_actual_true': 3177, 'eval_actual_false': 3261, 'eval_accuracy': 0.6060888474681578, 'eval_f1_score': 0.577192397465822, 'eval_precision': 0.6136121942573556, 'eval_recall': 0.5448536355051936, 'eval_roc_auc': 0.6053001694851942, 'eval_matthews_correlation': 0.21221069867583572, 'eval_cohen_kappa': 0.21090471999454818, 'eval_true_negative': 2171, 'eval_false_positive': 1090, 'eval_false_negative': 1446, 'eval_true_positive': 1731, 'eval_specificity': 0.6657467034651947, 'eval_sensitivity': 0.5448536355051936, 'eval_informedness': 0.21060033897038832, 'eval_balanced_accuracy': 0.6053001694851942, 'eval_runtime': 61.5122, 'eval_samples_per_second': 104.662, 'eval_steps_per_second': 6.552, 'epoch': 1.99}\n"
     ]
    },
    {
     "name": "stderr",
     "output_type": "stream",
     "text": [
      "Model weights saved in ./model\\checkpoint-1600\\pytorch_model.bin\n",
      "tokenizer config file saved in ./model\\checkpoint-1600\\tokenizer_config.json\n",
      "Special tokens file saved in ./model\\checkpoint-1600\\special_tokens_map.json\n",
      " 70%|███████   | 1700/2415 [40:35<09:43,  1.23it/s]  ***** Running Evaluation *****\n",
      "  Num examples = 6438\n",
      "  Batch size = 16\n"
     ]
    },
    {
     "name": "stdout",
     "output_type": "stream",
     "text": [
      "{'loss': 0.6253, 'learning_rate': 1.0056546673937098e-05, 'epoch': 2.11}\n"
     ]
    },
    {
     "name": "stderr",
     "output_type": "stream",
     "text": [
      "                                                   \n",
      " 70%|███████   | 1700/2415 [41:37<09:43,  1.23it/s]Saving model checkpoint to ./model\\checkpoint-1700\n",
      "Configuration saved in ./model\\checkpoint-1700\\config.json\n"
     ]
    },
    {
     "name": "stdout",
     "output_type": "stream",
     "text": [
      "(6438, 2) (6438,)\n",
      "(6438,) (6438,)\n",
      "{'eval_loss': 0.6793583631515503, 'eval_pred_true': 2809, 'eval_pred_false': 3629, 'eval_actual_true': 3177, 'eval_actual_false': 3261, 'eval_accuracy': 0.6051568810189499, 'eval_f1_score': 0.5753424657534247, 'eval_precision': 0.6130295478818085, 'eval_recall': 0.5420207743153919, 'eval_roc_auc': 0.6043437204910294, 'eval_matthews_correlation': 0.21038315645119723, 'eval_cohen_kappa': 0.20899923932363307, 'eval_true_negative': 2174, 'eval_false_positive': 1087, 'eval_false_negative': 1455, 'eval_true_positive': 1722, 'eval_specificity': 0.6666666666666666, 'eval_sensitivity': 0.5420207743153919, 'eval_informedness': 0.2086874409820585, 'eval_balanced_accuracy': 0.6043437204910292, 'eval_runtime': 61.6723, 'eval_samples_per_second': 104.39, 'eval_steps_per_second': 6.535, 'epoch': 2.11}\n"
     ]
    },
    {
     "name": "stderr",
     "output_type": "stream",
     "text": [
      "Model weights saved in ./model\\checkpoint-1700\\pytorch_model.bin\n",
      "tokenizer config file saved in ./model\\checkpoint-1700\\tokenizer_config.json\n",
      "Special tokens file saved in ./model\\checkpoint-1700\\special_tokens_map.json\n",
      " 75%|███████▍  | 1800/2415 [43:03<08:35,  1.19it/s]  ***** Running Evaluation *****\n",
      "  Num examples = 6438\n",
      "  Batch size = 16\n"
     ]
    },
    {
     "name": "stdout",
     "output_type": "stream",
     "text": [
      "{'loss': 0.6363, 'learning_rate': 7.582922512467186e-06, 'epoch': 2.24}\n"
     ]
    },
    {
     "name": "stderr",
     "output_type": "stream",
     "text": []
    },
    {
     "name": "stdout",
     "output_type": "stream",
     "text": [
      "(6438, 2) (6438,)\n",
      "(6438,) (6438,)\n"
     ]
    },
    {
     "name": "stderr",
     "output_type": "stream",
     "text": [
      "                                                   \n",
      " 75%|███████▍  | 1800/2415 [44:04<08:35,  1.19it/s]Saving model checkpoint to ./model\\checkpoint-1800\n",
      "Configuration saved in ./model\\checkpoint-1800\\config.json\n"
     ]
    },
    {
     "name": "stdout",
     "output_type": "stream",
     "text": [
      "{'eval_loss': 0.6625591516494751, 'eval_pred_true': 3496, 'eval_pred_false': 2942, 'eval_actual_true': 3177, 'eval_actual_false': 3261, 'eval_accuracy': 0.6112146629388009, 'eval_f1_score': 0.624906338977971, 'eval_precision': 0.596395881006865, 'eval_recall': 0.6562795089707271, 'eval_roc_auc': 0.611795074939212, 'eval_matthews_correlation': 0.2244035007348517, 'eval_cohen_kappa': 0.2233013723786209, 'eval_true_negative': 1850, 'eval_false_positive': 1411, 'eval_false_negative': 1092, 'eval_true_positive': 2085, 'eval_specificity': 0.567310640907697, 'eval_sensitivity': 0.6562795089707271, 'eval_informedness': 0.22359014987842407, 'eval_balanced_accuracy': 0.611795074939212, 'eval_runtime': 61.7925, 'eval_samples_per_second': 104.187, 'eval_steps_per_second': 6.522, 'epoch': 2.24}\n"
     ]
    },
    {
     "name": "stderr",
     "output_type": "stream",
     "text": [
      "Model weights saved in ./model\\checkpoint-1800\\pytorch_model.bin\n",
      "tokenizer config file saved in ./model\\checkpoint-1800\\tokenizer_config.json\n",
      "Special tokens file saved in ./model\\checkpoint-1800\\special_tokens_map.json\n",
      " 79%|███████▊  | 1900/2415 [45:30<07:12,  1.19it/s]  ***** Running Evaluation *****\n",
      "  Num examples = 6438\n",
      "  Batch size = 16\n"
     ]
    },
    {
     "name": "stdout",
     "output_type": "stream",
     "text": [
      "{'loss': 0.6196, 'learning_rate': 5.403624078236963e-06, 'epoch': 2.36}\n"
     ]
    },
    {
     "name": "stderr",
     "output_type": "stream",
     "text": [
      "                                                   \n",
      " 79%|███████▊  | 1900/2415 [46:32<07:12,  1.19it/s]Saving model checkpoint to ./model\\checkpoint-1900\n",
      "Configuration saved in ./model\\checkpoint-1900\\config.json\n"
     ]
    },
    {
     "name": "stdout",
     "output_type": "stream",
     "text": [
      "(6438, 2) (6438,)\n",
      "(6438,) (6438,)\n",
      "{'eval_loss': 0.6700224280357361, 'eval_pred_true': 3228, 'eval_pred_false': 3210, 'eval_actual_true': 3177, 'eval_actual_false': 3261, 'eval_accuracy': 0.6115253184218702, 'eval_f1_score': 0.6095238095238095, 'eval_precision': 0.6047087980173482, 'eval_recall': 0.6144161158325464, 'eval_roc_auc': 0.6115625504032405, 'eval_matthews_correlation': 0.22310697982872002, 'eval_cohen_kappa': 0.22307897859739967, 'eval_true_negative': 1985, 'eval_false_positive': 1276, 'eval_false_negative': 1225, 'eval_true_positive': 1952, 'eval_specificity': 0.6087089849739343, 'eval_sensitivity': 0.6144161158325464, 'eval_informedness': 0.22312510080648074, 'eval_balanced_accuracy': 0.6115625504032404, 'eval_runtime': 61.3052, 'eval_samples_per_second': 105.016, 'eval_steps_per_second': 6.574, 'epoch': 2.36}\n"
     ]
    },
    {
     "name": "stderr",
     "output_type": "stream",
     "text": [
      "Model weights saved in ./model\\checkpoint-1900\\pytorch_model.bin\n",
      "tokenizer config file saved in ./model\\checkpoint-1900\\tokenizer_config.json\n",
      "Special tokens file saved in ./model\\checkpoint-1900\\special_tokens_map.json\n",
      " 83%|████████▎ | 2000/2415 [47:57<05:40,  1.22it/s]  ***** Running Evaluation *****\n",
      "  Num examples = 6438\n",
      "  Batch size = 16\n"
     ]
    },
    {
     "name": "stdout",
     "output_type": "stream",
     "text": [
      "{'loss': 0.6181, 'learning_rate': 3.555478651654784e-06, 'epoch': 2.48}\n"
     ]
    },
    {
     "name": "stderr",
     "output_type": "stream",
     "text": [
      "                                                   \n",
      " 83%|████████▎ | 2000/2415 [48:59<05:40,  1.22it/s]Saving model checkpoint to ./model\\checkpoint-2000\n",
      "Configuration saved in ./model\\checkpoint-2000\\config.json\n"
     ]
    },
    {
     "name": "stdout",
     "output_type": "stream",
     "text": [
      "(6438, 2) (6438,)\n",
      "(6438,) (6438,)\n",
      "{'eval_loss': 0.6663557291030884, 'eval_pred_true': 3445, 'eval_pred_false': 2993, 'eval_actual_true': 3177, 'eval_actual_false': 3261, 'eval_accuracy': 0.6091954022988506, 'eval_f1_score': 0.6200543642404107, 'eval_precision': 0.5959361393323658, 'eval_recall': 0.6462071136292099, 'eval_roc_auc': 0.6096720940731146, 'eval_matthews_correlation': 0.21986807136034262, 'eval_cohen_kappa': 0.219106136816124, 'eval_true_negative': 1869, 'eval_false_positive': 1392, 'eval_false_negative': 1124, 'eval_true_positive': 2053, 'eval_specificity': 0.5731370745170193, 'eval_sensitivity': 0.6462071136292099, 'eval_informedness': 0.21934418814622925, 'eval_balanced_accuracy': 0.6096720940731146, 'eval_runtime': 61.6963, 'eval_samples_per_second': 104.35, 'eval_steps_per_second': 6.532, 'epoch': 2.48}\n"
     ]
    },
    {
     "name": "stderr",
     "output_type": "stream",
     "text": [
      "Model weights saved in ./model\\checkpoint-2000\\pytorch_model.bin\n",
      "tokenizer config file saved in ./model\\checkpoint-2000\\tokenizer_config.json\n",
      "Special tokens file saved in ./model\\checkpoint-2000\\special_tokens_map.json\n",
      " 87%|████████▋ | 2100/2415 [50:25<04:23,  1.20it/s]  ***** Running Evaluation *****\n",
      "  Num examples = 6438\n",
      "  Batch size = 16\n"
     ]
    },
    {
     "name": "stdout",
     "output_type": "stream",
     "text": [
      "{'loss': 0.6203, 'learning_rate': 2.0697174623636794e-06, 'epoch': 2.61}\n"
     ]
    },
    {
     "name": "stderr",
     "output_type": "stream",
     "text": [
      "                                                   \n",
      " 87%|████████▋ | 2100/2415 [51:26<04:23,  1.20it/s]Saving model checkpoint to ./model\\checkpoint-2100\n",
      "Configuration saved in ./model\\checkpoint-2100\\config.json\n"
     ]
    },
    {
     "name": "stdout",
     "output_type": "stream",
     "text": [
      "(6438, 2) (6438,)\n",
      "(6438,) (6438,)\n",
      "{'eval_loss': 0.6631920337677002, 'eval_pred_true': 2875, 'eval_pred_false': 3563, 'eval_actual_true': 3177, 'eval_actual_false': 3261, 'eval_accuracy': 0.6070208139173656, 'eval_f1_score': 0.5819563780568408, 'eval_precision': 0.6125217391304347, 'eval_recall': 0.554296506137866, 'eval_roc_auc': 0.6063417519956426, 'eval_matthews_correlation': 0.21389024497882386, 'eval_cohen_kappa': 0.2129442118120557, 'eval_true_negative': 2147, 'eval_false_positive': 1114, 'eval_false_negative': 1416, 'eval_true_positive': 1761, 'eval_specificity': 0.6583869978534191, 'eval_sensitivity': 0.554296506137866, 'eval_informedness': 0.2126835039912851, 'eval_balanced_accuracy': 0.6063417519956426, 'eval_runtime': 61.7055, 'eval_samples_per_second': 104.334, 'eval_steps_per_second': 6.531, 'epoch': 2.61}\n"
     ]
    },
    {
     "name": "stderr",
     "output_type": "stream",
     "text": [
      "Model weights saved in ./model\\checkpoint-2100\\pytorch_model.bin\n",
      "tokenizer config file saved in ./model\\checkpoint-2100\\tokenizer_config.json\n",
      "Special tokens file saved in ./model\\checkpoint-2100\\special_tokens_map.json\n",
      " 91%|█████████ | 2200/2415 [52:52<03:01,  1.19it/s]  ***** Running Evaluation *****\n",
      "  Num examples = 6438\n",
      "  Batch size = 16\n"
     ]
    },
    {
     "name": "stdout",
     "output_type": "stream",
     "text": [
      "{'loss': 0.6166, 'learning_rate': 9.714479224915058e-07, 'epoch': 2.73}\n"
     ]
    },
    {
     "name": "stderr",
     "output_type": "stream",
     "text": []
    },
    {
     "name": "stdout",
     "output_type": "stream",
     "text": [
      "(6438, 2) (6438,)\n",
      "(6438,) (6438,)\n"
     ]
    },
    {
     "name": "stderr",
     "output_type": "stream",
     "text": [
      "                                                   \n",
      " 91%|█████████ | 2200/2415 [53:54<03:01,  1.19it/s]Saving model checkpoint to ./model\\checkpoint-2200\n",
      "Configuration saved in ./model\\checkpoint-2200\\config.json\n"
     ]
    },
    {
     "name": "stdout",
     "output_type": "stream",
     "text": [
      "{'eval_loss': 0.665073812007904, 'eval_pred_true': 2885, 'eval_pred_false': 3553, 'eval_actual_true': 3177, 'eval_actual_false': 3261, 'eval_accuracy': 0.6067101584342963, 'eval_f1_score': 0.58231606730452, 'eval_precision': 0.6117850953206239, 'eval_recall': 0.5555555555555556, 'eval_roc_auc': 0.6060513135030154, 'eval_matthews_correlation': 0.2132355162033348, 'eval_cohen_kappa': 0.21235400345170374, 'eval_true_negative': 2141, 'eval_false_positive': 1120, 'eval_false_negative': 1412, 'eval_true_positive': 1765, 'eval_specificity': 0.6565470714504753, 'eval_sensitivity': 0.5555555555555556, 'eval_informedness': 0.21210262700603089, 'eval_balanced_accuracy': 0.6060513135030154, 'eval_runtime': 61.9545, 'eval_samples_per_second': 103.915, 'eval_steps_per_second': 6.505, 'epoch': 2.73}\n"
     ]
    },
    {
     "name": "stderr",
     "output_type": "stream",
     "text": [
      "Model weights saved in ./model\\checkpoint-2200\\pytorch_model.bin\n",
      "tokenizer config file saved in ./model\\checkpoint-2200\\tokenizer_config.json\n",
      "Special tokens file saved in ./model\\checkpoint-2200\\special_tokens_map.json\n",
      " 95%|█████████▌| 2300/2415 [55:19<01:38,  1.17it/s]  ***** Running Evaluation *****\n",
      "  Num examples = 6438\n",
      "  Batch size = 16\n"
     ]
    },
    {
     "name": "stdout",
     "output_type": "stream",
     "text": [
      "{'loss': 0.6073, 'learning_rate': 2.7922934437178695e-07, 'epoch': 2.86}\n"
     ]
    },
    {
     "name": "stderr",
     "output_type": "stream",
     "text": [
      "                                                   \n",
      " 95%|█████████▌| 2300/2415 [56:22<01:38,  1.17it/s]Saving model checkpoint to ./model\\checkpoint-2300\n",
      "Configuration saved in ./model\\checkpoint-2300\\config.json\n"
     ]
    },
    {
     "name": "stdout",
     "output_type": "stream",
     "text": [
      "(6438, 2) (6438,)\n",
      "(6438,) (6438,)\n",
      "{'eval_loss': 0.6653680801391602, 'eval_pred_true': 2831, 'eval_pred_false': 3607, 'eval_actual_true': 3177, 'eval_actual_false': 3261, 'eval_accuracy': 0.608574091332712, 'eval_f1_score': 0.5805592543275633, 'eval_precision': 0.6160367361356411, 'eval_recall': 0.5489455461126849, 'eval_roc_auc': 0.6078061063896758, 'eval_matthews_correlation': 0.2171772640287215, 'eval_cohen_kappa': 0.21591507167494783, 'eval_true_negative': 2174, 'eval_false_positive': 1087, 'eval_false_negative': 1433, 'eval_true_positive': 1744, 'eval_specificity': 0.6666666666666666, 'eval_sensitivity': 0.5489455461126849, 'eval_informedness': 0.2156122127793516, 'eval_balanced_accuracy': 0.6078061063896758, 'eval_runtime': 62.0292, 'eval_samples_per_second': 103.79, 'eval_steps_per_second': 6.497, 'epoch': 2.86}\n"
     ]
    },
    {
     "name": "stderr",
     "output_type": "stream",
     "text": [
      "Model weights saved in ./model\\checkpoint-2300\\pytorch_model.bin\n",
      "tokenizer config file saved in ./model\\checkpoint-2300\\tokenizer_config.json\n",
      "Special tokens file saved in ./model\\checkpoint-2300\\special_tokens_map.json\n",
      " 99%|█████████▉| 2400/2415 [57:48<00:12,  1.20it/s]***** Running Evaluation *****\n",
      "  Num examples = 6438\n",
      "  Batch size = 16\n"
     ]
    },
    {
     "name": "stdout",
     "output_type": "stream",
     "text": [
      "{'loss': 0.6025, 'learning_rate': 4.7593125481831815e-09, 'epoch': 2.98}\n"
     ]
    },
    {
     "name": "stderr",
     "output_type": "stream",
     "text": [
      "                                                   \n",
      " 99%|█████████▉| 2400/2415 [58:49<00:12,  1.20it/s]Saving model checkpoint to ./model\\checkpoint-2400\n",
      "Configuration saved in ./model\\checkpoint-2400\\config.json\n"
     ]
    },
    {
     "name": "stdout",
     "output_type": "stream",
     "text": [
      "(6438, 2) (6438,)\n",
      "(6438,) (6438,)\n",
      "{'eval_loss': 0.6663724184036255, 'eval_pred_true': 2822, 'eval_pred_false': 3616, 'eval_actual_true': 3177, 'eval_actual_false': 3261, 'eval_accuracy': 0.6081081081081081, 'eval_f1_score': 0.5794299049841641, 'eval_precision': 0.6158752657689582, 'eval_recall': 0.5470569719861504, 'eval_roc_auc': 0.6073218009271444, 'eval_matthews_correlation': 0.2162764531319622, 'eval_cohen_kappa': 0.21495295393931557, 'eval_true_negative': 2177, 'eval_false_positive': 1084, 'eval_false_negative': 1439, 'eval_true_positive': 1738, 'eval_specificity': 0.6675866298681387, 'eval_sensitivity': 0.5470569719861504, 'eval_informedness': 0.2146436018542892, 'eval_balanced_accuracy': 0.6073218009271446, 'eval_runtime': 61.6601, 'eval_samples_per_second': 104.411, 'eval_steps_per_second': 6.536, 'epoch': 2.98}\n"
     ]
    },
    {
     "name": "stderr",
     "output_type": "stream",
     "text": [
      "Model weights saved in ./model\\checkpoint-2400\\pytorch_model.bin\n",
      "tokenizer config file saved in ./model\\checkpoint-2400\\tokenizer_config.json\n",
      "Special tokens file saved in ./model\\checkpoint-2400\\special_tokens_map.json\n",
      "100%|██████████| 2415/2415 [59:04<00:00,  1.13it/s]\n",
      "\n",
      "Training completed. Do not forget to share your model on huggingface.co/models =)\n",
      "\n",
      "\n",
      "Loading best model from ./model\\checkpoint-700 (score: 0.66323562318192).\n",
      "100%|██████████| 2415/2415 [59:04<00:00,  1.47s/it]\n",
      "***** Running Prediction *****\n",
      "  Num examples = 6438\n",
      "  Batch size = 16\n"
     ]
    },
    {
     "name": "stdout",
     "output_type": "stream",
     "text": [
      "{'train_runtime': 3544.3908, 'train_samples_per_second': 21.793, 'train_steps_per_second': 0.681, 'train_loss': 0.6603306784146074, 'epoch': 3.0}\n"
     ]
    },
    {
     "name": "stderr",
     "output_type": "stream",
     "text": [
      "100%|██████████| 403/403 [01:01<00:00,  6.57it/s]"
     ]
    },
    {
     "name": "stdout",
     "output_type": "stream",
     "text": [
      "(6438, 2) (6438,)\n",
      "(6438,) (6438,)\n"
     ]
    },
    {
     "name": "stderr",
     "output_type": "stream",
     "text": [
      "\n"
     ]
    },
    {
     "name": "stdout",
     "output_type": "stream",
     "text": [
      "=== Learning rate = 5e-05, Weight decay = 0.00025, Classifier dropout = 0.1 ===\n"
     ]
    },
    {
     "name": "stderr",
     "output_type": "stream",
     "text": [
      "loading configuration file https://huggingface.co/bert-base-uncased/resolve/main/config.json from cache at C:\\Users\\Wenhao/.cache\\huggingface\\transformers\\3c61d016573b14f7f008c02c4e51a366c67ab274726fe2910691e2a761acf43e.37395cee442ab11005bcd270f3c34464dc1704b715b5d7d52b1a461abe3b9e4e\n",
      "Model config BertConfig {\n",
      "  \"_name_or_path\": \"bert-base-uncased\",\n",
      "  \"architectures\": [\n",
      "    \"BertForMaskedLM\"\n",
      "  ],\n",
      "  \"attention_probs_dropout_prob\": 0.1,\n",
      "  \"classifier_dropout\": 0.1,\n",
      "  \"gradient_checkpointing\": false,\n",
      "  \"hidden_act\": \"gelu\",\n",
      "  \"hidden_dropout_prob\": 0.1,\n",
      "  \"hidden_size\": 768,\n",
      "  \"initializer_range\": 0.02,\n",
      "  \"intermediate_size\": 3072,\n",
      "  \"layer_norm_eps\": 1e-12,\n",
      "  \"max_position_embeddings\": 512,\n",
      "  \"model_type\": \"bert\",\n",
      "  \"num_attention_heads\": 12,\n",
      "  \"num_hidden_layers\": 12,\n",
      "  \"pad_token_id\": 0,\n",
      "  \"position_embedding_type\": \"absolute\",\n",
      "  \"transformers_version\": \"4.21.1\",\n",
      "  \"type_vocab_size\": 2,\n",
      "  \"use_cache\": true,\n",
      "  \"vocab_size\": 30522\n",
      "}\n",
      "\n",
      "loading weights file https://huggingface.co/bert-base-uncased/resolve/main/pytorch_model.bin from cache at C:\\Users\\Wenhao/.cache\\huggingface\\transformers\\a8041bf617d7f94ea26d15e218abd04afc2004805632abc0ed2066aa16d50d04.faf6ea826ae9c5867d12b22257f9877e6b8367890837bd60f7c54a29633f7f2f\n",
      "Some weights of the model checkpoint at bert-base-uncased were not used when initializing BertForSequenceClassification: ['cls.predictions.transform.LayerNorm.weight', 'cls.seq_relationship.weight', 'cls.predictions.decoder.weight', 'cls.predictions.transform.LayerNorm.bias', 'cls.predictions.bias', 'cls.predictions.transform.dense.bias', 'cls.predictions.transform.dense.weight', 'cls.seq_relationship.bias']\n",
      "- This IS expected if you are initializing BertForSequenceClassification from the checkpoint of a model trained on another task or with another architecture (e.g. initializing a BertForSequenceClassification model from a BertForPreTraining model).\n",
      "- This IS NOT expected if you are initializing BertForSequenceClassification from the checkpoint of a model that you expect to be exactly identical (initializing a BertForSequenceClassification model from a BertForSequenceClassification model).\n",
      "Some weights of BertForSequenceClassification were not initialized from the model checkpoint at bert-base-uncased and are newly initialized: ['classifier.bias', 'classifier.weight']\n",
      "You should probably TRAIN this model on a down-stream task to be able to use it for predictions and inference.\n",
      "PyTorch: setting up devices\n",
      "c:\\Users\\Wenhao\\miniconda3\\envs\\deep_wa_bert\\lib\\site-packages\\transformers\\optimization.py:306: FutureWarning: This implementation of AdamW is deprecated and will be removed in a future version. Use the PyTorch implementation torch.optim.AdamW instead, or set `no_deprecation_warning=True` to disable this warning\n",
      "  warnings.warn(\n",
      "***** Running training *****\n",
      "  Num examples = 25748\n",
      "  Num Epochs = 3\n",
      "  Instantaneous batch size per device = 16\n",
      "  Total train batch size (w. parallel, distributed & accumulation) = 32\n",
      "  Gradient Accumulation steps = 2\n",
      "  Total optimization steps = 2415\n",
      "  4%|▍         | 100/2415 [01:23<32:05,  1.20it/s]***** Running Evaluation *****\n",
      "  Num examples = 6438\n",
      "  Batch size = 16\n"
     ]
    },
    {
     "name": "stdout",
     "output_type": "stream",
     "text": [
      "{'loss': 0.6973, 'learning_rate': 4.97887664223157e-05, 'epoch': 0.12}\n"
     ]
    },
    {
     "name": "stderr",
     "output_type": "stream",
     "text": [
      "\n",
      "  4%|▍         | 100/2415 [02:24<32:05,  1.20it/s]Saving model checkpoint to ./model\\checkpoint-100\n",
      "Configuration saved in ./model\\checkpoint-100\\config.json\n"
     ]
    },
    {
     "name": "stdout",
     "output_type": "stream",
     "text": [
      "(6438, 2) (6438,)\n",
      "(6438,) (6438,)\n",
      "{'eval_loss': 0.6892270445823669, 'eval_pred_true': 680, 'eval_pred_false': 5758, 'eval_actual_true': 3177, 'eval_actual_false': 3261, 'eval_accuracy': 0.5301335818577197, 'eval_f1_score': 0.21571169302566762, 'eval_precision': 0.611764705882353, 'eval_recall': 0.13094113943972302, 'eval_roc_auc': 0.5249921888550961, 'eval_matthews_correlation': 0.08130701361572065, 'eval_cohen_kappa': 0.05049553290520459, 'eval_true_negative': 2997, 'eval_false_positive': 264, 'eval_false_negative': 2761, 'eval_true_positive': 416, 'eval_specificity': 0.9190432382704692, 'eval_sensitivity': 0.13094113943972302, 'eval_informedness': 0.04998437771019226, 'eval_balanced_accuracy': 0.5249921888550961, 'eval_runtime': 61.6361, 'eval_samples_per_second': 104.452, 'eval_steps_per_second': 6.538, 'epoch': 0.12}\n"
     ]
    },
    {
     "name": "stderr",
     "output_type": "stream",
     "text": [
      "Model weights saved in ./model\\checkpoint-100\\pytorch_model.bin\n",
      "tokenizer config file saved in ./model\\checkpoint-100\\tokenizer_config.json\n",
      "Special tokens file saved in ./model\\checkpoint-100\\special_tokens_map.json\n",
      "  8%|▊         | 200/2415 [03:50<31:04,  1.19it/s]   ***** Running Evaluation *****\n",
      "  Num examples = 6438\n",
      "  Batch size = 16\n"
     ]
    },
    {
     "name": "stdout",
     "output_type": "stream",
     "text": [
      "{'loss': 0.6943, 'learning_rate': 4.91586352592101e-05, 'epoch': 0.25}\n"
     ]
    },
    {
     "name": "stderr",
     "output_type": "stream",
     "text": [
      "\n",
      "  8%|▊         | 200/2415 [04:52<31:04,  1.19it/s]Saving model checkpoint to ./model\\checkpoint-200\n",
      "Configuration saved in ./model\\checkpoint-200\\config.json\n"
     ]
    },
    {
     "name": "stdout",
     "output_type": "stream",
     "text": [
      "(6438, 2) (6438,)\n",
      "(6438,) (6438,)\n",
      "{'eval_loss': 0.6822710633277893, 'eval_pred_true': 2575, 'eval_pred_false': 3863, 'eval_actual_true': 3177, 'eval_actual_false': 3261, 'eval_accuracy': 0.563529046287667, 'eval_f1_score': 0.5114742698191933, 'eval_precision': 0.5712621359223301, 'eval_recall': 0.4630154233553667, 'eval_roc_auc': 0.5622344826068462, 'eval_matthews_correlation': 0.1270264365473154, 'eval_cohen_kappa': 0.12477347414535567, 'eval_true_negative': 2157, 'eval_false_positive': 1104, 'eval_false_negative': 1706, 'eval_true_positive': 1471, 'eval_specificity': 0.6614535418583257, 'eval_sensitivity': 0.4630154233553667, 'eval_informedness': 0.12446896521369233, 'eval_balanced_accuracy': 0.5622344826068462, 'eval_runtime': 61.9998, 'eval_samples_per_second': 103.839, 'eval_steps_per_second': 6.5, 'epoch': 0.25}\n"
     ]
    },
    {
     "name": "stderr",
     "output_type": "stream",
     "text": [
      "Model weights saved in ./model\\checkpoint-200\\pytorch_model.bin\n",
      "tokenizer config file saved in ./model\\checkpoint-200\\tokenizer_config.json\n",
      "Special tokens file saved in ./model\\checkpoint-200\\special_tokens_map.json\n",
      " 12%|█▏        | 300/2415 [06:18<29:21,  1.20it/s]   ***** Running Evaluation *****\n",
      "  Num examples = 6438\n",
      "  Batch size = 16\n"
     ]
    },
    {
     "name": "stdout",
     "output_type": "stream",
     "text": [
      "{'loss': 0.6912, 'learning_rate': 4.8120254899482665e-05, 'epoch': 0.37}\n"
     ]
    },
    {
     "name": "stderr",
     "output_type": "stream",
     "text": [
      "\n",
      " 12%|█▏        | 300/2415 [07:20<29:21,  1.20it/s]Saving model checkpoint to ./model\\checkpoint-300\n",
      "Configuration saved in ./model\\checkpoint-300\\config.json\n"
     ]
    },
    {
     "name": "stdout",
     "output_type": "stream",
     "text": [
      "(6438, 2) (6438,)\n",
      "(6438,) (6438,)\n",
      "{'eval_loss': 0.6812736988067627, 'eval_pred_true': 3900, 'eval_pred_false': 2538, 'eval_actual_true': 3177, 'eval_actual_false': 3261, 'eval_accuracy': 0.5798384591488039, 'eval_f1_score': 0.6177758937402854, 'eval_precision': 0.5605128205128205, 'eval_recall': 0.6880705067673906, 'eval_roc_auc': 0.5812324321632107, 'eval_matthews_correlation': 0.1662131371788054, 'eval_cohen_kappa': 0.16199006733321375, 'eval_true_negative': 1547, 'eval_false_positive': 1714, 'eval_false_negative': 991, 'eval_true_positive': 2186, 'eval_specificity': 0.474394357559031, 'eval_sensitivity': 0.6880705067673906, 'eval_informedness': 0.1624648643264215, 'eval_balanced_accuracy': 0.5812324321632107, 'eval_runtime': 61.5553, 'eval_samples_per_second': 104.589, 'eval_steps_per_second': 6.547, 'epoch': 0.37}\n"
     ]
    },
    {
     "name": "stderr",
     "output_type": "stream",
     "text": [
      "Model weights saved in ./model\\checkpoint-300\\pytorch_model.bin\n",
      "tokenizer config file saved in ./model\\checkpoint-300\\tokenizer_config.json\n",
      "Special tokens file saved in ./model\\checkpoint-300\\special_tokens_map.json\n",
      " 17%|█▋        | 400/2415 [08:45<28:01,  1.20it/s]   ***** Running Evaluation *****\n",
      "  Num examples = 6438\n",
      "  Batch size = 16\n"
     ]
    },
    {
     "name": "stdout",
     "output_type": "stream",
     "text": [
      "{'loss': 0.6903, 'learning_rate': 4.669117260700397e-05, 'epoch': 0.5}\n"
     ]
    },
    {
     "name": "stderr",
     "output_type": "stream",
     "text": [
      "\n",
      " 17%|█▋        | 400/2415 [09:47<28:01,  1.20it/s]Saving model checkpoint to ./model\\checkpoint-400\n",
      "Configuration saved in ./model\\checkpoint-400\\config.json\n"
     ]
    },
    {
     "name": "stdout",
     "output_type": "stream",
     "text": [
      "(6438, 2) (6438,)\n",
      "(6438,) (6438,)\n",
      "{'eval_loss': 0.680074155330658, 'eval_pred_true': 2401, 'eval_pred_false': 4037, 'eval_actual_true': 3177, 'eval_actual_false': 3261, 'eval_accuracy': 0.5778191985088537, 'eval_f1_score': 0.5127285765507351, 'eval_precision': 0.5955851728446481, 'eval_recall': 0.45011016682404786, 'eval_roc_auc': 0.5761743719738148, 'eval_matthews_correlation': 0.1575061188530527, 'eval_cohen_kappa': 0.15282952824009055, 'eval_true_negative': 2290, 'eval_false_positive': 971, 'eval_false_negative': 1747, 'eval_true_positive': 1430, 'eval_specificity': 0.7022385771235817, 'eval_sensitivity': 0.45011016682404786, 'eval_informedness': 0.15234874394762965, 'eval_balanced_accuracy': 0.5761743719738148, 'eval_runtime': 62.0181, 'eval_samples_per_second': 103.808, 'eval_steps_per_second': 6.498, 'epoch': 0.5}\n"
     ]
    },
    {
     "name": "stderr",
     "output_type": "stream",
     "text": [
      "Model weights saved in ./model\\checkpoint-400\\pytorch_model.bin\n",
      "tokenizer config file saved in ./model\\checkpoint-400\\tokenizer_config.json\n",
      "Special tokens file saved in ./model\\checkpoint-400\\special_tokens_map.json\n",
      " 21%|██        | 500/2415 [11:13<27:03,  1.18it/s]   ***** Running Evaluation *****\n",
      "  Num examples = 6438\n",
      "  Batch size = 16\n"
     ]
    },
    {
     "name": "stdout",
     "output_type": "stream",
     "text": [
      "{'loss': 0.6821, 'learning_rate': 4.489553799500966e-05, 'epoch': 0.62}\n"
     ]
    },
    {
     "name": "stderr",
     "output_type": "stream",
     "text": [
      "\n"
     ]
    },
    {
     "name": "stdout",
     "output_type": "stream",
     "text": [
      "(6438, 2) (6438,)\n",
      "(6438,) (6438,)\n"
     ]
    },
    {
     "name": "stderr",
     "output_type": "stream",
     "text": [
      " 21%|██        | 500/2415 [12:15<27:03,  1.18it/s]Saving model checkpoint to ./model\\checkpoint-500\n",
      "Configuration saved in ./model\\checkpoint-500\\config.json\n"
     ]
    },
    {
     "name": "stdout",
     "output_type": "stream",
     "text": [
      "{'eval_loss': 0.6865515112876892, 'eval_pred_true': 23, 'eval_pred_false': 6415, 'eval_actual_true': 3177, 'eval_actual_false': 3261, 'eval_accuracy': 0.5073004038521279, 'eval_f1_score': 0.008749999999999999, 'eval_precision': 0.6086956521739131, 'eval_recall': 0.004406672961913755, 'eval_roc_auc': 0.5008233916787489, 'eval_matthews_correlation': 0.013799337219511746, 'eval_cohen_kappa': 0.0016681122466191134, 'eval_true_negative': 3252, 'eval_false_positive': 9, 'eval_false_negative': 3163, 'eval_true_positive': 14, 'eval_specificity': 0.9972401103955841, 'eval_sensitivity': 0.004406672961913755, 'eval_informedness': 0.0016467833574977941, 'eval_balanced_accuracy': 0.5008233916787489, 'eval_runtime': 62.0857, 'eval_samples_per_second': 103.695, 'eval_steps_per_second': 6.491, 'epoch': 0.62}\n"
     ]
    },
    {
     "name": "stderr",
     "output_type": "stream",
     "text": [
      "Model weights saved in ./model\\checkpoint-500\\pytorch_model.bin\n",
      "tokenizer config file saved in ./model\\checkpoint-500\\tokenizer_config.json\n",
      "Special tokens file saved in ./model\\checkpoint-500\\special_tokens_map.json\n",
      " 25%|██▍       | 600/2415 [13:41<25:43,  1.18it/s]   ***** Running Evaluation *****\n",
      "  Num examples = 6438\n",
      "  Batch size = 16\n"
     ]
    },
    {
     "name": "stdout",
     "output_type": "stream",
     "text": [
      "{'loss': 0.6776, 'learning_rate': 4.2763694929364166e-05, 'epoch': 0.75}\n"
     ]
    },
    {
     "name": "stderr",
     "output_type": "stream",
     "text": [
      "\n",
      " 25%|██▍       | 600/2415 [14:44<25:43,  1.18it/s]Saving model checkpoint to ./model\\checkpoint-600\n",
      "Configuration saved in ./model\\checkpoint-600\\config.json\n"
     ]
    },
    {
     "name": "stdout",
     "output_type": "stream",
     "text": [
      "(6438, 2) (6438,)\n",
      "(6438,) (6438,)\n",
      "{'eval_loss': 0.6756474375724792, 'eval_pred_true': 4376, 'eval_pred_false': 2062, 'eval_actual_true': 3177, 'eval_actual_false': 3261, 'eval_accuracy': 0.5841876359117738, 'eval_f1_score': 0.6455712961737059, 'eval_precision': 0.5571297989031079, 'eval_recall': 0.7673906200818382, 'eval_roc_auc': 0.5865471959654821, 'eval_matthews_correlation': 0.1854744180573113, 'eval_cohen_kappa': 0.17225709868494044, 'eval_true_negative': 1323, 'eval_false_positive': 1938, 'eval_false_negative': 739, 'eval_true_positive': 2438, 'eval_specificity': 0.40570377184912604, 'eval_sensitivity': 0.7673906200818382, 'eval_informedness': 0.1730943919309642, 'eval_balanced_accuracy': 0.5865471959654821, 'eval_runtime': 62.4572, 'eval_samples_per_second': 103.079, 'eval_steps_per_second': 6.452, 'epoch': 0.75}\n"
     ]
    },
    {
     "name": "stderr",
     "output_type": "stream",
     "text": [
      "Model weights saved in ./model\\checkpoint-600\\pytorch_model.bin\n",
      "tokenizer config file saved in ./model\\checkpoint-600\\tokenizer_config.json\n",
      "Special tokens file saved in ./model\\checkpoint-600\\special_tokens_map.json\n",
      " 29%|██▉       | 700/2415 [16:09<23:34,  1.21it/s]   ***** Running Evaluation *****\n",
      "  Num examples = 6438\n",
      "  Batch size = 16\n"
     ]
    },
    {
     "name": "stdout",
     "output_type": "stream",
     "text": [
      "{'loss': 0.6749, 'learning_rate': 4.033166875709291e-05, 'epoch': 0.87}\n"
     ]
    },
    {
     "name": "stderr",
     "output_type": "stream",
     "text": [
      "\n",
      " 29%|██▉       | 700/2415 [17:11<23:34,  1.21it/s]Saving model checkpoint to ./model\\checkpoint-700\n",
      "Configuration saved in ./model\\checkpoint-700\\config.json\n"
     ]
    },
    {
     "name": "stdout",
     "output_type": "stream",
     "text": [
      "(6438, 2) (6438,)\n",
      "(6438,) (6438,)\n",
      "{'eval_loss': 0.6843811869621277, 'eval_pred_true': 5496, 'eval_pred_false': 942, 'eval_actual_true': 3177, 'eval_actual_false': 3261, 'eval_accuracy': 0.5487729108418764, 'eval_f1_score': 0.6650524616626311, 'eval_precision': 0.524745269286754, 'eval_recall': 0.9077746301542335, 'eval_roc_auc': 0.5533966680363318, 'eval_matthews_correlation': 0.15107038877770967, 'eval_cohen_kappa': 0.10579870419537174, 'eval_true_negative': 649, 'eval_false_positive': 2612, 'eval_false_negative': 293, 'eval_true_positive': 2884, 'eval_specificity': 0.19901870591842993, 'eval_sensitivity': 0.9077746301542335, 'eval_informedness': 0.10679333607266339, 'eval_balanced_accuracy': 0.5533966680363317, 'eval_runtime': 62.013, 'eval_samples_per_second': 103.817, 'eval_steps_per_second': 6.499, 'epoch': 0.87}\n"
     ]
    },
    {
     "name": "stderr",
     "output_type": "stream",
     "text": [
      "Model weights saved in ./model\\checkpoint-700\\pytorch_model.bin\n",
      "tokenizer config file saved in ./model\\checkpoint-700\\tokenizer_config.json\n",
      "Special tokens file saved in ./model\\checkpoint-700\\special_tokens_map.json\n",
      " 33%|███▎      | 800/2415 [18:36<22:28,  1.20it/s]  ***** Running Evaluation *****\n",
      "  Num examples = 6438\n",
      "  Batch size = 16\n"
     ]
    },
    {
     "name": "stdout",
     "output_type": "stream",
     "text": [
      "{'loss': 0.6693, 'learning_rate': 3.764055752534714e-05, 'epoch': 0.99}\n"
     ]
    },
    {
     "name": "stderr",
     "output_type": "stream",
     "text": [
      "\n",
      " 33%|███▎      | 800/2415 [19:39<22:28,  1.20it/s]Saving model checkpoint to ./model\\checkpoint-800\n",
      "Configuration saved in ./model\\checkpoint-800\\config.json\n"
     ]
    },
    {
     "name": "stdout",
     "output_type": "stream",
     "text": [
      "(6438, 2) (6438,)\n",
      "(6438,) (6438,)\n",
      "{'eval_loss': 0.6772518754005432, 'eval_pred_true': 4120, 'eval_pred_false': 2318, 'eval_actual_true': 3177, 'eval_actual_false': 3261, 'eval_accuracy': 0.5959925442684063, 'eval_f1_score': 0.643552144717007, 'eval_precision': 0.5699029126213592, 'eval_recall': 0.7390620081838212, 'eval_roc_auc': 0.5978352052571974, 'eval_matthews_correlation': 0.20379984020058425, 'eval_cohen_kappa': 0.19492523079523727, 'eval_true_negative': 1489, 'eval_false_positive': 1772, 'eval_false_negative': 829, 'eval_true_positive': 2348, 'eval_specificity': 0.4566084023305734, 'eval_sensitivity': 0.7390620081838212, 'eval_informedness': 0.1956704105143947, 'eval_balanced_accuracy': 0.5978352052571974, 'eval_runtime': 62.1877, 'eval_samples_per_second': 103.525, 'eval_steps_per_second': 6.48, 'epoch': 0.99}\n"
     ]
    },
    {
     "name": "stderr",
     "output_type": "stream",
     "text": [
      "Model weights saved in ./model\\checkpoint-800\\pytorch_model.bin\n",
      "tokenizer config file saved in ./model\\checkpoint-800\\tokenizer_config.json\n",
      "Special tokens file saved in ./model\\checkpoint-800\\special_tokens_map.json\n",
      " 37%|███▋      | 900/2415 [21:04<21:09,  1.19it/s]  ***** Running Evaluation *****\n",
      "  Num examples = 6438\n",
      "  Batch size = 16\n"
     ]
    },
    {
     "name": "stdout",
     "output_type": "stream",
     "text": [
      "{'loss': 0.6634, 'learning_rate': 3.473583747840112e-05, 'epoch': 1.12}\n"
     ]
    },
    {
     "name": "stderr",
     "output_type": "stream",
     "text": [
      "\n",
      " 37%|███▋      | 900/2415 [22:06<21:09,  1.19it/s]Saving model checkpoint to ./model\\checkpoint-900\n",
      "Configuration saved in ./model\\checkpoint-900\\config.json\n"
     ]
    },
    {
     "name": "stdout",
     "output_type": "stream",
     "text": [
      "(6438, 2) (6438,)\n",
      "(6438,) (6438,)\n",
      "{'eval_loss': 0.6710962653160095, 'eval_pred_true': 3090, 'eval_pred_false': 3348, 'eval_actual_true': 3177, 'eval_actual_false': 3261, 'eval_accuracy': 0.6009630319975148, 'eval_f1_score': 0.5900749960108506, 'eval_precision': 0.5983818770226538, 'eval_recall': 0.5819955933270381, 'eval_roc_auc': 0.6007187411590726, 'eval_matthews_correlation': 0.20158226801945345, 'eval_cohen_kappa': 0.20150855357815833, 'eval_true_negative': 2020, 'eval_false_positive': 1241, 'eval_false_negative': 1328, 'eval_true_positive': 1849, 'eval_specificity': 0.619441888991107, 'eval_sensitivity': 0.5819955933270381, 'eval_informedness': 0.20143748231814507, 'eval_balanced_accuracy': 0.6007187411590725, 'eval_runtime': 62.028, 'eval_samples_per_second': 103.792, 'eval_steps_per_second': 6.497, 'epoch': 1.12}\n"
     ]
    },
    {
     "name": "stderr",
     "output_type": "stream",
     "text": [
      "Model weights saved in ./model\\checkpoint-900\\pytorch_model.bin\n",
      "tokenizer config file saved in ./model\\checkpoint-900\\tokenizer_config.json\n",
      "Special tokens file saved in ./model\\checkpoint-900\\special_tokens_map.json\n",
      " 41%|████▏     | 1000/2415 [23:32<20:19,  1.16it/s] ***** Running Evaluation *****\n",
      "  Num examples = 6438\n",
      "  Batch size = 16\n"
     ]
    },
    {
     "name": "stdout",
     "output_type": "stream",
     "text": [
      "{'loss': 0.6542, 'learning_rate': 3.166659456886983e-05, 'epoch': 1.24}\n"
     ]
    },
    {
     "name": "stderr",
     "output_type": "stream",
     "text": [
      "\n",
      " 41%|████▏     | 1000/2415 [24:34<20:19,  1.16it/s]Saving model checkpoint to ./model\\checkpoint-1000\n",
      "Configuration saved in ./model\\checkpoint-1000\\config.json\n"
     ]
    },
    {
     "name": "stdout",
     "output_type": "stream",
     "text": [
      "(6438, 2) (6438,)\n",
      "(6438,) (6438,)\n",
      "{'eval_loss': 0.6614513397216797, 'eval_pred_true': 3793, 'eval_pred_false': 2645, 'eval_actual_true': 3177, 'eval_actual_false': 3261, 'eval_accuracy': 0.6057781919850885, 'eval_f1_score': 0.6358680057388809, 'eval_precision': 0.5842341154758767, 'eval_recall': 0.6975133774000629, 'eval_roc_auc': 0.6069596939131563, 'eval_matthews_correlation': 0.21738516056653906, 'eval_cohen_kappa': 0.21338650840852302, 'eval_true_negative': 1684, 'eval_false_positive': 1577, 'eval_false_negative': 961, 'eval_true_positive': 2216, 'eval_specificity': 0.5164060104262496, 'eval_sensitivity': 0.6975133774000629, 'eval_informedness': 0.2139193878263126, 'eval_balanced_accuracy': 0.6069596939131563, 'eval_runtime': 62.0651, 'eval_samples_per_second': 103.73, 'eval_steps_per_second': 6.493, 'epoch': 1.24}\n"
     ]
    },
    {
     "name": "stderr",
     "output_type": "stream",
     "text": [
      "Model weights saved in ./model\\checkpoint-1000\\pytorch_model.bin\n",
      "tokenizer config file saved in ./model\\checkpoint-1000\\tokenizer_config.json\n",
      "Special tokens file saved in ./model\\checkpoint-1000\\special_tokens_map.json\n",
      " 46%|████▌     | 1100/2415 [25:59<18:08,  1.21it/s]  ***** Running Evaluation *****\n",
      "  Num examples = 6438\n",
      "  Batch size = 16\n"
     ]
    },
    {
     "name": "stdout",
     "output_type": "stream",
     "text": [
      "{'loss': 0.6498, 'learning_rate': 2.848469496959832e-05, 'epoch': 1.37}\n"
     ]
    },
    {
     "name": "stderr",
     "output_type": "stream",
     "text": [
      "\n",
      " 46%|████▌     | 1100/2415 [27:02<18:08,  1.21it/s]Saving model checkpoint to ./model\\checkpoint-1100\n",
      "Configuration saved in ./model\\checkpoint-1100\\config.json\n"
     ]
    },
    {
     "name": "stdout",
     "output_type": "stream",
     "text": [
      "(6438, 2) (6438,)\n",
      "(6438,) (6438,)\n",
      "{'eval_loss': 0.6583096385002136, 'eval_pred_true': 3467, 'eval_pred_false': 2971, 'eval_actual_true': 3177, 'eval_actual_false': 3261, 'eval_accuracy': 0.6088847468157813, 'eval_f1_score': 0.6210114388922336, 'eval_precision': 0.5950389385635997, 'eval_recall': 0.6493547371734341, 'eval_roc_auc': 0.6094059794422828, 'eval_matthews_correlation': 0.21944556804773754, 'eval_cohen_kappa': 0.21855501395678156, 'eval_true_negative': 1857, 'eval_false_positive': 1404, 'eval_false_negative': 1114, 'eval_true_positive': 2063, 'eval_specificity': 0.5694572217111316, 'eval_sensitivity': 0.6493547371734341, 'eval_informedness': 0.21881195888456562, 'eval_balanced_accuracy': 0.6094059794422828, 'eval_runtime': 62.1313, 'eval_samples_per_second': 103.619, 'eval_steps_per_second': 6.486, 'epoch': 1.37}\n"
     ]
    },
    {
     "name": "stderr",
     "output_type": "stream",
     "text": [
      "Model weights saved in ./model\\checkpoint-1100\\pytorch_model.bin\n",
      "tokenizer config file saved in ./model\\checkpoint-1100\\tokenizer_config.json\n",
      "Special tokens file saved in ./model\\checkpoint-1100\\special_tokens_map.json\n",
      " 50%|████▉     | 1200/2415 [28:28<16:47,  1.21it/s]  ***** Running Evaluation *****\n",
      "  Num examples = 6438\n",
      "  Batch size = 16\n"
     ]
    },
    {
     "name": "stdout",
     "output_type": "stream",
     "text": [
      "{'loss': 0.6422, 'learning_rate': 2.5243908603481453e-05, 'epoch': 1.49}\n"
     ]
    },
    {
     "name": "stderr",
     "output_type": "stream",
     "text": [
      "\n",
      " 50%|████▉     | 1200/2415 [29:30<16:47,  1.21it/s]Saving model checkpoint to ./model\\checkpoint-1200\n"
     ]
    },
    {
     "name": "stdout",
     "output_type": "stream",
     "text": [
      "(6438, 2) (6438,)\n",
      "(6438,) (6438,)\n",
      "{'eval_loss': 0.6624265313148499, 'eval_pred_true': 4027, 'eval_pred_false': 2411, 'eval_actual_true': 3177, 'eval_actual_false': 3261, 'eval_accuracy': 0.6098167132649891, 'eval_f1_score': 0.6513048306496391, 'eval_precision': 0.5825676682393841, 'eval_recall': 0.7384324834749764, 'eval_roc_auc': 0.6114732181250994, 'eval_matthews_correlation': 0.2303006275930917, 'eval_cohen_kappa': 0.22218082768615355, 'eval_true_negative': 1580, 'eval_false_positive': 1681, 'eval_false_negative': 831, 'eval_true_positive': 2346, 'eval_specificity': 0.4845139527752223, 'eval_sensitivity': 0.7384324834749764, 'eval_informedness': 0.22294643625019872, 'eval_balanced_accuracy': 0.6114732181250994, 'eval_runtime': 62.5083, 'eval_samples_per_second': 102.994, 'eval_steps_per_second': 6.447, 'epoch': 1.49}\n"
     ]
    },
    {
     "name": "stderr",
     "output_type": "stream",
     "text": [
      "Configuration saved in ./model\\checkpoint-1200\\config.json\n",
      "Model weights saved in ./model\\checkpoint-1200\\pytorch_model.bin\n",
      "tokenizer config file saved in ./model\\checkpoint-1200\\tokenizer_config.json\n",
      "Special tokens file saved in ./model\\checkpoint-1200\\special_tokens_map.json\n",
      " 54%|█████▍    | 1300/2415 [30:56<15:51,  1.17it/s]  ***** Running Evaluation *****\n",
      "  Num examples = 6438\n",
      "  Batch size = 16\n"
     ]
    },
    {
     "name": "stdout",
     "output_type": "stream",
     "text": [
      "{'loss': 0.6448, 'learning_rate': 2.199900050240929e-05, 'epoch': 1.61}\n"
     ]
    },
    {
     "name": "stderr",
     "output_type": "stream",
     "text": [
      "\n",
      " 54%|█████▍    | 1300/2415 [31:58<15:51,  1.17it/s]Saving model checkpoint to ./model\\checkpoint-1300\n",
      "Configuration saved in ./model\\checkpoint-1300\\config.json\n"
     ]
    },
    {
     "name": "stdout",
     "output_type": "stream",
     "text": [
      "(6438, 2) (6438,)\n",
      "(6438,) (6438,)\n",
      "{'eval_loss': 0.6777448654174805, 'eval_pred_true': 1742, 'eval_pred_false': 4696, 'eval_actual_true': 3177, 'eval_actual_false': 3261, 'eval_accuracy': 0.5913327120223671, 'eval_f1_score': 0.46513519007928444, 'eval_precision': 0.6567164179104478, 'eval_recall': 0.3600881334592383, 'eval_roc_auc': 0.5883544009829157, 'eval_matthews_correlation': 0.1988630380376003, 'eval_cohen_kappa': 0.17774281312867557, 'eval_true_negative': 2663, 'eval_false_positive': 598, 'eval_false_negative': 2033, 'eval_true_positive': 1144, 'eval_specificity': 0.8166206685065931, 'eval_sensitivity': 0.3600881334592383, 'eval_informedness': 0.17670880196583139, 'eval_balanced_accuracy': 0.5883544009829157, 'eval_runtime': 61.7712, 'eval_samples_per_second': 104.223, 'eval_steps_per_second': 6.524, 'epoch': 1.61}\n"
     ]
    },
    {
     "name": "stderr",
     "output_type": "stream",
     "text": [
      "Model weights saved in ./model\\checkpoint-1300\\pytorch_model.bin\n",
      "tokenizer config file saved in ./model\\checkpoint-1300\\tokenizer_config.json\n",
      "Special tokens file saved in ./model\\checkpoint-1300\\special_tokens_map.json\n",
      " 58%|█████▊    | 1400/2415 [33:24<14:09,  1.19it/s]  ***** Running Evaluation *****\n",
      "  Num examples = 6438\n",
      "  Batch size = 16\n"
     ]
    },
    {
     "name": "stdout",
     "output_type": "stream",
     "text": [
      "{'loss': 0.6432, 'learning_rate': 1.8804805350177505e-05, 'epoch': 1.74}\n"
     ]
    },
    {
     "name": "stderr",
     "output_type": "stream",
     "text": [
      "\n",
      " 58%|█████▊    | 1400/2415 [34:25<14:09,  1.19it/s]Saving model checkpoint to ./model\\checkpoint-1400\n",
      "Configuration saved in ./model\\checkpoint-1400\\config.json\n"
     ]
    },
    {
     "name": "stdout",
     "output_type": "stream",
     "text": [
      "(6438, 2) (6438,)\n",
      "(6438,) (6438,)\n",
      "{'eval_loss': 0.6549221277236938, 'eval_pred_true': 3497, 'eval_pred_false': 2941, 'eval_actual_true': 3177, 'eval_actual_false': 3261, 'eval_accuracy': 0.6144765455110283, 'eval_f1_score': 0.6281090800119868, 'eval_precision': 0.5993708893337146, 'eval_recall': 0.6597418948693736, 'eval_roc_auc': 0.6150595398909885, 'eval_matthews_correlation': 0.23096241238785556, 'eval_cohen_kappa': 0.2298209393677454, 'eval_true_negative': 1860, 'eval_false_positive': 1401, 'eval_false_negative': 1081, 'eval_true_positive': 2096, 'eval_specificity': 0.5703771849126035, 'eval_sensitivity': 0.6597418948693736, 'eval_informedness': 0.2301190797819772, 'eval_balanced_accuracy': 0.6150595398909886, 'eval_runtime': 61.0657, 'eval_samples_per_second': 105.427, 'eval_steps_per_second': 6.599, 'epoch': 1.74}\n"
     ]
    },
    {
     "name": "stderr",
     "output_type": "stream",
     "text": [
      "Model weights saved in ./model\\checkpoint-1400\\pytorch_model.bin\n",
      "tokenizer config file saved in ./model\\checkpoint-1400\\tokenizer_config.json\n",
      "Special tokens file saved in ./model\\checkpoint-1400\\special_tokens_map.json\n",
      " 62%|██████▏   | 1500/2415 [35:50<12:42,  1.20it/s]  ***** Running Evaluation *****\n",
      "  Num examples = 6438\n",
      "  Batch size = 16\n"
     ]
    },
    {
     "name": "stdout",
     "output_type": "stream",
     "text": [
      "{'loss': 0.6307, 'learning_rate': 1.571530084837234e-05, 'epoch': 1.86}\n"
     ]
    },
    {
     "name": "stderr",
     "output_type": "stream",
     "text": [
      "\n",
      " 62%|██████▏   | 1500/2415 [36:52<12:42,  1.20it/s]Saving model checkpoint to ./model\\checkpoint-1500\n",
      "Configuration saved in ./model\\checkpoint-1500\\config.json\n"
     ]
    },
    {
     "name": "stdout",
     "output_type": "stream",
     "text": [
      "(6438, 2) (6438,)\n",
      "(6438,) (6438,)\n",
      "{'eval_loss': 0.6588276028633118, 'eval_pred_true': 3630, 'eval_pred_false': 2808, 'eval_actual_true': 3177, 'eval_actual_false': 3261, 'eval_accuracy': 0.6112146629388009, 'eval_f1_score': 0.6322902894079624, 'eval_precision': 0.5928374655647383, 'eval_recall': 0.6773685867170286, 'eval_roc_auc': 0.6120666913959262, 'eval_matthews_correlation': 0.22596370575224164, 'eval_cohen_kappa': 0.2237225272065163, 'eval_true_negative': 1783, 'eval_false_positive': 1478, 'eval_false_negative': 1025, 'eval_true_positive': 2152, 'eval_specificity': 0.5467647960748236, 'eval_sensitivity': 0.6773685867170286, 'eval_informedness': 0.22413338279185213, 'eval_balanced_accuracy': 0.6120666913959261, 'eval_runtime': 61.78, 'eval_samples_per_second': 104.208, 'eval_steps_per_second': 6.523, 'epoch': 1.86}\n"
     ]
    },
    {
     "name": "stderr",
     "output_type": "stream",
     "text": [
      "Model weights saved in ./model\\checkpoint-1500\\pytorch_model.bin\n",
      "tokenizer config file saved in ./model\\checkpoint-1500\\tokenizer_config.json\n",
      "Special tokens file saved in ./model\\checkpoint-1500\\special_tokens_map.json\n",
      " 66%|██████▋   | 1600/2415 [38:18<11:27,  1.19it/s]  ***** Running Evaluation *****\n",
      "  Num examples = 6438\n",
      "  Batch size = 16\n"
     ]
    },
    {
     "name": "stdout",
     "output_type": "stream",
     "text": [
      "{'loss': 0.6406, 'learning_rate': 1.2782695564128822e-05, 'epoch': 1.99}\n"
     ]
    },
    {
     "name": "stderr",
     "output_type": "stream",
     "text": [
      "\n",
      " 66%|██████▋   | 1600/2415 [39:21<11:27,  1.19it/s]Saving model checkpoint to ./model\\checkpoint-1600\n",
      "Configuration saved in ./model\\checkpoint-1600\\config.json\n"
     ]
    },
    {
     "name": "stdout",
     "output_type": "stream",
     "text": [
      "(6438, 2) (6438,)\n",
      "(6438,) (6438,)\n",
      "{'eval_loss': 0.6496770977973938, 'eval_pred_true': 2919, 'eval_pred_false': 3519, 'eval_actual_true': 3177, 'eval_actual_false': 3261, 'eval_accuracy': 0.6182044113078596, 'eval_f1_score': 0.5967847769028871, 'eval_precision': 0.6231586159643714, 'eval_recall': 0.5725527226943657, 'eval_roc_auc': 0.617616441077327, 'eval_matthews_correlation': 0.23624104532600973, 'eval_cohen_kappa': 0.23547917596071877, 'eval_true_negative': 2161, 'eval_false_positive': 1100, 'eval_false_negative': 1358, 'eval_true_positive': 1819, 'eval_specificity': 0.6626801594602882, 'eval_sensitivity': 0.5725527226943657, 'eval_informedness': 0.2352328821546541, 'eval_balanced_accuracy': 0.617616441077327, 'eval_runtime': 62.2327, 'eval_samples_per_second': 103.45, 'eval_steps_per_second': 6.476, 'epoch': 1.99}\n"
     ]
    },
    {
     "name": "stderr",
     "output_type": "stream",
     "text": [
      "Model weights saved in ./model\\checkpoint-1600\\pytorch_model.bin\n",
      "tokenizer config file saved in ./model\\checkpoint-1600\\tokenizer_config.json\n",
      "Special tokens file saved in ./model\\checkpoint-1600\\special_tokens_map.json\n",
      " 70%|███████   | 1700/2415 [40:46<10:08,  1.17it/s]  ***** Running Evaluation *****\n",
      "  Num examples = 6438\n",
      "  Batch size = 16\n"
     ]
    },
    {
     "name": "stdout",
     "output_type": "stream",
     "text": [
      "{'loss': 0.5802, 'learning_rate': 1.0056546673937098e-05, 'epoch': 2.11}\n"
     ]
    },
    {
     "name": "stderr",
     "output_type": "stream",
     "text": [
      "\n",
      " 70%|███████   | 1700/2415 [41:48<10:08,  1.17it/s]\n"
     ]
    },
    {
     "name": "stdout",
     "output_type": "stream",
     "text": [
      "(6438, 2) (6438,)\n",
      "(6438,) (6438,)\n",
      "{'eval_loss': 0.692768394947052, 'eval_pred_true': 2948, 'eval_pred_false': 3490, 'eval_actual_true': 3177, 'eval_actual_false': 3261, 'eval_accuracy': 0.6186703945324635, 'eval_f1_score': 0.5991836734693877, 'eval_precision': 0.6224559023066486, 'eval_recall': 0.5775889203651243, 'eval_roc_auc': 0.618141286309517, 'eval_matthews_correlation': 0.2371041986265232, 'eval_cohen_kappa': 0.23650213190972214, 'eval_true_negative': 2148, 'eval_false_positive': 1113, 'eval_false_negative': 1342, 'eval_true_positive': 1835, 'eval_specificity': 0.6586936522539099, 'eval_sensitivity': 0.5775889203651243, 'eval_informedness': 0.23628257261903407, 'eval_balanced_accuracy': 0.618141286309517, 'eval_runtime': 62.3416, 'eval_samples_per_second': 103.27, 'eval_steps_per_second': 6.464, 'epoch': 2.11}\n"
     ]
    },
    {
     "name": "stderr",
     "output_type": "stream",
     "text": [
      "                                                 \u001b[ASaving model checkpoint to ./model\\checkpoint-1700\n",
      "Configuration saved in ./model\\checkpoint-1700\\config.json\n",
      "Model weights saved in ./model\\checkpoint-1700\\pytorch_model.bin\n",
      "tokenizer config file saved in ./model\\checkpoint-1700\\tokenizer_config.json\n",
      "Special tokens file saved in ./model\\checkpoint-1700\\special_tokens_map.json\n",
      " 75%|███████▍  | 1800/2415 [43:15<08:35,  1.19it/s]  ***** Running Evaluation *****\n",
      "  Num examples = 6438\n",
      "  Batch size = 16\n"
     ]
    },
    {
     "name": "stdout",
     "output_type": "stream",
     "text": [
      "{'loss': 0.5847, 'learning_rate': 7.582922512467186e-06, 'epoch': 2.24}\n"
     ]
    },
    {
     "name": "stderr",
     "output_type": "stream",
     "text": [
      "\n",
      " 75%|███████▍  | 1800/2415 [44:17<08:35,  1.19it/s]Saving model checkpoint to ./model\\checkpoint-1800\n",
      "Configuration saved in ./model\\checkpoint-1800\\config.json\n"
     ]
    },
    {
     "name": "stdout",
     "output_type": "stream",
     "text": [
      "(6438, 2) (6438,)\n",
      "(6438,) (6438,)\n",
      "{'eval_loss': 0.686290979385376, 'eval_pred_true': 3882, 'eval_pred_false': 2556, 'eval_actual_true': 3177, 'eval_actual_false': 3261, 'eval_accuracy': 0.6093507300403852, 'eval_f1_score': 0.6437172404023233, 'eval_precision': 0.5852653271509531, 'eval_recall': 0.715140069247718, 'eval_roc_auc': 0.6107132422288881, 'eval_matthews_correlation': 0.2262587489445095, 'eval_cohen_kappa': 0.22079543922230704, 'eval_true_negative': 1651, 'eval_false_positive': 1610, 'eval_false_negative': 905, 'eval_true_positive': 2272, 'eval_specificity': 0.5062864152100582, 'eval_sensitivity': 0.715140069247718, 'eval_informedness': 0.22142648445777624, 'eval_balanced_accuracy': 0.6107132422288881, 'eval_runtime': 62.068, 'eval_samples_per_second': 103.725, 'eval_steps_per_second': 6.493, 'epoch': 2.24}\n"
     ]
    },
    {
     "name": "stderr",
     "output_type": "stream",
     "text": [
      "Model weights saved in ./model\\checkpoint-1800\\pytorch_model.bin\n",
      "tokenizer config file saved in ./model\\checkpoint-1800\\tokenizer_config.json\n",
      "Special tokens file saved in ./model\\checkpoint-1800\\special_tokens_map.json\n",
      " 79%|███████▊  | 1900/2415 [45:43<07:16,  1.18it/s]  ***** Running Evaluation *****\n",
      "  Num examples = 6438\n",
      "  Batch size = 16\n"
     ]
    },
    {
     "name": "stdout",
     "output_type": "stream",
     "text": [
      "{'loss': 0.5673, 'learning_rate': 5.403624078236963e-06, 'epoch': 2.36}\n"
     ]
    },
    {
     "name": "stderr",
     "output_type": "stream",
     "text": [
      "\n",
      " 79%|███████▊  | 1900/2415 [46:45<07:16,  1.18it/s]Saving model checkpoint to ./model\\checkpoint-1900\n",
      "Configuration saved in ./model\\checkpoint-1900\\config.json\n"
     ]
    },
    {
     "name": "stdout",
     "output_type": "stream",
     "text": [
      "(6438, 2) (6438,)\n",
      "(6438,) (6438,)\n",
      "{'eval_loss': 0.6963984966278076, 'eval_pred_true': 3517, 'eval_pred_false': 2921, 'eval_actual_true': 3177, 'eval_actual_false': 3261, 'eval_accuracy': 0.6157191674433053, 'eval_f1_score': 0.6304152972811473, 'eval_precision': 0.5999431333522889, 'eval_recall': 0.6641485678312874, 'eval_roc_auc': 0.6163429131704735, 'eval_matthews_correlation': 0.2336694702409612, 'eval_cohen_kappa': 0.23236554478842653, 'eval_true_negative': 1854, 'eval_false_positive': 1407, 'eval_false_negative': 1067, 'eval_true_positive': 2110, 'eval_specificity': 0.5685372585096596, 'eval_sensitivity': 0.6641485678312874, 'eval_informedness': 0.23268582634094703, 'eval_balanced_accuracy': 0.6163429131704735, 'eval_runtime': 62.4334, 'eval_samples_per_second': 103.118, 'eval_steps_per_second': 6.455, 'epoch': 2.36}\n"
     ]
    },
    {
     "name": "stderr",
     "output_type": "stream",
     "text": [
      "Model weights saved in ./model\\checkpoint-1900\\pytorch_model.bin\n",
      "tokenizer config file saved in ./model\\checkpoint-1900\\tokenizer_config.json\n",
      "Special tokens file saved in ./model\\checkpoint-1900\\special_tokens_map.json\n",
      " 83%|████████▎ | 2000/2415 [48:11<05:54,  1.17it/s]  ***** Running Evaluation *****\n",
      "  Num examples = 6438\n",
      "  Batch size = 16\n"
     ]
    },
    {
     "name": "stdout",
     "output_type": "stream",
     "text": [
      "{'loss': 0.5607, 'learning_rate': 3.555478651654784e-06, 'epoch': 2.48}\n"
     ]
    },
    {
     "name": "stderr",
     "output_type": "stream",
     "text": [
      "\n",
      " 83%|████████▎ | 2000/2415 [49:14<05:54,  1.17it/s]Saving model checkpoint to ./model\\checkpoint-2000\n",
      "Configuration saved in ./model\\checkpoint-2000\\config.json\n"
     ]
    },
    {
     "name": "stdout",
     "output_type": "stream",
     "text": [
      "(6438, 2) (6438,)\n",
      "(6438,) (6438,)\n",
      "{'eval_loss': 0.7064311504364014, 'eval_pred_true': 3578, 'eval_pred_false': 2860, 'eval_actual_true': 3177, 'eval_actual_false': 3261, 'eval_accuracy': 0.6149425287356322, 'eval_f1_score': 0.6330125832716507, 'eval_precision': 0.5975405254332029, 'eval_recall': 0.6729619137551149, 'eval_roc_auc': 0.6156897885242917, 'eval_matthews_correlation': 0.23281225907686437, 'eval_cohen_kappa': 0.23100404653003614, 'eval_true_negative': 1821, 'eval_false_positive': 1440, 'eval_false_negative': 1039, 'eval_true_positive': 2138, 'eval_specificity': 0.5584176632934683, 'eval_sensitivity': 0.6729619137551149, 'eval_informedness': 0.23137957704858314, 'eval_balanced_accuracy': 0.6156897885242916, 'eval_runtime': 62.7035, 'eval_samples_per_second': 102.674, 'eval_steps_per_second': 6.427, 'epoch': 2.48}\n"
     ]
    },
    {
     "name": "stderr",
     "output_type": "stream",
     "text": [
      "Model weights saved in ./model\\checkpoint-2000\\pytorch_model.bin\n",
      "tokenizer config file saved in ./model\\checkpoint-2000\\tokenizer_config.json\n",
      "Special tokens file saved in ./model\\checkpoint-2000\\special_tokens_map.json\n",
      " 87%|████████▋ | 2100/2415 [50:40<04:25,  1.19it/s]  ***** Running Evaluation *****\n",
      "  Num examples = 6438\n",
      "  Batch size = 16\n"
     ]
    },
    {
     "name": "stdout",
     "output_type": "stream",
     "text": [
      "{'loss': 0.5749, 'learning_rate': 2.0697174623636794e-06, 'epoch': 2.61}\n"
     ]
    },
    {
     "name": "stderr",
     "output_type": "stream",
     "text": [
      "\n",
      " 87%|████████▋ | 2100/2415 [51:43<04:25,  1.19it/s]Saving model checkpoint to ./model\\checkpoint-2100\n",
      "Configuration saved in ./model\\checkpoint-2100\\config.json\n"
     ]
    },
    {
     "name": "stdout",
     "output_type": "stream",
     "text": [
      "(6438, 2) (6438,)\n",
      "(6438,) (6438,)\n",
      "{'eval_loss': 0.6845002174377441, 'eval_pred_true': 3002, 'eval_pred_false': 3436, 'eval_actual_true': 3177, 'eval_actual_false': 3261, 'eval_accuracy': 0.6174277726001864, 'eval_f1_score': 0.6013918109726493, 'eval_precision': 0.6189207195203198, 'eval_recall': 0.5848284545168397, 'eval_roc_auc': 0.6170079101777697, 'eval_matthews_correlation': 0.23452940601518651, 'eval_cohen_kappa': 0.2341819598029412, 'eval_true_negative': 2117, 'eval_false_positive': 1144, 'eval_false_negative': 1319, 'eval_true_positive': 1858, 'eval_specificity': 0.6491873658386997, 'eval_sensitivity': 0.5848284545168397, 'eval_informedness': 0.23401582035553936, 'eval_balanced_accuracy': 0.6170079101777697, 'eval_runtime': 62.5329, 'eval_samples_per_second': 102.954, 'eval_steps_per_second': 6.445, 'epoch': 2.61}\n"
     ]
    },
    {
     "name": "stderr",
     "output_type": "stream",
     "text": [
      "Model weights saved in ./model\\checkpoint-2100\\pytorch_model.bin\n",
      "tokenizer config file saved in ./model\\checkpoint-2100\\tokenizer_config.json\n",
      "Special tokens file saved in ./model\\checkpoint-2100\\special_tokens_map.json\n",
      " 91%|█████████ | 2200/2415 [53:08<03:01,  1.18it/s]  ***** Running Evaluation *****\n",
      "  Num examples = 6438\n",
      "  Batch size = 16\n"
     ]
    },
    {
     "name": "stdout",
     "output_type": "stream",
     "text": [
      "{'loss': 0.5667, 'learning_rate': 9.714479224915058e-07, 'epoch': 2.73}\n"
     ]
    },
    {
     "name": "stderr",
     "output_type": "stream",
     "text": [
      "\n",
      " 91%|█████████ | 2200/2415 [54:10<03:01,  1.18it/s]Saving model checkpoint to ./model\\checkpoint-2200\n",
      "Configuration saved in ./model\\checkpoint-2200\\config.json\n"
     ]
    },
    {
     "name": "stdout",
     "output_type": "stream",
     "text": [
      "(6438, 2) (6438,)\n",
      "(6438,) (6438,)\n",
      "{'eval_loss': 0.6927648186683655, 'eval_pred_true': 3337, 'eval_pred_false': 3101, 'eval_actual_true': 3177, 'eval_actual_false': 3261, 'eval_accuracy': 0.6113699906803355, 'eval_f1_score': 0.6159042063248388, 'eval_precision': 0.6011387473778843, 'eval_recall': 0.6314132829713566, 'eval_roc_auc': 0.6116281379591527, 'eval_matthews_correlation': 0.22338741186431654, 'eval_cohen_kappa': 0.2231115576598134, 'eval_true_negative': 1930, 'eval_false_positive': 1331, 'eval_false_negative': 1171, 'eval_true_positive': 2006, 'eval_specificity': 0.5918429929469488, 'eval_sensitivity': 0.6314132829713566, 'eval_informedness': 0.2232562759183052, 'eval_balanced_accuracy': 0.6116281379591526, 'eval_runtime': 62.6287, 'eval_samples_per_second': 102.796, 'eval_steps_per_second': 6.435, 'epoch': 2.73}\n"
     ]
    },
    {
     "name": "stderr",
     "output_type": "stream",
     "text": [
      "Model weights saved in ./model\\checkpoint-2200\\pytorch_model.bin\n",
      "tokenizer config file saved in ./model\\checkpoint-2200\\tokenizer_config.json\n",
      "Special tokens file saved in ./model\\checkpoint-2200\\special_tokens_map.json\n",
      " 95%|█████████▌| 2300/2415 [55:37<01:36,  1.19it/s]  ***** Running Evaluation *****\n",
      "  Num examples = 6438\n",
      "  Batch size = 16\n"
     ]
    },
    {
     "name": "stdout",
     "output_type": "stream",
     "text": [
      "{'loss': 0.556, 'learning_rate': 2.7922934437178695e-07, 'epoch': 2.86}\n"
     ]
    },
    {
     "name": "stderr",
     "output_type": "stream",
     "text": [
      "\n",
      " 95%|█████████▌| 2300/2415 [56:39<01:36,  1.19it/s]Saving model checkpoint to ./model\\checkpoint-2300\n",
      "Configuration saved in ./model\\checkpoint-2300\\config.json\n"
     ]
    },
    {
     "name": "stdout",
     "output_type": "stream",
     "text": [
      "(6438, 2) (6438,)\n",
      "(6438,) (6438,)\n",
      "{'eval_loss': 0.6894863247871399, 'eval_pred_true': 3112, 'eval_pred_false': 3326, 'eval_actual_true': 3177, 'eval_actual_false': 3261, 'eval_accuracy': 0.6168064616340478, 'eval_f1_score': 0.6077277786611543, 'eval_precision': 0.6140745501285347, 'eval_recall': 0.6015108593012276, 'eval_roc_auc': 0.6166094621559803, 'eval_matthews_correlation': 0.23332801056563043, 'eval_cohen_kappa': 0.23328039567975456, 'eval_true_negative': 2060, 'eval_false_positive': 1201, 'eval_false_negative': 1266, 'eval_true_positive': 1911, 'eval_specificity': 0.631708065010733, 'eval_sensitivity': 0.6015108593012276, 'eval_informedness': 0.23321892431196067, 'eval_balanced_accuracy': 0.6166094621559803, 'eval_runtime': 62.3998, 'eval_samples_per_second': 103.173, 'eval_steps_per_second': 6.458, 'epoch': 2.86}\n"
     ]
    },
    {
     "name": "stderr",
     "output_type": "stream",
     "text": [
      "Model weights saved in ./model\\checkpoint-2300\\pytorch_model.bin\n",
      "tokenizer config file saved in ./model\\checkpoint-2300\\tokenizer_config.json\n",
      "Special tokens file saved in ./model\\checkpoint-2300\\special_tokens_map.json\n",
      " 99%|█████████▉| 2400/2415 [58:05<00:12,  1.19it/s]***** Running Evaluation *****\n",
      "  Num examples = 6438\n",
      "  Batch size = 16\n"
     ]
    },
    {
     "name": "stdout",
     "output_type": "stream",
     "text": [
      "{'loss': 0.5489, 'learning_rate': 4.7593125481831815e-09, 'epoch': 2.98}\n"
     ]
    },
    {
     "name": "stderr",
     "output_type": "stream",
     "text": [
      "\n"
     ]
    },
    {
     "name": "stdout",
     "output_type": "stream",
     "text": [
      "(6438, 2) (6438,)\n",
      "(6438,) (6438,)\n"
     ]
    },
    {
     "name": "stderr",
     "output_type": "stream",
     "text": [
      " 99%|█████████▉| 2400/2415 [59:07<00:12,  1.19it/s]Saving model checkpoint to ./model\\checkpoint-2400\n",
      "Configuration saved in ./model\\checkpoint-2400\\config.json\n"
     ]
    },
    {
     "name": "stdout",
     "output_type": "stream",
     "text": [
      "{'eval_loss': 0.6916254162788391, 'eval_pred_true': 3129, 'eval_pred_false': 3309, 'eval_actual_true': 3177, 'eval_actual_false': 3261, 'eval_accuracy': 0.6160298229263746, 'eval_f1_score': 0.6079923882017128, 'eval_precision': 0.6126558005752637, 'eval_recall': 0.603399433427762, 'eval_roc_auc': 0.6158671500165489, 'eval_matthews_correlation': 0.23180519358520296, 'eval_cohen_kappa': 0.23177940219426552, 'eval_true_negative': 2049, 'eval_false_positive': 1212, 'eval_false_negative': 1260, 'eval_true_positive': 1917, 'eval_specificity': 0.6283348666053358, 'eval_sensitivity': 0.603399433427762, 'eval_informedness': 0.2317343000330978, 'eval_balanced_accuracy': 0.6158671500165489, 'eval_runtime': 62.3191, 'eval_samples_per_second': 103.307, 'eval_steps_per_second': 6.467, 'epoch': 2.98}\n"
     ]
    },
    {
     "name": "stderr",
     "output_type": "stream",
     "text": [
      "Model weights saved in ./model\\checkpoint-2400\\pytorch_model.bin\n",
      "tokenizer config file saved in ./model\\checkpoint-2400\\tokenizer_config.json\n",
      "Special tokens file saved in ./model\\checkpoint-2400\\special_tokens_map.json\n",
      "100%|██████████| 2415/2415 [59:22<00:00,  1.13it/s]\n",
      "\n",
      "Training completed. Do not forget to share your model on huggingface.co/models =)\n",
      "\n",
      "\n",
      "Loading best model from ./model\\checkpoint-700 (score: 0.6650524616626311).\n",
      "100%|██████████| 2415/2415 [59:22<00:00,  1.48s/it]\n",
      "***** Running Prediction *****\n",
      "  Num examples = 6438\n",
      "  Batch size = 16\n"
     ]
    },
    {
     "name": "stdout",
     "output_type": "stream",
     "text": [
      "{'train_runtime': 3562.7938, 'train_samples_per_second': 21.681, 'train_steps_per_second': 0.678, 'train_loss': 0.6319444932799408, 'epoch': 3.0}\n"
     ]
    },
    {
     "name": "stderr",
     "output_type": "stream",
     "text": [
      "100%|██████████| 403/403 [01:01<00:00,  6.54it/s]"
     ]
    },
    {
     "name": "stdout",
     "output_type": "stream",
     "text": [
      "(6438, 2) (6438,)\n",
      "(6438,) (6438,)\n"
     ]
    },
    {
     "name": "stderr",
     "output_type": "stream",
     "text": [
      "\n"
     ]
    },
    {
     "name": "stdout",
     "output_type": "stream",
     "text": [
      "=== Learning rate = 5e-05, Weight decay = 0.00025, Classifier dropout = 0.3 ===\n"
     ]
    },
    {
     "name": "stderr",
     "output_type": "stream",
     "text": [
      "loading configuration file https://huggingface.co/bert-base-uncased/resolve/main/config.json from cache at C:\\Users\\Wenhao/.cache\\huggingface\\transformers\\3c61d016573b14f7f008c02c4e51a366c67ab274726fe2910691e2a761acf43e.37395cee442ab11005bcd270f3c34464dc1704b715b5d7d52b1a461abe3b9e4e\n",
      "Model config BertConfig {\n",
      "  \"_name_or_path\": \"bert-base-uncased\",\n",
      "  \"architectures\": [\n",
      "    \"BertForMaskedLM\"\n",
      "  ],\n",
      "  \"attention_probs_dropout_prob\": 0.1,\n",
      "  \"classifier_dropout\": 0.3,\n",
      "  \"gradient_checkpointing\": false,\n",
      "  \"hidden_act\": \"gelu\",\n",
      "  \"hidden_dropout_prob\": 0.1,\n",
      "  \"hidden_size\": 768,\n",
      "  \"initializer_range\": 0.02,\n",
      "  \"intermediate_size\": 3072,\n",
      "  \"layer_norm_eps\": 1e-12,\n",
      "  \"max_position_embeddings\": 512,\n",
      "  \"model_type\": \"bert\",\n",
      "  \"num_attention_heads\": 12,\n",
      "  \"num_hidden_layers\": 12,\n",
      "  \"pad_token_id\": 0,\n",
      "  \"position_embedding_type\": \"absolute\",\n",
      "  \"transformers_version\": \"4.21.1\",\n",
      "  \"type_vocab_size\": 2,\n",
      "  \"use_cache\": true,\n",
      "  \"vocab_size\": 30522\n",
      "}\n",
      "\n",
      "loading weights file https://huggingface.co/bert-base-uncased/resolve/main/pytorch_model.bin from cache at C:\\Users\\Wenhao/.cache\\huggingface\\transformers\\a8041bf617d7f94ea26d15e218abd04afc2004805632abc0ed2066aa16d50d04.faf6ea826ae9c5867d12b22257f9877e6b8367890837bd60f7c54a29633f7f2f\n",
      "Some weights of the model checkpoint at bert-base-uncased were not used when initializing BertForSequenceClassification: ['cls.predictions.transform.LayerNorm.weight', 'cls.seq_relationship.weight', 'cls.predictions.decoder.weight', 'cls.predictions.transform.LayerNorm.bias', 'cls.predictions.bias', 'cls.predictions.transform.dense.bias', 'cls.predictions.transform.dense.weight', 'cls.seq_relationship.bias']\n",
      "- This IS expected if you are initializing BertForSequenceClassification from the checkpoint of a model trained on another task or with another architecture (e.g. initializing a BertForSequenceClassification model from a BertForPreTraining model).\n",
      "- This IS NOT expected if you are initializing BertForSequenceClassification from the checkpoint of a model that you expect to be exactly identical (initializing a BertForSequenceClassification model from a BertForSequenceClassification model).\n",
      "Some weights of BertForSequenceClassification were not initialized from the model checkpoint at bert-base-uncased and are newly initialized: ['classifier.bias', 'classifier.weight']\n",
      "You should probably TRAIN this model on a down-stream task to be able to use it for predictions and inference.\n",
      "PyTorch: setting up devices\n",
      "c:\\Users\\Wenhao\\miniconda3\\envs\\deep_wa_bert\\lib\\site-packages\\transformers\\optimization.py:306: FutureWarning: This implementation of AdamW is deprecated and will be removed in a future version. Use the PyTorch implementation torch.optim.AdamW instead, or set `no_deprecation_warning=True` to disable this warning\n",
      "  warnings.warn(\n",
      "***** Running training *****\n",
      "  Num examples = 25748\n",
      "  Num Epochs = 3\n",
      "  Instantaneous batch size per device = 16\n",
      "  Total train batch size (w. parallel, distributed & accumulation) = 32\n",
      "  Gradient Accumulation steps = 2\n",
      "  Total optimization steps = 2415\n",
      "  4%|▍         | 100/2415 [01:23<31:33,  1.22it/s]***** Running Evaluation *****\n",
      "  Num examples = 6438\n",
      "  Batch size = 16\n"
     ]
    },
    {
     "name": "stdout",
     "output_type": "stream",
     "text": [
      "{'loss': 0.7011, 'learning_rate': 4.97887664223157e-05, 'epoch': 0.12}\n"
     ]
    },
    {
     "name": "stderr",
     "output_type": "stream",
     "text": [
      "c:\\Users\\Wenhao\\miniconda3\\envs\\deep_wa_bert\\lib\\site-packages\\sklearn\\metrics\\_classification.py:1334: UndefinedMetricWarning: Precision is ill-defined and being set to 0.0 due to no predicted samples. Use `zero_division` parameter to control this behavior.\n",
      "  _warn_prf(average, modifier, msg_start, len(result))\n",
      "\n",
      "  4%|▍         | 100/2415 [02:26<31:33,  1.22it/s]Saving model checkpoint to ./model\\checkpoint-100\n",
      "Configuration saved in ./model\\checkpoint-100\\config.json\n"
     ]
    },
    {
     "name": "stdout",
     "output_type": "stream",
     "text": [
      "(6438, 2) (6438,)\n",
      "(6438,) (6438,)\n",
      "{'eval_loss': 0.6929284334182739, 'eval_pred_true': 0, 'eval_pred_false': 6438, 'eval_actual_true': 3177, 'eval_actual_false': 3261, 'eval_accuracy': 0.5065237651444549, 'eval_f1_score': 0.0, 'eval_precision': 0.0, 'eval_recall': 0.0, 'eval_roc_auc': 0.5, 'eval_matthews_correlation': 0.0, 'eval_cohen_kappa': 0.0, 'eval_true_negative': 3261, 'eval_false_positive': 0, 'eval_false_negative': 3177, 'eval_true_positive': 0, 'eval_specificity': 1.0, 'eval_sensitivity': 0.0, 'eval_informedness': 0.0, 'eval_balanced_accuracy': 0.5, 'eval_runtime': 62.7212, 'eval_samples_per_second': 102.645, 'eval_steps_per_second': 6.425, 'epoch': 0.12}\n"
     ]
    },
    {
     "name": "stderr",
     "output_type": "stream",
     "text": [
      "Model weights saved in ./model\\checkpoint-100\\pytorch_model.bin\n",
      "tokenizer config file saved in ./model\\checkpoint-100\\tokenizer_config.json\n",
      "Special tokens file saved in ./model\\checkpoint-100\\special_tokens_map.json\n",
      "  8%|▊         | 200/2415 [03:52<30:34,  1.21it/s]   ***** Running Evaluation *****\n",
      "  Num examples = 6438\n",
      "  Batch size = 16\n"
     ]
    },
    {
     "name": "stdout",
     "output_type": "stream",
     "text": [
      "{'loss': 0.6988, 'learning_rate': 4.91586352592101e-05, 'epoch': 0.25}\n"
     ]
    },
    {
     "name": "stderr",
     "output_type": "stream",
     "text": [
      "c:\\Users\\Wenhao\\miniconda3\\envs\\deep_wa_bert\\lib\\site-packages\\sklearn\\metrics\\_classification.py:1334: UndefinedMetricWarning: Precision is ill-defined and being set to 0.0 due to no predicted samples. Use `zero_division` parameter to control this behavior.\n",
      "  _warn_prf(average, modifier, msg_start, len(result))\n",
      "\n",
      "  8%|▊         | 200/2415 [04:55<30:34,  1.21it/s]Saving model checkpoint to ./model\\checkpoint-200\n"
     ]
    },
    {
     "name": "stdout",
     "output_type": "stream",
     "text": [
      "(6438, 2) (6438,)\n",
      "(6438,) (6438,)\n",
      "{'eval_loss': 0.6949505805969238, 'eval_pred_true': 0, 'eval_pred_false': 6438, 'eval_actual_true': 3177, 'eval_actual_false': 3261, 'eval_accuracy': 0.5065237651444549, 'eval_f1_score': 0.0, 'eval_precision': 0.0, 'eval_recall': 0.0, 'eval_roc_auc': 0.5, 'eval_matthews_correlation': 0.0, 'eval_cohen_kappa': 0.0, 'eval_true_negative': 3261, 'eval_false_positive': 0, 'eval_false_negative': 3177, 'eval_true_positive': 0, 'eval_specificity': 1.0, 'eval_sensitivity': 0.0, 'eval_informedness': 0.0, 'eval_balanced_accuracy': 0.5, 'eval_runtime': 62.7544, 'eval_samples_per_second': 102.59, 'eval_steps_per_second': 6.422, 'epoch': 0.25}\n"
     ]
    },
    {
     "name": "stderr",
     "output_type": "stream",
     "text": [
      "Configuration saved in ./model\\checkpoint-200\\config.json\n",
      "Model weights saved in ./model\\checkpoint-200\\pytorch_model.bin\n",
      "tokenizer config file saved in ./model\\checkpoint-200\\tokenizer_config.json\n",
      "Special tokens file saved in ./model\\checkpoint-200\\special_tokens_map.json\n",
      " 12%|█▏        | 300/2415 [06:21<29:54,  1.18it/s]   ***** Running Evaluation *****\n",
      "  Num examples = 6438\n",
      "  Batch size = 16\n"
     ]
    },
    {
     "name": "stdout",
     "output_type": "stream",
     "text": [
      "{'loss': 0.6964, 'learning_rate': 4.8120254899482665e-05, 'epoch': 0.37}\n"
     ]
    },
    {
     "name": "stderr",
     "output_type": "stream",
     "text": [
      "\n",
      " 12%|█▏        | 300/2415 [07:24<29:54,  1.18it/s]Saving model checkpoint to ./model\\checkpoint-300\n",
      "Configuration saved in ./model\\checkpoint-300\\config.json\n"
     ]
    },
    {
     "name": "stdout",
     "output_type": "stream",
     "text": [
      "(6438, 2) (6438,)\n",
      "(6438,) (6438,)\n",
      "{'eval_loss': 0.6902690529823303, 'eval_pred_true': 1218, 'eval_pred_false': 5220, 'eval_actual_true': 3177, 'eval_actual_false': 3261, 'eval_accuracy': 0.5295122708915813, 'eval_f1_score': 0.31080773606370876, 'eval_precision': 0.5607553366174056, 'eval_recall': 0.21498268807050677, 'eval_roc_auc': 0.5254612919040054, 'eval_matthews_correlation': 0.06500332063975715, 'eval_cohen_kappa': 0.05133023523536229, 'eval_true_negative': 2726, 'eval_false_positive': 535, 'eval_false_negative': 2494, 'eval_true_positive': 683, 'eval_specificity': 0.8359398957375038, 'eval_sensitivity': 0.21498268807050677, 'eval_informedness': 0.05092258380801051, 'eval_balanced_accuracy': 0.5254612919040053, 'eval_runtime': 62.2747, 'eval_samples_per_second': 103.381, 'eval_steps_per_second': 6.471, 'epoch': 0.37}\n"
     ]
    },
    {
     "name": "stderr",
     "output_type": "stream",
     "text": [
      "Model weights saved in ./model\\checkpoint-300\\pytorch_model.bin\n",
      "tokenizer config file saved in ./model\\checkpoint-300\\tokenizer_config.json\n",
      "Special tokens file saved in ./model\\checkpoint-300\\special_tokens_map.json\n",
      " 17%|█▋        | 400/2415 [08:50<28:11,  1.19it/s]   ***** Running Evaluation *****\n",
      "  Num examples = 6438\n",
      "  Batch size = 16\n"
     ]
    },
    {
     "name": "stdout",
     "output_type": "stream",
     "text": [
      "{'loss': 0.6983, 'learning_rate': 4.669117260700397e-05, 'epoch': 0.5}\n"
     ]
    },
    {
     "name": "stderr",
     "output_type": "stream",
     "text": [
      "c:\\Users\\Wenhao\\miniconda3\\envs\\deep_wa_bert\\lib\\site-packages\\sklearn\\metrics\\_classification.py:1334: UndefinedMetricWarning: Precision is ill-defined and being set to 0.0 due to no predicted samples. Use `zero_division` parameter to control this behavior.\n",
      "  _warn_prf(average, modifier, msg_start, len(result))\n",
      "\n",
      " 17%|█▋        | 400/2415 [09:52<28:11,  1.19it/s]Saving model checkpoint to ./model\\checkpoint-400\n",
      "Configuration saved in ./model\\checkpoint-400\\config.json\n"
     ]
    },
    {
     "name": "stdout",
     "output_type": "stream",
     "text": [
      "(6438, 2) (6438,)\n",
      "(6438,) (6438,)\n",
      "{'eval_loss': 0.6952216625213623, 'eval_pred_true': 0, 'eval_pred_false': 6438, 'eval_actual_true': 3177, 'eval_actual_false': 3261, 'eval_accuracy': 0.5065237651444549, 'eval_f1_score': 0.0, 'eval_precision': 0.0, 'eval_recall': 0.0, 'eval_roc_auc': 0.5, 'eval_matthews_correlation': 0.0, 'eval_cohen_kappa': 0.0, 'eval_true_negative': 3261, 'eval_false_positive': 0, 'eval_false_negative': 3177, 'eval_true_positive': 0, 'eval_specificity': 1.0, 'eval_sensitivity': 0.0, 'eval_informedness': 0.0, 'eval_balanced_accuracy': 0.5, 'eval_runtime': 61.7372, 'eval_samples_per_second': 104.281, 'eval_steps_per_second': 6.528, 'epoch': 0.5}\n"
     ]
    },
    {
     "name": "stderr",
     "output_type": "stream",
     "text": [
      "Model weights saved in ./model\\checkpoint-400\\pytorch_model.bin\n",
      "tokenizer config file saved in ./model\\checkpoint-400\\tokenizer_config.json\n",
      "Special tokens file saved in ./model\\checkpoint-400\\special_tokens_map.json\n",
      " 21%|██        | 500/2415 [11:18<26:54,  1.19it/s]   ***** Running Evaluation *****\n",
      "  Num examples = 6438\n",
      "  Batch size = 16\n"
     ]
    },
    {
     "name": "stdout",
     "output_type": "stream",
     "text": [
      "{'loss': 0.6959, 'learning_rate': 4.489553799500966e-05, 'epoch': 0.62}\n"
     ]
    },
    {
     "name": "stderr",
     "output_type": "stream",
     "text": [
      "\n",
      " 21%|██        | 500/2415 [12:20<26:54,  1.19it/s]Saving model checkpoint to ./model\\checkpoint-500\n",
      "Configuration saved in ./model\\checkpoint-500\\config.json\n"
     ]
    },
    {
     "name": "stdout",
     "output_type": "stream",
     "text": [
      "(6438, 2) (6438,)\n",
      "(6438,) (6438,)\n",
      "{'eval_loss': 0.6928093433380127, 'eval_pred_true': 1444, 'eval_pred_false': 4994, 'eval_actual_true': 3177, 'eval_actual_false': 3261, 'eval_accuracy': 0.5487729108418764, 'eval_f1_score': 0.3713481930318114, 'eval_precision': 0.5941828254847645, 'eval_recall': 0.2700661000944287, 'eval_roc_auc': 0.5451833107034547, 'eval_matthews_correlation': 0.10831389825819886, 'eval_cohen_kappa': 0.09100598780392843, 'eval_true_negative': 2675, 'eval_false_positive': 586, 'eval_false_negative': 2319, 'eval_true_positive': 858, 'eval_specificity': 0.8203005213124809, 'eval_sensitivity': 0.2700661000944287, 'eval_informedness': 0.09036662140690965, 'eval_balanced_accuracy': 0.5451833107034548, 'eval_runtime': 62.1467, 'eval_samples_per_second': 103.594, 'eval_steps_per_second': 6.485, 'epoch': 0.62}\n"
     ]
    },
    {
     "name": "stderr",
     "output_type": "stream",
     "text": [
      "Model weights saved in ./model\\checkpoint-500\\pytorch_model.bin\n",
      "tokenizer config file saved in ./model\\checkpoint-500\\tokenizer_config.json\n",
      "Special tokens file saved in ./model\\checkpoint-500\\special_tokens_map.json\n",
      " 25%|██▍       | 600/2415 [13:46<25:27,  1.19it/s]   ***** Running Evaluation *****\n",
      "  Num examples = 6438\n",
      "  Batch size = 16\n"
     ]
    },
    {
     "name": "stdout",
     "output_type": "stream",
     "text": [
      "{'loss': 0.6969, 'learning_rate': 4.2763694929364166e-05, 'epoch': 0.75}\n"
     ]
    },
    {
     "name": "stderr",
     "output_type": "stream",
     "text": [
      "c:\\Users\\Wenhao\\miniconda3\\envs\\deep_wa_bert\\lib\\site-packages\\sklearn\\metrics\\_classification.py:1334: UndefinedMetricWarning: Precision is ill-defined and being set to 0.0 due to no predicted samples. Use `zero_division` parameter to control this behavior.\n",
      "  _warn_prf(average, modifier, msg_start, len(result))\n",
      "\n",
      " 25%|██▍       | 600/2415 [14:48<25:27,  1.19it/s]Saving model checkpoint to ./model\\checkpoint-600\n",
      "Configuration saved in ./model\\checkpoint-600\\config.json\n"
     ]
    },
    {
     "name": "stdout",
     "output_type": "stream",
     "text": [
      "(6438, 2) (6438,)\n",
      "(6438,) (6438,)\n",
      "{'eval_loss': 0.6976161003112793, 'eval_pred_true': 0, 'eval_pred_false': 6438, 'eval_actual_true': 3177, 'eval_actual_false': 3261, 'eval_accuracy': 0.5065237651444549, 'eval_f1_score': 0.0, 'eval_precision': 0.0, 'eval_recall': 0.0, 'eval_roc_auc': 0.5, 'eval_matthews_correlation': 0.0, 'eval_cohen_kappa': 0.0, 'eval_true_negative': 3261, 'eval_false_positive': 0, 'eval_false_negative': 3177, 'eval_true_positive': 0, 'eval_specificity': 1.0, 'eval_sensitivity': 0.0, 'eval_informedness': 0.0, 'eval_balanced_accuracy': 0.5, 'eval_runtime': 62.0814, 'eval_samples_per_second': 103.703, 'eval_steps_per_second': 6.491, 'epoch': 0.75}\n"
     ]
    },
    {
     "name": "stderr",
     "output_type": "stream",
     "text": [
      "Model weights saved in ./model\\checkpoint-600\\pytorch_model.bin\n",
      "tokenizer config file saved in ./model\\checkpoint-600\\tokenizer_config.json\n",
      "Special tokens file saved in ./model\\checkpoint-600\\special_tokens_map.json\n",
      " 29%|██▉       | 700/2415 [16:14<24:01,  1.19it/s]   ***** Running Evaluation *****\n",
      "  Num examples = 6438\n",
      "  Batch size = 16\n"
     ]
    },
    {
     "name": "stdout",
     "output_type": "stream",
     "text": [
      "{'loss': 0.6981, 'learning_rate': 4.033166875709291e-05, 'epoch': 0.87}\n"
     ]
    },
    {
     "name": "stderr",
     "output_type": "stream",
     "text": [
      "\n",
      " 29%|██▉       | 700/2415 [17:16<24:01,  1.19it/s]Saving model checkpoint to ./model\\checkpoint-700\n",
      "Configuration saved in ./model\\checkpoint-700\\config.json\n"
     ]
    },
    {
     "name": "stdout",
     "output_type": "stream",
     "text": [
      "(6438, 2) (6438,)\n",
      "(6438,) (6438,)\n",
      "{'eval_loss': 0.6921733617782593, 'eval_pred_true': 6437, 'eval_pred_false': 1, 'eval_actual_true': 3177, 'eval_actual_false': 3261, 'eval_accuracy': 0.49332090711401055, 'eval_f1_score': 0.6607031412523403, 'eval_precision': 0.4933975454404226, 'eval_recall': 0.9996852376455776, 'eval_roc_auc': 0.4998426188227888, 'eval_matthews_correlation': -0.01262772273030039, 'eval_cohen_kappa': -0.0003106567260324766, 'eval_true_negative': 0, 'eval_false_positive': 3261, 'eval_false_negative': 1, 'eval_true_positive': 3176, 'eval_specificity': 0.0, 'eval_sensitivity': 0.9996852376455776, 'eval_informedness': -0.0003147623544224043, 'eval_balanced_accuracy': 0.4998426188227888, 'eval_runtime': 62.3877, 'eval_samples_per_second': 103.193, 'eval_steps_per_second': 6.46, 'epoch': 0.87}\n"
     ]
    },
    {
     "name": "stderr",
     "output_type": "stream",
     "text": [
      "Model weights saved in ./model\\checkpoint-700\\pytorch_model.bin\n",
      "tokenizer config file saved in ./model\\checkpoint-700\\tokenizer_config.json\n",
      "Special tokens file saved in ./model\\checkpoint-700\\special_tokens_map.json\n",
      " 33%|███▎      | 800/2415 [18:42<22:34,  1.19it/s]  ***** Running Evaluation *****\n",
      "  Num examples = 6438\n",
      "  Batch size = 16\n"
     ]
    },
    {
     "name": "stdout",
     "output_type": "stream",
     "text": [
      "{'loss': 0.6949, 'learning_rate': 3.764055752534714e-05, 'epoch': 0.99}\n"
     ]
    },
    {
     "name": "stderr",
     "output_type": "stream",
     "text": [
      "\n",
      " 33%|███▎      | 800/2415 [19:43<22:34,  1.19it/s]Saving model checkpoint to ./model\\checkpoint-800\n",
      "Configuration saved in ./model\\checkpoint-800\\config.json\n"
     ]
    },
    {
     "name": "stdout",
     "output_type": "stream",
     "text": [
      "(6438, 2) (6438,)\n",
      "(6438,) (6438,)\n",
      "{'eval_loss': 0.7002238035202026, 'eval_pred_true': 6438, 'eval_pred_false': 0, 'eval_actual_true': 3177, 'eval_actual_false': 3261, 'eval_accuracy': 0.4934762348555452, 'eval_f1_score': 0.6608424336973479, 'eval_precision': 0.4934762348555452, 'eval_recall': 1.0, 'eval_roc_auc': 0.5, 'eval_matthews_correlation': 0.0, 'eval_cohen_kappa': 0.0, 'eval_true_negative': 0, 'eval_false_positive': 3261, 'eval_false_negative': 0, 'eval_true_positive': 3177, 'eval_specificity': 0.0, 'eval_sensitivity': 1.0, 'eval_informedness': 0.0, 'eval_balanced_accuracy': 0.5, 'eval_runtime': 61.158, 'eval_samples_per_second': 105.268, 'eval_steps_per_second': 6.589, 'epoch': 0.99}\n"
     ]
    },
    {
     "name": "stderr",
     "output_type": "stream",
     "text": [
      "Model weights saved in ./model\\checkpoint-800\\pytorch_model.bin\n",
      "tokenizer config file saved in ./model\\checkpoint-800\\tokenizer_config.json\n",
      "Special tokens file saved in ./model\\checkpoint-800\\special_tokens_map.json\n",
      " 37%|███▋      | 900/2415 [21:09<21:06,  1.20it/s]  ***** Running Evaluation *****\n",
      "  Num examples = 6438\n",
      "  Batch size = 16\n"
     ]
    },
    {
     "name": "stdout",
     "output_type": "stream",
     "text": [
      "{'loss': 0.6962, 'learning_rate': 3.473583747840112e-05, 'epoch': 1.12}\n"
     ]
    },
    {
     "name": "stderr",
     "output_type": "stream",
     "text": [
      "c:\\Users\\Wenhao\\miniconda3\\envs\\deep_wa_bert\\lib\\site-packages\\sklearn\\metrics\\_classification.py:1334: UndefinedMetricWarning: Precision is ill-defined and being set to 0.0 due to no predicted samples. Use `zero_division` parameter to control this behavior.\n",
      "  _warn_prf(average, modifier, msg_start, len(result))\n",
      "\n",
      " 37%|███▋      | 900/2415 [22:11<21:06,  1.20it/s]\n",
      "                                                 "
     ]
    },
    {
     "name": "stdout",
     "output_type": "stream",
     "text": [
      "(6438, 2) (6438,)\n",
      "(6438,) (6438,)\n",
      "{'eval_loss': 0.6950112581253052, 'eval_pred_true': 0, 'eval_pred_false': 6438, 'eval_actual_true': 3177, 'eval_actual_false': 3261, 'eval_accuracy': 0.5065237651444549, 'eval_f1_score': 0.0, 'eval_precision': 0.0, 'eval_recall': 0.0, 'eval_roc_auc': 0.5, 'eval_matthews_correlation': 0.0, 'eval_cohen_kappa': 0.0, 'eval_true_negative': 3261, 'eval_false_positive': 0, 'eval_false_negative': 3177, 'eval_true_positive': 0, 'eval_specificity': 1.0, 'eval_sensitivity': 0.0, 'eval_informedness': 0.0, 'eval_balanced_accuracy': 0.5, 'eval_runtime': 61.714, 'eval_samples_per_second': 104.32, 'eval_steps_per_second': 6.53, 'epoch': 1.12}\n"
     ]
    },
    {
     "name": "stderr",
     "output_type": "stream",
     "text": [
      "\u001b[ASaving model checkpoint to ./model\\checkpoint-900\n",
      "Configuration saved in ./model\\checkpoint-900\\config.json\n",
      "Model weights saved in ./model\\checkpoint-900\\pytorch_model.bin\n",
      "tokenizer config file saved in ./model\\checkpoint-900\\tokenizer_config.json\n",
      "Special tokens file saved in ./model\\checkpoint-900\\special_tokens_map.json\n",
      " 41%|████▏     | 1000/2415 [23:37<19:47,  1.19it/s] ***** Running Evaluation *****\n",
      "  Num examples = 6438\n",
      "  Batch size = 16\n"
     ]
    },
    {
     "name": "stdout",
     "output_type": "stream",
     "text": [
      "{'loss': 0.6972, 'learning_rate': 3.166659456886983e-05, 'epoch': 1.24}\n"
     ]
    },
    {
     "name": "stderr",
     "output_type": "stream",
     "text": [
      "\n",
      " 41%|████▏     | 1000/2415 [24:38<19:47,  1.19it/s]Saving model checkpoint to ./model\\checkpoint-1000\n",
      "Configuration saved in ./model\\checkpoint-1000\\config.json\n"
     ]
    },
    {
     "name": "stdout",
     "output_type": "stream",
     "text": [
      "(6438, 2) (6438,)\n",
      "(6438,) (6438,)\n",
      "{'eval_loss': 0.6942541599273682, 'eval_pred_true': 6438, 'eval_pred_false': 0, 'eval_actual_true': 3177, 'eval_actual_false': 3261, 'eval_accuracy': 0.4934762348555452, 'eval_f1_score': 0.6608424336973479, 'eval_precision': 0.4934762348555452, 'eval_recall': 1.0, 'eval_roc_auc': 0.5, 'eval_matthews_correlation': 0.0, 'eval_cohen_kappa': 0.0, 'eval_true_negative': 0, 'eval_false_positive': 3261, 'eval_false_negative': 0, 'eval_true_positive': 3177, 'eval_specificity': 0.0, 'eval_sensitivity': 1.0, 'eval_informedness': 0.0, 'eval_balanced_accuracy': 0.5, 'eval_runtime': 61.2624, 'eval_samples_per_second': 105.089, 'eval_steps_per_second': 6.578, 'epoch': 1.24}\n"
     ]
    },
    {
     "name": "stderr",
     "output_type": "stream",
     "text": [
      "Model weights saved in ./model\\checkpoint-1000\\pytorch_model.bin\n",
      "tokenizer config file saved in ./model\\checkpoint-1000\\tokenizer_config.json\n",
      "Special tokens file saved in ./model\\checkpoint-1000\\special_tokens_map.json\n",
      " 46%|████▌     | 1100/2415 [26:04<18:41,  1.17it/s]  ***** Running Evaluation *****\n",
      "  Num examples = 6438\n",
      "  Batch size = 16\n"
     ]
    },
    {
     "name": "stdout",
     "output_type": "stream",
     "text": [
      "{'loss': 0.6938, 'learning_rate': 2.848469496959832e-05, 'epoch': 1.37}\n"
     ]
    },
    {
     "name": "stderr",
     "output_type": "stream",
     "text": [
      "\n",
      " 46%|████▌     | 1100/2415 [27:06<18:41,  1.17it/s]Saving model checkpoint to ./model\\checkpoint-1100\n",
      "Configuration saved in ./model\\checkpoint-1100\\config.json\n"
     ]
    },
    {
     "name": "stdout",
     "output_type": "stream",
     "text": [
      "(6438, 2) (6438,)\n",
      "(6438,) (6438,)\n",
      "{'eval_loss': 0.6935551762580872, 'eval_pred_true': 6438, 'eval_pred_false': 0, 'eval_actual_true': 3177, 'eval_actual_false': 3261, 'eval_accuracy': 0.4934762348555452, 'eval_f1_score': 0.6608424336973479, 'eval_precision': 0.4934762348555452, 'eval_recall': 1.0, 'eval_roc_auc': 0.5, 'eval_matthews_correlation': 0.0, 'eval_cohen_kappa': 0.0, 'eval_true_negative': 0, 'eval_false_positive': 3261, 'eval_false_negative': 0, 'eval_true_positive': 3177, 'eval_specificity': 0.0, 'eval_sensitivity': 1.0, 'eval_informedness': 0.0, 'eval_balanced_accuracy': 0.5, 'eval_runtime': 61.2738, 'eval_samples_per_second': 105.069, 'eval_steps_per_second': 6.577, 'epoch': 1.37}\n"
     ]
    },
    {
     "name": "stderr",
     "output_type": "stream",
     "text": [
      "Model weights saved in ./model\\checkpoint-1100\\pytorch_model.bin\n",
      "tokenizer config file saved in ./model\\checkpoint-1100\\tokenizer_config.json\n",
      "Special tokens file saved in ./model\\checkpoint-1100\\special_tokens_map.json\n",
      " 50%|████▉     | 1200/2415 [28:32<17:24,  1.16it/s]  ***** Running Evaluation *****\n",
      "  Num examples = 6438\n",
      "  Batch size = 16\n"
     ]
    },
    {
     "name": "stdout",
     "output_type": "stream",
     "text": [
      "{'loss': 0.6909, 'learning_rate': 2.5243908603481453e-05, 'epoch': 1.49}\n"
     ]
    },
    {
     "name": "stderr",
     "output_type": "stream",
     "text": [
      "\n",
      " 50%|████▉     | 1200/2415 [29:34<17:24,  1.16it/s]Saving model checkpoint to ./model\\checkpoint-1200\n",
      "Configuration saved in ./model\\checkpoint-1200\\config.json\n"
     ]
    },
    {
     "name": "stdout",
     "output_type": "stream",
     "text": [
      "(6438, 2) (6438,)\n",
      "(6438,) (6438,)\n",
      "{'eval_loss': 0.6865919828414917, 'eval_pred_true': 4360, 'eval_pred_false': 2078, 'eval_actual_true': 3177, 'eval_actual_false': 3261, 'eval_accuracy': 0.5605778191985089, 'eval_f1_score': 0.6246517181902613, 'eval_precision': 0.539908256880734, 'eval_recall': 0.7409505823103557, 'eval_roc_auc': 0.5629009274630589, 'eval_matthews_correlation': 0.1345256302310735, 'eval_cohen_kappa': 0.12520140716278938, 'eval_true_negative': 1255, 'eval_false_positive': 2006, 'eval_false_negative': 823, 'eval_true_positive': 2354, 'eval_specificity': 0.384851272615762, 'eval_sensitivity': 0.7409505823103557, 'eval_informedness': 0.12580185492611773, 'eval_balanced_accuracy': 0.5629009274630589, 'eval_runtime': 61.8341, 'eval_samples_per_second': 104.117, 'eval_steps_per_second': 6.517, 'epoch': 1.49}\n"
     ]
    },
    {
     "name": "stderr",
     "output_type": "stream",
     "text": [
      "Model weights saved in ./model\\checkpoint-1200\\pytorch_model.bin\n",
      "tokenizer config file saved in ./model\\checkpoint-1200\\tokenizer_config.json\n",
      "Special tokens file saved in ./model\\checkpoint-1200\\special_tokens_map.json\n",
      " 54%|█████▍    | 1300/2415 [31:00<15:31,  1.20it/s]  ***** Running Evaluation *****\n",
      "  Num examples = 6438\n",
      "  Batch size = 16\n"
     ]
    },
    {
     "name": "stdout",
     "output_type": "stream",
     "text": [
      "{'loss': 0.691, 'learning_rate': 2.199900050240929e-05, 'epoch': 1.61}\n"
     ]
    },
    {
     "name": "stderr",
     "output_type": "stream",
     "text": [
      "c:\\Users\\Wenhao\\miniconda3\\envs\\deep_wa_bert\\lib\\site-packages\\sklearn\\metrics\\_classification.py:1334: UndefinedMetricWarning: Precision is ill-defined and being set to 0.0 due to no predicted samples. Use `zero_division` parameter to control this behavior.\n",
      "  _warn_prf(average, modifier, msg_start, len(result))\n",
      "\n",
      " 54%|█████▍    | 1300/2415 [32:01<15:31,  1.20it/s]Saving model checkpoint to ./model\\checkpoint-1300\n",
      "Configuration saved in ./model\\checkpoint-1300\\config.json\n"
     ]
    },
    {
     "name": "stdout",
     "output_type": "stream",
     "text": [
      "(6438, 2) (6438,)\n",
      "(6438,) (6438,)\n",
      "{'eval_loss': 0.6939849853515625, 'eval_pred_true': 0, 'eval_pred_false': 6438, 'eval_actual_true': 3177, 'eval_actual_false': 3261, 'eval_accuracy': 0.5065237651444549, 'eval_f1_score': 0.0, 'eval_precision': 0.0, 'eval_recall': 0.0, 'eval_roc_auc': 0.5, 'eval_matthews_correlation': 0.0, 'eval_cohen_kappa': 0.0, 'eval_true_negative': 3261, 'eval_false_positive': 0, 'eval_false_negative': 3177, 'eval_true_positive': 0, 'eval_specificity': 1.0, 'eval_sensitivity': 0.0, 'eval_informedness': 0.0, 'eval_balanced_accuracy': 0.5, 'eval_runtime': 61.453, 'eval_samples_per_second': 104.763, 'eval_steps_per_second': 6.558, 'epoch': 1.61}\n"
     ]
    },
    {
     "name": "stderr",
     "output_type": "stream",
     "text": [
      "Model weights saved in ./model\\checkpoint-1300\\pytorch_model.bin\n",
      "tokenizer config file saved in ./model\\checkpoint-1300\\tokenizer_config.json\n",
      "Special tokens file saved in ./model\\checkpoint-1300\\special_tokens_map.json\n",
      " 58%|█████▊    | 1400/2415 [33:27<14:02,  1.20it/s]  ***** Running Evaluation *****\n",
      "  Num examples = 6438\n",
      "  Batch size = 16\n"
     ]
    },
    {
     "name": "stdout",
     "output_type": "stream",
     "text": [
      "{'loss': 0.694, 'learning_rate': 1.8804805350177505e-05, 'epoch': 1.74}\n"
     ]
    },
    {
     "name": "stderr",
     "output_type": "stream",
     "text": [
      "c:\\Users\\Wenhao\\miniconda3\\envs\\deep_wa_bert\\lib\\site-packages\\sklearn\\metrics\\_classification.py:1334: UndefinedMetricWarning: Precision is ill-defined and being set to 0.0 due to no predicted samples. Use `zero_division` parameter to control this behavior.\n",
      "  _warn_prf(average, modifier, msg_start, len(result))\n",
      "\n"
     ]
    },
    {
     "name": "stdout",
     "output_type": "stream",
     "text": [
      "(6438, 2) (6438,)\n",
      "(6438,) (6438,)\n"
     ]
    },
    {
     "name": "stderr",
     "output_type": "stream",
     "text": [
      " 58%|█████▊    | 1400/2415 [34:28<14:02,  1.20it/s]Saving model checkpoint to ./model\\checkpoint-1400\n",
      "Configuration saved in ./model\\checkpoint-1400\\config.json\n"
     ]
    },
    {
     "name": "stdout",
     "output_type": "stream",
     "text": [
      "{'eval_loss': 0.6928821802139282, 'eval_pred_true': 0, 'eval_pred_false': 6438, 'eval_actual_true': 3177, 'eval_actual_false': 3261, 'eval_accuracy': 0.5065237651444549, 'eval_f1_score': 0.0, 'eval_precision': 0.0, 'eval_recall': 0.0, 'eval_roc_auc': 0.5, 'eval_matthews_correlation': 0.0, 'eval_cohen_kappa': 0.0, 'eval_true_negative': 3261, 'eval_false_positive': 0, 'eval_false_negative': 3177, 'eval_true_positive': 0, 'eval_specificity': 1.0, 'eval_sensitivity': 0.0, 'eval_informedness': 0.0, 'eval_balanced_accuracy': 0.5, 'eval_runtime': 61.5109, 'eval_samples_per_second': 104.664, 'eval_steps_per_second': 6.552, 'epoch': 1.74}\n"
     ]
    },
    {
     "name": "stderr",
     "output_type": "stream",
     "text": [
      "Model weights saved in ./model\\checkpoint-1400\\pytorch_model.bin\n",
      "tokenizer config file saved in ./model\\checkpoint-1400\\tokenizer_config.json\n",
      "Special tokens file saved in ./model\\checkpoint-1400\\special_tokens_map.json\n",
      " 62%|██████▏   | 1500/2415 [35:55<12:35,  1.21it/s]  ***** Running Evaluation *****\n",
      "  Num examples = 6438\n",
      "  Batch size = 16\n"
     ]
    },
    {
     "name": "stdout",
     "output_type": "stream",
     "text": [
      "{'loss': 0.6962, 'learning_rate': 1.571530084837234e-05, 'epoch': 1.86}\n"
     ]
    },
    {
     "name": "stderr",
     "output_type": "stream",
     "text": [
      "\n",
      " 62%|██████▏   | 1500/2415 [36:55<12:35,  1.21it/s]Saving model checkpoint to ./model\\checkpoint-1500\n",
      "Configuration saved in ./model\\checkpoint-1500\\config.json\n"
     ]
    },
    {
     "name": "stdout",
     "output_type": "stream",
     "text": [
      "(6438, 2) (6438,)\n",
      "(6438,) (6438,)\n",
      "{'eval_loss': 0.6886725425720215, 'eval_pred_true': 5014, 'eval_pred_false': 1424, 'eval_actual_true': 3177, 'eval_actual_false': 3261, 'eval_accuracy': 0.5462876669773221, 'eval_f1_score': 0.643389085581736, 'eval_precision': 0.525528520143598, 'eval_recall': 0.8293988039030532, 'eval_roc_auc': 0.5499339925679019, 'eval_matthews_correlation': 0.12029930970685923, 'eval_cohen_kappa': 0.09912975045104833, 'eval_true_negative': 882, 'eval_false_positive': 2379, 'eval_false_negative': 542, 'eval_true_positive': 2635, 'eval_specificity': 0.2704691812327507, 'eval_sensitivity': 0.8293988039030532, 'eval_informedness': 0.09986798513580397, 'eval_balanced_accuracy': 0.549933992567902, 'eval_runtime': 60.7172, 'eval_samples_per_second': 106.033, 'eval_steps_per_second': 6.637, 'epoch': 1.86}\n"
     ]
    },
    {
     "name": "stderr",
     "output_type": "stream",
     "text": [
      "Model weights saved in ./model\\checkpoint-1500\\pytorch_model.bin\n",
      "tokenizer config file saved in ./model\\checkpoint-1500\\tokenizer_config.json\n",
      "Special tokens file saved in ./model\\checkpoint-1500\\special_tokens_map.json\n",
      " 66%|██████▋   | 1600/2415 [38:21<11:11,  1.21it/s]  ***** Running Evaluation *****\n",
      "  Num examples = 6438\n",
      "  Batch size = 16\n"
     ]
    },
    {
     "name": "stdout",
     "output_type": "stream",
     "text": [
      "{'loss': 0.6913, 'learning_rate': 1.2782695564128822e-05, 'epoch': 1.99}\n"
     ]
    },
    {
     "name": "stderr",
     "output_type": "stream",
     "text": [
      "\n",
      " 66%|██████▋   | 1600/2415 [39:23<11:11,  1.21it/s]Saving model checkpoint to ./model\\checkpoint-1600\n",
      "Configuration saved in ./model\\checkpoint-1600\\config.json\n"
     ]
    },
    {
     "name": "stdout",
     "output_type": "stream",
     "text": [
      "(6438, 2) (6438,)\n",
      "(6438,) (6438,)\n",
      "{'eval_loss': 0.6872531771659851, 'eval_pred_true': 822, 'eval_pred_false': 5616, 'eval_actual_true': 3177, 'eval_actual_false': 3261, 'eval_accuracy': 0.5425598011804909, 'eval_f1_score': 0.26356589147286824, 'eval_precision': 0.6411192214111923, 'eval_recall': 0.16587976078061065, 'eval_roc_auc': 0.5377083563179349, 'eval_matthews_correlation': 0.11298014983412144, 'eval_cohen_kappa': 0.0761436650197973, 'eval_true_negative': 2966, 'eval_false_positive': 295, 'eval_false_negative': 2650, 'eval_true_positive': 527, 'eval_specificity': 0.9095369518552591, 'eval_sensitivity': 0.16587976078061065, 'eval_informedness': 0.0754167126358698, 'eval_balanced_accuracy': 0.5377083563179349, 'eval_runtime': 61.7335, 'eval_samples_per_second': 104.287, 'eval_steps_per_second': 6.528, 'epoch': 1.99}\n"
     ]
    },
    {
     "name": "stderr",
     "output_type": "stream",
     "text": [
      "Model weights saved in ./model\\checkpoint-1600\\pytorch_model.bin\n",
      "tokenizer config file saved in ./model\\checkpoint-1600\\tokenizer_config.json\n",
      "Special tokens file saved in ./model\\checkpoint-1600\\special_tokens_map.json\n",
      " 70%|███████   | 1700/2415 [40:49<10:09,  1.17it/s]  ***** Running Evaluation *****\n",
      "  Num examples = 6438\n",
      "  Batch size = 16\n"
     ]
    },
    {
     "name": "stdout",
     "output_type": "stream",
     "text": [
      "{'loss': 0.689, 'learning_rate': 1.0056546673937098e-05, 'epoch': 2.11}\n"
     ]
    },
    {
     "name": "stderr",
     "output_type": "stream",
     "text": [
      "\n",
      "                                                 "
     ]
    },
    {
     "name": "stdout",
     "output_type": "stream",
     "text": [
      "(6438, 2) (6438,)\n",
      "(6438,) (6438,)\n"
     ]
    },
    {
     "name": "stderr",
     "output_type": "stream",
     "text": [
      " 70%|███████   | 1700/2415 [41:51<10:09,  1.17it/s]Saving model checkpoint to ./model\\checkpoint-1700\n",
      "Configuration saved in ./model\\checkpoint-1700\\config.json\n"
     ]
    },
    {
     "name": "stdout",
     "output_type": "stream",
     "text": [
      "{'eval_loss': 0.6867427825927734, 'eval_pred_true': 1983, 'eval_pred_false': 4455, 'eval_actual_true': 3177, 'eval_actual_false': 3261, 'eval_accuracy': 0.5672569120844982, 'eval_f1_score': 0.4600775193798449, 'eval_precision': 0.5985879979828542, 'eval_recall': 0.37362291469940195, 'eval_roc_auc': 0.5647630059544234, 'eval_matthews_correlation': 0.14026709072033605, 'eval_cohen_kappa': 0.13015602544662974, 'eval_true_negative': 2465, 'eval_false_positive': 796, 'eval_false_negative': 1990, 'eval_true_positive': 1187, 'eval_specificity': 0.7559030972094449, 'eval_sensitivity': 0.37362291469940195, 'eval_informedness': 0.12952601190884683, 'eval_balanced_accuracy': 0.5647630059544234, 'eval_runtime': 62.0151, 'eval_samples_per_second': 103.813, 'eval_steps_per_second': 6.498, 'epoch': 2.11}\n"
     ]
    },
    {
     "name": "stderr",
     "output_type": "stream",
     "text": [
      "Model weights saved in ./model\\checkpoint-1700\\pytorch_model.bin\n",
      "tokenizer config file saved in ./model\\checkpoint-1700\\tokenizer_config.json\n",
      "Special tokens file saved in ./model\\checkpoint-1700\\special_tokens_map.json\n",
      " 75%|███████▍  | 1800/2415 [43:15<08:20,  1.23it/s]  ***** Running Evaluation *****\n",
      "  Num examples = 6438\n",
      "  Batch size = 16\n"
     ]
    },
    {
     "name": "stdout",
     "output_type": "stream",
     "text": [
      "{'loss': 0.6884, 'learning_rate': 7.582922512467186e-06, 'epoch': 2.24}\n"
     ]
    },
    {
     "name": "stderr",
     "output_type": "stream",
     "text": [
      "\n",
      " 75%|███████▍  | 1800/2415 [44:13<08:20,  1.23it/s]Saving model checkpoint to ./model\\checkpoint-1800\n",
      "Configuration saved in ./model\\checkpoint-1800\\config.json\n"
     ]
    },
    {
     "name": "stdout",
     "output_type": "stream",
     "text": [
      "(6438, 2) (6438,)\n",
      "(6438,) (6438,)\n",
      "{'eval_loss': 0.6829515099525452, 'eval_pred_true': 1436, 'eval_pred_false': 5002, 'eval_actual_true': 3177, 'eval_actual_false': 3261, 'eval_accuracy': 0.559645852749301, 'eval_f1_score': 0.38543247344461307, 'eval_precision': 0.6190807799442897, 'eval_recall': 0.2798237330815235, 'eval_roc_auc': 0.5560418880065697, 'eval_matthews_correlation': 0.1346101154483561, 'eval_cohen_kappa': 0.11288048351936775, 'eval_true_negative': 2714, 'eval_false_positive': 547, 'eval_false_negative': 2288, 'eval_true_positive': 889, 'eval_specificity': 0.832260042931616, 'eval_sensitivity': 0.2798237330815235, 'eval_informedness': 0.11208377601313946, 'eval_balanced_accuracy': 0.5560418880065697, 'eval_runtime': 58.3463, 'eval_samples_per_second': 110.341, 'eval_steps_per_second': 6.907, 'epoch': 2.24}\n"
     ]
    },
    {
     "name": "stderr",
     "output_type": "stream",
     "text": [
      "Model weights saved in ./model\\checkpoint-1800\\pytorch_model.bin\n",
      "tokenizer config file saved in ./model\\checkpoint-1800\\tokenizer_config.json\n",
      "Special tokens file saved in ./model\\checkpoint-1800\\special_tokens_map.json\n",
      " 79%|███████▊  | 1900/2415 [45:33<06:42,  1.28it/s]  ***** Running Evaluation *****\n",
      "  Num examples = 6438\n",
      "  Batch size = 16\n"
     ]
    },
    {
     "name": "stdout",
     "output_type": "stream",
     "text": [
      "{'loss': 0.6819, 'learning_rate': 5.403624078236963e-06, 'epoch': 2.36}\n"
     ]
    },
    {
     "name": "stderr",
     "output_type": "stream",
     "text": [
      "\n",
      " 79%|███████▊  | 1900/2415 [46:32<06:42,  1.28it/s]Saving model checkpoint to ./model\\checkpoint-1900\n",
      "Configuration saved in ./model\\checkpoint-1900\\config.json\n"
     ]
    },
    {
     "name": "stdout",
     "output_type": "stream",
     "text": [
      "(6438, 2) (6438,)\n",
      "(6438,) (6438,)\n",
      "{'eval_loss': 0.681793749332428, 'eval_pred_true': 4299, 'eval_pred_false': 2139, 'eval_actual_true': 3177, 'eval_actual_false': 3261, 'eval_accuracy': 0.5576265921093507, 'eval_f1_score': 0.619047619047619, 'eval_precision': 0.5382647127238893, 'eval_recall': 0.7283600881334592, 'eval_roc_auc': 0.5598255515797624, 'eval_matthews_correlation': 0.12700230379844946, 'eval_cohen_kappa': 0.11910932698241938, 'eval_true_negative': 1276, 'eval_false_positive': 1985, 'eval_false_negative': 863, 'eval_true_positive': 2314, 'eval_specificity': 0.3912910150260656, 'eval_sensitivity': 0.7283600881334592, 'eval_informedness': 0.11965110315952487, 'eval_balanced_accuracy': 0.5598255515797624, 'eval_runtime': 58.1369, 'eval_samples_per_second': 110.739, 'eval_steps_per_second': 6.932, 'epoch': 2.36}\n"
     ]
    },
    {
     "name": "stderr",
     "output_type": "stream",
     "text": [
      "Model weights saved in ./model\\checkpoint-1900\\pytorch_model.bin\n",
      "tokenizer config file saved in ./model\\checkpoint-1900\\tokenizer_config.json\n",
      "Special tokens file saved in ./model\\checkpoint-1900\\special_tokens_map.json\n",
      " 83%|████████▎ | 2000/2415 [47:51<05:32,  1.25it/s]  ***** Running Evaluation *****\n",
      "  Num examples = 6438\n",
      "  Batch size = 16\n"
     ]
    },
    {
     "name": "stdout",
     "output_type": "stream",
     "text": [
      "{'loss': 0.6836, 'learning_rate': 3.555478651654784e-06, 'epoch': 2.48}\n"
     ]
    },
    {
     "name": "stderr",
     "output_type": "stream",
     "text": [
      "\n",
      " 83%|████████▎ | 2000/2415 [48:54<05:32,  1.25it/s]Saving model checkpoint to ./model\\checkpoint-2000\n",
      "Configuration saved in ./model\\checkpoint-2000\\config.json\n"
     ]
    },
    {
     "name": "stdout",
     "output_type": "stream",
     "text": [
      "(6438, 2) (6438,)\n",
      "(6438,) (6438,)\n",
      "{'eval_loss': 0.6789454221725464, 'eval_pred_true': 2726, 'eval_pred_false': 3712, 'eval_actual_true': 3177, 'eval_actual_false': 3261, 'eval_accuracy': 0.5733146940043492, 'eval_f1_score': 0.5346434016601729, 'eval_precision': 0.5788701393983859, 'eval_recall': 0.4966949952785647, 'eval_roc_auc': 0.572327871757651, 'eval_matthews_correlation': 0.1463702380533291, 'eval_cohen_kappa': 0.1449207083666344, 'eval_true_negative': 2113, 'eval_false_positive': 1148, 'eval_false_negative': 1599, 'eval_true_positive': 1578, 'eval_specificity': 0.6479607482367372, 'eval_sensitivity': 0.4966949952785647, 'eval_informedness': 0.14465574351530197, 'eval_balanced_accuracy': 0.572327871757651, 'eval_runtime': 62.1325, 'eval_samples_per_second': 103.617, 'eval_steps_per_second': 6.486, 'epoch': 2.48}\n"
     ]
    },
    {
     "name": "stderr",
     "output_type": "stream",
     "text": [
      "Model weights saved in ./model\\checkpoint-2000\\pytorch_model.bin\n",
      "tokenizer config file saved in ./model\\checkpoint-2000\\tokenizer_config.json\n",
      "Special tokens file saved in ./model\\checkpoint-2000\\special_tokens_map.json\n",
      " 87%|████████▋ | 2100/2415 [50:21<04:26,  1.18it/s]  ***** Running Evaluation *****\n",
      "  Num examples = 6438\n",
      "  Batch size = 16\n"
     ]
    },
    {
     "name": "stdout",
     "output_type": "stream",
     "text": [
      "{'loss': 0.6769, 'learning_rate': 2.0697174623636794e-06, 'epoch': 2.61}\n"
     ]
    },
    {
     "name": "stderr",
     "output_type": "stream",
     "text": [
      "\n",
      " 87%|████████▋ | 2100/2415 [51:23<04:26,  1.18it/s]Saving model checkpoint to ./model\\checkpoint-2100\n",
      "Configuration saved in ./model\\checkpoint-2100\\config.json\n"
     ]
    },
    {
     "name": "stdout",
     "output_type": "stream",
     "text": [
      "(6438, 2) (6438,)\n",
      "(6438,) (6438,)\n",
      "{'eval_loss': 0.6787211298942566, 'eval_pred_true': 2003, 'eval_pred_false': 4435, 'eval_actual_true': 3177, 'eval_actual_false': 3261, 'eval_accuracy': 0.5660142901522212, 'eval_f1_score': 0.4606177606177606, 'eval_precision': 0.5956065901148277, 'eval_recall': 0.37551148882593643, 'eval_roc_auc': 0.5635607122142561, 'eval_matthews_correlation': 0.13728259209538873, 'eval_cohen_kappa': 0.1277293354627328, 'eval_true_negative': 2451, 'eval_false_positive': 810, 'eval_false_negative': 1984, 'eval_true_positive': 1193, 'eval_specificity': 0.7516099356025759, 'eval_sensitivity': 0.37551148882593643, 'eval_informedness': 0.12712142442851238, 'eval_balanced_accuracy': 0.5635607122142562, 'eval_runtime': 61.7487, 'eval_samples_per_second': 104.261, 'eval_steps_per_second': 6.526, 'epoch': 2.61}\n"
     ]
    },
    {
     "name": "stderr",
     "output_type": "stream",
     "text": [
      "Model weights saved in ./model\\checkpoint-2100\\pytorch_model.bin\n",
      "tokenizer config file saved in ./model\\checkpoint-2100\\tokenizer_config.json\n",
      "Special tokens file saved in ./model\\checkpoint-2100\\special_tokens_map.json\n",
      " 91%|█████████ | 2200/2415 [52:49<03:00,  1.19it/s]  ***** Running Evaluation *****\n",
      "  Num examples = 6438\n",
      "  Batch size = 16\n"
     ]
    },
    {
     "name": "stdout",
     "output_type": "stream",
     "text": [
      "{'loss': 0.6806, 'learning_rate': 9.714479224915058e-07, 'epoch': 2.73}\n"
     ]
    },
    {
     "name": "stderr",
     "output_type": "stream",
     "text": [
      "\n",
      " 91%|█████████ | 2200/2415 [53:50<03:00,  1.19it/s]Saving model checkpoint to ./model\\checkpoint-2200\n",
      "Configuration saved in ./model\\checkpoint-2200\\config.json\n"
     ]
    },
    {
     "name": "stdout",
     "output_type": "stream",
     "text": [
      "(6438, 2) (6438,)\n",
      "(6438,) (6438,)\n",
      "{'eval_loss': 0.6782128214836121, 'eval_pred_true': 2287, 'eval_pred_false': 4151, 'eval_actual_true': 3177, 'eval_actual_false': 3261, 'eval_accuracy': 0.5700528114321218, 'eval_f1_score': 0.493411420204978, 'eval_precision': 0.5894184521206821, 'eval_recall': 0.42429965376141016, 'eval_roc_auc': 0.5681755858503463, 'eval_matthews_correlation': 0.14244048118701771, 'eval_cohen_kappa': 0.1368449135541201, 'eval_true_negative': 2322, 'eval_false_positive': 939, 'eval_false_negative': 1829, 'eval_true_positive': 1348, 'eval_specificity': 0.7120515179392825, 'eval_sensitivity': 0.42429965376141016, 'eval_informedness': 0.13635117170069266, 'eval_balanced_accuracy': 0.5681755858503463, 'eval_runtime': 61.0153, 'eval_samples_per_second': 105.515, 'eval_steps_per_second': 6.605, 'epoch': 2.73}\n"
     ]
    },
    {
     "name": "stderr",
     "output_type": "stream",
     "text": [
      "Model weights saved in ./model\\checkpoint-2200\\pytorch_model.bin\n",
      "tokenizer config file saved in ./model\\checkpoint-2200\\tokenizer_config.json\n",
      "Special tokens file saved in ./model\\checkpoint-2200\\special_tokens_map.json\n",
      " 95%|█████████▌| 2300/2415 [55:19<01:41,  1.13it/s]  ***** Running Evaluation *****\n",
      "  Num examples = 6438\n",
      "  Batch size = 16\n"
     ]
    },
    {
     "name": "stdout",
     "output_type": "stream",
     "text": [
      "{'loss': 0.6758, 'learning_rate': 2.7922934437178695e-07, 'epoch': 2.86}\n"
     ]
    },
    {
     "name": "stderr",
     "output_type": "stream",
     "text": [
      "\n",
      " 95%|█████████▌| 2300/2415 [56:24<01:41,  1.13it/s]Saving model checkpoint to ./model\\checkpoint-2300\n",
      "Configuration saved in ./model\\checkpoint-2300\\config.json\n"
     ]
    },
    {
     "name": "stdout",
     "output_type": "stream",
     "text": [
      "(6438, 2) (6438,)\n",
      "(6438,) (6438,)\n",
      "{'eval_loss': 0.6782270073890686, 'eval_pred_true': 2464, 'eval_pred_false': 3974, 'eval_actual_true': 3177, 'eval_actual_false': 3261, 'eval_accuracy': 0.5711401056228642, 'eval_f1_score': 0.5105477752171601, 'eval_precision': 0.5844155844155844, 'eval_recall': 0.45325779036827196, 'eval_roc_auc': 0.5696218421329247, 'eval_matthews_correlation': 0.14322711018800527, 'eval_cohen_kappa': 0.13964733286732334, 'eval_true_negative': 2237, 'eval_false_positive': 1024, 'eval_false_negative': 1737, 'eval_true_positive': 1440, 'eval_specificity': 0.6859858938975775, 'eval_sensitivity': 0.45325779036827196, 'eval_informedness': 0.13924368426584932, 'eval_balanced_accuracy': 0.5696218421329247, 'eval_runtime': 65.0074, 'eval_samples_per_second': 99.035, 'eval_steps_per_second': 6.199, 'epoch': 2.86}\n"
     ]
    },
    {
     "name": "stderr",
     "output_type": "stream",
     "text": [
      "Model weights saved in ./model\\checkpoint-2300\\pytorch_model.bin\n",
      "tokenizer config file saved in ./model\\checkpoint-2300\\tokenizer_config.json\n",
      "Special tokens file saved in ./model\\checkpoint-2300\\special_tokens_map.json\n",
      " 99%|█████████▉| 2400/2415 [57:57<00:13,  1.10it/s]***** Running Evaluation *****\n",
      "  Num examples = 6438\n",
      "  Batch size = 16\n"
     ]
    },
    {
     "name": "stdout",
     "output_type": "stream",
     "text": [
      "{'loss': 0.6741, 'learning_rate': 4.7593125481831815e-09, 'epoch': 2.98}\n"
     ]
    },
    {
     "name": "stderr",
     "output_type": "stream",
     "text": []
    },
    {
     "name": "stdout",
     "output_type": "stream",
     "text": [
      "(6438, 2) (6438,)\n",
      "(6438,) (6438,)\n"
     ]
    },
    {
     "name": "stderr",
     "output_type": "stream",
     "text": [
      "\n",
      " 99%|█████████▉| 2400/2415 [59:04<00:13,  1.10it/s]Saving model checkpoint to ./model\\checkpoint-2400\n",
      "Configuration saved in ./model\\checkpoint-2400\\config.json\n"
     ]
    },
    {
     "name": "stdout",
     "output_type": "stream",
     "text": [
      "{'eval_loss': 0.678305983543396, 'eval_pred_true': 2443, 'eval_pred_false': 3995, 'eval_actual_true': 3177, 'eval_actual_false': 3261, 'eval_accuracy': 0.5719167443305374, 'eval_f1_score': 0.509608540925267, 'eval_precision': 0.5861645517805977, 'eval_recall': 0.4507396915328927, 'eval_roc_auc': 0.5703560463184243, 'eval_matthews_correlation': 0.1449757296916431, 'eval_cohen_kappa': 0.14113204785306832, 'eval_true_negative': 2250, 'eval_false_positive': 1011, 'eval_false_negative': 1745, 'eval_true_positive': 1432, 'eval_specificity': 0.6899724011039559, 'eval_sensitivity': 0.4507396915328927, 'eval_informedness': 0.14071209263684858, 'eval_balanced_accuracy': 0.5703560463184243, 'eval_runtime': 67.3437, 'eval_samples_per_second': 95.599, 'eval_steps_per_second': 5.984, 'epoch': 2.98}\n"
     ]
    },
    {
     "name": "stderr",
     "output_type": "stream",
     "text": [
      "Model weights saved in ./model\\checkpoint-2400\\pytorch_model.bin\n",
      "tokenizer config file saved in ./model\\checkpoint-2400\\tokenizer_config.json\n",
      "Special tokens file saved in ./model\\checkpoint-2400\\special_tokens_map.json\n",
      "100%|██████████| 2415/2415 [59:20<00:00,  1.04it/s]\n",
      "\n",
      "Training completed. Do not forget to share your model on huggingface.co/models =)\n",
      "\n",
      "\n",
      "Loading best model from ./model\\checkpoint-800 (score: 0.6608424336973479).\n",
      "100%|██████████| 2415/2415 [59:21<00:00,  1.47s/it]\n",
      "***** Running Prediction *****\n",
      "  Num examples = 6438\n",
      "  Batch size = 16\n"
     ]
    },
    {
     "name": "stdout",
     "output_type": "stream",
     "text": [
      "{'train_runtime': 3561.4485, 'train_samples_per_second': 21.689, 'train_steps_per_second': 0.678, 'train_loss': 0.6908062664371594, 'epoch': 3.0}\n"
     ]
    },
    {
     "name": "stderr",
     "output_type": "stream",
     "text": [
      "100%|██████████| 403/403 [01:02<00:00,  6.43it/s]"
     ]
    },
    {
     "name": "stdout",
     "output_type": "stream",
     "text": [
      "(6438, 2) (6438,)\n",
      "(6438,) (6438,)\n"
     ]
    },
    {
     "name": "stderr",
     "output_type": "stream",
     "text": [
      "\n"
     ]
    },
    {
     "name": "stdout",
     "output_type": "stream",
     "text": [
      "=== Learning rate = 5e-05, Weight decay = 0.00025, Classifier dropout = 0.5 ===\n"
     ]
    },
    {
     "name": "stderr",
     "output_type": "stream",
     "text": [
      "loading configuration file https://huggingface.co/bert-base-uncased/resolve/main/config.json from cache at C:\\Users\\Wenhao/.cache\\huggingface\\transformers\\3c61d016573b14f7f008c02c4e51a366c67ab274726fe2910691e2a761acf43e.37395cee442ab11005bcd270f3c34464dc1704b715b5d7d52b1a461abe3b9e4e\n",
      "Model config BertConfig {\n",
      "  \"_name_or_path\": \"bert-base-uncased\",\n",
      "  \"architectures\": [\n",
      "    \"BertForMaskedLM\"\n",
      "  ],\n",
      "  \"attention_probs_dropout_prob\": 0.1,\n",
      "  \"classifier_dropout\": 0.5,\n",
      "  \"gradient_checkpointing\": false,\n",
      "  \"hidden_act\": \"gelu\",\n",
      "  \"hidden_dropout_prob\": 0.1,\n",
      "  \"hidden_size\": 768,\n",
      "  \"initializer_range\": 0.02,\n",
      "  \"intermediate_size\": 3072,\n",
      "  \"layer_norm_eps\": 1e-12,\n",
      "  \"max_position_embeddings\": 512,\n",
      "  \"model_type\": \"bert\",\n",
      "  \"num_attention_heads\": 12,\n",
      "  \"num_hidden_layers\": 12,\n",
      "  \"pad_token_id\": 0,\n",
      "  \"position_embedding_type\": \"absolute\",\n",
      "  \"transformers_version\": \"4.21.1\",\n",
      "  \"type_vocab_size\": 2,\n",
      "  \"use_cache\": true,\n",
      "  \"vocab_size\": 30522\n",
      "}\n",
      "\n",
      "loading weights file https://huggingface.co/bert-base-uncased/resolve/main/pytorch_model.bin from cache at C:\\Users\\Wenhao/.cache\\huggingface\\transformers\\a8041bf617d7f94ea26d15e218abd04afc2004805632abc0ed2066aa16d50d04.faf6ea826ae9c5867d12b22257f9877e6b8367890837bd60f7c54a29633f7f2f\n",
      "Some weights of the model checkpoint at bert-base-uncased were not used when initializing BertForSequenceClassification: ['cls.predictions.transform.LayerNorm.weight', 'cls.seq_relationship.weight', 'cls.predictions.decoder.weight', 'cls.predictions.transform.LayerNorm.bias', 'cls.predictions.bias', 'cls.predictions.transform.dense.bias', 'cls.predictions.transform.dense.weight', 'cls.seq_relationship.bias']\n",
      "- This IS expected if you are initializing BertForSequenceClassification from the checkpoint of a model trained on another task or with another architecture (e.g. initializing a BertForSequenceClassification model from a BertForPreTraining model).\n",
      "- This IS NOT expected if you are initializing BertForSequenceClassification from the checkpoint of a model that you expect to be exactly identical (initializing a BertForSequenceClassification model from a BertForSequenceClassification model).\n",
      "Some weights of BertForSequenceClassification were not initialized from the model checkpoint at bert-base-uncased and are newly initialized: ['classifier.bias', 'classifier.weight']\n",
      "You should probably TRAIN this model on a down-stream task to be able to use it for predictions and inference.\n",
      "PyTorch: setting up devices\n",
      "c:\\Users\\Wenhao\\miniconda3\\envs\\deep_wa_bert\\lib\\site-packages\\transformers\\optimization.py:306: FutureWarning: This implementation of AdamW is deprecated and will be removed in a future version. Use the PyTorch implementation torch.optim.AdamW instead, or set `no_deprecation_warning=True` to disable this warning\n",
      "  warnings.warn(\n",
      "***** Running training *****\n",
      "  Num examples = 25748\n",
      "  Num Epochs = 3\n",
      "  Instantaneous batch size per device = 16\n",
      "  Total train batch size (w. parallel, distributed & accumulation) = 32\n",
      "  Gradient Accumulation steps = 2\n",
      "  Total optimization steps = 2415\n",
      "  4%|▍         | 100/2415 [01:24<32:49,  1.18it/s]***** Running Evaluation *****\n",
      "  Num examples = 6438\n",
      "  Batch size = 16\n"
     ]
    },
    {
     "name": "stdout",
     "output_type": "stream",
     "text": [
      "{'loss': 0.7081, 'learning_rate': 4.97887664223157e-05, 'epoch': 0.12}\n"
     ]
    },
    {
     "name": "stderr",
     "output_type": "stream",
     "text": [
      "\n",
      "  4%|▍         | 100/2415 [02:27<32:49,  1.18it/s]Saving model checkpoint to ./model\\checkpoint-100\n",
      "Configuration saved in ./model\\checkpoint-100\\config.json\n"
     ]
    },
    {
     "name": "stdout",
     "output_type": "stream",
     "text": [
      "(6438, 2) (6438,)\n",
      "(6438,) (6438,)\n",
      "{'eval_loss': 0.6923938989639282, 'eval_pred_true': 4, 'eval_pred_false': 6434, 'eval_actual_true': 3177, 'eval_actual_false': 3261, 'eval_accuracy': 0.5065237651444549, 'eval_f1_score': 0.0012574662055957247, 'eval_precision': 0.5, 'eval_recall': 0.0006295247088448222, 'eval_roc_auc': 0.5000081079539318, 'eval_matthews_correlation': 0.00032535295156831606, 'eval_cohen_kappa': 1.6427215554837282e-05, 'eval_true_negative': 3259, 'eval_false_positive': 2, 'eval_false_negative': 3175, 'eval_true_positive': 2, 'eval_specificity': 0.9993866911990187, 'eval_sensitivity': 0.0006295247088448222, 'eval_informedness': 1.6215907863603718e-05, 'eval_balanced_accuracy': 0.5000081079539318, 'eval_runtime': 63.4085, 'eval_samples_per_second': 101.532, 'eval_steps_per_second': 6.356, 'epoch': 0.12}\n"
     ]
    },
    {
     "name": "stderr",
     "output_type": "stream",
     "text": [
      "Model weights saved in ./model\\checkpoint-100\\pytorch_model.bin\n",
      "tokenizer config file saved in ./model\\checkpoint-100\\tokenizer_config.json\n",
      "Special tokens file saved in ./model\\checkpoint-100\\special_tokens_map.json\n",
      "  8%|▊         | 200/2415 [03:54<31:20,  1.18it/s]   ***** Running Evaluation *****\n",
      "  Num examples = 6438\n",
      "  Batch size = 16\n"
     ]
    },
    {
     "name": "stdout",
     "output_type": "stream",
     "text": [
      "{'loss': 0.7023, 'learning_rate': 4.91586352592101e-05, 'epoch': 0.25}\n"
     ]
    },
    {
     "name": "stderr",
     "output_type": "stream",
     "text": [
      "c:\\Users\\Wenhao\\miniconda3\\envs\\deep_wa_bert\\lib\\site-packages\\sklearn\\metrics\\_classification.py:1334: UndefinedMetricWarning: Precision is ill-defined and being set to 0.0 due to no predicted samples. Use `zero_division` parameter to control this behavior.\n",
      "  _warn_prf(average, modifier, msg_start, len(result))\n",
      "\n",
      "  8%|▊         | 200/2415 [04:57<31:20,  1.18it/s]Saving model checkpoint to ./model\\checkpoint-200\n",
      "Configuration saved in ./model\\checkpoint-200\\config.json\n"
     ]
    },
    {
     "name": "stdout",
     "output_type": "stream",
     "text": [
      "(6438, 2) (6438,)\n",
      "(6438,) (6438,)\n",
      "{'eval_loss': 0.6946317553520203, 'eval_pred_true': 0, 'eval_pred_false': 6438, 'eval_actual_true': 3177, 'eval_actual_false': 3261, 'eval_accuracy': 0.5065237651444549, 'eval_f1_score': 0.0, 'eval_precision': 0.0, 'eval_recall': 0.0, 'eval_roc_auc': 0.5, 'eval_matthews_correlation': 0.0, 'eval_cohen_kappa': 0.0, 'eval_true_negative': 3261, 'eval_false_positive': 0, 'eval_false_negative': 3177, 'eval_true_positive': 0, 'eval_specificity': 1.0, 'eval_sensitivity': 0.0, 'eval_informedness': 0.0, 'eval_balanced_accuracy': 0.5, 'eval_runtime': 63.7504, 'eval_samples_per_second': 100.988, 'eval_steps_per_second': 6.322, 'epoch': 0.25}\n"
     ]
    },
    {
     "name": "stderr",
     "output_type": "stream",
     "text": [
      "Model weights saved in ./model\\checkpoint-200\\pytorch_model.bin\n",
      "tokenizer config file saved in ./model\\checkpoint-200\\tokenizer_config.json\n",
      "Special tokens file saved in ./model\\checkpoint-200\\special_tokens_map.json\n",
      " 12%|█▏        | 300/2415 [06:24<30:14,  1.17it/s]   ***** Running Evaluation *****\n",
      "  Num examples = 6438\n",
      "  Batch size = 16\n"
     ]
    },
    {
     "name": "stdout",
     "output_type": "stream",
     "text": [
      "{'loss': 0.6967, 'learning_rate': 4.8120254899482665e-05, 'epoch': 0.37}\n"
     ]
    },
    {
     "name": "stderr",
     "output_type": "stream",
     "text": [
      "\n"
     ]
    },
    {
     "name": "stdout",
     "output_type": "stream",
     "text": [
      "(6438, 2) (6438,)\n",
      "(6438,) (6438,)\n"
     ]
    },
    {
     "name": "stderr",
     "output_type": "stream",
     "text": [
      " 12%|█▏        | 300/2415 [07:29<30:14,  1.17it/s]Saving model checkpoint to ./model\\checkpoint-300\n",
      "Configuration saved in ./model\\checkpoint-300\\config.json\n"
     ]
    },
    {
     "name": "stdout",
     "output_type": "stream",
     "text": [
      "{'eval_loss': 0.689681887626648, 'eval_pred_true': 2155, 'eval_pred_false': 4283, 'eval_actual_true': 3177, 'eval_actual_false': 3261, 'eval_accuracy': 0.5548306927617273, 'eval_f1_score': 0.462490622655664, 'eval_precision': 0.5721577726218098, 'eval_recall': 0.3881019830028329, 'eval_roc_auc': 0.5526833128752282, 'eval_matthews_correlation': 0.11163217972623196, 'eval_cohen_kappa': 0.10580499323803882, 'eval_true_negative': 2339, 'eval_false_positive': 922, 'eval_false_negative': 1944, 'eval_true_positive': 1233, 'eval_specificity': 0.7172646427476235, 'eval_sensitivity': 0.3881019830028329, 'eval_informedness': 0.10536662575045641, 'eval_balanced_accuracy': 0.5526833128752282, 'eval_runtime': 64.4246, 'eval_samples_per_second': 99.931, 'eval_steps_per_second': 6.255, 'epoch': 0.37}\n"
     ]
    },
    {
     "name": "stderr",
     "output_type": "stream",
     "text": [
      "Model weights saved in ./model\\checkpoint-300\\pytorch_model.bin\n",
      "tokenizer config file saved in ./model\\checkpoint-300\\tokenizer_config.json\n",
      "Special tokens file saved in ./model\\checkpoint-300\\special_tokens_map.json\n",
      " 17%|█▋        | 400/2415 [08:52<26:22,  1.27it/s]   ***** Running Evaluation *****\n",
      "  Num examples = 6438\n",
      "  Batch size = 16\n"
     ]
    },
    {
     "name": "stdout",
     "output_type": "stream",
     "text": [
      "{'loss': 0.6993, 'learning_rate': 4.669117260700397e-05, 'epoch': 0.5}\n"
     ]
    },
    {
     "name": "stderr",
     "output_type": "stream",
     "text": [
      "\n",
      " 17%|█▋        | 400/2415 [09:52<26:22,  1.27it/s]Saving model checkpoint to ./model\\checkpoint-400\n",
      "Configuration saved in ./model\\checkpoint-400\\config.json\n"
     ]
    },
    {
     "name": "stdout",
     "output_type": "stream",
     "text": [
      "(6438, 2) (6438,)\n",
      "(6438,) (6438,)\n",
      "{'eval_loss': 0.6872278451919556, 'eval_pred_true': 1501, 'eval_pred_false': 4937, 'eval_actual_true': 3177, 'eval_actual_false': 3261, 'eval_accuracy': 0.5532774153463809, 'eval_f1_score': 0.38520735356990166, 'eval_precision': 0.6002664890073285, 'eval_recall': 0.2836008813345924, 'eval_roc_auc': 0.549804120520102, 'eval_matthews_correlation': 0.11777615396891174, 'eval_cohen_kappa': 0.10028965563487358, 'eval_true_negative': 2661, 'eval_false_positive': 600, 'eval_false_negative': 2276, 'eval_true_positive': 901, 'eval_specificity': 0.8160073597056118, 'eval_sensitivity': 0.2836008813345924, 'eval_informedness': 0.09960824104020416, 'eval_balanced_accuracy': 0.5498041205201021, 'eval_runtime': 60.0266, 'eval_samples_per_second': 107.252, 'eval_steps_per_second': 6.714, 'epoch': 0.5}\n"
     ]
    },
    {
     "name": "stderr",
     "output_type": "stream",
     "text": [
      "Model weights saved in ./model\\checkpoint-400\\pytorch_model.bin\n",
      "tokenizer config file saved in ./model\\checkpoint-400\\tokenizer_config.json\n",
      "Special tokens file saved in ./model\\checkpoint-400\\special_tokens_map.json\n",
      " 21%|██        | 500/2415 [11:14<24:28,  1.30it/s]   ***** Running Evaluation *****\n",
      "  Num examples = 6438\n",
      "  Batch size = 16\n"
     ]
    },
    {
     "name": "stdout",
     "output_type": "stream",
     "text": [
      "{'loss': 0.6918, 'learning_rate': 4.489553799500966e-05, 'epoch': 0.62}\n"
     ]
    },
    {
     "name": "stderr",
     "output_type": "stream",
     "text": [
      "\n",
      " 21%|██        | 500/2415 [12:14<24:28,  1.30it/s]Saving model checkpoint to ./model\\checkpoint-500\n",
      "Configuration saved in ./model\\checkpoint-500\\config.json\n"
     ]
    },
    {
     "name": "stdout",
     "output_type": "stream",
     "text": [
      "(6438, 2) (6438,)\n",
      "(6438,) (6438,)\n",
      "{'eval_loss': 0.6871019601821899, 'eval_pred_true': 2115, 'eval_pred_false': 4323, 'eval_actual_true': 3177, 'eval_actual_false': 3261, 'eval_accuracy': 0.5622864243553899, 'eval_f1_score': 0.46749811035525324, 'eval_precision': 0.584869976359338, 'eval_recall': 0.3893610324205225, 'eval_roc_auc': 0.5600592343948673, 'eval_matthews_correlation': 0.12786332405958498, 'eval_cohen_kappa': 0.1206378537811641, 'eval_true_negative': 2383, 'eval_false_positive': 878, 'eval_false_negative': 1940, 'eval_true_positive': 1237, 'eval_specificity': 0.7307574363692119, 'eval_sensitivity': 0.3893610324205225, 'eval_informedness': 0.12011846878973431, 'eval_balanced_accuracy': 0.5600592343948672, 'eval_runtime': 59.5466, 'eval_samples_per_second': 108.117, 'eval_steps_per_second': 6.768, 'epoch': 0.62}\n"
     ]
    },
    {
     "name": "stderr",
     "output_type": "stream",
     "text": [
      "Model weights saved in ./model\\checkpoint-500\\pytorch_model.bin\n",
      "tokenizer config file saved in ./model\\checkpoint-500\\tokenizer_config.json\n",
      "Special tokens file saved in ./model\\checkpoint-500\\special_tokens_map.json\n",
      " 25%|██▍       | 600/2415 [13:35<24:17,  1.25it/s]   ***** Running Evaluation *****\n",
      "  Num examples = 6438\n",
      "  Batch size = 16\n"
     ]
    },
    {
     "name": "stdout",
     "output_type": "stream",
     "text": [
      "{'loss': 0.692, 'learning_rate': 4.2763694929364166e-05, 'epoch': 0.75}\n"
     ]
    },
    {
     "name": "stderr",
     "output_type": "stream",
     "text": [
      "\n",
      " 25%|██▍       | 600/2415 [14:35<24:17,  1.25it/s]Saving model checkpoint to ./model\\checkpoint-600\n",
      "Configuration saved in ./model\\checkpoint-600\\config.json\n"
     ]
    },
    {
     "name": "stdout",
     "output_type": "stream",
     "text": [
      "(6438, 2) (6438,)\n",
      "(6438,) (6438,)\n",
      "{'eval_loss': 0.680142879486084, 'eval_pred_true': 3023, 'eval_pred_false': 3415, 'eval_actual_true': 3177, 'eval_actual_false': 3261, 'eval_accuracy': 0.5688101894998446, 'eval_f1_score': 0.552258064516129, 'eval_precision': 0.5663248428713199, 'eval_recall': 0.5388731507711678, 'eval_roc_auc': 0.5684246158639648, 'eval_matthews_correlation': 0.13709194651200446, 'eval_cohen_kappa': 0.13693472177995003, 'eval_true_negative': 1950, 'eval_false_positive': 1311, 'eval_false_negative': 1465, 'eval_true_positive': 1712, 'eval_specificity': 0.5979760809567617, 'eval_sensitivity': 0.5388731507711678, 'eval_informedness': 0.1368492317279295, 'eval_balanced_accuracy': 0.5684246158639648, 'eval_runtime': 60.0431, 'eval_samples_per_second': 107.223, 'eval_steps_per_second': 6.712, 'epoch': 0.75}\n"
     ]
    },
    {
     "name": "stderr",
     "output_type": "stream",
     "text": [
      "Model weights saved in ./model\\checkpoint-600\\pytorch_model.bin\n",
      "tokenizer config file saved in ./model\\checkpoint-600\\tokenizer_config.json\n",
      "Special tokens file saved in ./model\\checkpoint-600\\special_tokens_map.json\n",
      " 29%|██▉       | 700/2415 [15:58<23:24,  1.22it/s]  ***** Running Evaluation *****\n",
      "  Num examples = 6438\n",
      "  Batch size = 16\n"
     ]
    },
    {
     "name": "stdout",
     "output_type": "stream",
     "text": [
      "{'loss': 0.6867, 'learning_rate': 4.033166875709291e-05, 'epoch': 0.87}\n"
     ]
    },
    {
     "name": "stderr",
     "output_type": "stream",
     "text": [
      "\n",
      " 29%|██▉       | 700/2415 [16:59<23:24,  1.22it/s]Saving model checkpoint to ./model\\checkpoint-700\n",
      "Configuration saved in ./model\\checkpoint-700\\config.json\n"
     ]
    },
    {
     "name": "stdout",
     "output_type": "stream",
     "text": [
      "(6438, 2) (6438,)\n",
      "(6438,) (6438,)\n",
      "{'eval_loss': 0.6935725212097168, 'eval_pred_true': 5761, 'eval_pred_false': 677, 'eval_actual_true': 3177, 'eval_actual_false': 3261, 'eval_accuracy': 0.5324634979807393, 'eval_f1_score': 0.66323562318192, 'eval_precision': 0.5144940114563444, 'eval_recall': 0.9329556185080264, 'eval_roc_auc': 0.5376216301678433, 'eval_matthews_correlation': 0.12263327891321343, 'eval_cohen_kappa': 0.07446322259874061, 'eval_true_negative': 464, 'eval_false_positive': 2797, 'eval_false_negative': 213, 'eval_true_positive': 2964, 'eval_specificity': 0.14228764182766024, 'eval_sensitivity': 0.9329556185080264, 'eval_informedness': 0.07524326033568673, 'eval_balanced_accuracy': 0.5376216301678434, 'eval_runtime': 61.031, 'eval_samples_per_second': 105.487, 'eval_steps_per_second': 6.603, 'epoch': 0.87}\n"
     ]
    },
    {
     "name": "stderr",
     "output_type": "stream",
     "text": [
      "Model weights saved in ./model\\checkpoint-700\\pytorch_model.bin\n",
      "tokenizer config file saved in ./model\\checkpoint-700\\tokenizer_config.json\n",
      "Special tokens file saved in ./model\\checkpoint-700\\special_tokens_map.json\n",
      " 33%|███▎      | 800/2415 [18:22<22:02,  1.22it/s]  ***** Running Evaluation *****\n",
      "  Num examples = 6438\n",
      "  Batch size = 16\n"
     ]
    },
    {
     "name": "stdout",
     "output_type": "stream",
     "text": [
      "{'loss': 0.689, 'learning_rate': 3.764055752534714e-05, 'epoch': 0.99}\n"
     ]
    },
    {
     "name": "stderr",
     "output_type": "stream",
     "text": [
      "\n",
      " 33%|███▎      | 800/2415 [19:24<22:02,  1.22it/s]Saving model checkpoint to ./model\\checkpoint-800\n",
      "Configuration saved in ./model\\checkpoint-800\\config.json\n"
     ]
    },
    {
     "name": "stdout",
     "output_type": "stream",
     "text": [
      "(6438, 2) (6438,)\n",
      "(6438,) (6438,)\n",
      "{'eval_loss': 0.6843065023422241, 'eval_pred_true': 4384, 'eval_pred_false': 2054, 'eval_actual_true': 3177, 'eval_actual_false': 3261, 'eval_accuracy': 0.5695868282075178, 'eval_f1_score': 0.633514085438434, 'eval_precision': 0.5463047445255474, 'eval_recall': 0.7538558388416745, 'eval_roc_auc': 0.5719601181328888, 'eval_matthews_correlation': 0.1543726565090383, 'eval_cohen_kappa': 0.14321944202470271, 'eval_true_negative': 1272, 'eval_false_positive': 1989, 'eval_false_negative': 782, 'eval_true_positive': 2395, 'eval_specificity': 0.39006439742410304, 'eval_sensitivity': 0.7538558388416745, 'eval_informedness': 0.14392023626577766, 'eval_balanced_accuracy': 0.5719601181328888, 'eval_runtime': 62.0285, 'eval_samples_per_second': 103.791, 'eval_steps_per_second': 6.497, 'epoch': 0.99}\n"
     ]
    },
    {
     "name": "stderr",
     "output_type": "stream",
     "text": [
      "Model weights saved in ./model\\checkpoint-800\\pytorch_model.bin\n",
      "tokenizer config file saved in ./model\\checkpoint-800\\tokenizer_config.json\n",
      "Special tokens file saved in ./model\\checkpoint-800\\special_tokens_map.json\n",
      " 35%|███▍      | 841/2415 [19:59<22:22,  1.17it/s]  "
     ]
    },
    {
     "ename": "KeyboardInterrupt",
     "evalue": "",
     "output_type": "error",
     "traceback": [
      "\u001b[1;31m---------------------------------------------------------------------------\u001b[0m",
      "\u001b[1;31mKeyboardInterrupt\u001b[0m                         Traceback (most recent call last)",
      "Cell \u001b[1;32mIn[28], line 56\u001b[0m\n\u001b[0;32m     46\u001b[0m \u001b[38;5;66;03m# set up the trainer \u001b[39;00m\n\u001b[0;32m     47\u001b[0m trainer \u001b[38;5;241m=\u001b[39m Trainer(\n\u001b[0;32m     48\u001b[0m     model\u001b[38;5;241m=\u001b[39mmodel,\n\u001b[0;32m     49\u001b[0m     args\u001b[38;5;241m=\u001b[39mtraining_args,\n\u001b[1;32m   (...)\u001b[0m\n\u001b[0;32m     53\u001b[0m     compute_metrics\u001b[38;5;241m=\u001b[39mcompute_metrics,\n\u001b[0;32m     54\u001b[0m )\n\u001b[1;32m---> 56\u001b[0m \u001b[43mtrainer\u001b[49m\u001b[38;5;241;43m.\u001b[39;49m\u001b[43mtrain\u001b[49m\u001b[43m(\u001b[49m\u001b[43m)\u001b[49m\n\u001b[0;32m     58\u001b[0m val_predictions \u001b[38;5;241m=\u001b[39m trainer\u001b[38;5;241m.\u001b[39mpredict(tokenized_dataset[\u001b[38;5;124m\"\u001b[39m\u001b[38;5;124mval\u001b[39m\u001b[38;5;124m\"\u001b[39m])\n\u001b[0;32m     59\u001b[0m val_eval[combination] \u001b[38;5;241m=\u001b[39m val_predictions\u001b[38;5;241m.\u001b[39mmetrics\n",
      "File \u001b[1;32mc:\\Users\\Wenhao\\miniconda3\\envs\\deep_wa_bert\\lib\\site-packages\\transformers\\trainer.py:1498\u001b[0m, in \u001b[0;36mTrainer.train\u001b[1;34m(self, resume_from_checkpoint, trial, ignore_keys_for_eval, **kwargs)\u001b[0m\n\u001b[0;32m   1493\u001b[0m     \u001b[38;5;28mself\u001b[39m\u001b[38;5;241m.\u001b[39mmodel_wrapped \u001b[38;5;241m=\u001b[39m \u001b[38;5;28mself\u001b[39m\u001b[38;5;241m.\u001b[39mmodel\n\u001b[0;32m   1495\u001b[0m inner_training_loop \u001b[38;5;241m=\u001b[39m find_executable_batch_size(\n\u001b[0;32m   1496\u001b[0m     \u001b[38;5;28mself\u001b[39m\u001b[38;5;241m.\u001b[39m_inner_training_loop, \u001b[38;5;28mself\u001b[39m\u001b[38;5;241m.\u001b[39m_train_batch_size, args\u001b[38;5;241m.\u001b[39mauto_find_batch_size\n\u001b[0;32m   1497\u001b[0m )\n\u001b[1;32m-> 1498\u001b[0m \u001b[38;5;28;01mreturn\u001b[39;00m \u001b[43minner_training_loop\u001b[49m\u001b[43m(\u001b[49m\n\u001b[0;32m   1499\u001b[0m \u001b[43m    \u001b[49m\u001b[43margs\u001b[49m\u001b[38;5;241;43m=\u001b[39;49m\u001b[43margs\u001b[49m\u001b[43m,\u001b[49m\n\u001b[0;32m   1500\u001b[0m \u001b[43m    \u001b[49m\u001b[43mresume_from_checkpoint\u001b[49m\u001b[38;5;241;43m=\u001b[39;49m\u001b[43mresume_from_checkpoint\u001b[49m\u001b[43m,\u001b[49m\n\u001b[0;32m   1501\u001b[0m \u001b[43m    \u001b[49m\u001b[43mtrial\u001b[49m\u001b[38;5;241;43m=\u001b[39;49m\u001b[43mtrial\u001b[49m\u001b[43m,\u001b[49m\n\u001b[0;32m   1502\u001b[0m \u001b[43m    \u001b[49m\u001b[43mignore_keys_for_eval\u001b[49m\u001b[38;5;241;43m=\u001b[39;49m\u001b[43mignore_keys_for_eval\u001b[49m\u001b[43m,\u001b[49m\n\u001b[0;32m   1503\u001b[0m \u001b[43m\u001b[49m\u001b[43m)\u001b[49m\n",
      "File \u001b[1;32mc:\\Users\\Wenhao\\miniconda3\\envs\\deep_wa_bert\\lib\\site-packages\\transformers\\trainer.py:1740\u001b[0m, in \u001b[0;36mTrainer._inner_training_loop\u001b[1;34m(self, batch_size, args, resume_from_checkpoint, trial, ignore_keys_for_eval)\u001b[0m\n\u001b[0;32m   1738\u001b[0m         tr_loss_step \u001b[38;5;241m=\u001b[39m \u001b[38;5;28mself\u001b[39m\u001b[38;5;241m.\u001b[39mtraining_step(model, inputs)\n\u001b[0;32m   1739\u001b[0m \u001b[38;5;28;01melse\u001b[39;00m:\n\u001b[1;32m-> 1740\u001b[0m     tr_loss_step \u001b[38;5;241m=\u001b[39m \u001b[38;5;28;43mself\u001b[39;49m\u001b[38;5;241;43m.\u001b[39;49m\u001b[43mtraining_step\u001b[49m\u001b[43m(\u001b[49m\u001b[43mmodel\u001b[49m\u001b[43m,\u001b[49m\u001b[43m \u001b[49m\u001b[43minputs\u001b[49m\u001b[43m)\u001b[49m\n\u001b[0;32m   1742\u001b[0m \u001b[38;5;28;01mif\u001b[39;00m (\n\u001b[0;32m   1743\u001b[0m     args\u001b[38;5;241m.\u001b[39mlogging_nan_inf_filter\n\u001b[0;32m   1744\u001b[0m     \u001b[38;5;129;01mand\u001b[39;00m \u001b[38;5;129;01mnot\u001b[39;00m is_torch_tpu_available()\n\u001b[0;32m   1745\u001b[0m     \u001b[38;5;129;01mand\u001b[39;00m (torch\u001b[38;5;241m.\u001b[39misnan(tr_loss_step) \u001b[38;5;129;01mor\u001b[39;00m torch\u001b[38;5;241m.\u001b[39misinf(tr_loss_step))\n\u001b[0;32m   1746\u001b[0m ):\n\u001b[0;32m   1747\u001b[0m     \u001b[38;5;66;03m# if loss is nan or inf simply add the average of previous logged losses\u001b[39;00m\n\u001b[0;32m   1748\u001b[0m     tr_loss \u001b[38;5;241m+\u001b[39m\u001b[38;5;241m=\u001b[39m tr_loss \u001b[38;5;241m/\u001b[39m (\u001b[38;5;241m1\u001b[39m \u001b[38;5;241m+\u001b[39m \u001b[38;5;28mself\u001b[39m\u001b[38;5;241m.\u001b[39mstate\u001b[38;5;241m.\u001b[39mglobal_step \u001b[38;5;241m-\u001b[39m \u001b[38;5;28mself\u001b[39m\u001b[38;5;241m.\u001b[39m_globalstep_last_logged)\n",
      "File \u001b[1;32mc:\\Users\\Wenhao\\miniconda3\\envs\\deep_wa_bert\\lib\\site-packages\\transformers\\trainer.py:2488\u001b[0m, in \u001b[0;36mTrainer.training_step\u001b[1;34m(self, model, inputs)\u001b[0m\n\u001b[0;32m   2486\u001b[0m     loss \u001b[38;5;241m=\u001b[39m \u001b[38;5;28mself\u001b[39m\u001b[38;5;241m.\u001b[39mdeepspeed\u001b[38;5;241m.\u001b[39mbackward(loss)\n\u001b[0;32m   2487\u001b[0m \u001b[38;5;28;01melse\u001b[39;00m:\n\u001b[1;32m-> 2488\u001b[0m     \u001b[43mloss\u001b[49m\u001b[38;5;241;43m.\u001b[39;49m\u001b[43mbackward\u001b[49m\u001b[43m(\u001b[49m\u001b[43m)\u001b[49m\n\u001b[0;32m   2490\u001b[0m \u001b[38;5;28;01mreturn\u001b[39;00m loss\u001b[38;5;241m.\u001b[39mdetach()\n",
      "File \u001b[1;32mc:\\Users\\Wenhao\\miniconda3\\envs\\deep_wa_bert\\lib\\site-packages\\torch\\_tensor.py:396\u001b[0m, in \u001b[0;36mTensor.backward\u001b[1;34m(self, gradient, retain_graph, create_graph, inputs)\u001b[0m\n\u001b[0;32m    387\u001b[0m \u001b[38;5;28;01mif\u001b[39;00m has_torch_function_unary(\u001b[38;5;28mself\u001b[39m):\n\u001b[0;32m    388\u001b[0m     \u001b[38;5;28;01mreturn\u001b[39;00m handle_torch_function(\n\u001b[0;32m    389\u001b[0m         Tensor\u001b[38;5;241m.\u001b[39mbackward,\n\u001b[0;32m    390\u001b[0m         (\u001b[38;5;28mself\u001b[39m,),\n\u001b[1;32m   (...)\u001b[0m\n\u001b[0;32m    394\u001b[0m         create_graph\u001b[38;5;241m=\u001b[39mcreate_graph,\n\u001b[0;32m    395\u001b[0m         inputs\u001b[38;5;241m=\u001b[39minputs)\n\u001b[1;32m--> 396\u001b[0m \u001b[43mtorch\u001b[49m\u001b[38;5;241;43m.\u001b[39;49m\u001b[43mautograd\u001b[49m\u001b[38;5;241;43m.\u001b[39;49m\u001b[43mbackward\u001b[49m\u001b[43m(\u001b[49m\u001b[38;5;28;43mself\u001b[39;49m\u001b[43m,\u001b[49m\u001b[43m \u001b[49m\u001b[43mgradient\u001b[49m\u001b[43m,\u001b[49m\u001b[43m \u001b[49m\u001b[43mretain_graph\u001b[49m\u001b[43m,\u001b[49m\u001b[43m \u001b[49m\u001b[43mcreate_graph\u001b[49m\u001b[43m,\u001b[49m\u001b[43m \u001b[49m\u001b[43minputs\u001b[49m\u001b[38;5;241;43m=\u001b[39;49m\u001b[43minputs\u001b[49m\u001b[43m)\u001b[49m\n",
      "File \u001b[1;32mc:\\Users\\Wenhao\\miniconda3\\envs\\deep_wa_bert\\lib\\site-packages\\torch\\autograd\\__init__.py:173\u001b[0m, in \u001b[0;36mbackward\u001b[1;34m(tensors, grad_tensors, retain_graph, create_graph, grad_variables, inputs)\u001b[0m\n\u001b[0;32m    168\u001b[0m     retain_graph \u001b[38;5;241m=\u001b[39m create_graph\n\u001b[0;32m    170\u001b[0m \u001b[38;5;66;03m# The reason we repeat same the comment below is that\u001b[39;00m\n\u001b[0;32m    171\u001b[0m \u001b[38;5;66;03m# some Python versions print out the first line of a multi-line function\u001b[39;00m\n\u001b[0;32m    172\u001b[0m \u001b[38;5;66;03m# calls in the traceback and some print out the last line\u001b[39;00m\n\u001b[1;32m--> 173\u001b[0m \u001b[43mVariable\u001b[49m\u001b[38;5;241;43m.\u001b[39;49m\u001b[43m_execution_engine\u001b[49m\u001b[38;5;241;43m.\u001b[39;49m\u001b[43mrun_backward\u001b[49m\u001b[43m(\u001b[49m\u001b[43m  \u001b[49m\u001b[38;5;66;43;03m# Calls into the C++ engine to run the backward pass\u001b[39;49;00m\n\u001b[0;32m    174\u001b[0m \u001b[43m    \u001b[49m\u001b[43mtensors\u001b[49m\u001b[43m,\u001b[49m\u001b[43m \u001b[49m\u001b[43mgrad_tensors_\u001b[49m\u001b[43m,\u001b[49m\u001b[43m \u001b[49m\u001b[43mretain_graph\u001b[49m\u001b[43m,\u001b[49m\u001b[43m \u001b[49m\u001b[43mcreate_graph\u001b[49m\u001b[43m,\u001b[49m\u001b[43m \u001b[49m\u001b[43minputs\u001b[49m\u001b[43m,\u001b[49m\n\u001b[0;32m    175\u001b[0m \u001b[43m    \u001b[49m\u001b[43mallow_unreachable\u001b[49m\u001b[38;5;241;43m=\u001b[39;49m\u001b[38;5;28;43;01mTrue\u001b[39;49;00m\u001b[43m,\u001b[49m\u001b[43m \u001b[49m\u001b[43maccumulate_grad\u001b[49m\u001b[38;5;241;43m=\u001b[39;49m\u001b[38;5;28;43;01mTrue\u001b[39;49;00m\u001b[43m)\u001b[49m\n",
      "\u001b[1;31mKeyboardInterrupt\u001b[0m: "
     ]
    }
   ],
   "source": [
    "val_eval = {}\n",
    "\n",
    "for combination in ALL_COMBINATIONS:\n",
    "    try:\n",
    "        shutil.rmtree(\"./model\") # remove possible cache\n",
    "        # shutil.rmtree(best_model_dir)\n",
    "        # os.remove(best_model_dir_zip)\n",
    "        os.mkdir(\"./model\")\n",
    "    except:\n",
    "        None\n",
    "\n",
    "    LR = combination[0]\n",
    "    WEIGHT_DECAY = combination[1]\n",
    "    CLASSIFIER_DROPOUT = combination[2]\n",
    "\n",
    "    print(f\"=== Learning rate = {LR}, Weight decay = {WEIGHT_DECAY}, Classifier dropout = {CLASSIFIER_DROPOUT} ===\")\n",
    "\n",
    "    model = AutoModelForSequenceClassification.from_pretrained(\n",
    "        MODEL_NAME,\n",
    "        classifier_dropout=CLASSIFIER_DROPOUT,\n",
    "        num_labels=NUM_CLASSES,\n",
    "    )\n",
    "\n",
    "    # set up the training arguments\n",
    "    training_args = TrainingArguments(\n",
    "        output_dir=\"./model\",\n",
    "        per_device_train_batch_size=BATCH_SIZE,\n",
    "        per_device_eval_batch_size=BATCH_SIZE,\n",
    "        gradient_accumulation_steps=GRAD_ACC_STEPS,\n",
    "        learning_rate=LR,\n",
    "        weight_decay=WEIGHT_DECAY, \n",
    "        num_train_epochs=EPOCHS,\n",
    "        lr_scheduler_type=LR_SCHEDULER,\n",
    "        evaluation_strategy=STRATEGY,\n",
    "        logging_strategy=STRATEGY, \n",
    "        save_strategy=STRATEGY,\n",
    "        eval_steps=STEPS,\n",
    "        logging_steps=STEPS,\n",
    "        save_steps=STEPS,\n",
    "        seed=SEED,\n",
    "        load_best_model_at_end=True,\n",
    "        metric_for_best_model=EVAL_METRIC,\n",
    "        report_to=\"none\"\n",
    "    )\n",
    "\n",
    "    # set up the trainer \n",
    "    trainer = Trainer(\n",
    "        model=model,\n",
    "        args=training_args,\n",
    "        train_dataset=tokenized_dataset['train'],\n",
    "        eval_dataset=tokenized_dataset['val'],\n",
    "        tokenizer=TOKENIZER,   \n",
    "        compute_metrics=compute_metrics,\n",
    "    )\n",
    "\n",
    "    trainer.train()\n",
    "\n",
    "    val_predictions = trainer.predict(tokenized_dataset[\"val\"])\n",
    "    val_eval[combination] = val_predictions.metrics\n",
    "\n",
    "    val_eval_df = pd.DataFrame.from_dict(val_eval).transpose()\n",
    "    val_eval_df.to_csv(f\"metrics/val_evaluation_2.csv\")"
   ]
  },
  {
   "cell_type": "code",
   "execution_count": null,
   "metadata": {},
   "outputs": [],
   "source": []
  }
 ],
 "metadata": {
  "kernelspec": {
   "display_name": "deep_wa_bert",
   "language": "python",
   "name": "python3"
  },
  "language_info": {
   "codemirror_mode": {
    "name": "ipython",
    "version": 3
   },
   "file_extension": ".py",
   "mimetype": "text/x-python",
   "name": "python",
   "nbconvert_exporter": "python",
   "pygments_lexer": "ipython3",
   "version": "3.10.5"
  }
 },
 "nbformat": 4,
 "nbformat_minor": 2
}
